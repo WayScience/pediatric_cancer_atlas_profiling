{
 "cells": [
  {
   "cell_type": "code",
   "execution_count": 6,
   "metadata": {
    "vscode": {
     "languageId": "r"
    }
   },
   "outputs": [],
   "source": [
    "# Load necessary libraries\n",
    "library(ggplot2)\n",
    "library(dplyr)\n",
    "library(arrow)"
   ]
  },
  {
   "cell_type": "code",
   "execution_count": 7,
   "metadata": {
    "vscode": {
     "languageId": "r"
    }
   },
   "outputs": [],
   "source": [
    "# Set the file path to your results folder\n",
    "file_dir <- file.path(\"results\")\n",
    "\n",
    "compare_file <- file.path(file_dir, \"pairwise_compare.parquet\")\n",
    "\n",
    "# Process dataset using arrow\n",
    "df <- arrow::read_parquet(\n",
    "    compare_file\n",
    ")"
   ]
  },
  {
   "cell_type": "code",
   "execution_count": 8,
   "metadata": {
    "vscode": {
     "languageId": "r"
    }
   },
   "outputs": [
    {
     "name": "stdout",
     "output_type": "stream",
     "text": [
      " [1] \"pearsons_correlation\"                    \n",
      " [2] \"Metadata_time_point__antehoc_group0\"     \n",
      " [3] \"Metadata_time_point__antehoc_group1\"     \n",
      " [4] \"Metadata_seeding_density__antehoc_group0\"\n",
      " [5] \"Metadata_seeding_density__antehoc_group1\"\n",
      " [6] \"Metadata_cell_line__antehoc_group0\"      \n",
      " [7] \"Metadata_cell_line__antehoc_group1\"      \n",
      " [8] \"Shuffled__antehoc_group0\"                \n",
      " [9] \"Shuffled__antehoc_group1\"                \n",
      "[10] \"__index_level_0__\"                       \n"
     ]
    }
   ],
   "source": [
    "# Check for duplicate column names (optional debugging step)\n",
    "print(colnames(df))\n",
    "seeding_density = unique(df$Metadata_seeding_density__antehoc_group0)"
   ]
  },
  {
   "cell_type": "code",
   "execution_count": 9,
   "metadata": {
    "vscode": {
     "languageId": "r"
    }
   },
   "outputs": [
    {
     "data": {
      "text/html": [
       "<strong>png:</strong> 2"
      ],
      "text/latex": [
       "\\textbf{png:} 2"
      ],
      "text/markdown": [
       "**png:** 2"
      ],
      "text/plain": [
       "png \n",
       "  2 "
      ]
     },
     "metadata": {},
     "output_type": "display_data"
    }
   ],
   "source": [
    "# Ensure seeding density is treated as a categorical variable\n",
    "df$Metadata_seeding_density__antehoc_group0 <- as.factor(df$Metadata_seeding_density__antehoc_group0)\n",
    "\n",
    "# Open PDF for boxplots\n",
    "pdf(\"results/all_cell_lines_boxplots.pdf\", width = 10, height = 8)\n",
    "\n",
    "# Loop through each unique cell line\n",
    "for (cell_line in unique(df$Metadata_cell_line__antehoc_group0)) {\n",
    "  # Filter data for the current cell line\n",
    "  cell_line_data <- df %>% filter(Metadata_cell_line__antehoc_group0 == cell_line)\n",
    "  \n",
    "  # Create a column to distinguish between shuffled and unshuffled data\n",
    "  cell_line_data$Shuffled <- ifelse(cell_line_data$Shuffled__antehoc_group0, \"Shuffled\", \"Unshuffled\")\n",
    "  \n",
    "  # Ensure the order of the Shuffled levels\n",
    "  cell_line_data$Shuffled <- factor(cell_line_data$Shuffled, levels = c(\"Unshuffled\", \"Shuffled\"))\n",
    "  \n",
    "  # Create the plot\n",
    "  p_boxplot <- ggplot(cell_line_data, aes(x = Metadata_seeding_density__antehoc_group0, y = pearsons_correlation)) +\n",
    "    geom_boxplot() +\n",
    "    facet_grid(Shuffled ~ Metadata_time_point__antehoc_group0, scales = \"fixed\") +\n",
    "    labs(\n",
    "      title = paste(\"Cell Line:\", cell_line),\n",
    "      x = \"Seeding Density\",\n",
    "      y = \"Pearson's Correlation\"\n",
    "    )\n",
    "  \n",
    "  # Save the plot to a PNG file\n",
    "  output_file <- paste0(\"results/\", cell_line, \"_boxplot.png\")\n",
    "  ggsave(output_file, plot = p_boxplot, width = 10, height = 8)\n",
    "  # Print the boxplot into the PDF\n",
    "  print(p_boxplot)\n",
    "}\n",
    "\n",
    "# Close the PDF for boxplots\n",
    "dev.off()"
   ]
  }
 ],
 "metadata": {
  "kernelspec": {
   "display_name": "R",
   "language": "R",
   "name": "ir"
  },
  "language_info": {
   "codemirror_mode": "r",
   "file_extension": ".r",
   "mimetype": "text/x-r-source",
   "name": "R",
   "pygments_lexer": "r",
   "version": "4.2.2"
  }
 },
 "nbformat": 4,
 "nbformat_minor": 2
}
