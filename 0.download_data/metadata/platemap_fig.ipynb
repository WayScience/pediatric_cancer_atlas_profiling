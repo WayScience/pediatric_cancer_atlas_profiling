{
 "cells": [
  {
   "cell_type": "markdown",
   "metadata": {},
   "source": [
    "# Create platemap layout figures for visualization\n",
    "\n",
    "NOTE: This notebook utilizes the R environment as installed from the main README."
   ]
  },
  {
   "cell_type": "markdown",
   "metadata": {},
   "source": [
    "## Import libraries"
   ]
  },
  {
   "cell_type": "code",
   "execution_count": 1,
   "metadata": {
    "vscode": {
     "languageId": "r"
    }
   },
   "outputs": [
    {
     "name": "stderr",
     "output_type": "stream",
     "text": [
      "Warning message:\n",
      "“package ‘ggplot2’ was built under R version 4.2.3”\n",
      "Warning message:\n",
      "“package ‘platetools’ was built under R version 4.2.3”\n"
     ]
    }
   ],
   "source": [
    "suppressPackageStartupMessages(library(dplyr))\n",
    "suppressPackageStartupMessages(library(ggplot2))\n",
    "suppressPackageStartupMessages(library(platetools))"
   ]
  },
  {
   "cell_type": "code",
   "execution_count": 2,
   "metadata": {
    "vscode": {
     "languageId": "r"
    }
   },
   "outputs": [
    {
     "name": "stdout",
     "output_type": "stream",
     "text": [
      "[1] \"platemaps/Assay_Plate1_platemap.csv\" \"platemaps/Assay_Plate2_platemap.csv\"\n",
      "$Assay_Plate1\n",
      "[1] \"platemap_figures/Assay_Plate1_platemap_figure.png\"\n",
      "\n",
      "$Assay_Plate2\n",
      "[1] \"platemap_figures/Assay_Plate2_platemap_figure.png\"\n",
      "\n"
     ]
    }
   ],
   "source": [
    "# Define the path to the platemaps folder\n",
    "platemaps_folder <- \"platemaps\"\n",
    "\n",
    "# Set up the file naming pattern for the platemap files (CSVs)\n",
    "platemap_files <- list.files(path = platemaps_folder, pattern = \"_platemap\\\\.csv$\", full.names = TRUE)\n",
    "print(platemap_files)\n",
    "\n",
    "# Set output directory for the layout figures\n",
    "output_fig_dir <- file.path(\"platemap_figures\")\n",
    "\n",
    "# Create the directory if it doesn't exist, ignore if it already exists\n",
    "dir.create(output_fig_dir, showWarnings = FALSE, recursive = TRUE)\n",
    "\n",
    "# Set suffix for output figures\n",
    "platemap_suffix <- \"_platemap_figure.png\"\n",
    "\n",
    "# Instantiate empty list for the plate layout names + output paths \n",
    "output_platemap_files <- list()\n",
    "\n",
    "# Extract plate name and add output path for figure\n",
    "for (platemap_file in platemap_files) {\n",
    "    # Extract the base file name\n",
    "    plate <- basename(platemap_file)\n",
    "    \n",
    "    # Remove the '_platemap.csv' suffix\n",
    "    plate <- stringr::str_remove(plate, \"_platemap\\\\.csv\")\n",
    "    \n",
    "    # (Optional) Ensure there is no .csv extension remaining (shouldn't be needed after the above line)\n",
    "    plate <- stringr::str_remove(plate, \"\\\\.csv$\")\n",
    "    \n",
    "    # Add to output_platemap_files with the cleaned plate name and output path\n",
    "    output_platemap_files[[plate]] <- file.path(output_fig_dir, paste0(plate, platemap_suffix))\n",
    "}\n",
    "\n",
    "print(output_platemap_files)"
   ]
  },
  {
   "cell_type": "code",
   "execution_count": 3,
   "metadata": {
    "vscode": {
     "languageId": "r"
    }
   },
   "outputs": [
    {
     "name": "stdout",
     "output_type": "stream",
     "text": [
      "$Assay_Plate1\n",
      "\u001b[90m# A tibble: 240 × 5\u001b[39m\n",
      "   cell_line row   column well  seeding_density\n",
      "   \u001b[3m\u001b[90m<chr>\u001b[39m\u001b[23m     \u001b[3m\u001b[90m<chr>\u001b[39m\u001b[23m \u001b[3m\u001b[90m<chr>\u001b[39m\u001b[23m  \u001b[3m\u001b[90m<chr>\u001b[39m\u001b[23m \u001b[3m\u001b[90m<chr>\u001b[39m\u001b[23m          \n",
      "\u001b[90m 1\u001b[39m DAOY      C     3      C3    1000           \n",
      "\u001b[90m 2\u001b[39m DAOY      D     3      D3    1000           \n",
      "\u001b[90m 3\u001b[39m IMR32     E     3      E3    1000           \n",
      "\u001b[90m 4\u001b[39m IMR32     F     3      F3    1000           \n",
      "\u001b[90m 5\u001b[39m PA1       G     3      G3    1000           \n",
      "\u001b[90m 6\u001b[39m PA1       H     3      H3    1000           \n",
      "\u001b[90m 7\u001b[39m SK-N-MC   I     3      I3    1000           \n",
      "\u001b[90m 8\u001b[39m SK-N-MC   J     3      J3    1000           \n",
      "\u001b[90m 9\u001b[39m CHP212    K     3      K3    1000           \n",
      "\u001b[90m10\u001b[39m CHP212    L     3      L3    1000           \n",
      "\u001b[90m# ℹ 230 more rows\u001b[39m\n",
      "\n",
      "$Assay_Plate2\n",
      "\u001b[90m# A tibble: 140 × 5\u001b[39m\n",
      "   cell_line row   column well  seeding_density\n",
      "   \u001b[3m\u001b[90m<chr>\u001b[39m\u001b[23m     \u001b[3m\u001b[90m<chr>\u001b[39m\u001b[23m \u001b[3m\u001b[90m<chr>\u001b[39m\u001b[23m  \u001b[3m\u001b[90m<chr>\u001b[39m\u001b[23m \u001b[3m\u001b[90m<chr>\u001b[39m\u001b[23m          \n",
      "\u001b[90m 1\u001b[39m KP-N-YN   C     3      C3    1000           \n",
      "\u001b[90m 2\u001b[39m KP-N-YN   D     3      D3    1000           \n",
      "\u001b[90m 3\u001b[39m NB-1      E     3      E3    1000           \n",
      "\u001b[90m 4\u001b[39m NB-1      F     3      F3    1000           \n",
      "\u001b[90m 5\u001b[39m ONS-76    G     3      G3    1000           \n",
      "\u001b[90m 6\u001b[39m ONS-76    H     3      H3    1000           \n",
      "\u001b[90m 7\u001b[39m SJSA-1    I     3      I3    1000           \n",
      "\u001b[90m 8\u001b[39m SJSA-1    J     3      J3    1000           \n",
      "\u001b[90m 9\u001b[39m SK-N-AS   K     3      K3    1000           \n",
      "\u001b[90m10\u001b[39m SK-N-AS   L     3      L3    1000           \n",
      "\u001b[90m# ℹ 130 more rows\u001b[39m\n",
      "\n"
     ]
    }
   ],
   "source": [
    "# Load in all platemap CSV files\n",
    "platemap_dfs <- list()\n",
    "for (plate in names(output_platemap_files)) {\n",
    "    # Find the umap file associated with the plate\n",
    "    platemap_file <- platemap_files[stringr::str_detect(platemap_files, plate)]\n",
    "    \n",
    "    # Load in the umap data\n",
    "    df <- readr::read_csv(\n",
    "    platemap_file,\n",
    "    col_types = readr::cols(.default = \"c\")\n",
    ")\n",
    "\n",
    "    platemap_dfs[[plate]] <- df \n",
    "}\n",
    "\n",
    "print(platemap_dfs)"
   ]
  },
  {
   "cell_type": "code",
   "execution_count": 4,
   "metadata": {
    "vscode": {
     "languageId": "r"
    }
   },
   "outputs": [
    {
     "name": "stderr",
     "output_type": "stream",
     "text": [
      "Warning message:\n",
      "“Warning: Your well label count ( 140 ) covers less than half the selected plate( 384 ).\n",
      "Are you sure argument 'plate' is correct for the number of wells in your data?\n",
      "note: Default is a 96-well plate.”\n"
     ]
    }
   ],
   "source": [
    "for (plate in names(platemap_dfs)) {\n",
    "    # Get the updated plate name\n",
    "    updated_plate <- gsub(\"_Plate\", \" Plate \", plate)\n",
    "\n",
    "    # output for each plate\n",
    "    output_file <- output_platemap_files[[plate]]\n",
    "    output_file <- paste0(output_file)\n",
    "    \n",
    "    platemap <- platetools::raw_map(\n",
    "        data = as.numeric(platemap_dfs[[plate]]$seeding_density),\n",
    "        well = platemap_dfs[[plate]]$well,\n",
    "        plate = 384,\n",
    "        size = 6\n",
    "        ) +\n",
    "        ggtitle(paste(updated_plate, \"layout based on seeding density\")) +\n",
    "        theme(plot.title = element_text(size = 10, face = \"bold\")) +\n",
    "        ggplot2::scale_fill_gradient2(\n",
    "            name = \"Seed Density\",\n",
    "            low = \"white\",\n",
    "            high = \"red\",\n",
    "        )  \n",
    "\n",
    "    ggsave(\n",
    "        output_file,\n",
    "        platemap,\n",
    "        dpi = 500,\n",
    "        height = 3.5,\n",
    "        width = 6\n",
    "    )\n",
    "}"
   ]
  }
 ],
 "metadata": {
  "kernelspec": {
   "display_name": "R",
   "language": "R",
   "name": "ir"
  },
  "language_info": {
   "codemirror_mode": "r",
   "file_extension": ".r",
   "mimetype": "text/x-r-source",
   "name": "R",
   "pygments_lexer": "r",
   "version": "4.2.2"
  }
 },
 "nbformat": 4,
 "nbformat_minor": 2
}
