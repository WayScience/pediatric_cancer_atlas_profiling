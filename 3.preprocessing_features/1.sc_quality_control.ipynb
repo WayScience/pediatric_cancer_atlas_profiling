{
 "cells": [
  {
   "cell_type": "markdown",
   "id": "97791360",
   "metadata": {
    "papermill": {
     "duration": 0.006085,
     "end_time": "2025-06-19T20:06:22.545266",
     "exception": false,
     "start_time": "2025-06-19T20:06:22.539181",
     "status": "completed"
    },
    "tags": []
   },
   "source": [
    "# Perform single-cell quality control\n",
    "\n",
    "In this notebook, we perform single-cell quality control using coSMicQC. We filter the single cells by identifying outliers with z-scores, and use either combinations of features or one feature for each condition. We use features from the AreaShape and Intensity modules to assess the quality of the segmented single-cells:\n",
    "\n",
    "### Assessing poor nuclei segmentation\n",
    "\n",
    "Due to high confluence with various seeding densities, sometimes nuclei overlap on top of each other, creating highly intense clusters within the Hoechst channel. \n",
    "To identify these nuclei, we use:\n",
    "\n",
    "- **Nuclei mass displacement:** This metric quantifies how different the segmentation versus intensity based centeroids are, which can reflect multiple nuclei within one segmentation. \n",
    "- **Nuclei intensity:** This metric quantifies the total intensity of all pixels in a nucleus segmentation. \n",
    "In combination with abnormally high mass displacement, we detect nuclei that are also highly intense, likely indicating that this a group of overlapped nuclei.\n",
    "\n",
    "For the preliminary dataset, we are working with cells that have not been treated so we do not expect any crazy phenotypes. Given that context, we can use a feature called Solidity. From ChatGPT, the simple explanation is that this features compares the area of the object to its convex hull, which measures compactness in relation to convexity. High solidity implies few indentations, while lower solidity indicates more irregularity.\n",
    "\n",
    "- **Nuclei solidity:** This metric quantifies the compactness of the nuclei shape.\n",
    "When a nuclei is mis-segmented, we see more protrusions or harsh outlines around the segmentations, which we expect this is what this feature will detect.\n",
    "\n",
    "### Assessing poor cell segmentation\n",
    "\n",
    "Also due to high confluence, overlapping nuclei can lead to the CellProfiler segmentation algorithm to sometimes keep bad segmentations (which is why we have coSMicQC) but can also detect these segmentations as being \"too large\" based on the parameters. \n",
    "This leads to poor cell segmentations because CellProfiler will remove the context of the nuclei it couldn't segment, leading to segmenting multiple cells as one cell and assigning it to one nuclei.\n",
    "To identify these cells, we use:\n",
    "\n",
    "- **Cell intensity in the nuclei channel:** This metric quantifies the total intensity of all pixels of a cell segmentation in the nuclei channel. We would expect fairly low total intensity in the nuclei channel for whole cells as there is only one \n",
    "\n"
   ]
  },
  {
   "cell_type": "code",
   "execution_count": 1,
   "id": "65a52f14",
   "metadata": {
    "execution": {
     "iopub.execute_input": "2025-06-19T20:06:22.559882Z",
     "iopub.status.busy": "2025-06-19T20:06:22.558359Z",
     "iopub.status.idle": "2025-06-19T20:06:23.550739Z",
     "shell.execute_reply": "2025-06-19T20:06:23.550266Z"
    },
    "papermill": {
     "duration": 1.001131,
     "end_time": "2025-06-19T20:06:23.551784",
     "exception": false,
     "start_time": "2025-06-19T20:06:22.550653",
     "status": "completed"
    },
    "tags": []
   },
   "outputs": [],
   "source": [
    "import pathlib\n",
    "import re\n",
    "import time\n",
    "\n",
    "import matplotlib.pyplot as plt\n",
    "import pandas as pd\n",
    "import seaborn as sns\n",
    "\n",
    "from cytodataframe import CytoDataFrame\n",
    "from cosmicqc import find_outliers\n",
    "\n",
    "# Ignore FutureWarnings from cytodataframe due to skimage deprecation (does not affect functionality)\n",
    "import warnings\n",
    "\n",
    "warnings.filterwarnings(\"ignore\", category=FutureWarning)"
   ]
  },
  {
   "cell_type": "markdown",
   "id": "75b3c263",
   "metadata": {
    "papermill": {
     "duration": 0.005201,
     "end_time": "2025-06-19T20:06:23.562081",
     "exception": false,
     "start_time": "2025-06-19T20:06:23.556880",
     "status": "completed"
    },
    "tags": []
   },
   "source": [
    "# Set functions for plotting"
   ]
  },
  {
   "cell_type": "markdown",
   "id": "7cc84d89",
   "metadata": {
    "papermill": {
     "duration": 0.006525,
     "end_time": "2025-06-19T20:06:23.575446",
     "exception": false,
     "start_time": "2025-06-19T20:06:23.568921",
     "status": "completed"
    },
    "tags": []
   },
   "source": [
    "### Function to plot scatterplot"
   ]
  },
  {
   "cell_type": "code",
   "execution_count": 2,
   "id": "e249d9a9",
   "metadata": {
    "execution": {
     "iopub.execute_input": "2025-06-19T20:06:23.589958Z",
     "iopub.status.busy": "2025-06-19T20:06:23.589305Z",
     "iopub.status.idle": "2025-06-19T20:06:23.595766Z",
     "shell.execute_reply": "2025-06-19T20:06:23.595330Z"
    },
    "papermill": {
     "duration": 0.013806,
     "end_time": "2025-06-19T20:06:23.596530",
     "exception": false,
     "start_time": "2025-06-19T20:06:23.582724",
     "status": "completed"
    },
    "tags": []
   },
   "outputs": [],
   "source": [
    "def plot_cluster_nuclei_outliers(\n",
    "    plate_df: pd.DataFrame,\n",
    "    outliers_df: pd.DataFrame,\n",
    "    plate_name: str,\n",
    "    qc_fig_dir: pathlib.Path,\n",
    ") -> None:\n",
    "    \"\"\"Plot scatterplot of the cluster nuclei outliers.\n",
    "\n",
    "    Args:\n",
    "        plate_df (pd.DataFrame): Dataframe of the CytoTable output with the morphology profiles.\n",
    "        outliers_df (pd.DataFrame): Dataframe of the coSMicQC output which includes the identified outliers.\n",
    "        plate_name (str): String of the plate's name or ID.\n",
    "        qc_fig_dir (pathlib.Path): Path to the directory to save the plot.\n",
    "    \"\"\"\n",
    "    # Create a copy of plate_df to avoid modifying the original\n",
    "    plate_df = plate_df.copy()\n",
    "\n",
    "    # Set the default 'Outlier_Status' to 'Single-cell passed QC'\n",
    "    plate_df[\"Outlier_Status\"] = \"Single-cell passed QC\"\n",
    "\n",
    "    # Update 'Outlier_Status' for cells that failed QC\n",
    "    plate_df.loc[plate_df.index.isin(outliers_df.index), \"Outlier_Status\"] = (\n",
    "        \"Single-cell failed QC\"\n",
    "    )\n",
    "\n",
    "    # Create scatter plot\n",
    "    plt.figure(figsize=(10, 6))\n",
    "    sns.scatterplot(\n",
    "        data=plate_df,\n",
    "        x=\"Nuclei_Intensity_MassDisplacement_CorrDNA\",\n",
    "        y=\"Nuclei_Intensity_IntegratedIntensity_CorrDNA\",\n",
    "        hue=\"Outlier_Status\",\n",
    "        palette={\n",
    "            \"Single-cell passed QC\": \"#006400\",\n",
    "            \"Single-cell failed QC\": \"#990090\",\n",
    "        },\n",
    "        alpha=0.2,\n",
    "    )\n",
    "\n",
    "    # Add threshold lines\n",
    "    plt.axvline(\n",
    "        x=outliers_df[\"Nuclei_Intensity_MassDisplacement_CorrDNA\"].min(),\n",
    "        color=\"r\",\n",
    "        linestyle=\"--\",\n",
    "        label=\"Min. threshold for Nuclei Mass Displacement\",\n",
    "    )\n",
    "    plt.axhline(\n",
    "        y=outliers_df[\"Nuclei_Intensity_IntegratedIntensity_CorrDNA\"].min(),\n",
    "        color=\"b\",\n",
    "        linestyle=\"--\",\n",
    "        label=\"Min. threshold for Nuclei Intensity\",\n",
    "    )\n",
    "\n",
    "    # Customize plot\n",
    "    plt.title(\n",
    "        f\"Nuclei Mass Displacement vs. Nuclei Integrated Intensity for plate {plate_name}\"\n",
    "    )\n",
    "    plt.xlabel(\"Nuclei Mass Displacement (Hoechst)\")\n",
    "    plt.ylabel(\"Nuclei Integrated Intensity (Hoechst)\")\n",
    "    plt.tight_layout()\n",
    "\n",
    "    # Show legend\n",
    "    plt.legend(loc=\"upper right\", bbox_to_anchor=(1.0, 1.0), prop={\"size\": 10})\n",
    "\n",
    "    # Save figure without showing it\n",
    "    plt.savefig(\n",
    "        pathlib.Path(f\"{qc_fig_dir}/{plate_name}_cluster_nuclei_outliers.png\"), dpi=500\n",
    "    )\n",
    "    plt.close()  # Close the plot to prevent it from displaying"
   ]
  },
  {
   "cell_type": "markdown",
   "id": "61eb6cda",
   "metadata": {
    "papermill": {
     "duration": 0.004809,
     "end_time": "2025-06-19T20:06:23.606315",
     "exception": false,
     "start_time": "2025-06-19T20:06:23.601506",
     "status": "completed"
    },
    "tags": []
   },
   "source": [
    "### Function to plot KDE"
   ]
  },
  {
   "cell_type": "code",
   "execution_count": 3,
   "id": "da82f7bc",
   "metadata": {
    "execution": {
     "iopub.execute_input": "2025-06-19T20:06:23.617391Z",
     "iopub.status.busy": "2025-06-19T20:06:23.617079Z",
     "iopub.status.idle": "2025-06-19T20:06:23.621657Z",
     "shell.execute_reply": "2025-06-19T20:06:23.621262Z"
    },
    "papermill": {
     "duration": 0.010926,
     "end_time": "2025-06-19T20:06:23.622379",
     "exception": false,
     "start_time": "2025-06-19T20:06:23.611453",
     "status": "completed"
    },
    "tags": []
   },
   "outputs": [],
   "source": [
    "def plot_nuclei_solidity_histogram(\n",
    "    plate_df: pd.DataFrame,\n",
    "    outliers_df: pd.DataFrame,\n",
    "    plate_name: str,\n",
    "    qc_fig_dir: pathlib.Path,\n",
    ") -> None:\n",
    "    \"\"\"Plot histogram of the nuclei solidity outliers.\n",
    "\n",
    "    Args:\n",
    "        plate_df (pd.DataFrame): Dataframe of the CytoTable output with the morphology profiles.\n",
    "        outliers_df (pd.DataFrame): Dataframe of the coSMicQC output which includes the identified outliers.\n",
    "        plate_name (str): String of the plate's name or ID.\n",
    "        qc_fig_dir (pathlib.Path): Path to the directory to save the plot.\n",
    "    \"\"\"\n",
    "    # Create a copy of plate_df to avoid modifying the original\n",
    "    plate_df = plate_df.copy()\n",
    "\n",
    "    # Set the default 'Outlier_Status' to 'Single-cell passed QC'\n",
    "    plate_df[\"Outlier_Status\"] = \"Single-cell passed QC\"\n",
    "\n",
    "    # Update 'Outlier_Status' for cells that failed QC\n",
    "    plate_df.loc[plate_df.index.isin(outliers_df.index), \"Outlier_Status\"] = (\n",
    "        \"Single-cell failed QC\"\n",
    "    )\n",
    "\n",
    "    # Create histogram\n",
    "    plt.figure(figsize=(10, 6))\n",
    "    sns.histplot(\n",
    "        data=plate_df,\n",
    "        x=\"Nuclei_AreaShape_Solidity\",\n",
    "        hue=\"Outlier_Status\",\n",
    "        palette={\n",
    "            \"Single-cell passed QC\": \"#006400\",\n",
    "            \"Single-cell failed QC\": \"#990090\",\n",
    "        },\n",
    "        multiple=\"stack\",  # Stacks bars based on hue\n",
    "        bins=50,  # Number of bins\n",
    "        kde=False,\n",
    "    )\n",
    "\n",
    "    # Add threshold line\n",
    "    max_threshold = outliers_df[\"Nuclei_AreaShape_Solidity\"].max()\n",
    "    plt.axvline(\n",
    "        x=max_threshold,\n",
    "        color=\"r\",\n",
    "        linestyle=\"--\",\n",
    "        label=f\"Threshold for Outliers: < {max_threshold}\",\n",
    "    )\n",
    "\n",
    "    # Customize plot\n",
    "    plt.ylabel(\"Count\")\n",
    "    plt.xlabel(\"Nuclei Solidity\")\n",
    "    plt.title(f\"Distribution of Nuclei Solidity for plate {plate_name}\")\n",
    "    plt.legend()\n",
    "    plt.tight_layout()\n",
    "\n",
    "    # Save figure without showing it\n",
    "    plt.savefig(\n",
    "        pathlib.Path(\n",
    "            f\"{qc_fig_dir}/{plate_name}_nuclei_solidity_outliers_histogram.png\"\n",
    "        ),\n",
    "        dpi=500,\n",
    "    )\n",
    "    plt.close()  # Close the plot to prevent it from displaying"
   ]
  },
  {
   "cell_type": "markdown",
   "id": "f4210f5e",
   "metadata": {
    "papermill": {
     "duration": 0.003841,
     "end_time": "2025-06-19T20:06:23.630737",
     "exception": false,
     "start_time": "2025-06-19T20:06:23.626896",
     "status": "completed"
    },
    "tags": []
   },
   "source": [
    "## Set paths and variables"
   ]
  },
  {
   "cell_type": "code",
   "execution_count": 4,
   "id": "a9b48c7c",
   "metadata": {
    "execution": {
     "iopub.execute_input": "2025-06-19T20:06:23.641895Z",
     "iopub.status.busy": "2025-06-19T20:06:23.641488Z",
     "iopub.status.idle": "2025-06-19T20:06:23.643580Z",
     "shell.execute_reply": "2025-06-19T20:06:23.643243Z"
    },
    "papermill": {
     "duration": 0.009127,
     "end_time": "2025-06-19T20:06:23.644282",
     "exception": false,
     "start_time": "2025-06-19T20:06:23.635155",
     "status": "completed"
    },
    "tags": [
     "parameters"
    ]
   },
   "outputs": [],
   "source": [
    "# Set parameter for papermill to use for processing\n",
    "plate_id = \"BR00145816\""
   ]
  },
  {
   "cell_type": "code",
   "execution_count": 5,
   "id": "0771231a",
   "metadata": {
    "execution": {
     "iopub.execute_input": "2025-06-19T20:06:23.657612Z",
     "iopub.status.busy": "2025-06-19T20:06:23.657309Z",
     "iopub.status.idle": "2025-06-19T20:06:23.659576Z",
     "shell.execute_reply": "2025-06-19T20:06:23.659224Z"
    },
    "papermill": {
     "duration": 0.011175,
     "end_time": "2025-06-19T20:06:23.660503",
     "exception": false,
     "start_time": "2025-06-19T20:06:23.649328",
     "status": "completed"
    },
    "tags": [
     "injected-parameters"
    ]
   },
   "outputs": [],
   "source": [
    "# Parameters\n",
    "plate_id = \"BR00145440\"\n"
   ]
  },
  {
   "cell_type": "markdown",
   "id": "20570692",
   "metadata": {
    "papermill": {
     "duration": 0.004759,
     "end_time": "2025-06-19T20:06:23.670786",
     "exception": false,
     "start_time": "2025-06-19T20:06:23.666027",
     "status": "completed"
    },
    "tags": []
   },
   "source": [
    "## Injected parameter from papermill that updates for every plate being processed"
   ]
  },
  {
   "cell_type": "code",
   "execution_count": 6,
   "id": "483a7fd7",
   "metadata": {
    "execution": {
     "iopub.execute_input": "2025-06-19T20:06:23.679508Z",
     "iopub.status.busy": "2025-06-19T20:06:23.679330Z",
     "iopub.status.idle": "2025-06-19T20:06:23.682501Z",
     "shell.execute_reply": "2025-06-19T20:06:23.682121Z"
    },
    "papermill": {
     "duration": 0.008256,
     "end_time": "2025-06-19T20:06:23.683125",
     "exception": false,
     "start_time": "2025-06-19T20:06:23.674869",
     "status": "completed"
    },
    "tags": []
   },
   "outputs": [],
   "source": [
    "# Set the round of data being processed\n",
    "round_id = \"Round_2_data\"\n",
    "\n",
    "# Directory containing the converted profiles\n",
    "data_dir = pathlib.Path(f\"./data/converted_profiles/{round_id}\")\n",
    "\n",
    "# Directory to save cleaned data\n",
    "cleaned_dir = pathlib.Path(f\"./data/cleaned_profiles/{round_id}\")\n",
    "cleaned_dir.mkdir(exist_ok=True)\n",
    "\n",
    "# Directory to save qc figures\n",
    "qc_fig_dir = pathlib.Path(f\"./qc_figures/{round_id}\")\n",
    "qc_fig_dir.mkdir(exist_ok=True)\n",
    "\n",
    "# Directory to save qc results\n",
    "qc_results_dir = pathlib.Path(f\"./qc_results/{round_id}\")\n",
    "qc_results_dir.mkdir(exist_ok=True)\n",
    "\n",
    "# Create an empty dictionary to store data frames for each plate\n",
    "all_qc_data_frames = {}\n",
    "\n",
    "# Set the compartment of choice to perform QC at the start (will change later)\n",
    "compartment = \"Nuclei\""
   ]
  },
  {
   "cell_type": "markdown",
   "id": "5bfaaea6",
   "metadata": {
    "papermill": {
     "duration": 0.004596,
     "end_time": "2025-06-19T20:06:23.691655",
     "exception": false,
     "start_time": "2025-06-19T20:06:23.687059",
     "status": "completed"
    },
    "tags": []
   },
   "source": [
    "## Load in plate to perform QC on"
   ]
  },
  {
   "cell_type": "code",
   "execution_count": 7,
   "id": "dcaaa2e9",
   "metadata": {
    "execution": {
     "iopub.execute_input": "2025-06-19T20:06:23.702901Z",
     "iopub.status.busy": "2025-06-19T20:06:23.702324Z",
     "iopub.status.idle": "2025-06-19T20:06:33.481910Z",
     "shell.execute_reply": "2025-06-19T20:06:33.481523Z"
    },
    "papermill": {
     "duration": 9.785992,
     "end_time": "2025-06-19T20:06:33.482600",
     "exception": false,
     "start_time": "2025-06-19T20:06:23.696608",
     "status": "completed"
    },
    "tags": []
   },
   "outputs": [
    {
     "name": "stdout",
     "output_type": "stream",
     "text": [
      "Loaded plate: BR00145440, Shape: (455848, 3035), Time taken: 9.78 seconds\n"
     ]
    }
   ],
   "source": [
    "# Construct the file path for the given plate_id\n",
    "file_path = data_dir / f\"{plate_id}_converted.parquet\"\n",
    "\n",
    "if file_path.exists():\n",
    "    start_time = time.time()  # Start timer for loading\n",
    "\n",
    "    # Load the DataFrame with pandas\n",
    "    plate_df = pd.read_parquet(file_path, engine=\"pyarrow\")\n",
    "\n",
    "    end_time = time.time()  # End timer for loading\n",
    "    print(\n",
    "        f\"Loaded plate: {plate_id}, Shape: {plate_df.shape}, Time taken: {end_time - start_time:.2f} seconds\"\n",
    "    )\n",
    "else:\n",
    "    print(f\"Parquet file for plate {plate_id} not found.\")"
   ]
  },
  {
   "cell_type": "markdown",
   "id": "b6c59940",
   "metadata": {
    "papermill": {
     "duration": 0.005233,
     "end_time": "2025-06-19T20:06:33.493044",
     "exception": false,
     "start_time": "2025-06-19T20:06:33.487811",
     "status": "completed"
    },
    "tags": []
   },
   "source": [
    "## Correct all columns with PathName to have the correct parent path\n",
    "\n",
    "When ran on HPC, the path will reflect that of the HPC and not local when we are processing this data."
   ]
  },
  {
   "cell_type": "code",
   "execution_count": 8,
   "id": "a1d6b1f2",
   "metadata": {
    "execution": {
     "iopub.execute_input": "2025-06-19T20:06:33.506621Z",
     "iopub.status.busy": "2025-06-19T20:06:33.506429Z",
     "iopub.status.idle": "2025-06-19T20:06:37.631929Z",
     "shell.execute_reply": "2025-06-19T20:06:37.631492Z"
    },
    "papermill": {
     "duration": 4.133649,
     "end_time": "2025-06-19T20:06:37.632655",
     "exception": false,
     "start_time": "2025-06-19T20:06:33.499006",
     "status": "completed"
    },
    "tags": []
   },
   "outputs": [
    {
     "name": "stdout",
     "output_type": "stream",
     "text": [
      "/media/18tbdrive/ALSF_pilot_data/Round_2_data/Plate 3 All Cell Lines/BR00145440__2024-10-25T11_24_39-Measurement 2/Images\n"
     ]
    }
   ],
   "source": [
    "correct_parent = \"/media/18tbdrive/ALSF_pilot_data\"\n",
    "\n",
    "for col in plate_df.columns:\n",
    "    if \"PathName\" in col and \"Illum\" not in col:\n",
    "        plate_df[col] = plate_df[col].apply(\n",
    "            lambda x: (\n",
    "                re.sub(r\"^.*ALSF_pilot_data/\", correct_parent + \"/\", x)\n",
    "                if isinstance(x, str)\n",
    "                else x\n",
    "            )\n",
    "        )\n",
    "\n",
    "# Print example image path after fix\n",
    "print(plate_df[\"Image_PathName_OrigDNA\"].dropna().iloc[0])"
   ]
  },
  {
   "cell_type": "markdown",
   "id": "f274764f",
   "metadata": {
    "papermill": {
     "duration": 0.005332,
     "end_time": "2025-06-19T20:06:37.643034",
     "exception": false,
     "start_time": "2025-06-19T20:06:37.637702",
     "status": "completed"
    },
    "tags": []
   },
   "source": [
    "## Reduce down the plate columns to the features to be used for QC and metadata (improves speed)"
   ]
  },
  {
   "cell_type": "code",
   "execution_count": 9,
   "id": "80adc837",
   "metadata": {
    "execution": {
     "iopub.execute_input": "2025-06-19T20:06:37.653134Z",
     "iopub.status.busy": "2025-06-19T20:06:37.652998Z",
     "iopub.status.idle": "2025-06-19T20:06:37.696126Z",
     "shell.execute_reply": "2025-06-19T20:06:37.695699Z"
    },
    "papermill": {
     "duration": 0.049198,
     "end_time": "2025-06-19T20:06:37.697090",
     "exception": false,
     "start_time": "2025-06-19T20:06:37.647892",
     "status": "completed"
    },
    "tags": []
   },
   "outputs": [],
   "source": [
    "# metadata columns to include in output data frame\n",
    "metadata_columns = [\n",
    "    \"Image_Metadata_Plate\",\n",
    "    \"Image_Metadata_Well\",\n",
    "    \"Image_Metadata_Site\",\n",
    "    f\"Metadata_{compartment}_Location_Center_X\",\n",
    "    f\"Metadata_{compartment}_Location_Center_Y\",\n",
    "    \"Image_FileName_OrigDNA\",\n",
    "    \"Image_FileName_OrigAGP\",\n",
    "    \"Image_PathName_OrigDNA\",\n",
    "    \"Image_PathName_OrigAGP\",\n",
    "    f\"{compartment}_AreaShape_BoundingBoxMaximum_X\",\n",
    "    f\"{compartment}_AreaShape_BoundingBoxMaximum_Y\",\n",
    "    f\"{compartment}_AreaShape_BoundingBoxMinimum_X\",\n",
    "    f\"{compartment}_AreaShape_BoundingBoxMinimum_Y\",\n",
    "]\n",
    "\n",
    "# Define the QC features\n",
    "qc_features = [\n",
    "    \"Nuclei_Intensity_IntegratedIntensity_CorrDNA\",\n",
    "    \"Nuclei_AreaShape_Solidity\",\n",
    "    \"Nuclei_Intensity_MassDisplacement_CorrDNA\",\n",
    "]\n",
    "\n",
    "# Filter plate_df to only include metadata columns and QC features\n",
    "filtered_plate_df = plate_df[metadata_columns + qc_features]"
   ]
  },
  {
   "cell_type": "code",
   "execution_count": 10,
   "id": "88447a2d",
   "metadata": {
    "execution": {
     "iopub.execute_input": "2025-06-19T20:06:37.708328Z",
     "iopub.status.busy": "2025-06-19T20:06:37.708007Z",
     "iopub.status.idle": "2025-06-19T20:06:37.736849Z",
     "shell.execute_reply": "2025-06-19T20:06:37.736380Z"
    },
    "papermill": {
     "duration": 0.035554,
     "end_time": "2025-06-19T20:06:37.737856",
     "exception": false,
     "start_time": "2025-06-19T20:06:37.702302",
     "status": "completed"
    },
    "tags": []
   },
   "outputs": [
    {
     "name": "stdout",
     "output_type": "stream",
     "text": [
      "/media/18tbdrive/ALSF_pilot_data/Round_2_data/Plate 3 All Cell Lines/BR00145440__2024-10-25T11_24_39-Measurement 2/Images\n"
     ]
    }
   ],
   "source": [
    "# Print example image path after fix\n",
    "print(filtered_plate_df[\"Image_PathName_OrigDNA\"].dropna().iloc[0])"
   ]
  },
  {
   "cell_type": "markdown",
   "id": "1edb3bad",
   "metadata": {
    "papermill": {
     "duration": 0.005474,
     "end_time": "2025-06-19T20:06:37.749533",
     "exception": false,
     "start_time": "2025-06-19T20:06:37.744059",
     "status": "completed"
    },
    "tags": []
   },
   "source": [
    "## Set mapping for outlines"
   ]
  },
  {
   "cell_type": "code",
   "execution_count": 11,
   "id": "f49e1c86",
   "metadata": {
    "execution": {
     "iopub.execute_input": "2025-06-19T20:06:37.761319Z",
     "iopub.status.busy": "2025-06-19T20:06:37.760895Z",
     "iopub.status.idle": "2025-06-19T20:06:39.035642Z",
     "shell.execute_reply": "2025-06-19T20:06:39.035245Z"
    },
    "papermill": {
     "duration": 1.2813,
     "end_time": "2025-06-19T20:06:39.036437",
     "exception": false,
     "start_time": "2025-06-19T20:06:37.755137",
     "status": "completed"
    },
    "tags": []
   },
   "outputs": [
    {
     "data": {
      "text/plain": [
       "('NucleiOutlines_BR00145440_H14_7.tiff',\n",
       " 'r08c14f07p(\\\\d{2})-ch\\\\d+sk\\\\d+fk\\\\d+fl\\\\d+\\\\.tiff')"
      ]
     },
     "execution_count": 11,
     "metadata": {},
     "output_type": "execute_result"
    }
   ],
   "source": [
    "# create an outline and orig mapping dictionary to map original images to outlines\n",
    "# note: we turn off formatting here to avoid the key-value pairing definition\n",
    "# from being reformatted by black, which is normally preferred.\n",
    "# fmt: off\n",
    "outline_to_orig_mapping = {\n",
    "    rf\"{compartment}Outlines_{record['Image_Metadata_Plate']}_{record['Image_Metadata_Well']}_{record['Image_Metadata_Site']}.tiff\": \n",
    "    rf\"r{int(record['Image_Metadata_Row']):02d}c{int(record['Image_Metadata_Col']):02d}f{int(record['Image_Metadata_Site']):02d}p(\\d{{2}})-ch\\d+sk\\d+fk\\d+fl\\d+\\.tiff\"\n",
    "    for record in plate_df[\n",
    "        [\n",
    "            \"Image_Metadata_Plate\",\n",
    "            \"Image_Metadata_Well\",\n",
    "            \"Image_Metadata_Site\",\n",
    "            \"Image_Metadata_Row\",\n",
    "            \"Image_Metadata_Col\",\n",
    "        ]\n",
    "    ].to_dict(orient=\"records\")\n",
    "}\n",
    "# fmt: on\n",
    "\n",
    "next(iter(outline_to_orig_mapping.items()))"
   ]
  },
  {
   "cell_type": "markdown",
   "id": "40da9f92",
   "metadata": {
    "papermill": {
     "duration": 0.006121,
     "end_time": "2025-06-19T20:06:39.049127",
     "exception": false,
     "start_time": "2025-06-19T20:06:39.043006",
     "status": "completed"
    },
    "tags": []
   },
   "source": [
    "## Detect segmentations of clustered nuclei"
   ]
  },
  {
   "cell_type": "code",
   "execution_count": 12,
   "id": "3229bcbb",
   "metadata": {
    "execution": {
     "iopub.execute_input": "2025-06-19T20:06:39.058277Z",
     "iopub.status.busy": "2025-06-19T20:06:39.058157Z",
     "iopub.status.idle": "2025-06-19T20:06:46.891852Z",
     "shell.execute_reply": "2025-06-19T20:06:46.891450Z"
    },
    "papermill": {
     "duration": 7.839026,
     "end_time": "2025-06-19T20:06:46.892578",
     "exception": false,
     "start_time": "2025-06-19T20:06:39.053552",
     "status": "completed"
    },
    "tags": []
   },
   "outputs": [
    {
     "name": "stdout",
     "output_type": "stream",
     "text": [
      "Number of outliers: 24596 (5.40%)\n",
      "Outliers Range:\n",
      "Nuclei_Intensity_MassDisplacement_CorrDNA Min: 0.5452892427442545\n",
      "Nuclei_Intensity_MassDisplacement_CorrDNA Max: 39.902677476637365\n",
      "Nuclei_Intensity_IntegratedIntensity_CorrDNA Min: 182.82790705934167\n",
      "Nuclei_Intensity_IntegratedIntensity_CorrDNA Max: 1022.108835792169\n",
      "(24596, 3)\n"
     ]
    },
    {
     "data": {
      "text/html": [
       "<table border=\"1\" class=\"dataframe\">\n",
       "  <thead>\n",
       "    <tr style=\"text-align: right;\">\n",
       "      <th></th>\n",
       "      <th>Nuclei_Intensity_MassDisplacement_CorrDNA</th>\n",
       "      <th>Nuclei_Intensity_IntegratedIntensity_CorrDNA</th>\n",
       "      <th>Image_FileName_OrigDNA</th>\n",
       "    </tr>\n",
       "  </thead>\n",
       "  <tbody>\n",
       "    <tr>\n",
       "      <th>232825</th>\n",
       "      <td>0.545289</td>\n",
       "      <td>206.202954</td>\n",
       "      <td><img src=\"data:image/png;base64,iVBORw0KGgoAAAANSUhEUgAAACoAAAApCAAAAABmPOQpAAADp0lEQVR4nDWV3Y4bVw6Ei0V2S7KDLBDk1fb932BtZ0ZSn8OfysV4eU0WCbDIz/77199/frs7PcgR1Ou9Xj9+/PrneeUsFJBAAUBUlno7XTQZ1D0zMyMjJ4BK/I7InV2i6zwpEFM1PS2LYXQ7gESgkFF7L0NQrRswJqiqGn56TXd7LwAFHFHr8w4wrOkucdSdzbi1uqfr2Myq+BrgeSpYfmRMDzurhzfWqKu761jxpRuV18c83E9bsBZbslNHazqrqus4LuMFZFTtN/p2SNMAXUf48Wio986cqrWcmMIR01NJ+mjKzd1P11gNZu/X6tZ6kZipKwwywPyMw8Pdj4M0SZi145nCQRItRBhpcd5uj+MID3enO0fU+GFYEkmqpyMIxvl4fH9EhHvQzN18CDkl9jhhnMoMRsTt8f3xiCA93Aij3DA2cRs2VQ/PvXaQftwe3x73IEE/nAOTzMwi+pDsbPKP6xVh9PP+/XHzMJq5u9kYBHO4ezSGotfjdoSRx+Pb7aCRNDejABgEMxopwANxHkfQGOdxGuluZgYzCKaBQDdKAwPiiIDRTzdnuJtokFEDDQYwZ80IgNFCGlDjJI2SMAaYASOAbprpnq5RzEDVo69ajRlggMEEeocXMKuyFDNdORrOwADJBAMGMhu6k+PZe1eHptYeCNMyk8YEYgSY0YZuMCKzO3p6rx6DNEVgYFALIMAxo0FQV3Z0dV1NMwI9/GosAYLBzCR1VWZ1dNV6XQIg2czXHVMCAGlmNJV7Z1Voqq6ff4ZDgA0MgMwojKTO7qn389rZ0VW1np/3oGTEGIxfK5sBpK69fqdOV+3nj28HhREGciMaQJdhMHk9P94rq2OmM6/PjzsFGxuZGVUyzIxpJl+/Pq+1uwPqyv35v5sFDBjztlEZ1N2j3M/P53tldwZmqvb7V/h3EhoaChqhW7knf/7z8V67uysaXbX9GSdvbgMZ1JhRTu+1Xh8fr5XVnQg0PEm6+3/uBvz+nOqsup7v5/O99pdoNJB00oyGICT37p7OvT/fn8/XWrtqJyoq2txpZob8I0gerqnKXNfn8/m+1t7dABAbUZFmNGk/7+cZGabc13Wt13NdK6uzEvsMbESBkKT9Pu9xPA7v/drrutbeK7OyEmUZeaDAgkFT6c/jOIJTa+fOnZmZWYnCgYDhCwyCquju7piurupdVTmVKCQQJ3Dkl+Pay2lOk031dGdVT/8fMQEkgMKcmiYJJyC1Sl2dXfjNLvwLHChQBPrw8NwAAAAASUVORK5CYII=\" style=\"width:300px;\"/></td>\n",
       "    </tr>\n",
       "    <tr>\n",
       "      <th>286502</th>\n",
       "      <td>0.545334</td>\n",
       "      <td>194.338340</td>\n",
       "      <td><img src=\"data:image/png;base64,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\" style=\"width:300px;\"/></td>\n",
       "    </tr>\n",
       "  </tbody>\n",
       "</table>"
      ],
      "text/plain": [
       "        Nuclei_Intensity_MassDisplacement_CorrDNA  \\\n",
       "232825                                   0.545289   \n",
       "286502                                   0.545334   \n",
       "\n",
       "        Nuclei_Intensity_IntegratedIntensity_CorrDNA  \\\n",
       "232825                                    206.202954   \n",
       "286502                                    194.338340   \n",
       "\n",
       "                Image_FileName_OrigDNA  \n",
       "232825  r15c03f03p01-ch5sk1fk1fl1.tiff  \n",
       "286502  r14c10f01p01-ch5sk1fk1fl1.tiff  "
      ]
     },
     "execution_count": 12,
     "metadata": {},
     "output_type": "execute_result"
    }
   ],
   "source": [
    "# Find large nuclei outliers for the current plate\n",
    "nuclei_clustered_outliers = find_outliers(\n",
    "    df=filtered_plate_df,\n",
    "    metadata_columns=metadata_columns,\n",
    "    feature_thresholds={\n",
    "        \"Nuclei_Intensity_MassDisplacement_CorrDNA\": 0.05,  # Set very low as to detect all instances of clustering nuclei\n",
    "        \"Nuclei_Intensity_IntegratedIntensity_CorrDNA\": 1.5,  # Set higher than displacement to avoid false positives\n",
    "    },\n",
    ")\n",
    "\n",
    "# MUST SET DATA AS DATAFRAME FOR OUTLINE DIR TO WORK\n",
    "nuclei_clustered_outliers_cdf = CytoDataFrame(\n",
    "    data=pd.DataFrame(nuclei_clustered_outliers),\n",
    "    data_outline_context_dir=f\"../2.feature_extraction/sqlite_outputs/{round_id}/{plate_id}/outlines\",\n",
    "    segmentation_file_regex=outline_to_orig_mapping,\n",
    ")[\n",
    "    [\n",
    "        \"Nuclei_Intensity_MassDisplacement_CorrDNA\",\n",
    "        \"Nuclei_Intensity_IntegratedIntensity_CorrDNA\",\n",
    "        \"Image_FileName_OrigDNA\",\n",
    "    ]\n",
    "]\n",
    "\n",
    "\n",
    "print(nuclei_clustered_outliers_cdf.shape)\n",
    "nuclei_clustered_outliers_cdf.sort_values(\n",
    "    by=\"Nuclei_Intensity_MassDisplacement_CorrDNA\", ascending=True\n",
    ").head(2)"
   ]
  },
  {
   "cell_type": "code",
   "execution_count": 13,
   "id": "59f09ea0",
   "metadata": {
    "execution": {
     "iopub.execute_input": "2025-06-19T20:06:46.903896Z",
     "iopub.status.busy": "2025-06-19T20:06:46.903713Z",
     "iopub.status.idle": "2025-06-19T20:06:47.432695Z",
     "shell.execute_reply": "2025-06-19T20:06:47.432326Z"
    },
    "papermill": {
     "duration": 0.535461,
     "end_time": "2025-06-19T20:06:47.433388",
     "exception": false,
     "start_time": "2025-06-19T20:06:46.897927",
     "status": "completed"
    },
    "tags": []
   },
   "outputs": [
    {
     "data": {
      "text/html": [
       "<table border=\"1\" class=\"dataframe\">\n",
       "  <thead>\n",
       "    <tr style=\"text-align: right;\">\n",
       "      <th></th>\n",
       "      <th>Nuclei_Intensity_MassDisplacement_CorrDNA</th>\n",
       "      <th>Nuclei_Intensity_IntegratedIntensity_CorrDNA</th>\n",
       "      <th>Image_FileName_OrigDNA</th>\n",
       "    </tr>\n",
       "  </thead>\n",
       "  <tbody>\n",
       "    <tr>\n",
       "      <th>172493</th>\n",
       "      <td>2.731667</td>\n",
       "      <td>229.703374</td>\n",
       "      <td><img src=\"data:image/png;base64,iVBORw0KGgoAAAANSUhEUgAAACsAAAAxCAAAAABmew/hAAAEEklEQVR4nEVUW44cyQ2MCJLVNZJl+Ry+/7W8kI3VbHdlkuGP6rH5kUABARYZD/KflVmRQsB2996rX72xFgAU1tdLZB2VlZkSBz1777W0V6NueAHAAmBkHnVkHZmC0b32yshX9Opd9YlVANZCAciK43HU48gA3GutverStYANFGrVKtyVVXUc5/mopHfvva4rJYXAvQHUwhc4IyMf58e3OtRrr1WZV2S8xKfe/e41V2Vk1eP89vF4CFe/1pVVGSEC9xz/r4yIrOM8fxz0Y/brM6/MDAIGAOxa9aYvJSkyH1VkTgeiIkQD4Mxx5QZuMFJSRB4lySH5jBcF2IbbOAZfBCNBicwkxjSYUwAw9vQYWvm/oZOQJMCwZ2zE/Y0xYCysfHeuBGF4txqDsUEWQykqSKm1v+hIEJ6eFmzankEerm+P4zgyIy4CkwCw8qamm4AxgJF16Cevz1+/zkcdz6fWQm4spGmPp2PoPVAceZxV9P7Hv3795/zz8ziezycAVL433kl5gFae5+NIoR/njz/+/fHn789KvjaAnDFguzUDQlXn+TgiMBn1+P7HUVUVvz8HO40Ze2Ys0Tgej6qjAhoqdNSRVSkAO9Iz3WO+hT3qOI5MAQIIIqsyRfh1JWzPDECBiHhUVYbQBiPHIVWKAJC7p7unhwpQlZGZIoQhI+3z75RAj3O6Z2bGVkhRVZkSAZNDAno0CXZ39sz07G6TEZmZIQm39AagyA9M90zOdPfaawxGRkohEjZoUhED6fjY3Z3dM93d3ZAUksSvoIEkSZvn9L7kW+Lee8+YEgmQBG0AICQY+Tg/dG+2d08PxHcvgCBhk2LAUH2cOTMzPbPHbygAwPKQmLENUoX+kKdv9F49xo0kCBAwejwQyTzPxEz3TK9ru7tgmwRp2O/QMYKGHgnP3XnvHuO9kmCEibnlP7YB5HjGN8nXSRCAQdIw78TaFLuFxHhmpnv3mh7bMybvYwIYMxAFVQqwp/f07Gt19x18AP4qgCIzDvXY09177/Vq2/dd8P13EJgBGaHUe4S9r7Wvazzw2P5qTACeoRQS0NM93Xvt63n1uGfseR+qN4UgEIlh79i5e72O63VOqztuS4KiBEiEohKtjt479rqex+9HiisbIkiRChgCYcSXbjtWvCIpfEdcJAlSklJGAJB2CpjeEfu6Xc5pG5QJkhBvLIPKGkwv6Usy72WTLNzZtgkRHK6sHkxv3ca1937tHzCt6bFogIQ4nPy+Xz29MSQ53b1e13P/8CQ8fjvfIiby51OvNQ1chGu617qu66+9z6QhQKQHAJV/SxGvmQF6PL6xz9fz56MkiiSM8cD5LSVMb1wYe6a6d3d7Xz/O+5QRuA9+fgtg+i/Bl3F7gYTCs76f5zEZtyM8+7+kT0eSct9XCwAAAABJRU5ErkJggg==\" style=\"width:300px;\"/></td>\n",
       "    </tr>\n",
       "    <tr>\n",
       "      <th>333213</th>\n",
       "      <td>1.329844</td>\n",
       "      <td>220.763750</td>\n",
       "      <td><img src=\"data:image/png;base64,iVBORw0KGgoAAAANSUhEUgAAAEQAAAA1CAAAAADdBhIKAAAIv0lEQVR4nC3UWY4kyXVA0TeauXtEDpXqIiVAP9yK9r8ICWyB7KEqMwZ3t+EN+qC2cHFw8b/+vEEt68u37//5t79937gIETIBeBAjIAAAQKa1+3///c/beTzPCdPCZh8Z4ObzlHSAsLDzVkothZwzKBMyM5AwEQAgIcP7NAPg6hziEwOyTzebfsqEAKc5m2gt2/pKxoQBGOGQQgCAAJBh56MDS0FdM917P/QJ3nv4OcUmQEQMaftnrTVfanAip49JCxASJQBARsD2rR5hZL2b9XN7FsXobhPEwnkCiY32KCLjPz6ShCj2u+n7tQggAiQALd/fW4MYcX7dvLel1kUQZphO6d2dAWwgyU05rBdFzPPzkGIIyUAIkKS8uLmn21EvrY1jH0/JnD0B5BwOwJMo6aRPTHu8VsDj3nO5KmNVIEJExCTmDHAv6/F5wjjOG4x5rnNOmW4CAJMoZiPGeXxJwDQiWA/mdUsRRgDETA5EjrKu5bA4PvG4L8tyCkgzMGOJAEjzkwGGEDiqqI372N5eL8T/wgIByBhBkGQBbZRahQCm+FQBIBZiEUKIcAxAoHWpbMc0FCJEgHQPIkaEJC0cvW6lMDGBioEwqJayXGqpy7YxBpCW9XXTsDlcF+UMTLfI/88DQGnLske4R9iQqVxovS7belnWRWsRChRdXq4bR/T7uJeiQREekZEZ4ZGAREAQvdmcAKJ10bq+ri9v70vVZCWClEt5uS6Qbh7n/W1lgIQECM8MR8iM8P7j5+PszSWlFlovL68v375dL4zJiZxVl8ulqHkYno2fV0nMjEjwcAcCIof964/b0dvZBgjr5fr2+u2Xt9dvmw0YwczLqtuKOftxzhb1GMqQ6ZEZ6Y7MAJjnP37u+3mOAS5a15ePj7++vb6/QsOhOGMRZRg0zn6MMeLcD1KEnA6U6ZNQ0P3Hr//8vO3HbuAg9XJ9//7vH9+2SlhZzWbVWpeYsJ8tpkP0r1dkwRhBDDEPiQX649dfP+/Px8MAIOVyff/4yy+vm1KoYI3Gl5XIc55tBwSdNs4/2loYPVmzz0Z2jsfttz9v+3n2IducUi+vv7xVaEAKWALXrWiPgcfdhhZGdn9mX1UXLA55Thsz2+fPr8d+nK0DAIAsl/f310oRoJE8dHOKiBgHUNlW+OEZR3ir9SxrVmuz29e5P++Pr733yQ4AIJfLx8cFIYEplRdVbp4JRjXoWgYDpvecw1JWZmvjaI/jOPb9GMkrUZMJUq+XK4Dxy0YFjSLGGJOAiFZe1AiJ0A0xwhki2mxjnOfZJ0hSHaN1AFm2ZUWr23VzQJxjjsMgiYM21aRIYEnJQTGbTz/dbVi3kJruNkc7iEWXgpxaMAhEWZ7uPWLhIkGz7aCGihBurZ19eptpASCildKtn60iiUgVxnXTyYxcZh82OxZj6zB2GyqkafEY7TzaGGaIpFVFlpLQ23lIuCCFaS1MYamIAUA+6SEq68NNqVZiOxrYHL31EVCWtSwLLUUx23EqzC5htL5i5lROS5ge/TgCGHXBJUNx28p8/OF9jj5mYrm+bboWuTCBr+sj56NIt5ACoc7VwK2PfX/cjUirV2GQWq5bygN8zGkhy8v76zssCyvE4FJ17CrSb/fHRhBSITLncf748bmHKqoVIgoiYiSFcLPQ7e3t45cPQeqElhA4EJhlHrff9BWTGc389vPnz9vNhYRFeCbXEAp3R8iZdXt///aXjzeNuQWPS7R7JyaU+fxZVy3EhvM8f//x9XmY1KKlCHCtSjDSAsK68/r+y8e/fX9fyYcNUhgmQAQp3r7WTf4KQDF//vl5+3qC1GXRqiq6aEHwGGef4aCX17fv7+9XTYlYAcEAJS1JwPp+LwV94Pn1++eth9SllFKL6lorcgz185iBVNbry1qEkLNQdMAAAI9AWQFjnHfY/Hj+8fV1BtdS16UUVi6izJTTbGYKbOtaCD0RUaHBRLc2p4PIS2xboUa7P5+P0wJ12a5rEaagYFmYA0dZRES3bdsKQXhiZgsLw+x9JsuFtq1mdLQ2WnOWpS7bRszkKnVbCraQetEacr0uldwcEczSO8Y4znPgIt9Fy8IUEREQKHUpSy3KSct6fV2YSa3ipciyvGwCwUdccw6fc8S4fd5bsMg3FqicAYFEJKyliKhmqm4bAwYi1wQpWlehOYKbaTzMhvfn/evZQhd5EWIACCdD1klMXNdVx5BSioYTJLOnMK2V6XTwC8+czexon4/bY5BUeVfmDJvG3kiCk1QqhQBV5XAADAprLQgpWxugIMGj2bR23G4dtGzyIgtPw9Z3ACAwccAIJIUwDzQaEPP54zHrMgMD021HsgY0j+N5mHBZ5F2Zd0YIsEQIH9qavEOwIAQiWNLx439/7ChhoEwIaBQjOdr+PAZwKYtsylEhc8b08PTZREmXUrRAJBlK+/E/v91HXWAtCjWnRwQoPdu5N1MpdRVGxA1ndCB3m2N6UsbLe4TFtHSJxz/++XlElJEiqEBmEQTTx3H2KCKlympccIIFAET6yGE+5mwvCGmdgcfPr6/bRC/zX4MeXNFmO2/PNiYSi4oYSsQkG8M9+pwTbfaxawkATwAYz8exu8B1HBWVqybA7u12fx4zBAlYZC6eFja7uVvYGDn6aEU4MyES3EbfB9RyHvsiLIoQoX9+3u/PswcSEwzhoADwCI80cx8O3KsyQAZkZM4xpjPO1lp/E6WcJxzHOJ5Hn0DMDCmaQUHgnpDus58B5FMB0APR02x4CKWN1mdrHDRiPr4ez6ObcyJChohHIoxmlJk2Zw9C05GAGQg5bUBQoI3Wzv06Cmj4frt9Po82ggCSyCV1dB/HMQIIPHyEUIYAQACFhRk5hAzWfa0XDUIaf/z+4+fzPDtgemSaQPic+333BJ/hMwAIIYiDAIkAiMAhfLDcKZ9bQLTH/euxt24MPuecJD372c8AyswIBwpiAWZMSIrixcwAwiKR/PwqFNHPdp6tD0CPOUbn/wPKjde26kKTiAAAAABJRU5ErkJggg==\" style=\"width:300px;\"/></td>\n",
       "    </tr>\n",
       "  </tbody>\n",
       "</table>"
      ],
      "text/plain": [
       "        Nuclei_Intensity_MassDisplacement_CorrDNA  \\\n",
       "172493                                   2.731667   \n",
       "333213                                   1.329844   \n",
       "\n",
       "        Nuclei_Intensity_IntegratedIntensity_CorrDNA  \\\n",
       "172493                                    229.703374   \n",
       "333213                                    220.763750   \n",
       "\n",
       "                Image_FileName_OrigDNA  \n",
       "172493  r12c21f05p01-ch5sk1fk1fl1.tiff  \n",
       "333213  r16c12f01p01-ch5sk1fk1fl1.tiff  "
      ]
     },
     "execution_count": 13,
     "metadata": {},
     "output_type": "execute_result"
    }
   ],
   "source": [
    "nuclei_clustered_outliers_cdf.sample(n=2, random_state=0)"
   ]
  },
  {
   "cell_type": "markdown",
   "id": "ad9c2a86",
   "metadata": {
    "papermill": {
     "duration": 0.005323,
     "end_time": "2025-06-19T20:06:47.444585",
     "exception": false,
     "start_time": "2025-06-19T20:06:47.439262",
     "status": "completed"
    },
    "tags": []
   },
   "source": [
    "### Plot the outliers"
   ]
  },
  {
   "cell_type": "code",
   "execution_count": 14,
   "id": "2902980f",
   "metadata": {
    "execution": {
     "iopub.execute_input": "2025-06-19T20:06:47.456978Z",
     "iopub.status.busy": "2025-06-19T20:06:47.456844Z",
     "iopub.status.idle": "2025-06-19T20:07:22.249989Z",
     "shell.execute_reply": "2025-06-19T20:07:22.249547Z"
    },
    "papermill": {
     "duration": 34.800329,
     "end_time": "2025-06-19T20:07:22.250978",
     "exception": false,
     "start_time": "2025-06-19T20:06:47.450649",
     "status": "completed"
    },
    "tags": []
   },
   "outputs": [],
   "source": [
    "# Save cluster nuclei scatterplot\n",
    "plot_cluster_nuclei_outliers(\n",
    "    plate_df=plate_df,\n",
    "    outliers_df=nuclei_clustered_outliers_cdf,\n",
    "    plate_name=plate_id,\n",
    "    qc_fig_dir=qc_fig_dir,\n",
    ")"
   ]
  },
  {
   "cell_type": "markdown",
   "id": "97b14c45",
   "metadata": {
    "papermill": {
     "duration": 0.005223,
     "end_time": "2025-06-19T20:07:22.261807",
     "exception": false,
     "start_time": "2025-06-19T20:07:22.256584",
     "status": "completed"
    },
    "tags": []
   },
   "source": [
    "## Detect very irregular shaped nuclei, likely indicating mis-segmentation\n",
    "\n",
    "**NOTE:** For the pilot data, we are determining optimal conditions (seeding density and time point). This means all cells are not treated and should be in a \"healthy\" state. Given that `solidity` measures how irregular the shape of a nuclei is, we would expect that cells treated with a drug/compound could yield interesting shapes or phenotypes. Since we are not working with drug treatments at this time, we can use this feature to identify technically incorrect segmentations."
   ]
  },
  {
   "cell_type": "code",
   "execution_count": 15,
   "id": "87e84c96",
   "metadata": {
    "execution": {
     "iopub.execute_input": "2025-06-19T20:07:22.276302Z",
     "iopub.status.busy": "2025-06-19T20:07:22.275765Z",
     "iopub.status.idle": "2025-06-19T20:07:29.882649Z",
     "shell.execute_reply": "2025-06-19T20:07:29.882181Z"
    },
    "papermill": {
     "duration": 7.615269,
     "end_time": "2025-06-19T20:07:29.883349",
     "exception": false,
     "start_time": "2025-06-19T20:07:22.268080",
     "status": "completed"
    },
    "tags": []
   },
   "outputs": [
    {
     "name": "stdout",
     "output_type": "stream",
     "text": [
      "Number of outliers: 23554 (5.17%)\n",
      "Outliers Range:\n",
      "Nuclei_AreaShape_Solidity Min: 0.3337160352085725\n",
      "Nuclei_AreaShape_Solidity Max: 0.8812749003984064\n",
      "(23554, 2)\n"
     ]
    },
    {
     "data": {
      "text/html": [
       "<table border=\"1\" class=\"dataframe\">\n",
       "  <thead>\n",
       "    <tr style=\"text-align: right;\">\n",
       "      <th></th>\n",
       "      <th>Nuclei_AreaShape_Solidity</th>\n",
       "      <th>Image_FileName_OrigDNA</th>\n",
       "    </tr>\n",
       "  </thead>\n",
       "  <tbody>\n",
       "    <tr>\n",
       "      <th>435136</th>\n",
       "      <td>0.881275</td>\n",
       "      <td><img src=\"data:image/png;base64,iVBORw0KGgoAAAANSUhEUgAAACkAAAAmCAAAAAB8Xe3/AAAD8ElEQVR4nCXO2YosRRQF0B1niIicqqoHQRQFBf//iwQfRFGu9u2qyswYT/jg+oLlfmHxPk5z8GwAAMvpPB+fuVQFNPplntfry2WSjVXmad6mZeQGp4K0P+8OnwVVgd5PAqwfQV7Jh7jO23y1PTXvI6Xnx6il5VqhqMBuo1vy8t2QMG23ab3Wz6N57zX7vp+5hAJUQDvYWjtFfujDLy/bukplAUEjYthSLUv/BKpWoHarovJz6rwtl6DsAVh20Gk5p12JAQC1KlCVRX66H7pSYEcuoBsTAetdhOX/JRQJEZVllcWIRhsO5NHIwBDP5Ij9gMbO3HvvYCEO3choVBo2hjWyNjB6Nw64BBE3UHLqXQZRsD6cs261WK7A837kVBr8tESvZJbSsZ/SOoN42Oil5YwGK4/Px1EG1G/XdVKMlh4xPKRUE9bh6nEvzTzQ0rl/PouJLNvtskStZfeeh3x9mhKDcko7IYi1mo6zDYS43bZtC+xOYnEmvx/WQXCjmoGioFtuDqy6vly3bVIymI1W5a+j5U6O2ViHp8bUOfQG0evt/RLUW2Hroxf5M/Xaweq9Z/XqVWzZHsJZl+vtJoyOIguNU56ptAGdlZdpmtdNrVv+sCYcphgCQG0311gEsNpZZXl9vV6nRQmtH+55OCNICE08Au5jmCwOaDKt12/f3lYPco6btGXOGDCmyAq3lh0m7/sjNLdu1+0yMXiAg44zMLWWq6mS9B5EzOSHf+KZR5x0NLhhxnCscaJhPTcQExlqySnLj/Hx9WzE1vLZhTDANByRw+g1Nx2tlsf+TKe8UqQjm3i0hwo46pA2wEwO7SyEVs7jPM4k4Rb0fhoJGopHEGkDBhINc+RqyPnYj1Sy6CAJZ7MBZpgyAbBOHP3l/bK4rEjpPEvpQjzCy5xbhwPAMrFgoMscb98s2qqBBgZIpQ2Qki8GQkMIQXmMclS/vt0EpuY42JFikk84YxEWhz44cvCW2/0cFBVWYAZZNOdW5VfxNF2DeHGAKCm3PT2zEVnyMG6Yu5buhvymfprLphREBpyyG/2+p+57JSKjQGr5Kiryhw/TfGyrcRhgFocBG9ZaOTCBDIFAuk5RvnKYjvS8pMeL52keNIYsAe08ZDFXqsIoKCRITTml5B+P+CX691dMIF0iaodRs2ZiikCkq7jWcj712DXE+d/v37ZADUR2lnRMBFVMqC54Lz6fltSnXVTn+bG+vS/jnns6TR7Ry7yoAVwvUZZ81lrLqSx6jx/x75fNH18ez737FGMYQAN5RJX1DrNCpESsEvznR+T+/Lifo8Rhg1lIDFSbTJ7NWudCRCqZz0Mx8rHnoQNgDdZISRj/Aer/eihZXCQ4AAAAAElFTkSuQmCC\" style=\"width:300px;\"/></td>\n",
       "    </tr>\n",
       "    <tr>\n",
       "      <th>109112</th>\n",
       "      <td>0.881273</td>\n",
       "      <td><img src=\"data:image/png;base64,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\" style=\"width:300px;\"/></td>\n",
       "    </tr>\n",
       "  </tbody>\n",
       "</table>"
      ],
      "text/plain": [
       "        Nuclei_AreaShape_Solidity          Image_FileName_OrigDNA\n",
       "435136                   0.881275  r15c20f08p01-ch5sk1fk1fl1.tiff\n",
       "109112                   0.881273  r06c10f09p01-ch5sk1fk1fl1.tiff"
      ]
     },
     "execution_count": 15,
     "metadata": {},
     "output_type": "execute_result"
    }
   ],
   "source": [
    "# Find low nuclei solidity outliers for the current plate\n",
    "solidity_nuclei_outliers = find_outliers(\n",
    "    df=filtered_plate_df,\n",
    "    metadata_columns=metadata_columns,\n",
    "    feature_thresholds={\n",
    "        \"Nuclei_AreaShape_Solidity\": -1.6,  # Set at this point where it looks like it starts to detect good quality nuclei\n",
    "    },\n",
    ")\n",
    "\n",
    "# MUST SET DATA AS DATAFRAME FOR OUTLINE DIR TO WORK\n",
    "solidity_nuclei_outliers_cdf = CytoDataFrame(\n",
    "    data=pd.DataFrame(solidity_nuclei_outliers),\n",
    "    data_outline_context_dir=f\"../2.feature_extraction/sqlite_outputs/{round_id}/{plate_id}/outlines\",\n",
    "    segmentation_file_regex=outline_to_orig_mapping,\n",
    ")[\n",
    "    [\n",
    "        \"Nuclei_AreaShape_Solidity\",\n",
    "        \"Image_FileName_OrigDNA\",\n",
    "    ]\n",
    "]\n",
    "\n",
    "\n",
    "print(solidity_nuclei_outliers_cdf.shape)\n",
    "solidity_nuclei_outliers_cdf.sort_values(\n",
    "    by=\"Nuclei_AreaShape_Solidity\", ascending=False\n",
    ").head(2)"
   ]
  },
  {
   "cell_type": "code",
   "execution_count": 16,
   "id": "64ff6624",
   "metadata": {
    "execution": {
     "iopub.execute_input": "2025-06-19T20:07:29.895044Z",
     "iopub.status.busy": "2025-06-19T20:07:29.894858Z",
     "iopub.status.idle": "2025-06-19T20:07:30.392142Z",
     "shell.execute_reply": "2025-06-19T20:07:30.391671Z"
    },
    "papermill": {
     "duration": 0.503706,
     "end_time": "2025-06-19T20:07:30.392816",
     "exception": false,
     "start_time": "2025-06-19T20:07:29.889110",
     "status": "completed"
    },
    "tags": []
   },
   "outputs": [
    {
     "data": {
      "text/html": [
       "<table border=\"1\" class=\"dataframe\">\n",
       "  <thead>\n",
       "    <tr style=\"text-align: right;\">\n",
       "      <th></th>\n",
       "      <th>Nuclei_AreaShape_Solidity</th>\n",
       "      <th>Image_FileName_OrigDNA</th>\n",
       "    </tr>\n",
       "  </thead>\n",
       "  <tbody>\n",
       "    <tr>\n",
       "      <th>161380</th>\n",
       "      <td>0.829552</td>\n",
       "      <td><img src=\"data:image/png;base64,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\" style=\"width:300px;\"/></td>\n",
       "    </tr>\n",
       "    <tr>\n",
       "      <th>148841</th>\n",
       "      <td>0.880113</td>\n",
       "      <td><img src=\"data:image/png;base64,iVBORw0KGgoAAAANSUhEUgAAABoAAAAjCAAAAACvVEV3AAACLklEQVR4nCXJSXYcOQwFwP8BkEylpEX7br7/XvJrt0ulHEgMvXBsgz9/vF6Pu70OU/j1fZ7H9VwnsGD//LB6fd93oUkc2+nXcTzaYwG2Ie19DK2skg0t9v3ev8bnWtZFdg7DWtm76lrWXsZQfMII0ogqEVVRivRV6y3xYScaJREYjqB2kSrYeCu3q7WmQjAiimLBzEIH0p6tqxIRd0qnaJMF7UZJe6oOoSDXbWkjQXastEk7dJu7REVVskiUDghMafc2F5ls7K1rebE3CHqHuc/7HtwaE4WssiHtjoAaIjL40gfWShqCHWmRISYCUhQzotgGIimsElWDCCoSsUqGWlZehLRMMdHWjB4EqEKNKClK5DLTsXX1TFFmaXJUzHX5vG3s+y6eEIooubW8az2uyMv6to9MgqKt73vqXZEZ6/oyay2LJdr6NkaunCttu+fzj6lZCKh5B81xlketx68/z4ehFqkWK4ixea4Vx++Pj/9WmMDVSGqJFFWXH79/ff57YDcKKk3QlFpLBXU+H18HxmYEUS5KpR+z5X2DIrBmpqrAbNboy9XFk6ZiSBU1a/AExFgZXvhLaCrN7vC7Goi81cv/dpm0Wsl0ghUBd2R4uAksPajK9NQIMDKvOa/z3cPm1fcOXCkAkDnn8/tcLwDsHNuresKMyOX3fXydsWcI7Oz7pDsE8Pt53XO5vlV40L7NclMRzJrH10zaUGH5DHumH/tLozCvy83E1MbgPI7/AczhiYoBjgKhAAAAAElFTkSuQmCC\" style=\"width:300px;\"/></td>\n",
       "    </tr>\n",
       "  </tbody>\n",
       "</table>"
      ],
      "text/plain": [
       "        Nuclei_AreaShape_Solidity          Image_FileName_OrigDNA\n",
       "161380                   0.829552  r16c19f02p01-ch5sk1fk1fl1.tiff\n",
       "148841                   0.880113  r16c20f02p01-ch5sk1fk1fl1.tiff"
      ]
     },
     "execution_count": 16,
     "metadata": {},
     "output_type": "execute_result"
    }
   ],
   "source": [
    "solidity_nuclei_outliers_cdf.sample(n=2, random_state=0)"
   ]
  },
  {
   "cell_type": "markdown",
   "id": "de690a6a",
   "metadata": {
    "papermill": {
     "duration": 0.00592,
     "end_time": "2025-06-19T20:07:30.404787",
     "exception": false,
     "start_time": "2025-06-19T20:07:30.398867",
     "status": "completed"
    },
    "tags": []
   },
   "source": [
    "### Plot the outliers"
   ]
  },
  {
   "cell_type": "code",
   "execution_count": 17,
   "id": "968ccb6d",
   "metadata": {
    "execution": {
     "iopub.execute_input": "2025-06-19T20:07:30.414862Z",
     "iopub.status.busy": "2025-06-19T20:07:30.414636Z",
     "iopub.status.idle": "2025-06-19T20:07:33.423914Z",
     "shell.execute_reply": "2025-06-19T20:07:33.423362Z"
    },
    "papermill": {
     "duration": 3.015361,
     "end_time": "2025-06-19T20:07:33.424769",
     "exception": false,
     "start_time": "2025-06-19T20:07:30.409408",
     "status": "completed"
    },
    "tags": []
   },
   "outputs": [],
   "source": [
    "# Save low nuclei solidity histogram\n",
    "plot_nuclei_solidity_histogram(\n",
    "    plate_df=plate_df,\n",
    "    outliers_df=solidity_nuclei_outliers,\n",
    "    plate_name=plate_id,\n",
    "    qc_fig_dir=qc_fig_dir,\n",
    ")"
   ]
  },
  {
   "cell_type": "markdown",
   "id": "3309de2f",
   "metadata": {
    "papermill": {
     "duration": 0.005751,
     "end_time": "2025-06-19T20:07:33.436439",
     "exception": false,
     "start_time": "2025-06-19T20:07:33.430688",
     "status": "completed"
    },
    "tags": []
   },
   "source": [
    "## Detect cells that contain multiple nuclei due to segmentation issues\n",
    "\n",
    "When CellProfiler segments a cluster of nuclei and decides that it is over the diameter range as specified in the parameters, it will not include that segmentation when segmenting whole cells. \n",
    "This can lead to a whole cell segmentation based on one nuclei including the adjacent nuclei that was not included as a segmentation.\n",
    "\n",
    "This description requires prior knowledge of the `IdentifyPrimaryObjects` and `IdentifySecondaryObjects` modules.\n",
    "\n",
    "As a metaphor, we can think of it as three apples on a plate.\n",
    "One apple is detected correctly as one apple, but the other two were two close together, detected as one apple, and then removed from the plate because of it.\n",
    "Now, it looks like the whole plate belongs to the one correct apple, but in reality the plate should be split between three apples.\n",
    "This is the problem we want to avoid for a single-cell segmentation, we don't want to have a whole cell segmentation be assigned to one nuclei when it actually contains multiple nuclei.\n"
   ]
  },
  {
   "cell_type": "code",
   "execution_count": 18,
   "id": "f2cf3a03",
   "metadata": {
    "execution": {
     "iopub.execute_input": "2025-06-19T20:07:33.454681Z",
     "iopub.status.busy": "2025-06-19T20:07:33.454396Z",
     "iopub.status.idle": "2025-06-19T20:07:34.728336Z",
     "shell.execute_reply": "2025-06-19T20:07:34.727854Z"
    },
    "papermill": {
     "duration": 1.284286,
     "end_time": "2025-06-19T20:07:34.729127",
     "exception": false,
     "start_time": "2025-06-19T20:07:33.444841",
     "status": "completed"
    },
    "tags": []
   },
   "outputs": [
    {
     "data": {
      "text/plain": [
       "('CellsOutlines_BR00145440_H14_7.tiff',\n",
       " 'r08c14f07p(\\\\d{2})-ch\\\\d+sk\\\\d+fk\\\\d+fl\\\\d+\\\\.tiff')"
      ]
     },
     "execution_count": 18,
     "metadata": {},
     "output_type": "execute_result"
    }
   ],
   "source": [
    "# change compartment to cells\n",
    "compartment = \"Cells\"\n",
    "\n",
    "# metadata columns to include in output data frame\n",
    "metadata_columns = [\n",
    "    \"Image_Metadata_Plate\",\n",
    "    \"Image_Metadata_Well\",\n",
    "    \"Image_Metadata_Site\",\n",
    "    f\"Metadata_{compartment}_Location_Center_X\",\n",
    "    f\"Metadata_{compartment}_Location_Center_Y\",\n",
    "    \"Image_FileName_OrigDNA\",\n",
    "    \"Image_FileName_OrigAGP\",\n",
    "    \"Image_PathName_OrigDNA\",\n",
    "    \"Image_PathName_OrigAGP\",\n",
    "    f\"{compartment}_AreaShape_BoundingBoxMaximum_X\",\n",
    "    f\"{compartment}_AreaShape_BoundingBoxMaximum_Y\",\n",
    "    f\"{compartment}_AreaShape_BoundingBoxMinimum_X\",\n",
    "    f\"{compartment}_AreaShape_BoundingBoxMinimum_Y\",\n",
    "]\n",
    "\n",
    "# create an outline and orig mapping dictionary to map original images to outlines\n",
    "# note: we turn off formatting here to avoid the key-value pairing definition\n",
    "# from being reformatted by black, which is normally preferred.\n",
    "# fmt: off\n",
    "outline_to_orig_mapping = {\n",
    "    rf\"{compartment}Outlines_{record['Image_Metadata_Plate']}_{record['Image_Metadata_Well']}_{record['Image_Metadata_Site']}.tiff\": \n",
    "    rf\"r{int(record['Image_Metadata_Row']):02d}c{int(record['Image_Metadata_Col']):02d}f{int(record['Image_Metadata_Site']):02d}p(\\d{{2}})-ch\\d+sk\\d+fk\\d+fl\\d+\\.tiff\"\n",
    "    for record in plate_df[\n",
    "        [\n",
    "            \"Image_Metadata_Plate\",\n",
    "            \"Image_Metadata_Well\",\n",
    "            \"Image_Metadata_Site\",\n",
    "            \"Image_Metadata_Row\",\n",
    "            \"Image_Metadata_Col\",\n",
    "        ]\n",
    "    ].to_dict(orient=\"records\")\n",
    "}\n",
    "# fmt: on\n",
    "\n",
    "next(iter(outline_to_orig_mapping.items()))"
   ]
  },
  {
   "cell_type": "markdown",
   "id": "aca03cd3",
   "metadata": {
    "papermill": {
     "duration": 0.005448,
     "end_time": "2025-06-19T20:07:34.740578",
     "exception": false,
     "start_time": "2025-06-19T20:07:34.735130",
     "status": "completed"
    },
    "tags": []
   },
   "source": [
    "### Filter down plate data to detect cells outliers (improves speed)"
   ]
  },
  {
   "cell_type": "code",
   "execution_count": 19,
   "id": "80f8d1a9",
   "metadata": {
    "execution": {
     "iopub.execute_input": "2025-06-19T20:07:34.752930Z",
     "iopub.status.busy": "2025-06-19T20:07:34.752178Z",
     "iopub.status.idle": "2025-06-19T20:07:34.790063Z",
     "shell.execute_reply": "2025-06-19T20:07:34.789547Z"
    },
    "papermill": {
     "duration": 0.04486,
     "end_time": "2025-06-19T20:07:34.791085",
     "exception": false,
     "start_time": "2025-06-19T20:07:34.746225",
     "status": "completed"
    },
    "tags": []
   },
   "outputs": [],
   "source": [
    "# Define the QC features\n",
    "qc_features = [\"Cells_Intensity_IntegratedIntensity_CorrDNA\"]\n",
    "\n",
    "# Filter plate_df to only include metadata columns and QC features\n",
    "filtered_plate_df = plate_df[metadata_columns + qc_features]"
   ]
  },
  {
   "cell_type": "markdown",
   "id": "044a2e19",
   "metadata": {
    "papermill": {
     "duration": 0.004399,
     "end_time": "2025-06-19T20:07:34.800365",
     "exception": false,
     "start_time": "2025-06-19T20:07:34.795966",
     "status": "completed"
    },
    "tags": []
   },
   "source": [
    "### Detect cell outliers"
   ]
  },
  {
   "cell_type": "code",
   "execution_count": 20,
   "id": "d197b094",
   "metadata": {
    "execution": {
     "iopub.execute_input": "2025-06-19T20:07:34.810034Z",
     "iopub.status.busy": "2025-06-19T20:07:34.809753Z",
     "iopub.status.idle": "2025-06-19T20:07:42.443156Z",
     "shell.execute_reply": "2025-06-19T20:07:42.442707Z"
    },
    "papermill": {
     "duration": 7.639056,
     "end_time": "2025-06-19T20:07:42.443916",
     "exception": false,
     "start_time": "2025-06-19T20:07:34.804860",
     "status": "completed"
    },
    "tags": []
   },
   "outputs": [
    {
     "name": "stdout",
     "output_type": "stream",
     "text": [
      "Number of outliers: 49199 (10.79%)\n",
      "Outliers Range:\n",
      "Cells_Intensity_IntegratedIntensity_CorrDNA Min: 192.83073890767992\n",
      "Cells_Intensity_IntegratedIntensity_CorrDNA Max: 15222.974077466875\n"
     ]
    },
    {
     "name": "stdout",
     "output_type": "stream",
     "text": [
      "(49199, 2)\n"
     ]
    },
    {
     "data": {
      "text/html": [
       "<table border=\"1\" class=\"dataframe\">\n",
       "  <thead>\n",
       "    <tr style=\"text-align: right;\">\n",
       "      <th></th>\n",
       "      <th>Cells_Intensity_IntegratedIntensity_CorrDNA</th>\n",
       "      <th>Image_FileName_OrigDNA</th>\n",
       "    </tr>\n",
       "  </thead>\n",
       "  <tbody>\n",
       "    <tr>\n",
       "      <th>175801</th>\n",
       "      <td>192.830739</td>\n",
       "      <td><img src=\"data:image/png;base64,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\" style=\"width:300px;\"/></td>\n",
       "    </tr>\n",
       "    <tr>\n",
       "      <th>171169</th>\n",
       "      <td>192.830790</td>\n",
       "      <td><img src=\"data:image/png;base64,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\" style=\"width:300px;\"/></td>\n",
       "    </tr>\n",
       "  </tbody>\n",
       "</table>"
      ],
      "text/plain": [
       "        Cells_Intensity_IntegratedIntensity_CorrDNA  \\\n",
       "175801                                   192.830739   \n",
       "171169                                   192.830790   \n",
       "\n",
       "                Image_FileName_OrigDNA  \n",
       "175801  r16c05f01p01-ch5sk1fk1fl1.tiff  \n",
       "171169  r07c08f01p01-ch5sk1fk1fl1.tiff  "
      ]
     },
     "execution_count": 20,
     "metadata": {},
     "output_type": "execute_result"
    }
   ],
   "source": [
    "# Find cell outliers for the current plate\n",
    "cell_outliers = find_outliers(\n",
    "    df=filtered_plate_df,\n",
    "    metadata_columns=metadata_columns,\n",
    "    feature_thresholds={\n",
    "        # Set low to attempt to detect all instances of abnormally high int in nuclei for whole cells\n",
    "        \"Cells_Intensity_IntegratedIntensity_CorrDNA\": 0.5,\n",
    "    },\n",
    ")\n",
    "\n",
    "# MUST SET DATA AS DATAFRAME FOR OUTLINE DIR TO WORK\n",
    "cell_outliers_cdf = CytoDataFrame(\n",
    "    data=pd.DataFrame(cell_outliers),\n",
    "    data_outline_context_dir=f\"../2.feature_extraction/sqlite_outputs/{round_id}/{plate_id}/outlines\",\n",
    "    segmentation_file_regex=outline_to_orig_mapping,\n",
    ")[\n",
    "    [\n",
    "        \"Cells_Intensity_IntegratedIntensity_CorrDNA\",\n",
    "        \"Image_FileName_OrigDNA\",\n",
    "    ]\n",
    "]\n",
    "\n",
    "\n",
    "print(cell_outliers_cdf.shape)\n",
    "cell_outliers_cdf.sort_values(\n",
    "    by=\"Cells_Intensity_IntegratedIntensity_CorrDNA\", ascending=True\n",
    ").head(2)"
   ]
  },
  {
   "cell_type": "code",
   "execution_count": 21,
   "id": "54053967",
   "metadata": {
    "execution": {
     "iopub.execute_input": "2025-06-19T20:07:42.456144Z",
     "iopub.status.busy": "2025-06-19T20:07:42.455750Z",
     "iopub.status.idle": "2025-06-19T20:07:42.941461Z",
     "shell.execute_reply": "2025-06-19T20:07:42.941015Z"
    },
    "papermill": {
     "duration": 0.492213,
     "end_time": "2025-06-19T20:07:42.942183",
     "exception": false,
     "start_time": "2025-06-19T20:07:42.449970",
     "status": "completed"
    },
    "tags": []
   },
   "outputs": [
    {
     "data": {
      "text/html": [
       "<table border=\"1\" class=\"dataframe\">\n",
       "  <thead>\n",
       "    <tr style=\"text-align: right;\">\n",
       "      <th></th>\n",
       "      <th>Cells_Intensity_IntegratedIntensity_CorrDNA</th>\n",
       "      <th>Image_FileName_OrigDNA</th>\n",
       "    </tr>\n",
       "  </thead>\n",
       "  <tbody>\n",
       "    <tr>\n",
       "      <th>283787</th>\n",
       "      <td>220.535912</td>\n",
       "      <td><img src=\"data:image/png;base64,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\" style=\"width:300px;\"/></td>\n",
       "    </tr>\n",
       "    <tr>\n",
       "      <th>72133</th>\n",
       "      <td>975.017106</td>\n",
       "      <td><img src=\"data:image/png;base64,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\" style=\"width:300px;\"/></td>\n",
       "    </tr>\n",
       "  </tbody>\n",
       "</table>"
      ],
      "text/plain": [
       "        Cells_Intensity_IntegratedIntensity_CorrDNA  \\\n",
       "283787                                   220.535912   \n",
       "72133                                    975.017106   \n",
       "\n",
       "                Image_FileName_OrigDNA  \n",
       "283787  r05c22f03p01-ch5sk1fk1fl1.tiff  \n",
       "72133   r12c10f05p01-ch5sk1fk1fl1.tiff  "
      ]
     },
     "execution_count": 21,
     "metadata": {},
     "output_type": "execute_result"
    }
   ],
   "source": [
    "cell_outliers_cdf.sample(n=2, random_state=0)"
   ]
  },
  {
   "cell_type": "markdown",
   "id": "b71838fd",
   "metadata": {
    "papermill": {
     "duration": 0.006707,
     "end_time": "2025-06-19T20:07:42.954621",
     "exception": false,
     "start_time": "2025-06-19T20:07:42.947914",
     "status": "completed"
    },
    "tags": []
   },
   "source": [
    "## Save the outlier indices to use for reporting"
   ]
  },
  {
   "cell_type": "code",
   "execution_count": 22,
   "id": "5aaa313f",
   "metadata": {
    "execution": {
     "iopub.execute_input": "2025-06-19T20:07:42.969857Z",
     "iopub.status.busy": "2025-06-19T20:07:42.969621Z",
     "iopub.status.idle": "2025-06-19T20:07:44.232373Z",
     "shell.execute_reply": "2025-06-19T20:07:44.231990Z"
    },
    "papermill": {
     "duration": 1.271449,
     "end_time": "2025-06-19T20:07:44.232985",
     "exception": false,
     "start_time": "2025-06-19T20:07:42.961536",
     "status": "completed"
    },
    "tags": []
   },
   "outputs": [
    {
     "name": "stdout",
     "output_type": "stream",
     "text": [
      "Total failing single cells: 68516 (15.03%)\n"
     ]
    }
   ],
   "source": [
    "# Identify failing indices from both outlier dataframes\n",
    "outlier_indices = pd.concat(\n",
    "    [nuclei_clustered_outliers, solidity_nuclei_outliers, cell_outliers]\n",
    ").index.unique()\n",
    "\n",
    "# Create a new dataframe with only the failing rows\n",
    "failing_df = plate_df.loc[outlier_indices, metadata_columns].copy()\n",
    "\n",
    "# Add failure condition columns, marking all rows as True for each condition they failed\n",
    "failing_df[\"Failed_ClusteredNuclei\"] = failing_df.index.isin(\n",
    "    nuclei_clustered_outliers.index\n",
    ")\n",
    "failing_df[\"Failed_SolidityNuclei\"] = failing_df.index.isin(\n",
    "    solidity_nuclei_outliers.index\n",
    ")\n",
    "failing_df[\"Failed_CellsMultipleNuclei\"] = failing_df.index.isin(cell_outliers.index)\n",
    "\n",
    "# Ensure boolean dtype\n",
    "failing_df = failing_df.astype(\n",
    "    {\n",
    "        \"Failed_ClusteredNuclei\": bool,\n",
    "        \"Failed_SolidityNuclei\": bool,\n",
    "        \"Failed_CellsMultipleNuclei\": bool,\n",
    "    }\n",
    ")\n",
    "\n",
    "# Keep original indices for later\n",
    "failing_df = failing_df.reset_index().rename(columns={\"index\": \"original_indices\"})\n",
    "\n",
    "# Save the indices dataframe as CSV\n",
    "failing_df.to_csv(\n",
    "    pathlib.Path(f\"{qc_results_dir}/{plate_id}_failed_qc_indices.csv.gz\"),\n",
    "    compression=\"gzip\",\n",
    "    index=False,\n",
    ")\n",
    "\n",
    "# Calculate percentage failed\n",
    "total_rows = plate_df.shape[0]\n",
    "failed_percentage = (failing_df.shape[0] / total_rows) * 100\n",
    "\n",
    "# Print summary with percentage\n",
    "print(f\"Total failing single cells: {failing_df.shape[0]} ({failed_percentage:.2f}%)\")"
   ]
  },
  {
   "cell_type": "markdown",
   "id": "72ba8176",
   "metadata": {
    "papermill": {
     "duration": 0.005307,
     "end_time": "2025-06-19T20:07:44.243619",
     "exception": false,
     "start_time": "2025-06-19T20:07:44.238312",
     "status": "completed"
    },
    "tags": []
   },
   "source": [
    "## Clean and save the data"
   ]
  },
  {
   "cell_type": "code",
   "execution_count": 23,
   "id": "ff4da2ad",
   "metadata": {
    "execution": {
     "iopub.execute_input": "2025-06-19T20:07:44.257491Z",
     "iopub.status.busy": "2025-06-19T20:07:44.256362Z",
     "iopub.status.idle": "2025-06-19T20:08:32.370431Z",
     "shell.execute_reply": "2025-06-19T20:08:32.370009Z"
    },
    "papermill": {
     "duration": 48.127481,
     "end_time": "2025-06-19T20:08:32.376907",
     "exception": false,
     "start_time": "2025-06-19T20:07:44.249426",
     "status": "completed"
    },
    "tags": []
   },
   "outputs": [
    {
     "name": "stdout",
     "output_type": "stream",
     "text": [
      "BR00145440 has been cleaned and saved with the shape: (387332, 3035).\n"
     ]
    }
   ],
   "source": [
    "# Remove rows with outlier indices\n",
    "plate_df_cleaned = plate_df.drop(outlier_indices)\n",
    "\n",
    "# Save cleaned data for this plate\n",
    "plate_df_cleaned.to_parquet(f\"{cleaned_dir}/{plate_id}_cleaned.parquet\")\n",
    "\n",
    "# Print the plate name and the shape of the cleaned data\n",
    "print(\n",
    "    f\"{plate_id} has been cleaned and saved with the shape: {plate_df_cleaned.shape}.\"\n",
    ")"
   ]
  }
 ],
 "metadata": {
  "kernelspec": {
   "display_name": "alsf_preprocessing_env",
   "language": "python",
   "name": "python3"
  },
  "language_info": {
   "codemirror_mode": {
    "name": "ipython",
    "version": 3
   },
   "file_extension": ".py",
   "mimetype": "text/x-python",
   "name": "python",
   "nbconvert_exporter": "python",
   "pygments_lexer": "ipython3",
   "version": "3.10.16"
  },
  "papermill": {
   "default_parameters": {},
   "duration": 134.224976,
   "end_time": "2025-06-19T20:08:35.947337",
   "environment_variables": {},
   "exception": null,
   "input_path": "1.sc_quality_control.ipynb",
   "output_path": "1.sc_quality_control.ipynb",
   "parameters": {
    "plate_id": "BR00145440"
   },
   "start_time": "2025-06-19T20:06:21.722361",
   "version": "2.6.0"
  }
 },
 "nbformat": 4,
 "nbformat_minor": 5
}