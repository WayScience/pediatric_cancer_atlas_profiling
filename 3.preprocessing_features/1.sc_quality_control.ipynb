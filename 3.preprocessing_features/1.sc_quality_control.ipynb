{
 "cells": [
  {
   "cell_type": "markdown",
   "id": "97791360",
   "metadata": {
    "papermill": {
     "duration": 0.004548,
     "end_time": "2025-03-25T20:52:01.879991",
     "exception": false,
     "start_time": "2025-03-25T20:52:01.875443",
     "status": "completed"
    },
    "tags": []
   },
   "source": [
    "# Perform single-cell quality control\n",
    "\n",
    "In this notebook, we perform single-cell quality control using coSMicQC. We filter the single cells by identifying outliers with z-scores, and use either combinations of features or one feature for each condition. We use features from the AreaShape and Intensity modules to assess the quality of the segmented single-cells:\n",
    "\n",
    "### Assessing poor nuclei segmentation\n",
    "\n",
    "Due to high confluence with various seeding densities, sometimes nuclei overlap on top of each other, creating highly intense clusters within the Hoechst channel. \n",
    "To identify these nuclei, we use:\n",
    "\n",
    "- **Nuclei mass displacement:** This metric quantifies how different the segmentation versus intensity based centeroids are, which can reflect multiple nuclei within one segmentation. \n",
    "- **Nuclei intensity:** This metric quantifies the total intensity of all pixels in a nucleus segmentation. \n",
    "In combination with abnormally high mass displacement, we detect nuclei that are also highly intense, likely indicating that this a group of overlapped nuclei.\n",
    "\n",
    "For the preliminary dataset, we are working with cells that have not been treated so we do not expect any crazy phenotypes. Given that context, we can use a feature called Solidity. From ChatGPT, the simple explanation is that this features compares the area of the object to its convex hull, which measures compactness in relation to convexity. High solidity implies few indentations, while lower solidity indicates more irregularity.\n",
    "\n",
    "- **Nuclei solidity:** This metric quantifies the compactness of the nuclei shape.\n",
    "When a nuclei is mis-segmented, we see more protrusions or harsh outlines around the segmentations, which we expect this is what this feature will detect.\n",
    "\n",
    "### Assessing poor cell segmentation\n",
    "\n",
    "Also due to high confluence, overlapping nuclei can lead to the CellProfiler segmentation algorithm to sometimes keep bad segmentations (which is why we have coSMicQC) but can also detect these segmentations as being \"too large\" based on the parameters. \n",
    "This leads to poor cell segmentations because CellProfiler will remove the context of the nuclei it couldn't segment, leading to segmenting multiple cells as one cell and assigning it to one nuclei.\n",
    "To identify these cells, we use:\n",
    "\n",
    "- **Cell intensity in the nuclei channel:** This metric quantifies the total intensity of all pixels of a cell segmentation in the nuclei channel. We would expect fairly low total intensity in the nuclei channel for whole cells as there is only one \n",
    "\n"
   ]
  },
  {
   "cell_type": "code",
   "execution_count": 1,
   "id": "65a52f14",
   "metadata": {
    "execution": {
     "iopub.execute_input": "2025-03-25T20:52:01.891088Z",
     "iopub.status.busy": "2025-03-25T20:52:01.890588Z",
     "iopub.status.idle": "2025-03-25T20:52:03.107092Z",
     "shell.execute_reply": "2025-03-25T20:52:03.106585Z"
    },
    "papermill": {
     "duration": 1.222935,
     "end_time": "2025-03-25T20:52:03.108345",
     "exception": false,
     "start_time": "2025-03-25T20:52:01.885410",
     "status": "completed"
    },
    "tags": []
   },
   "outputs": [
    {
     "name": "stderr",
     "output_type": "stream",
     "text": [
      "/tmp/ipykernel_59539/3846214131.py:1: DeprecationWarning: The current Dask DataFrame implementation is deprecated. \n",
      "In a future release, Dask DataFrame will use a new implementation that\n",
      "contains several improvements including a logical query planning.\n",
      "The user-facing DataFrame API will remain unchanged.\n",
      "\n",
      "The new implementation is already available and can be enabled by\n",
      "installing the dask-expr library:\n",
      "\n",
      "    $ pip install dask-expr\n",
      "\n",
      "and turning the query planning option on:\n",
      "\n",
      "    >>> import dask\n",
      "    >>> dask.config.set({'dataframe.query-planning': True})\n",
      "    >>> import dask.dataframe as dd\n",
      "\n",
      "API documentation for the new implementation is available at\n",
      "https://docs.dask.org/en/stable/dask-expr-api.html\n",
      "\n",
      "Any feedback can be reported on the Dask issue tracker\n",
      "https://github.com/dask/dask/issues \n",
      "\n",
      "To disable this warning in the future, set dask config:\n",
      "\n",
      "    # via Python\n",
      "    >>> dask.config.set({'dataframe.query-planning-warning': False})\n",
      "\n",
      "    # via CLI\n",
      "    dask config set dataframe.query-planning-warning False\n",
      "\n",
      "\n",
      "  import dask.dataframe as dd\n"
     ]
    }
   ],
   "source": [
    "import dask.dataframe as dd\n",
    "import pathlib\n",
    "import pandas as pd\n",
    "import matplotlib.pyplot as plt\n",
    "import seaborn as sns\n",
    "\n",
    "import time\n",
    "\n",
    "from cytodataframe import CytoDataFrame\n",
    "from cosmicqc import find_outliers\n",
    "\n",
    "import warnings\n",
    "\n",
    "# Suppress all warnings\n",
    "warnings.filterwarnings(\"ignore\")"
   ]
  },
  {
   "cell_type": "code",
   "execution_count": 2,
   "id": "0a86cf6a",
   "metadata": {},
   "outputs": [
    {
     "name": "stdout",
     "output_type": "stream",
     "text": [
      "Image_Metadata_Plate\n",
      "BR00143976    0.851128\n",
      "BR00143977    0.854945\n",
      "BR00143978    0.847024\n",
      "BR00143979    0.844024\n",
      "BR00143980    0.838464\n",
      "BR00143981    0.837461\n",
      "Name: Nuclei_AreaShape_FormFactor, dtype: float64\n"
     ]
    }
   ],
   "source": [
    "data_dir = pathlib.Path(\"./data/converted_profiles\")\n",
    "\n",
    "# Load only the required columns from all converted profiles\n",
    "all_profiles = []\n",
    "for file in data_dir.glob(\"*_converted.parquet\"):\n",
    "    df = dd.read_parquet(\n",
    "        file,\n",
    "        engine=\"pyarrow\",\n",
    "        columns=[\"Image_Metadata_Plate\", \"Nuclei_AreaShape_FormFactor\"],\n",
    "    ).compute()\n",
    "    all_profiles.append(df)\n",
    "\n",
    "# Concatenate all profiles\n",
    "all_profiles_df = pd.concat(all_profiles, ignore_index=True)\n",
    "\n",
    "# Calculate the mean of Nuclei_AreaShape_FormFactor per Metadata_Plate\n",
    "mean_form_factor = all_profiles_df.groupby(\"Image_Metadata_Plate\")[\n",
    "    \"Nuclei_AreaShape_FormFactor\"\n",
    "].mean()\n",
    "\n",
    "# Display the result\n",
    "print(mean_form_factor)"
   ]
  },
  {
   "cell_type": "markdown",
   "id": "75b3c263",
   "metadata": {
    "papermill": {
     "duration": 0.006146,
     "end_time": "2025-03-25T20:52:03.121112",
     "exception": false,
     "start_time": "2025-03-25T20:52:03.114966",
     "status": "completed"
    },
    "tags": []
   },
   "source": [
    "# Set functions for plotting"
   ]
  },
  {
   "cell_type": "markdown",
   "id": "7cc84d89",
   "metadata": {
    "papermill": {
     "duration": 0.007997,
     "end_time": "2025-03-25T20:52:03.135602",
     "exception": false,
     "start_time": "2025-03-25T20:52:03.127605",
     "status": "completed"
    },
    "tags": []
   },
   "source": [
    "### Function to plot scatterplot"
   ]
  },
  {
   "cell_type": "code",
   "execution_count": 2,
   "id": "e249d9a9",
   "metadata": {
    "execution": {
     "iopub.execute_input": "2025-03-25T20:52:03.151218Z",
     "iopub.status.busy": "2025-03-25T20:52:03.150746Z",
     "iopub.status.idle": "2025-03-25T20:52:03.155942Z",
     "shell.execute_reply": "2025-03-25T20:52:03.155576Z"
    },
    "papermill": {
     "duration": 0.013733,
     "end_time": "2025-03-25T20:52:03.156790",
     "exception": false,
     "start_time": "2025-03-25T20:52:03.143057",
     "status": "completed"
    },
    "tags": []
   },
   "outputs": [],
   "source": [
    "def plot_cluster_nuclei_outliers(\n",
    "    plate_df: pd.DataFrame,\n",
    "    outliers_df: pd.DataFrame,\n",
    "    plate_name: str,\n",
    "    qc_fig_dir: pathlib.Path,\n",
    ") -> None:\n",
    "    \"\"\"Plot scatterplot of the cluster nuclei outliers.\n",
    "\n",
    "    Args:\n",
    "        plate_df (pd.DataFrame): Dataframe of the CytoTable output with the morphology profiles.\n",
    "        outliers_df (pd.DataFrame): Dataframe of the coSMicQC output which includes the identified outliers.\n",
    "        plate_name (str): String of the plate's name or ID.\n",
    "        qc_fig_dir (pathlib.Path): Path to the directory to save the plot.\n",
    "    \"\"\"\n",
    "    # Create a copy of plate_df to avoid modifying the original\n",
    "    plate_df = plate_df.copy()\n",
    "\n",
    "    # Set the default 'Outlier_Status' to 'Single-cell passed QC'\n",
    "    plate_df[\"Outlier_Status\"] = \"Single-cell passed QC\"\n",
    "\n",
    "    # Update 'Outlier_Status' for cells that failed QC\n",
    "    plate_df.loc[plate_df.index.isin(outliers_df.index), \"Outlier_Status\"] = (\n",
    "        \"Single-cell failed QC\"\n",
    "    )\n",
    "\n",
    "    # Create scatter plot\n",
    "    plt.figure(figsize=(10, 6))\n",
    "    sns.scatterplot(\n",
    "        data=plate_df,\n",
    "        x=\"Nuclei_Intensity_MassDisplacement_CorrDNA\",\n",
    "        y=\"Nuclei_Intensity_IntegratedIntensity_CorrDNA\",\n",
    "        hue=\"Outlier_Status\",\n",
    "        palette={\n",
    "            \"Single-cell passed QC\": \"#006400\",\n",
    "            \"Single-cell failed QC\": \"#990090\",\n",
    "        },\n",
    "        alpha=0.2,\n",
    "    )\n",
    "\n",
    "    # Add threshold lines\n",
    "    plt.axvline(\n",
    "        x=outliers_df[\"Nuclei_Intensity_MassDisplacement_CorrDNA\"].min(),\n",
    "        color=\"r\",\n",
    "        linestyle=\"--\",\n",
    "        label=\"Min. threshold for Nuclei Mass Displacement\",\n",
    "    )\n",
    "    plt.axhline(\n",
    "        y=outliers_df[\"Nuclei_Intensity_IntegratedIntensity_CorrDNA\"].min(),\n",
    "        color=\"b\",\n",
    "        linestyle=\"--\",\n",
    "        label=\"Min. threshold for Nuclei Intensity\",\n",
    "    )\n",
    "\n",
    "    # Customize plot\n",
    "    plt.title(f\"Nuclei Mass Displacement vs. Nuclei Integrated Intensity for plate {plate_name}\")\n",
    "    plt.xlabel(\"Nuclei Mass Displacement (Hoechst)\")\n",
    "    plt.ylabel(\"Nuclei Integrated Intensity (Hoechst)\")\n",
    "    plt.tight_layout()\n",
    "\n",
    "    # Show legend\n",
    "    plt.legend(loc=\"upper right\", bbox_to_anchor=(1.0, 1.0), prop={\"size\": 10})\n",
    "\n",
    "    # Save figure without showing it\n",
    "    plt.savefig(\n",
    "        pathlib.Path(f\"{qc_fig_dir}/{plate_name}_cluster_nuclei_outliers.png\"), dpi=500\n",
    "    )\n",
    "    plt.close()  # Close the plot to prevent it from displaying"
   ]
  },
  {
   "cell_type": "markdown",
   "id": "61eb6cda",
   "metadata": {
    "papermill": {
     "duration": 0.006072,
     "end_time": "2025-03-25T20:52:03.169048",
     "exception": false,
     "start_time": "2025-03-25T20:52:03.162976",
     "status": "completed"
    },
    "tags": []
   },
   "source": [
    "### Function to plot KDE"
   ]
  },
  {
   "cell_type": "code",
   "execution_count": 3,
   "id": "da82f7bc",
   "metadata": {
    "execution": {
     "iopub.execute_input": "2025-03-25T20:52:03.182563Z",
     "iopub.status.busy": "2025-03-25T20:52:03.181934Z",
     "iopub.status.idle": "2025-03-25T20:52:03.187004Z",
     "shell.execute_reply": "2025-03-25T20:52:03.186599Z"
    },
    "papermill": {
     "duration": 0.012687,
     "end_time": "2025-03-25T20:52:03.187824",
     "exception": false,
     "start_time": "2025-03-25T20:52:03.175137",
     "status": "completed"
    },
    "tags": []
   },
   "outputs": [],
   "source": [
    "def plot_nuclei_solidity_histogram(\n",
    "    plate_df: pd.DataFrame,\n",
    "    outliers_df: pd.DataFrame,\n",
    "    plate_name: str,\n",
    "    qc_fig_dir: pathlib.Path,\n",
    ") -> None:\n",
    "    \"\"\"Plot histogram of the nuclei solidity outliers.\n",
    "\n",
    "    Args:\n",
    "        plate_df (pd.DataFrame): Dataframe of the CytoTable output with the morphology profiles.\n",
    "        outliers_df (pd.DataFrame): Dataframe of the coSMicQC output which includes the identified outliers.\n",
    "        plate_name (str): String of the plate's name or ID.\n",
    "        qc_fig_dir (pathlib.Path): Path to the directory to save the plot.\n",
    "    \"\"\"\n",
    "    # Create a copy of plate_df to avoid modifying the original\n",
    "    plate_df = plate_df.copy()\n",
    "\n",
    "    # Set the default 'Outlier_Status' to 'Single-cell passed QC'\n",
    "    plate_df[\"Outlier_Status\"] = \"Single-cell passed QC\"\n",
    "\n",
    "    # Update 'Outlier_Status' for cells that failed QC\n",
    "    plate_df.loc[plate_df.index.isin(outliers_df.index), \"Outlier_Status\"] = (\n",
    "        \"Single-cell failed QC\"\n",
    "    )\n",
    "\n",
    "    # Create histogram\n",
    "    plt.figure(figsize=(10, 6))\n",
    "    sns.histplot(\n",
    "        data=plate_df,\n",
    "        x=\"Nuclei_AreaShape_Solidity\",\n",
    "        hue=\"Outlier_Status\",\n",
    "        palette={\n",
    "            \"Single-cell passed QC\": \"#006400\",\n",
    "            \"Single-cell failed QC\": \"#990090\",\n",
    "        },\n",
    "        multiple=\"stack\",  # Stacks bars based on hue\n",
    "        bins=50,  # Number of bins\n",
    "        kde=False,\n",
    "    )\n",
    "\n",
    "    # Add threshold line\n",
    "    max_threshold = outliers_df[\"Nuclei_AreaShape_Solidity\"].max()\n",
    "    plt.axvline(\n",
    "        x=max_threshold,\n",
    "        color=\"r\",\n",
    "        linestyle=\"--\",\n",
    "        label=f\"Threshold for Outliers: < {max_threshold}\",\n",
    "    )\n",
    "\n",
    "    # Customize plot\n",
    "    plt.ylabel(\"Count\")\n",
    "    plt.xlabel(\"Nuclei Solidity\")\n",
    "    plt.title(f\"Distribution of Nuclei Solidity for plate {plate_name}\")\n",
    "    plt.legend()\n",
    "    plt.tight_layout()\n",
    "\n",
    "    # Save figure without showing it\n",
    "    plt.savefig(\n",
    "        pathlib.Path(\n",
    "            f\"{qc_fig_dir}/{plate_name}_nuclei_solidity_outliers_histogram.png\"\n",
    "        ),\n",
    "        dpi=500,\n",
    "    )\n",
    "    plt.close()  # Close the plot to prevent it from displaying"
   ]
  },
  {
   "cell_type": "markdown",
   "id": "f4210f5e",
   "metadata": {
    "papermill": {
     "duration": 0.006191,
     "end_time": "2025-03-25T20:52:03.200481",
     "exception": false,
     "start_time": "2025-03-25T20:52:03.194290",
     "status": "completed"
    },
    "tags": []
   },
   "source": [
    "## Set paths and variables"
   ]
  },
  {
   "cell_type": "code",
   "execution_count": 4,
   "id": "a9b48c7c",
   "metadata": {
    "execution": {
     "iopub.execute_input": "2025-03-25T20:52:03.214822Z",
     "iopub.status.busy": "2025-03-25T20:52:03.214180Z",
     "iopub.status.idle": "2025-03-25T20:52:03.218068Z",
     "shell.execute_reply": "2025-03-25T20:52:03.217318Z"
    },
    "papermill": {
     "duration": 0.012058,
     "end_time": "2025-03-25T20:52:03.218865",
     "exception": false,
     "start_time": "2025-03-25T20:52:03.206807",
     "status": "completed"
    },
    "tags": [
     "parameters"
    ]
   },
   "outputs": [],
   "source": [
    "# Set parameter for papermill to use for processing\n",
    "plate_id = \"BR00143976\""
   ]
  },
  {
   "cell_type": "code",
   "execution_count": 5,
   "id": "456aed9d",
   "metadata": {
    "execution": {
     "iopub.execute_input": "2025-03-25T20:52:03.228698Z",
     "iopub.status.busy": "2025-03-25T20:52:03.228477Z",
     "iopub.status.idle": "2025-03-25T20:52:03.231378Z",
     "shell.execute_reply": "2025-03-25T20:52:03.230857Z"
    },
    "papermill": {
     "duration": 0.008723,
     "end_time": "2025-03-25T20:52:03.232158",
     "exception": false,
     "start_time": "2025-03-25T20:52:03.223435",
     "status": "completed"
    },
    "tags": [
     "injected-parameters"
    ]
   },
   "outputs": [],
   "source": [
    "# Parameters\n",
    "plate_id = \"BR00143978\"\n"
   ]
  },
  {
   "cell_type": "markdown",
   "id": "20570692",
   "metadata": {
    "papermill": {
     "duration": 0.004353,
     "end_time": "2025-03-25T20:52:03.242536",
     "exception": false,
     "start_time": "2025-03-25T20:52:03.238183",
     "status": "completed"
    },
    "tags": []
   },
   "source": [
    "## Injected parameter from papermill that updates for every plate being processed"
   ]
  },
  {
   "cell_type": "code",
   "execution_count": 6,
   "id": "483a7fd7",
   "metadata": {
    "execution": {
     "iopub.execute_input": "2025-03-25T20:52:03.251824Z",
     "iopub.status.busy": "2025-03-25T20:52:03.251390Z",
     "iopub.status.idle": "2025-03-25T20:52:03.258396Z",
     "shell.execute_reply": "2025-03-25T20:52:03.257548Z"
    },
    "papermill": {
     "duration": 0.012619,
     "end_time": "2025-03-25T20:52:03.259315",
     "exception": false,
     "start_time": "2025-03-25T20:52:03.246696",
     "status": "completed"
    },
    "tags": []
   },
   "outputs": [],
   "source": [
    "# Directory with data\n",
    "data_dir = pathlib.Path(\"./data/converted_profiles/\")\n",
    "\n",
    "# Directory to save cleaned data\n",
    "cleaned_dir = pathlib.Path(\"./data/cleaned_profiles/\")\n",
    "cleaned_dir.mkdir(exist_ok=True)\n",
    "\n",
    "# Directory to save qc figures\n",
    "qc_fig_dir = pathlib.Path(\"./qc_figures\")\n",
    "qc_fig_dir.mkdir(exist_ok=True)\n",
    "\n",
    "# Directory to save qc results\n",
    "qc_results_dir = pathlib.Path(\"./qc_results\")\n",
    "qc_results_dir.mkdir(exist_ok=True)\n",
    "\n",
    "# Create an empty dictionary to store data frames for each plate\n",
    "all_qc_data_frames = {}\n",
    "\n",
    "# Set the compartment of choice to perform QC at the start (will change later)\n",
    "compartment = \"Nuclei\""
   ]
  },
  {
   "cell_type": "markdown",
   "id": "5bfaaea6",
   "metadata": {
    "papermill": {
     "duration": 0.005296,
     "end_time": "2025-03-25T20:52:03.270173",
     "exception": false,
     "start_time": "2025-03-25T20:52:03.264877",
     "status": "completed"
    },
    "tags": []
   },
   "source": [
    "## Load in plate to perform QC on"
   ]
  },
  {
   "cell_type": "code",
   "execution_count": 7,
   "id": "dcaaa2e9",
   "metadata": {
    "execution": {
     "iopub.execute_input": "2025-03-25T20:52:03.280107Z",
     "iopub.status.busy": "2025-03-25T20:52:03.279863Z",
     "iopub.status.idle": "2025-03-25T20:53:30.470832Z",
     "shell.execute_reply": "2025-03-25T20:53:30.470203Z"
    },
    "papermill": {
     "duration": 87.202959,
     "end_time": "2025-03-25T20:53:30.478213",
     "exception": false,
     "start_time": "2025-03-25T20:52:03.275254",
     "status": "completed"
    },
    "tags": []
   },
   "outputs": [
    {
     "name": "stdout",
     "output_type": "stream",
     "text": [
      "Loaded plate: BR00143978, Shape: (465740, 3035), Time taken: 87.19 seconds\n"
     ]
    }
   ],
   "source": [
    "# Construct the file path for the given plate_id\n",
    "file_path = data_dir / f\"{plate_id}_converted.parquet\"\n",
    "\n",
    "if file_path.exists():\n",
    "    start_time = time.time()  # Start timer for loading\n",
    "\n",
    "    # Load and compute the DataFrame\n",
    "    plate_df = dd.read_parquet(file_path, engine=\"pyarrow\").compute()\n",
    "\n",
    "    end_time = time.time()  # End timer for loading\n",
    "    print(\n",
    "        f\"Loaded plate: {plate_id}, Shape: {plate_df.shape}, Time taken: {end_time - start_time:.2f} seconds\"\n",
    "    )\n",
    "else:\n",
    "    print(f\"Parquet file for plate {plate_id} not found.\")"
   ]
  },
  {
   "cell_type": "markdown",
   "id": "1edb3bad",
   "metadata": {
    "papermill": {
     "duration": 0.006912,
     "end_time": "2025-03-25T20:53:30.492245",
     "exception": false,
     "start_time": "2025-03-25T20:53:30.485333",
     "status": "completed"
    },
    "tags": []
   },
   "source": [
    "## Set columns and mapping"
   ]
  },
  {
   "cell_type": "code",
   "execution_count": 8,
   "id": "f49e1c86",
   "metadata": {
    "execution": {
     "iopub.execute_input": "2025-03-25T20:53:30.511391Z",
     "iopub.status.busy": "2025-03-25T20:53:30.511115Z",
     "iopub.status.idle": "2025-03-25T20:53:32.967173Z",
     "shell.execute_reply": "2025-03-25T20:53:32.966737Z"
    },
    "papermill": {
     "duration": 2.466948,
     "end_time": "2025-03-25T20:53:32.968163",
     "exception": false,
     "start_time": "2025-03-25T20:53:30.501215",
     "status": "completed"
    },
    "tags": []
   },
   "outputs": [
    {
     "data": {
      "text/plain": [
       "('NucleiOutlines_BR00143978_J16_7.tiff',\n",
       " 'r10c16f07p(\\\\d{2})-ch\\\\d+sk\\\\d+fk\\\\d+fl\\\\d+\\\\.tiff')"
      ]
     },
     "execution_count": 8,
     "metadata": {},
     "output_type": "execute_result"
    }
   ],
   "source": [
    "# metadata columns to include in output data frame\n",
    "metadata_columns = [\n",
    "    \"Image_Metadata_Plate\",\n",
    "    \"Image_Metadata_Well\",\n",
    "    \"Image_Metadata_Site\",\n",
    "    f\"Metadata_{compartment}_Location_Center_X\",\n",
    "    f\"Metadata_{compartment}_Location_Center_Y\",\n",
    "    \"Image_FileName_OrigDNA\",\n",
    "    \"Image_FileName_OrigAGP\",\n",
    "    \"Image_PathName_OrigDNA\",\n",
    "    \"Image_PathName_OrigAGP\",\n",
    "    f\"{compartment}_AreaShape_BoundingBoxMaximum_X\",\n",
    "    f\"{compartment}_AreaShape_BoundingBoxMaximum_Y\",\n",
    "    f\"{compartment}_AreaShape_BoundingBoxMinimum_X\",\n",
    "    f\"{compartment}_AreaShape_BoundingBoxMinimum_Y\",\n",
    "]\n",
    "\n",
    "# create an outline and orig mapping dictionary to map original images to outlines\n",
    "# note: we turn off formatting here to avoid the key-value pairing definition\n",
    "# from being reformatted by black, which is normally preferred.\n",
    "# fmt: off\n",
    "outline_to_orig_mapping = {\n",
    "    rf\"{compartment}Outlines_{record['Image_Metadata_Plate']}_{record['Image_Metadata_Well']}_{record['Image_Metadata_Site']}.tiff\": \n",
    "    rf\"r{int(record['Image_Metadata_Row']):02d}c{int(record['Image_Metadata_Col']):02d}f{int(record['Image_Metadata_Site']):02d}p(\\d{{2}})-ch\\d+sk\\d+fk\\d+fl\\d+\\.tiff\"\n",
    "    for record in plate_df[\n",
    "        [\n",
    "            \"Image_Metadata_Plate\",\n",
    "            \"Image_Metadata_Well\",\n",
    "            \"Image_Metadata_Site\",\n",
    "            \"Image_Metadata_Row\",\n",
    "            \"Image_Metadata_Col\",\n",
    "        ]\n",
    "    ].to_dict(orient=\"records\")\n",
    "}\n",
    "# fmt: on\n",
    "\n",
    "next(iter(outline_to_orig_mapping.items()))"
   ]
  },
  {
   "cell_type": "markdown",
   "id": "1810063c",
   "metadata": {
    "papermill": {
     "duration": 0.007418,
     "end_time": "2025-03-25T20:53:32.983101",
     "exception": false,
     "start_time": "2025-03-25T20:53:32.975683",
     "status": "completed"
    },
    "tags": []
   },
   "source": [
    "## Filter down plate data to detect nuclei outliers (improves speed)"
   ]
  },
  {
   "cell_type": "code",
   "execution_count": 9,
   "id": "af4784ff",
   "metadata": {
    "execution": {
     "iopub.execute_input": "2025-03-25T20:53:33.001752Z",
     "iopub.status.busy": "2025-03-25T20:53:33.001467Z",
     "iopub.status.idle": "2025-03-25T20:53:33.012592Z",
     "shell.execute_reply": "2025-03-25T20:53:33.012029Z"
    },
    "papermill": {
     "duration": 0.022067,
     "end_time": "2025-03-25T20:53:33.013896",
     "exception": false,
     "start_time": "2025-03-25T20:53:32.991829",
     "status": "completed"
    },
    "tags": []
   },
   "outputs": [],
   "source": [
    "# Define the QC features\n",
    "qc_features = [\n",
    "    \"Nuclei_Intensity_IntegratedIntensity_CorrDNA\",\n",
    "    \"Nuclei_AreaShape_Solidity\",\n",
    "    \"Nuclei_Intensity_MassDisplacement_CorrDNA\",\n",
    "]\n",
    "\n",
    "# Filter plate_df to only include metadata columns and QC features\n",
    "filtered_plate_df = plate_df[metadata_columns + qc_features]"
   ]
  },
  {
   "cell_type": "markdown",
   "id": "40da9f92",
   "metadata": {
    "papermill": {
     "duration": 0.006825,
     "end_time": "2025-03-25T20:53:33.029239",
     "exception": false,
     "start_time": "2025-03-25T20:53:33.022414",
     "status": "completed"
    },
    "tags": []
   },
   "source": [
    "## Detect segmentations of clustered nuclei"
   ]
  },
  {
   "cell_type": "code",
   "execution_count": 10,
   "id": "3229bcbb",
   "metadata": {
    "execution": {
     "iopub.execute_input": "2025-03-25T20:53:33.042025Z",
     "iopub.status.busy": "2025-03-25T20:53:33.041837Z",
     "iopub.status.idle": "2025-03-25T20:53:41.371301Z",
     "shell.execute_reply": "2025-03-25T20:53:41.370769Z"
    },
    "papermill": {
     "duration": 8.33677,
     "end_time": "2025-03-25T20:53:41.372321",
     "exception": false,
     "start_time": "2025-03-25T20:53:33.035551",
     "status": "completed"
    },
    "tags": []
   },
   "outputs": [
    {
     "name": "stdout",
     "output_type": "stream",
     "text": [
      "Number of outliers: 18593 (3.99%)\n",
      "Outliers Range:\n",
      "Nuclei_Intensity_MassDisplacement_CorrDNA Min: 0.5560302293666787\n",
      "Nuclei_Intensity_MassDisplacement_CorrDNA Max: 16.391380798829957\n",
      "Nuclei_Intensity_IntegratedIntensity_CorrDNA Min: 183.01864505559206\n",
      "Nuclei_Intensity_IntegratedIntensity_CorrDNA Max: 1358.7651822939515\n",
      "(18593, 3)\n"
     ]
    },
    {
     "data": {
      "text/html": [
       "<table border=\"1\" class=\"dataframe\">\n",
       "  <thead>\n",
       "    <tr style=\"text-align: right;\">\n",
       "      <th></th>\n",
       "      <th>Nuclei_Intensity_MassDisplacement_CorrDNA</th>\n",
       "      <th>Nuclei_Intensity_IntegratedIntensity_CorrDNA</th>\n",
       "      <th>Image_FileName_OrigDNA</th>\n",
       "    </tr>\n",
       "  </thead>\n",
       "  <tbody>\n",
       "    <tr>\n",
       "      <th>96650</th>\n",
       "      <td>0.556030</td>\n",
       "      <td>297.408236</td>\n",
       "      <td><img src=\"data:image/png;base64,iVBORw0KGgoAAAANSUhEUgAAACYAAAAsCAIAAACGxF2fAAAJPElEQVR4nHVYS48U1xn9bt1b767q7umZf+A4AgJkYQYDM8MjIBO8wJEQzsqRs3IWxDJZxFLAAqwQMGCbOJKziqX4B8SKFV52AMNMrFgMM+Ak/AA2aAaaflbVvXWrKovTc9Oy47sYUT0193yPc873Naxer1dVRUREZNs2rR0hBBFxzh3HcRyHc845Z4x9ff9r+n9nww824B+4raoqpVS/39daa62JKM9zQIjvwuOcE5HjOEII27Y55/fv3Sei2blZzrkQwrIsxlhVVVprKeXCvxaIaOOmjcAry9KyLNd1gTd+P4vjePzZJIdj27YQ4sF/HhDR3M65IAg8z7MsSwghhGCMASDLsiRJhsPh7Vu3AVyWZVmWSDTLMiJSSjmOQ0Tiu/CIyLIsoBLR7j27wzj0fd91Xc55EASO4yAVy7K01sPhsNvtvrD/hSRJbt+/jXQ550hUa+04jlJqlCUu/XZ+OPeW7+3avSuOY8/zHMdxXdf3/WazGQSB1rosS5QxTdNerzccDgeDQa/Xu/7360S0bv26LMuklFmWocJKKTHeQpAFnQPq8tLy7Nxs1IhqtRoiCIIgjuM4joMgwF+VZYnSFUWBNnued+DFA5f+dsm27aIotNbIB7mKcdYBEtTgnC8vLW/bvs2reUEQBEFg27bjOLVaLY5j3/fNm3meg0RVVSFi13UZY3v37f383ufrN6wXQhRFgUJqrYUp6TjFwUb8KgiCMAyB6nlerVYLwxBXW5aFuxzHYYzZtq219n0f2oiiaG7n3K1/33r2+88inxHwN+QFphHR8tLy9NZpu2YHQdBsNhuNRhiGnueFYQgwy7LKskSH8AnnvCxLx3GQtNYaBcevTKLClPRb4ibOOfQQRdHk5CRY6vs+5MgY01rjInQRn6CXQRBkWRZF0a7du24+uPnM954BBF4QRhXAwEF0iBd5uK5rHKAsS8YY1AlUxlhRFGVZGsNyHCcMQ9/3jQ6/WVgjfBDn+W3PW7ZFRFLKfr8/GAw4557nIRRAot/ANo4Dltq27fu+Usp1XVNbzrnWWhj3MngmY/PS48ePLctK03RiYiKKItu2UVgcPMJCgQ0A13XBatyGAqAwwtQTj0t3l2ZmZ1zP9TzP930hRJ7nq6urEHWe5xCJKT6oASQQ0LZtz/OqqkqSxJTQqFbgz+DdwJudm/UDP4qiZrMZx7FlWVJKpZSUst1ua62VUo1Gw/M8EBWFhe0VRYFH27allIYKhs+c81GKcJYRnu/X6/WpqalWq4VgpZRSSlyX53mn01FKBWvHWHy1dsAjGC98FS0HxYQQAhVfuru0Y2aH67u1Wq3ZbLZarWazCUKiUGANSpemaZ7nWZZlWQaLgEKQllIqz3NMErB0/IzaCW9zfTcIAqiwXq/D5HALOgQTHwwG3W43TVMpJX6GYYgemfEppUySJMsy0MrYGedcGFKB1kgRzMQyYFoFJud5PhgM0FrGGOc8z3OIASXBr9I0ffLkyWAwQC/NIjAq7OKdxZnZGeGMXCOOY0gYeLgXqMbJirUDWwDhGWNKqeFwmCRJv9/vdDpZlqGw5dohIrF4Z3Hb9m1MjFJxXReMwBVAhaEwxlAxpRSEj5CdsQO1IEv0e2F+YXrrtCZtemkR0Zf/+BJhQluQl4nOSBvaMsMWYkc9PM8zfgJsSI4xtn3H9q/++dU4fayZ2Rki+uLmF3jO81xKaXYkuAy4mqYpFpmqqmzbDsMwiqIwDF3XRbijugnh+34cx/V6PYoieCy4M4K0bXvnrp1EdOXyFWyCaZomSWLkD+51Op2VlZV2u53nueu6mJq+72OFgCixAMBlgNpqtRqNxt59exfvLBppsn379qEl165eI6JXf/7qxMQE9gxUBhkAvqoqmA4YCHMHucAjdBHACHc4HD59+rTdbt+4fmPjpo1SStFoNKSUZVm+9JOXPvnLJx/96aM3jr6BTwBm+MYYC4KgVqvB6w3e+KQzJEDeqKTW2uzNWmtrcnISwvd9/5WfvUJE7737HmLEdtrv94fDoZQSw8vzPEgQesUjhgaWvyiK0GPQClM9DMP9P95/d/GuZVlWo9FotVpTU1NAPfqro0R09sxZ2DQ6Cp90XRdV9caO7/u+75t9DNyJogjNxjHvEJHjOFYYhnEcA7hWqwkhTpw8QUSnf3va+CooCrKYWYj8kJzneZxzeDraj/fhX9AuNs2lu0sWVlM0CVOQc37+wnkievvU29jN/2ePQmBEmC3EfGMBxWDoRVGYfczIGqsMEY0mpbt2wALG2MXfXySiM78747ouDL0sS2CYgQCWIjnj3XjTDANQzIzIkS4RPlwbSeDtc+fPEdG5d86hPjAzVAkVxniCGMqyBH3wOSwF5jA+L4nIMqO1KIp87YA1jLGz75xFrkIIiAx1My9DABDi+LhAkWELUJExoNH6i5HU7/cRdZZlYKnjOBfevUBEJ0+cLIqi1+t1u13MCijHIJkhgxENPLNvAA9JjxakJEna7TYgMf8QO/T7/sX3iejYb45JKbvdbr/fhyOawYIdANkgAUSDpiI5s9pb2BZXV1fb7XaSJIgObonSgTUf/OEDIjp+7LiUstPp9Ho9U1VUBf5i2oZ2wq6NY4++L3Q6nUePHq2srKRpariAwE2TgPrhHz8koreOv5Xnea/XwwRGC8a7S2s7MHazwWCAFiRJcvnS5c0/3Gw9fPhwZWUlSRLwAksUgHEF4kCkyPXUyVNKKZg17FApZbYFs1pCC8gV6RKRUoodOnQIbAa18BMbibExs5FAwa//8nUieu0Xr+ErahiGtVoNdophgm+clmVlWdbtdlGST//66abNm6SU7ODBg1gGx9UJu4LO4Grm6yYm15u/fpOIXv7pyxh8WF/goig1LizLcrB2bly/sW79OqUUO3z4MIgEbzRfcbBSABWzE64E2WVZdv7ceSI68OIBfA5/wF4xrhyl1GfXPiMiDEspJTty5EiapnjDbDcIE5IyCw6iARWxs3/854+JaM+P9oybi9nkbt64CQI/t+U5MBF0Y6dPn1ZK4SVshZ1OB2yEvaHIGCNIEUOt3+/3er2rV64SERaoqqoW5heMVLZMb8EWaDgFOQmMGBMgFrg0TSE1s68qpcx/DgASJJ+ZnZm/PT9/ex4w01unsXdprROdGI8d1/p/AeoY1TZbYsDoAAAAAElFTkSuQmCC\" style=\"width:300px;\"/></td>\n",
       "    </tr>\n",
       "    <tr>\n",
       "      <th>42214</th>\n",
       "      <td>0.556122</td>\n",
       "      <td>208.023985</td>\n",
       "      <td><img src=\"data:image/png;base64,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\" style=\"width:300px;\"/></td>\n",
       "    </tr>\n",
       "  </tbody>\n",
       "</table>"
      ],
      "text/plain": [
       "       Nuclei_Intensity_MassDisplacement_CorrDNA  \\\n",
       "96650                                   0.556030   \n",
       "42214                                   0.556122   \n",
       "\n",
       "       Nuclei_Intensity_IntegratedIntensity_CorrDNA  \\\n",
       "96650                                    297.408236   \n",
       "42214                                    208.023985   \n",
       "\n",
       "               Image_FileName_OrigDNA  \n",
       "96650  r09c06f03p01-ch5sk1fk1fl1.tiff  \n",
       "42214  r09c16f08p01-ch5sk1fk1fl1.tiff  "
      ]
     },
     "execution_count": 10,
     "metadata": {},
     "output_type": "execute_result"
    }
   ],
   "source": [
    "# Find large nuclei outliers for the current plate\n",
    "nuclei_clustered_outliers = find_outliers(\n",
    "    df=filtered_plate_df,\n",
    "    metadata_columns=metadata_columns,\n",
    "    feature_thresholds={\n",
    "        \"Nuclei_Intensity_MassDisplacement_CorrDNA\": 0.05, # Set very low as to detect all instances of clustering nuclei\n",
    "        \"Nuclei_Intensity_IntegratedIntensity_CorrDNA\": 1.5, # Set higher than displacement to avoid false positives\n",
    "    },\n",
    ")\n",
    "\n",
    "# MUST SET DATA AS DATAFRAME FOR OUTLINE DIR TO WORK\n",
    "nuclei_clustered_outliers_cdf = CytoDataFrame(\n",
    "    data=pd.DataFrame(nuclei_clustered_outliers),\n",
    "    data_outline_context_dir=f\"../2.feature_extraction/sqlite_outputs/{plate_id}/outlines\",\n",
    "    segmentation_file_regex=outline_to_orig_mapping,\n",
    ")[\n",
    "    [\n",
    "        \"Nuclei_Intensity_MassDisplacement_CorrDNA\",\n",
    "        \"Nuclei_Intensity_IntegratedIntensity_CorrDNA\",\n",
    "        \"Image_FileName_OrigDNA\",\n",
    "    ]\n",
    "]\n",
    "\n",
    "\n",
    "print(nuclei_clustered_outliers_cdf.shape)\n",
    "nuclei_clustered_outliers_cdf.sort_values(\n",
    "    by=\"Nuclei_Intensity_MassDisplacement_CorrDNA\", ascending=True\n",
    ").head(2)"
   ]
  },
  {
   "cell_type": "code",
   "execution_count": 11,
   "id": "59f09ea0",
   "metadata": {
    "execution": {
     "iopub.execute_input": "2025-03-25T20:53:41.389529Z",
     "iopub.status.busy": "2025-03-25T20:53:41.389174Z",
     "iopub.status.idle": "2025-03-25T20:53:41.846989Z",
     "shell.execute_reply": "2025-03-25T20:53:41.846453Z"
    },
    "papermill": {
     "duration": 0.467718,
     "end_time": "2025-03-25T20:53:41.847895",
     "exception": false,
     "start_time": "2025-03-25T20:53:41.380177",
     "status": "completed"
    },
    "tags": []
   },
   "outputs": [
    {
     "data": {
      "text/html": [
       "<table border=\"1\" class=\"dataframe\">\n",
       "  <thead>\n",
       "    <tr style=\"text-align: right;\">\n",
       "      <th></th>\n",
       "      <th>Nuclei_Intensity_MassDisplacement_CorrDNA</th>\n",
       "      <th>Nuclei_Intensity_IntegratedIntensity_CorrDNA</th>\n",
       "      <th>Image_FileName_OrigDNA</th>\n",
       "    </tr>\n",
       "  </thead>\n",
       "  <tbody>\n",
       "    <tr>\n",
       "      <th>28086</th>\n",
       "      <td>4.211066</td>\n",
       "      <td>280.276529</td>\n",
       "      <td><img src=\"data:image/png;base64,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\" style=\"width:300px;\"/></td>\n",
       "    </tr>\n",
       "    <tr>\n",
       "      <th>90144</th>\n",
       "      <td>2.288558</td>\n",
       "      <td>208.026360</td>\n",
       "      <td><img src=\"data:image/png;base64,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\" style=\"width:300px;\"/></td>\n",
       "    </tr>\n",
       "  </tbody>\n",
       "</table>"
      ],
      "text/plain": [
       "       Nuclei_Intensity_MassDisplacement_CorrDNA  \\\n",
       "28086                                   4.211066   \n",
       "90144                                   2.288558   \n",
       "\n",
       "       Nuclei_Intensity_IntegratedIntensity_CorrDNA  \\\n",
       "28086                                    280.276529   \n",
       "90144                                    208.026360   \n",
       "\n",
       "               Image_FileName_OrigDNA  \n",
       "28086  r14c03f08p01-ch5sk1fk1fl1.tiff  \n",
       "90144  r04c05f01p01-ch5sk1fk1fl1.tiff  "
      ]
     },
     "execution_count": 11,
     "metadata": {},
     "output_type": "execute_result"
    }
   ],
   "source": [
    "nuclei_clustered_outliers_cdf.sample(n=2, random_state=0)"
   ]
  },
  {
   "cell_type": "markdown",
   "id": "ad9c2a86",
   "metadata": {
    "papermill": {
     "duration": 0.006085,
     "end_time": "2025-03-25T20:53:41.860129",
     "exception": false,
     "start_time": "2025-03-25T20:53:41.854044",
     "status": "completed"
    },
    "tags": []
   },
   "source": [
    "### Plot the outliers"
   ]
  },
  {
   "cell_type": "code",
   "execution_count": 12,
   "id": "2902980f",
   "metadata": {
    "execution": {
     "iopub.execute_input": "2025-03-25T20:53:41.873714Z",
     "iopub.status.busy": "2025-03-25T20:53:41.873450Z",
     "iopub.status.idle": "2025-03-25T20:54:27.504215Z",
     "shell.execute_reply": "2025-03-25T20:54:27.503607Z"
    },
    "papermill": {
     "duration": 45.638975,
     "end_time": "2025-03-25T20:54:27.505430",
     "exception": false,
     "start_time": "2025-03-25T20:53:41.866455",
     "status": "completed"
    },
    "tags": []
   },
   "outputs": [],
   "source": [
    "# Save cluster nuclei scatterplot\n",
    "plot_cluster_nuclei_outliers(\n",
    "    plate_df=plate_df,\n",
    "    outliers_df=nuclei_clustered_outliers_cdf,\n",
    "    plate_name=plate_id,\n",
    "    qc_fig_dir=qc_fig_dir,\n",
    ")"
   ]
  },
  {
   "cell_type": "markdown",
   "id": "97b14c45",
   "metadata": {
    "papermill": {
     "duration": 0.007561,
     "end_time": "2025-03-25T20:54:27.521223",
     "exception": false,
     "start_time": "2025-03-25T20:54:27.513662",
     "status": "completed"
    },
    "tags": []
   },
   "source": [
    "## Detect very irregular shaped nuclei, likely indicating mis-segmentation\n",
    "\n",
    "**NOTE:** For the pilot data, we are determining optimal conditions (seeding density and time point). This means all cells are not treated and should be in a \"healthy\" state. Given that `solidity` measures how irregular the shape of a nuclei is, we would expect that cells treated with a drug/compound could yield interesting shapes or phenotypes. Since we are not working with drug treatments at this time, we can use this feature to identify technically incorrect segmentations."
   ]
  },
  {
   "cell_type": "code",
   "execution_count": 13,
   "id": "87e84c96",
   "metadata": {
    "execution": {
     "iopub.execute_input": "2025-03-25T20:54:27.539967Z",
     "iopub.status.busy": "2025-03-25T20:54:27.539792Z",
     "iopub.status.idle": "2025-03-25T20:54:35.620295Z",
     "shell.execute_reply": "2025-03-25T20:54:35.619665Z"
    },
    "papermill": {
     "duration": 8.091115,
     "end_time": "2025-03-25T20:54:35.621365",
     "exception": false,
     "start_time": "2025-03-25T20:54:27.530250",
     "status": "completed"
    },
    "tags": []
   },
   "outputs": [
    {
     "name": "stdout",
     "output_type": "stream",
     "text": [
      "Number of outliers: 34536 (7.42%)\n",
      "Outliers Range:\n",
      "Nuclei_AreaShape_Solidity Min: 0.4885439763488544\n",
      "Nuclei_AreaShape_Solidity Max: 0.9071942446043165\n"
     ]
    },
    {
     "name": "stdout",
     "output_type": "stream",
     "text": [
      "(34536, 2)\n"
     ]
    },
    {
     "data": {
      "text/html": [
       "<table border=\"1\" class=\"dataframe\">\n",
       "  <thead>\n",
       "    <tr style=\"text-align: right;\">\n",
       "      <th></th>\n",
       "      <th>Nuclei_AreaShape_Solidity</th>\n",
       "      <th>Image_FileName_OrigDNA</th>\n",
       "    </tr>\n",
       "  </thead>\n",
       "  <tbody>\n",
       "    <tr>\n",
       "      <th>147956</th>\n",
       "      <td>0.907194</td>\n",
       "      <td><img src=\"data:image/png;base64,iVBORw0KGgoAAAANSUhEUgAAAEwAAAA2CAIAAADiTOjbAAAWM0lEQVR4nI1aa5BcZZn+zv1++jbdMz2TKZPRaEhQcP0hEEBX1yq3CJrghXBXIIq6XBK87MIaFFlrvYH+ESwvta5VlAKSKFl3LTKQe9At/Adllashk2Qy0zM9ffr0uV/3xzP90k7cLc+P1HTnnK+/9/Y8z/t+h9N1nQ0vjuMkScLfaZoyxugj/pf9vxduwCOSJKVpKkkSPgqCIAiCKIqiKPI8LwgCz/P4KEnS7MHZ0XX23L9HlmXGWFmWgiDoum5ZlqqqoigqimIYhqZpeZ4nSVIUBcdxoiiapqlpmq7rkiRhG3Ecd7vdU6dOnTp1ihs1co0loxb+lXZic6PPkiU8z8M8fBRF8eiRo7jnug9dh+1KkvTUz55ijN19z930c6Io6rquKIqmabBQlmWe5+ECMtK2bdM0OY4riiLP8yAIFhYWzp49Oz8//7qR8P2FMfm/IrbmWhNzmEFGUiQR22NHjzHGPn77x3VdL4oiiiLP8+I45nlelmXYecedd5BTEEYYaZqmqqqyLHMch4zgeV7TtGq1alkWx3EIsuu6CwsLCwsL/X5/bSTXBORCA5CEHMeRRy50B26AbYihLMsw78TxE4yx2++4fWJiotVqlWXpum63211eXvY8L8synudVVX3m6WcYY7fedqskSZqmaZqmKIosy4iYruvwIDe8JEkyTdOyLEmS8jz3fb/b7Xa73SAIeJ7/C0bSjmVZhkmjX66J9l98luoQ8YR5qqoeOXzk1ttunZycnJyctG1bVdUwDB3HWVxcnJ+fd103DMOyLEVRlGV5/779jLHbPnabZVmWZSFLDcOAkYqicBxXlmVZlvhpVKyiKGma9nq9brdblqVpmqIorjVyNCYXFtjoBWvhiDUrUB1iu4qinDxxkjF29z13z8zMTExMqKqapmmWZWmahmF47ty5c+fOOY7j+36apoRJB547wBjbc/8e0zRRkxRJwzAQzDzPi6IoiiLLsrIseZ7v9/vLy8tlWTabTcuykiThNE1DuNfAqSRJMBJrjf6RZdlouq4J6RoLVVU9cfzEDTfeMDMzs3HjxmazKYpimqZRFKVpmud5GIZnzpw5e/Zsr9cbDAZpmqLYBEHQNO0X+3/BGHvkXx6RJKlWq9VqNTJYURT4uizLLMuSJInjOAzDpaWlMAwbjUa9Xi/L0nEcTtM02utosiHH8GOMMZ7nkYGMMcAX/l0TXtwwauHJEydvvuXmjRs3bty4cWJiQpKkJEmSJMmyLMuyIAi63e7p06cXFxcRSXgQduq63mg0fvxvP2aMPfbtx9rtdqvVAgghOcuyLIqiLEs4y/M8eEpRlFqtJggCCp6n/VFy0y5RVNgr/pUuuIQLrgst3LJly6ZNm8bGxgBIiqJgqSzLer3euXPnVlZWoijCdpF72ExRFEmS3HPvPYyx3fftVlV1FF2Bvfg5AlXGmG3b1WqV47ggCDzPC8Pw9UhSEQLQgIeKooC+eZ5HoZPncGFPqI3RglQU5aWTL12/8/pNmzZt2bKl0WiMBhlM/dprr83NzTmOEwQBki2KoiRJUFrwlGEY1Wq1Xq9/8xvfZIz95re/0TSN8qssSzwYBMFgMMiyDOvneQ5acl03CII/MxJxg22qqgK1gRwvzL5At737b9+NfMvzHHUFr5NrFUU5cfzEhz/y4Te84Q0XX3zx+Pg4HA/j0zRdWlqam5ubm5vr9/tpmiJiQRDAzjzPka7AZNu2a7Xa1NTUA//0AGPs+InjpmnKspzneRzHsCSOY2gGSZKKogjDENkL+hXXFBXyhBJPVVXokhtvuhG1mqbpky8+yRh7z3vfkySJIAiwc/SRI4eP7LxhZ2uytXHjxrGxMeQS1vd9f3l5+fz5847jiKII+i7L0vM8ys88z5EsgiAURZGmaRzHjuN869Fv3b/n/q1XbGWM/fa/fws+dF03iiJEApycZRlBIMB/NZKjoCpJkjG8bNv+9X/9etcndtXr9Wq1Ksuy7/uO4ziO86Mf/ogxdtXVV2FbYH9QxR133lGpVKanpzds2EAJn2VZGIa9Xi8IAkALgJHjON/3V1ZWQG6DwSCOY1pQlmVN00CVpmmapvmlh76Erf7qP38VRVEYhowxEq4IAxIYCOd53utGEoWAhWzbtm378KHDt99x+9TU1MzMDJANG3Uc59SpU6dPn/75Mz+/6uqr4PWjR47edPNN7Xa7Uqnouj45OdlsNiEvkyTp9Xq9Xi/LMoAHfhGp5TjOyspKp9PBymEYIpiU4dgSqfBarfbZ+z/LGPv+D75fliX2rKoqsIMxBtuSJIHBInzJLrhQFYwx0zSnp6dnZmYajYaiKEmSjI+Px3FcrVbDMNx27bYDRw7gkU/e9cmZt83UarU0TUVRrFQqUMxBEPT7fcdxiqLAl7IsI7ejKEKBIG4ABYAk8Ax/rO51yP5Jknz54S8/tPehXXfu+vo3vq4oChQ59COAJ03T11NslDyoMwKK4ktFUUCsUIa6rlcqFbDZqVOnlpaWrtl2jaqq69atu+jtF7VaLagq8DXgAYq0Wq3yPG9ZFnyH3YNsCZmBc6qqUsYiXRVFEQQBW8f20jTdvWf3Y48+9vnPfX7vQ3sHgwHHcdC9qEwKXlEUIlZH0CmMa36bLlFcjbwgCKqqQkMqirJ+/fqLLrqoXq/nee55XlEUSB64k+O4RqMBLEGZoSDxEcvyPI9ekeAafkRyVioVwDI6MthQFAXsfPjLD9973734XhAE+MUwDFBxGIYi2TYqBiBH4LY4jn3fj+MYAYEXPc+bn5/v9XqGYaxfv/6SSy6pVqtAzk6ng5hwHJdlGeRbURSAX354EQYS65Bt6IZxs67rtm1PTk7WajUkRVEUwBWI1S/84xe+9q9f+863v3PXp+5CAGRZpu4ULPpnFIKQjlYCY6zT6czNzTUaDY7jVFUFcJ89e/bVV18dDAbr1q279NJL2+02yqbb7TqOU61WsVdIR9/3icSwPtQmABAaSNO0IAjIF9BSiqLYto0yoV6Z4zjQKfyeZdnDX3l47xf3PvH4E3d96i5ULG6DkWmacpZljRrJGEPtonmzLOv4seN37rrzTW960/T0tG3baZr2+/1z584tLi4ahnHppZe+8Y1v5Hne9/2lpaXXXnsN4a3X67quJ0lCEA+lEkUR8gJ2lmVp27YkSZ7ndTodcLfv+xzH2bY9NTWFABZFAYA1DAPbQ6sN4HAcp9fr7b5vN2PsM//wmaIosH/USxiGrxu5Rp0DAwDchw8d/tjHPwZiQCSDIJBl+a1vfevmzZtN00QCd7vd8+fPDwYDODLPc1mWa7WaZVkoXSSS4zhRFCGSQRCg94/j2HVdaJcsy2zbnpmZectb3mKaZq/X63Q6cRyrqtpoNEzT1HWd47goipAUg8EA1H3fvfcxxnbv2Q0QhriLomjVyDUW0rQC+s4wjEMvHvrIRz8C0QQFNz09/Y53vGNqagqQTeOGOI4hXHieb7fb09PTpmmibzIMA2lMKqfT6aysrLiu6/s+1Cbky8zMzJvf/OZ2uy2Koud5KysrjuO4rou+BEoYmY/UDcPQdd3l5WVIv3vvuxf5DKnI1ev10UiuGahBygLWDx86fM22awCt1Wp18+bNmzZtqlarwIxer3f69OmFhQXqwizL2rBhw/j4OASXpmmoScxsBEFAMJeXl//0pz+dOXOm2+16npfneavV2rJly/r16w3DyPN8MBjA/vPnz/f7/Uql0mw2q9Uq4pkkCfIWIw/Xdfd+cS8V4I7rdux7dh9PJCEOLyAe0prGUAQYgiAYhtFqtaANoDBQYEjCLMviOGaM6bqOIizLEoyCJgN9DDitUqlMTU1NT0+DRYuikGV5cnJyenq60WjYtg28oUSI47jT6czPzy8tLbmuS0KXhj2CIDzw4ANk5L5n91HkVg0jlCdihJ2HDx2GV9SKaprm+Pj4unXrxsbG0JoBhweDge/7pLARPQADiIf0B2oJhARyq9frzWZzcXFxMBiYpjk5Odluty3LgjtM0+R5HmRQrVb7/f5gMJCG00BQLjITUwVJkj73+c+FYdjv93/y7z9hjImqqiKYlJw0BZZl+cUXXmSMXb/zek3T9LZu23ar1Wq1Whi0lGUZx7EgCFDYoARQPIwELwNvQA9wCvAACkRVVVVV0QA4jgPOgKyneQ8WYYxFUSSKYrfb7fV6tD7P86BQanFR+Xmeb9+xff++/SIlKk0NQdaiKM4enN2+Y7tlWfWJOkDSMIxarVav1zF6gMznOA79DtyEzFRVFXMn0zQNw0DTBLqHSEBHCioGi0KR6bqeZZnruggjOkOEwTTNdruNEuj1esvLy4Ig1Ot1+BR2MsagmYDSGPmJFD3KVfw7e3D2/X//fl7nAWgTExMgNJAV3IzBETpXjuOq1SpmhLgNwxjECk6J4zhJEvgUygk1TLFFAvf7fV3XoWlQw1T8JEdBD8hbIBCwDZtH1WA4dN2HrhPxMBv2AbIs42Ri+47tvM5jfEK0CXcAZuI4juMYpmZZBnig7EKC4XFEmHodLAjxiccBJ0tLS+Dbfr+PB8lCXdehIubn5zudDuKMx2mMAENUVbUsy7btR77yCGNs1yd2JVayWrvQUBgCgA+lisSGjQKYKooi6C/EDT0BCL0oCjhCURR0feAh2AY7gWeEQyBbRMN1XaBOlmWDwWA0U7A9JIjjON1uN8syOjggyU3YiR+67dbbGGOPPvZot9X1fV9EABVFOXb02Eev/6gsy6IhIm7QDaIoouWFlKHJL5yNfKOxb7VaBfXneY47MaGjqQpszvNcVdVieKHARjED8gCAScRLXRuiQr6DQ1Emoihuu2YbY+zZfc/2a33GmKIoq0ZiPkDTPprQEeRSGaCE8BS1SJqmtVqtWq1WrVY1TQMmIWiwEKWIjAWtSZIEisOoASiNXxwMBv1+Hy0lkSo2SfVC7iMtjh+Chb987pecxGmaBlxcxdWDzx+85dZbzJpp2zbAkLJCVVWQG40MgyAgLAXogehgITxCbSsAJgxDmovDifjedd1Op9Pv99HioP9AsUFn0yAT51a1Wg2bgdNpio8CedfV72KM7f/FfsYzbE/TtKIoRLAiwmoYRqVSsW0biI8CE0URMAM7fd9PkgSNgiAIlmWNjY2RbsY5DEKNf9dMIujUDQMEKDVJktBPoXXAOJzAFnBSrVabzWatVgNyYlee5yHOjDFYOPvCbKZlo6N9juNEwiVKPxJ6mDuQoEPcgaXQNLqut1qtdevW1Wo1UhEwDzhOUouGF9gTz/Ou687PzzuOI0nS2NgYnsWAK0mSwWCAfIGEwHyg0WhgxIgakSSpVqvB9e99z3sZY88ffF5WZUEQsEk6zhA5jps9OLvzhp1CQyA4BVuSRkvTlBi23+9jZKRpWqPRaLfbEJmkb4mpoOnKspRlmXrxPM8xjxsMBp7nIdtxfqwoimVZoihi8NXv9wHpiLNhGMgLGt4AL0VRfN/fvY8x9szPnxnwAxqOYM/wkUgnOQQMCAXoC+0pSBxq0HGcsiw1TaNuAPsjpY7oUbZQmcFmrIPGAnoFBwGQctgf1A9QHUkO81DYABGga1EUl192OWPswH8ccBMX2guQhkm8LMu6rq8aSVoZQUDnDlkMvgKsu66bZRlG9xgu0tyakBOJQKYSSoMk6agDpAriBrUid0C5jLEgCMDJiAnGCMAtqBxBEC552yWMsZMvnXQEh4qfJpcoKFVVRfI6CBdMBcgGNoK4UCTAMQyzyd9UhNzwRIgND7qpKvCRyAOvCiAdMIYl1QZT8QcpCvwKvsGgUFGULZu3MMZe/t3LCUuQL9TooWhpnrg6yIJtwG5QKg5nEXQUN3yM5MQsgxs556I8z7KMyhLeJQxARYE/aOyN3MM2SAyNho7kPnwBzQgLX3n1lUzMiO0QSdQhJoBYXCTwRB0DP5D6jDGMXnzfpwYKfgWWYlFshebWyAI2nLKQhRC6iDMUJohRHB5g02QIEzdkKbkP/Q0QGBb+4X/+wCkcZQ1ygWbi9A3HcavpahhGs9m0bRtKBegURdHy8jKQBuIWvgdC4AbgE0QcpQOJeJANnSKuYp0oYhFkI7aFiFEYyUg2bMrxE6qqXrzlYsbY3Jm5QloNODo+egmB/EVkIR49cnTnDTvHNow1m016y4Hn+TAMcdKEyRImd4ByAAO8jtNPpDfP8xiCEHmsOcbkOA4CA80+HSfDSLIQAaRKxprgkisuv4IxdnruNOMYYwxTItd1cRTpui7SBKhGQChCsgLBsdE0TX3f7/V6KysrOGCCNqDzUFEUwzDErAGoyxjDIQ8yHIeN0C70egBpa8DjKNkQStGdFDris263+8EPfJAxduz4sRVjBY5GJBYWFnBsniSJYRjwo23bQH4OBz549wesCH3c7XYx6qWjAWH4/gA5AunHGMN7KVEUQUBGUeQ4DjiKEpWMlGU5jmOUNKiFJBdsQ/qRNkJtp2l6z933MMa++/h3/2j80bZtwF4QBGhE4zjmOA5v4YHeKpUKTSRW+0kcjOBYb2lpqd/vh2GIaQJgBoVH7QXcjG/wrOd5uq7LshxFkeu6lPYYCAB7gI29Xi/PczozZcOOEZ7CqAFuXWPh4088LohCmqbdbpeENA5toaLr9Xq73R4bGzMMA+sjF0QQNKLh+/7i4iKmBnRt37GdGx5XkLaiKgJkQy3Q0RhGuihCHGZhKcoF4hvYgN4V1YVujgZwURTBwqeefsreYCuKkmXZysqK53nIUlC0qqq1Wg1DNhyB/dnEgzEG3ydJ8r0nvscY23rlVmIFnuf3H9zPGLv5lpthDHKbkBAkAb/Se0YEa3TBfkVRkOEIF87nKSk8zwuCAOIBw44gCD79qU+jDqubq0jyJEkURYF5WE2W5Uql0mg0ms0mUpRKYLXm2esHduyKrVf4vk8WisO3GyVJOvj8Qdxz4003EneTSKKLG743SNqSLjAHzm1QObVazTAMElVgUcAP/sbZxsu/e3l8fBwtLkp3aWnplVde+f3vf49WwTRNNEPT09MAfyL81Z+++l1XS5KEXHVCByUnDt9Q5YYzossuvwxbf/Lwk+yvuLbv2C4O3yHC5nieRxU5joPkB1vScAQ4hA0YhvHgAw8yxk6+dLI+UQduExXjzBPABpUHeA/DECvgJIZ4WwyCAKWFFCLFQOlKF6x9+9+8nYYOZBJ9pDv3H9rPGLv2A9ciUJAByGfcMDoEpaewmqqqX/2XrzLGZl+YNZqrKEAF7Ps+YJ/0YFEUnufBp5ZljbYHq2Mu2IYMwQB/9CKsH90NPo4ObPAl/SEIwtYrt4qi+Nyh5/6asF/7gWu5kfdjf/iDHzLGfvqzn0qTqy/WQutBCUFmMsZkWR4VVZgh+r4P32E1UKUIXB09Px+90pFXJ2EwwkWVTZEk8+jKsuzKq64k7ZYN3wxkw2JmQ4VJvth27bann3qaMfbgPz/obfDCMDRNE7ECx+A8AvZg2kDtOGa2NDrEUA77FMGHMGbUpAsNZoyh25JGXqGQhu/v8sNXqWGVOHxBib6hnmvUSPz7zsveiYbzwOEDjLGdN+x0Go7jOJVKBf0HeCiKIowLUFZYBB6k4gSYodpRIFmW/S+raVZEYoJEqQAAAABJRU5ErkJggg==\" style=\"width:300px;\"/></td>\n",
       "    </tr>\n",
       "    <tr>\n",
       "      <th>118551</th>\n",
       "      <td>0.907194</td>\n",
       "      <td><img src=\"data:image/png;base64,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\" style=\"width:300px;\"/></td>\n",
       "    </tr>\n",
       "  </tbody>\n",
       "</table>"
      ],
      "text/plain": [
       "        Nuclei_AreaShape_Solidity          Image_FileName_OrigDNA\n",
       "147956                   0.907194  r14c11f05p01-ch5sk1fk1fl1.tiff\n",
       "118551                   0.907194  r03c22f07p01-ch6sk1fk1fl1.tiff"
      ]
     },
     "execution_count": 13,
     "metadata": {},
     "output_type": "execute_result"
    }
   ],
   "source": [
    "# Find low nuclei solidity outliers for the current plate\n",
    "solidity_nuclei_outliers = find_outliers(\n",
    "    df=filtered_plate_df,\n",
    "    metadata_columns=metadata_columns,\n",
    "    feature_thresholds={\n",
    "        \"Nuclei_AreaShape_Solidity\": -1.6, # Set at this point where it looks like it starts to detect good quality nuclei\n",
    "    },\n",
    ")\n",
    "\n",
    "# MUST SET DATA AS DATAFRAME FOR OUTLINE DIR TO WORK\n",
    "solidity_nuclei_outliers_cdf = CytoDataFrame(\n",
    "    data=pd.DataFrame(solidity_nuclei_outliers),\n",
    "    data_outline_context_dir=f\"../2.feature_extraction/sqlite_outputs/{plate_id}/outlines\",\n",
    "    segmentation_file_regex=outline_to_orig_mapping,\n",
    ")[\n",
    "    [\n",
    "        \"Nuclei_AreaShape_Solidity\",\n",
    "        \"Image_FileName_OrigDNA\",\n",
    "    ]\n",
    "]\n",
    "\n",
    "\n",
    "print(solidity_nuclei_outliers_cdf.shape)\n",
    "solidity_nuclei_outliers_cdf.sort_values(\n",
    "    by=\"Nuclei_AreaShape_Solidity\", ascending=False\n",
    ").head(2)"
   ]
  },
  {
   "cell_type": "code",
   "execution_count": 14,
   "id": "64ff6624",
   "metadata": {
    "execution": {
     "iopub.execute_input": "2025-03-25T20:54:35.640935Z",
     "iopub.status.busy": "2025-03-25T20:54:35.640710Z",
     "iopub.status.idle": "2025-03-25T20:54:36.049305Z",
     "shell.execute_reply": "2025-03-25T20:54:36.048881Z"
    },
    "papermill": {
     "duration": 0.419745,
     "end_time": "2025-03-25T20:54:36.049987",
     "exception": false,
     "start_time": "2025-03-25T20:54:35.630242",
     "status": "completed"
    },
    "tags": []
   },
   "outputs": [
    {
     "data": {
      "text/html": [
       "<table border=\"1\" class=\"dataframe\">\n",
       "  <thead>\n",
       "    <tr style=\"text-align: right;\">\n",
       "      <th></th>\n",
       "      <th>Nuclei_AreaShape_Solidity</th>\n",
       "      <th>Image_FileName_OrigDNA</th>\n",
       "    </tr>\n",
       "  </thead>\n",
       "  <tbody>\n",
       "    <tr>\n",
       "      <th>16065</th>\n",
       "      <td>0.889362</td>\n",
       "      <td><img src=\"data:image/png;base64,iVBORw0KGgoAAAANSUhEUgAAABoAAAAdCAIAAAA7LeshAAAEPklEQVR4nF1V2U4cRxQ9tfTCAPI3mIGBsG8zA3YeDERmiYkcOX8XsGS/xFL8GD/GASsOlgUYYrHFwCdYRmNmpujqqjwcKFquh9F0ddW55557z21RrVYBeO/zPHfO7e/t91X6sixzznnvxc2SUkopTz+dAujt6/U3i6+UUifHJ+MT41opxRdKKefcxOTEh/8+lHvLjCGlFEKcn50DADAxOeG93/u0x8fevl7CnRyfjI2P6UiLer3Oa1JKAFmWtdvtj/9+JOLZ6RmAsfGxNE3TNFVKCSHyPDfGNJvN/b194o6MjkRRlCSJBkC2pJnnuVJqcGjw8PQQwOjYaBRFUUeUpmlHR4fWWmsthDDGxHE8OTW5u7MLQCmltY6iSGutyUsIQWgpZRRFDNvd3R1FkVLq+qjWSZJoreM4llJubmwCGJ8Yv4UjL17O8zyQ5Q4ZKaWklOEPU06ShGeIcP023PTeO+ecc1LKOI65yUNkxyWl9N4z6uLSIoCd7R2GuV4ECrVXSr39+y2Ah4sPKUI4yWuMTdDZe7MAtv7ZYnhZzI4l5rul5SXeZCSeDl3GfLlfn6kD2PhrA4BmdkII55wQ4t3WOwDLK8tKK25y5XnOPAJZIpJEEFEGyZxzzHFpeYlHg2TMkW30jVXI8f739wG8+uOVZARrbZZlIaOgo5QySZIkSQjqvaf/QksxRp7n8wvzADQzyvOcks3Nz4kOUUQMncRN55y1lujsWcYwxgDQFJtpzszOiJJgmsXuCZUlKV5ht2utCUcFtXPuzeYbANPVaZWo0ArhflGBol7eezqBLqYCmgWemp7y8MFq3wwf5hU2A1wI5pw7OjwCIKu1KjvbFVax0UIR6VmyoyOttcQ9Ojyq9Ff6B/oFPAAMjwwrpZIk6ezsZB2ZSDApF9MnkDHmxW8vGLXSX7lOFsDAdwMWNjRkkU5wC5ucvLgTsIJE13DHR8cABocGg42YV+je4nzl4/NnzwEs/LBwcXHRarUOjg8q/RXvvS73linw4elhtVYNoyZ4iO4pEnm6/hTA6k+rF9mFtRbA0PDQwckBAM3ncDOMjaKNQgMLIdbX1gE8/vnxZfvSWstpJqWs1WtSSh1GJjUO8gUupOmcW/t1jZuPVh81Wo12u53nOYsWxzGntGRFvPc95Z7dnV1jDHuSGtF/RayVH1cajUaj0TDGOOe01qVSqbu7u6ur686dOzoUlDQvLy85iikoESn8k1+eNJvNr5dfm82mtVYIwYrFcZymaRzHSikdNPbe3+25u32+XavXnHNpmlprlVIvf38JYHll+XP7szHm6uqKs+f2+3DTUkIIXTSmc66n3PP+7P3k1GSpVIrj+PWfrwE8mHvwxXwxxtAGxCr6L0ydW3YofAFarRY/oABm7822fdtaG8xX9EnRLd57HfqDv6wp/QxgZnZGacVZlGUZQYUQnNLhG03dnXP/A1bqxStqUdOYAAAAAElFTkSuQmCC\" style=\"width:300px;\"/></td>\n",
       "    </tr>\n",
       "    <tr>\n",
       "      <th>196682</th>\n",
       "      <td>0.894118</td>\n",
       "      <td><img src=\"data:image/png;base64,iVBORw0KGgoAAAANSUhEUgAAABgAAAAXCAIAAACeQxh6AAAD/0lEQVR4nG1UT08bRxx9M7Mzs16vDRiMgnrsN+AjpAqV0mMqQdqUKFDAFKJCbnUkpKY5peklQPmTigIBKb0XqYQ04atwhQPIa6+9ntmZHn7U5dA52ev1m/d7v/ceGx0d5ZxzzqWUQRBIKd+fvMeNc/eLu3mee+8ZY5xzxlie591u1xiTZVmWZQA450EQBJxzIYSU8vTjKYCp6alSqSSlNMYkSbJztIP/O2OfjzHGADjn8jwPhBCEd/rxdHxifHh4+Nant0qlknOu0Wgwxqamp6y1QgillFLKe59lWZqmh8eHd8bueO+NMQCu6SilAFQqlWq12t/fH4Yh8ddah2HovS8UClEU0VxpmnrvASiljDF5nvPr2YLg5N3JzOxMtVqN41gIQeTpba11HMflcjmO40KhEIZhuVweGBiYmZ05+vNISnk9k1Lq5N3J9LfTI5+MDA4Oaq2dc8YYYwxNRFxKpRJjrNvtSim992EY0mU0kHOOwaM2XxsaGqpWqwMDAwA6nQ4AY0yr1Wq320KIvr6+UqlkrU3T1FpLZK+urs7Ozvb39m9/dtsYwwFsbmxGUVQsFguFglJKSkmbVkoVi0V6rrWWUmqt6QMJorW+9+W9D39/iKKI15/WAdR/qPf+D4CMo5TSWhM0+UNrTTJ57733xWKxXC7f/+r+8V/HvFwub21vAXg4+dBaS07LbxznHKkupSQHkChCiEqlMjIyUq1WAXCtNed8b38PwMT4BHHx3ltrsywjUO89WaQ3mpSyWCxWKpXBwcH+/n4AnBzknNvd2yVe3nvnHBERQlBuCILGpK9xHIdhGEXRsx+fAfhPEc75m4M3AGpzNWutc05rTUpLKTnnFDcSK4oi2sx8bR7A6toqvykEY2zn9x0AT5af9C5XSjHGyFl0JQAhBGNs8ptJAAeHB1EUBcYYosMYY4zRewCCIOj9hwJFv1JK8jx/8PUDAG//eMskA8ApEMQoz3Nr7dr6GoCF7xacc+S9PM+zLGu1WkmSNJvNdrtNKLt7uySCEOIayFpLu+92u865V6uvACwuLBpj6GGaps1ms9lsNhqNdrtNrK21NC8A3m63m81mkiRpmhIKKbr+6zqAudk5wqIOo/tqczUAr3977f89nHNObFutVqPRoJRROAqFwsbmBoDZmdmeoRhjy0vLADa3NklWalfGGCfLUNdRICkHpPGLn18AeLz4OEmSTqez9P0SgLX1NdrMTa+zlZUV2kUYhkopSi/1LKmbJMnzn573GvblLy8petR5WusgCBhj11XbY0gFQhHpdDpJkpyfn/dQ6k/riUzI4r25iEfgvaf+J9dQq9EGLy8vLy4utre2CeXR1KMkTqSU3W6XSpb2QKP9AwVPiRF6sVVuAAAAAElFTkSuQmCC\" style=\"width:300px;\"/></td>\n",
       "    </tr>\n",
       "  </tbody>\n",
       "</table>"
      ],
      "text/plain": [
       "        Nuclei_AreaShape_Solidity          Image_FileName_OrigDNA\n",
       "16065                    0.889362  r04c20f08p01-ch6sk1fk1fl1.tiff\n",
       "196682                   0.894118  r14c08f05p01-ch5sk1fk1fl1.tiff"
      ]
     },
     "execution_count": 14,
     "metadata": {},
     "output_type": "execute_result"
    }
   ],
   "source": [
    "solidity_nuclei_outliers_cdf.sample(n=2, random_state=0)"
   ]
  },
  {
   "cell_type": "markdown",
   "id": "de690a6a",
   "metadata": {
    "papermill": {
     "duration": 0.012993,
     "end_time": "2025-03-25T20:54:36.075477",
     "exception": false,
     "start_time": "2025-03-25T20:54:36.062484",
     "status": "completed"
    },
    "tags": []
   },
   "source": [
    "### Plot the outliers"
   ]
  },
  {
   "cell_type": "code",
   "execution_count": 15,
   "id": "968ccb6d",
   "metadata": {
    "execution": {
     "iopub.execute_input": "2025-03-25T20:54:36.100337Z",
     "iopub.status.busy": "2025-03-25T20:54:36.100083Z",
     "iopub.status.idle": "2025-03-25T20:54:47.719981Z",
     "shell.execute_reply": "2025-03-25T20:54:47.719374Z"
    },
    "papermill": {
     "duration": 11.632708,
     "end_time": "2025-03-25T20:54:47.721530",
     "exception": false,
     "start_time": "2025-03-25T20:54:36.088822",
     "status": "completed"
    },
    "tags": []
   },
   "outputs": [],
   "source": [
    "# Save low nuclei solidity histogram\n",
    "plot_nuclei_solidity_histogram(\n",
    "    plate_df=plate_df,\n",
    "    outliers_df=solidity_nuclei_outliers,\n",
    "    plate_name=plate_id,\n",
    "    qc_fig_dir=qc_fig_dir,\n",
    ")"
   ]
  },
  {
   "cell_type": "markdown",
   "id": "3309de2f",
   "metadata": {
    "papermill": {
     "duration": 0.008317,
     "end_time": "2025-03-25T20:54:47.739240",
     "exception": false,
     "start_time": "2025-03-25T20:54:47.730923",
     "status": "completed"
    },
    "tags": []
   },
   "source": [
    "## Detect cells that contain multiple nuclei due to segmentation issues\n",
    "\n",
    "When CellProfiler segments a cluster of nuclei and decides that it is over the diameter range as specified in the parameters, it will not include that segmentation when segmenting whole cells. \n",
    "This can lead to a whole cell segmentation based on one nuclei including the adjacent nuclei that was not included as a segmentation.\n",
    "\n",
    "This description requires prior knowledge of the `IdentifyPrimaryObjects` and `IdentifySecondaryObjects` modules.\n",
    "\n",
    "As a metaphor, we can think of it as three apples on a plate.\n",
    "One apple is detected correctly as one apple, but the other two were two close together, detected as one apple, and then removed from the plate because of it.\n",
    "Now, it looks like the whole plate belongs to the one correct apple, but in reality the plate should be split between three apples.\n",
    "This is the problem we want to avoid for a single-cell segmentation, we don't want to have a whole cell segmentation be assigned to one nuclei when it actually contains multiple nuclei.\n"
   ]
  },
  {
   "cell_type": "code",
   "execution_count": 16,
   "id": "f2cf3a03",
   "metadata": {
    "execution": {
     "iopub.execute_input": "2025-03-25T20:54:47.761798Z",
     "iopub.status.busy": "2025-03-25T20:54:47.761100Z",
     "iopub.status.idle": "2025-03-25T20:54:50.220577Z",
     "shell.execute_reply": "2025-03-25T20:54:50.220042Z"
    },
    "papermill": {
     "duration": 2.47374,
     "end_time": "2025-03-25T20:54:50.221559",
     "exception": false,
     "start_time": "2025-03-25T20:54:47.747819",
     "status": "completed"
    },
    "tags": []
   },
   "outputs": [
    {
     "data": {
      "text/plain": [
       "('CellsOutlines_BR00143978_J16_7.tiff',\n",
       " 'r10c16f07p(\\\\d{2})-ch\\\\d+sk\\\\d+fk\\\\d+fl\\\\d+\\\\.tiff')"
      ]
     },
     "execution_count": 16,
     "metadata": {},
     "output_type": "execute_result"
    }
   ],
   "source": [
    "# change compartment to cells\n",
    "compartment = \"Cells\"\n",
    "\n",
    "# metadata columns to include in output data frame\n",
    "metadata_columns = [\n",
    "    \"Image_Metadata_Plate\",\n",
    "    \"Image_Metadata_Well\",\n",
    "    \"Image_Metadata_Site\",\n",
    "    f\"Metadata_{compartment}_Location_Center_X\",\n",
    "    f\"Metadata_{compartment}_Location_Center_Y\",\n",
    "    \"Image_FileName_OrigDNA\",\n",
    "    \"Image_FileName_OrigAGP\",\n",
    "    \"Image_PathName_OrigDNA\",\n",
    "    \"Image_PathName_OrigAGP\",\n",
    "    f\"{compartment}_AreaShape_BoundingBoxMaximum_X\",\n",
    "    f\"{compartment}_AreaShape_BoundingBoxMaximum_Y\",\n",
    "    f\"{compartment}_AreaShape_BoundingBoxMinimum_X\",\n",
    "    f\"{compartment}_AreaShape_BoundingBoxMinimum_Y\",\n",
    "]\n",
    "\n",
    "# create an outline and orig mapping dictionary to map original images to outlines\n",
    "# note: we turn off formatting here to avoid the key-value pairing definition\n",
    "# from being reformatted by black, which is normally preferred.\n",
    "# fmt: off\n",
    "outline_to_orig_mapping = {\n",
    "    rf\"{compartment}Outlines_{record['Image_Metadata_Plate']}_{record['Image_Metadata_Well']}_{record['Image_Metadata_Site']}.tiff\": \n",
    "    rf\"r{int(record['Image_Metadata_Row']):02d}c{int(record['Image_Metadata_Col']):02d}f{int(record['Image_Metadata_Site']):02d}p(\\d{{2}})-ch\\d+sk\\d+fk\\d+fl\\d+\\.tiff\"\n",
    "    for record in plate_df[\n",
    "        [\n",
    "            \"Image_Metadata_Plate\",\n",
    "            \"Image_Metadata_Well\",\n",
    "            \"Image_Metadata_Site\",\n",
    "            \"Image_Metadata_Row\",\n",
    "            \"Image_Metadata_Col\",\n",
    "        ]\n",
    "    ].to_dict(orient=\"records\")\n",
    "}\n",
    "# fmt: on\n",
    "\n",
    "next(iter(outline_to_orig_mapping.items()))"
   ]
  },
  {
   "cell_type": "markdown",
   "id": "aca03cd3",
   "metadata": {
    "papermill": {
     "duration": 0.0083,
     "end_time": "2025-03-25T20:54:50.238516",
     "exception": false,
     "start_time": "2025-03-25T20:54:50.230216",
     "status": "completed"
    },
    "tags": []
   },
   "source": [
    "### Filter down plate data to detect cells outliers (improves speed)"
   ]
  },
  {
   "cell_type": "code",
   "execution_count": 17,
   "id": "80f8d1a9",
   "metadata": {
    "execution": {
     "iopub.execute_input": "2025-03-25T20:54:50.260531Z",
     "iopub.status.busy": "2025-03-25T20:54:50.260363Z",
     "iopub.status.idle": "2025-03-25T20:54:50.268340Z",
     "shell.execute_reply": "2025-03-25T20:54:50.267839Z"
    },
    "papermill": {
     "duration": 0.020409,
     "end_time": "2025-03-25T20:54:50.269304",
     "exception": false,
     "start_time": "2025-03-25T20:54:50.248895",
     "status": "completed"
    },
    "tags": []
   },
   "outputs": [],
   "source": [
    "# Define the QC features\n",
    "qc_features = [\n",
    "    \"Cells_Intensity_IntegratedIntensity_CorrDNA\"\n",
    "]\n",
    "\n",
    "# Filter plate_df to only include metadata columns and QC features\n",
    "filtered_plate_df = plate_df[metadata_columns + qc_features]"
   ]
  },
  {
   "cell_type": "markdown",
   "id": "044a2e19",
   "metadata": {
    "papermill": {
     "duration": 0.008061,
     "end_time": "2025-03-25T20:54:50.285714",
     "exception": false,
     "start_time": "2025-03-25T20:54:50.277653",
     "status": "completed"
    },
    "tags": []
   },
   "source": [
    "### Detect cell outliers"
   ]
  },
  {
   "cell_type": "code",
   "execution_count": 18,
   "id": "d197b094",
   "metadata": {
    "execution": {
     "iopub.execute_input": "2025-03-25T20:54:50.308450Z",
     "iopub.status.busy": "2025-03-25T20:54:50.308132Z",
     "iopub.status.idle": "2025-03-25T20:54:58.321403Z",
     "shell.execute_reply": "2025-03-25T20:54:58.320959Z"
    },
    "papermill": {
     "duration": 8.0251,
     "end_time": "2025-03-25T20:54:58.322471",
     "exception": false,
     "start_time": "2025-03-25T20:54:50.297371",
     "status": "completed"
    },
    "tags": []
   },
   "outputs": [
    {
     "name": "stdout",
     "output_type": "stream",
     "text": [
      "Number of outliers: 38685 (8.31%)\n",
      "Outliers Range:\n",
      "Cells_Intensity_IntegratedIntensity_CorrDNA Min: 182.61445618327707\n",
      "Cells_Intensity_IntegratedIntensity_CorrDNA Max: 28523.00332725048\n"
     ]
    },
    {
     "name": "stdout",
     "output_type": "stream",
     "text": [
      "(38685, 2)\n"
     ]
    },
    {
     "data": {
      "text/html": [
       "<table border=\"1\" class=\"dataframe\">\n",
       "  <thead>\n",
       "    <tr style=\"text-align: right;\">\n",
       "      <th></th>\n",
       "      <th>Cells_Intensity_IntegratedIntensity_CorrDNA</th>\n",
       "      <th>Image_FileName_OrigDNA</th>\n",
       "    </tr>\n",
       "  </thead>\n",
       "  <tbody>\n",
       "    <tr>\n",
       "      <th>183883</th>\n",
       "      <td>182.614456</td>\n",
       "      <td><img src=\"data:image/png;base64,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\" style=\"width:300px;\"/></td>\n",
       "    </tr>\n",
       "    <tr>\n",
       "      <th>265871</th>\n",
       "      <td>182.617558</td>\n",
       "      <td><img src=\"data:image/png;base64,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\" style=\"width:300px;\"/></td>\n",
       "    </tr>\n",
       "  </tbody>\n",
       "</table>"
      ],
      "text/plain": [
       "        Cells_Intensity_IntegratedIntensity_CorrDNA  \\\n",
       "183883                                   182.614456   \n",
       "265871                                   182.617558   \n",
       "\n",
       "                Image_FileName_OrigDNA  \n",
       "183883  r14c07f07p01-ch5sk1fk1fl1.tiff  \n",
       "265871  r06c07f02p01-ch5sk1fk1fl1.tiff  "
      ]
     },
     "execution_count": 18,
     "metadata": {},
     "output_type": "execute_result"
    }
   ],
   "source": [
    "# Find cell outliers for the current plate\n",
    "cell_outliers = find_outliers(\n",
    "    df=filtered_plate_df,\n",
    "    metadata_columns=metadata_columns,\n",
    "    feature_thresholds={\n",
    "        # Set low to attempt to detect all instances of abnormally high int in nuclei for whole cells\n",
    "        \"Cells_Intensity_IntegratedIntensity_CorrDNA\": 0.5, \n",
    "    },\n",
    ")\n",
    "\n",
    "# MUST SET DATA AS DATAFRAME FOR OUTLINE DIR TO WORK\n",
    "cell_outliers_cdf = CytoDataFrame(\n",
    "    data=pd.DataFrame(cell_outliers),\n",
    "    data_outline_context_dir=f\"../2.feature_extraction/sqlite_outputs/{plate_id}/outlines\",\n",
    "    segmentation_file_regex=outline_to_orig_mapping,\n",
    ")[\n",
    "    [\n",
    "        \"Cells_Intensity_IntegratedIntensity_CorrDNA\",\n",
    "        \"Image_FileName_OrigDNA\",\n",
    "    ]\n",
    "]\n",
    "\n",
    "\n",
    "print(cell_outliers_cdf.shape)\n",
    "cell_outliers_cdf.sort_values(\n",
    "    by=\"Cells_Intensity_IntegratedIntensity_CorrDNA\", ascending=True\n",
    ").head(2)"
   ]
  },
  {
   "cell_type": "code",
   "execution_count": 19,
   "id": "54053967",
   "metadata": {
    "execution": {
     "iopub.execute_input": "2025-03-25T20:54:58.342322Z",
     "iopub.status.busy": "2025-03-25T20:54:58.342114Z",
     "iopub.status.idle": "2025-03-25T20:54:58.804229Z",
     "shell.execute_reply": "2025-03-25T20:54:58.803697Z"
    },
    "papermill": {
     "duration": 0.473597,
     "end_time": "2025-03-25T20:54:58.805344",
     "exception": false,
     "start_time": "2025-03-25T20:54:58.331747",
     "status": "completed"
    },
    "tags": []
   },
   "outputs": [
    {
     "data": {
      "text/html": [
       "<table border=\"1\" class=\"dataframe\">\n",
       "  <thead>\n",
       "    <tr style=\"text-align: right;\">\n",
       "      <th></th>\n",
       "      <th>Cells_Intensity_IntegratedIntensity_CorrDNA</th>\n",
       "      <th>Image_FileName_OrigDNA</th>\n",
       "    </tr>\n",
       "  </thead>\n",
       "  <tbody>\n",
       "    <tr>\n",
       "      <th>63402</th>\n",
       "      <td>192.944633</td>\n",
       "      <td><img src=\"data:image/png;base64,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\" style=\"width:300px;\"/></td>\n",
       "    </tr>\n",
       "    <tr>\n",
       "      <th>372428</th>\n",
       "      <td>231.436799</td>\n",
       "      <td><img src=\"data:image/png;base64,iVBORw0KGgoAAAANSUhEUgAAAFQAAABNCAIAAAC30NTFAAAYgUlEQVR4nI1cS2xc13n+73NeHJIiOYREGaIE0YhUSIllyZKpZ2QrcbqIX12kQLyI7dZZxF1UWTZIF80urbvKOt3EdVIgRhA0aIBAshTZjPWwlIiIBJhELcGmA7GKODOcO3PfXXxzPv5zh3J8FsLVzJ1zz//6/u//z7m0du3aZVlWHMee58lnDs/z4jj+i3daluW6LuYcnkFEhj8vfLW8tLxjdgc+930fH+K5uOaFXkxhWt4pIqv3VkWkMd2I43jtwVpjuoF7bM/z8jx3XTfP88Jq8EvPDD3dw7QjIq7rigjmLEzC25aXlod/fvvWbV7fvXMXF5gniiLOo59VEHXT9WM0phur91bXHqyNbxmHLkTE2rVrF+/mFJZlQYwkSThFEARaC5+hCH0PZxuWc8/ePVpg/nf33G4RWV5a3j23uzBPFEWWZW1q7U0dil8Vlr16b3X7I9vdTcWgFwx7BD3tYQ+jiXgDZkA4iMjizcV9+/eJyOKtxX379yVJggclkuzZu0dExDO6WOqrBlrAPHqpBZE2tb8OjYKY1q5duz6nAbFKfTOE0SNJEnw4bG2MxZuLh544NPyTJEl6vZ4Yd+O3RAH8d8fsDkbE7M5ZeYjxNw0KamH13urM9hkRcT3Pw3L1I7ECeoueK8/zYfn1b/VtN67fKHx+8tRJd7SvsizLKH8cx5ykIL+YQIjj+O6du7vndgNN73x0Z3bnrHZDvdphhIK3i0hjugHncrWHi7IDZSisvqBUmlpP4rqu67rXrl47fOSwiDhmlEql8njZ8zzHcfDbNE3TNI2iKIqiPM+jKBpeA5/reR60wCdGUeT7/vDyHoYFgD3qpei3nFdfUAUP8/nCr65dvSYix08cdyqO67q2bTuO4/t+tVotl8u+71uWlWVZHMdpmiZJEkVREARwBPxLIKAPFsTDgyi5hsDhZAyP0GbvT7JpDqMwhbCHM2P2QsDDmI7jLLy3cOrLp1zX9Ub6OdKyLJi9Wq1WKhXP87Isg82TJEmSJAxD27ZFxLbtMAzFeD6Nj8cVcGTP3j23P+oj4t6/2vvZAIzRmG4MiDkcw3hkHMeVSgVpFn6oVa5l9n3fcfoWhgz1ep3sAB86jlOpVCA8zI4ByR3HgWCYJ4oiYLu2P55bqVS0ruePzuOJ7/7x3cNHDmdZFoYhPAWD7uB53sz2mZV7K2A4G5bH10jpWtkFtUFNeKqYSIYb//p/fs3bvvnSN50JBwJjZVh6pVIZGRkplUoikqZplmV5nmdZBq3ht1ABIkJEcLPv+1Ci4zhYj20Gf/Lc88/94v1fcA0HHj/QbrdlM9hbvbdKhjeQ54fD2HEcmB0AS9/Ggij2K6++UiqV+nrZ0l8QRYLTwvKQByrO8zxNU8uyoAviXxzHWZZhSXgQ1AdXgtIty7IsK8/zPM9t287z/OVXXobW3vzJm41Gw/O8drsdBIG2P+Wf2T4Tx/GGtJSfnu+6LmHZUcPzvFKpVKlU3v7526/+3auVSqU8US6VStAR1gSvxjWcuVqtjoyM+L7Pb7HWLMuiKEqSpFQqAVnhYnmeW5blmwFd4188CJCBwIS/YObvvP6dH/36RxAKWKBDQI+/jORaC77vX3jnAj9//R9er0xUarVauVwmqhPPGNW2bXueB6iHhDQyHAruAANCffzE87yyGRC7VCpBNVEUhWEINIULgESmaXr2u2dXVlbe+s+3yuVygfkg2618stKYbvRjnpEsppYo/NdxnEu/vSQiL7z4wtjYWLVardVqI40RSo4Ih5FhByRwRI3rur7vc92cHO4NUWE3CAPXQ44YGRmp1Wq1Wg3agQps2wY74LPgYpVKJY7jbrdbrVa//uzXf/nBL/EgULqijbHcAlfBg+FXEAzaefFvXhwdG63X62NjY2NjY/V6vVQqMUshIG3bpk86jgNIg/BwV/gCzIXPaXDbtoH29PlKpVKv1+v1OtgB78myjIoGNca0eC58p1KpnH7q9NraWrvdXvpkCSooCo9V0uBUBD9xHOfCOxeefe7Z2litWq3W6/XJycnR0VFaEkth2oNjw4aIGkgLhVJyWBLfAhHDMOz1erAnMbJSqTCsMODzWZbZtg2zi0ErOAKijwDped7co3NxHMcyEPx92Qo4f+m3l56cfxI2R5B/7a+/VqqXMLAgWBK6w5oAyEjjEBsGZNpDZDK8AVEwI/ylVquB2yCJAucJtERTBAVTHbMPUnWWZQQIPFdLF8fxzPaZlU9WVu+tusOVmYgcP3H80sIlETn15VMicuYrZ9yyi2SGlIulI9KwDixCkzCGg5hsDGvzAvdDQTAAmRydCKiJGXANKIEHwc8R6rwf07L7AEoKFlPA/KLkTOzHjh9799K7F965cOz4MakIaYaIIBWDmZOioAQAgDPrQCl6ciZnCEnZAOOwNsyFabFu5A5MQtoLYo8mD6yCaMJFq9Ui1uhsjzmB+f1UpzFP+8Kx48cwBZ0WkoOTUtMMYLo34pBmZ6xqLTAdEp/gXJScpmY7hJiHRCCGcRE44fY6xTBPx3EcBIEowHcLkuvIx9QkanBXDEwEd8BT6clYJbkNVMDP8RU1BR+xbRsUgKiGO/lbCk+dIhfA7dHYQlEEv+j1eggHUuPhxgRkHLA2E6yInH7q9PkL508/dVoLL4Z7M9oprW3bZKZYPfM2Q53yEwXwOGIbbctSB2rihJ7nQWAkP/gzLpAsgiCAhckIyGKggpVPVvrCk7GdPHVSFNtxHOf8uQHJsRqWorZtk/aCZtJEeB6rFzow5dFlj5h0QwkhPOfBJ1gYJ9TTxnEcRVGv1+NFmqaghkBBZqKlD5cEJT3dvjAuXri4oQ5HyHAgISIK68MK8F+inYZcrFKDDUO6YGe6On5FmGQeIVjSB9EFgfBhGAJfXdctl8sMQzHEMUmSpQ+XZnfOxnEsXr/IcfWyROT8ufNwAQzEmBgKicKOCwUC0wgEKtxAqgeb81e0AxIEY0HfwwVgQi28ZcpeACFRg6IC6lAvgflxtgLm94U/85Uzvzn3GxE5dvyYbNB8AWzEcQwPxAXVQXqXm6YyiSeBmgLAFQljiEaqj7wIQyOCDgStF10d4hO0RjqdTqfTaTabKGkRDgWeM2D5NE0R3qmTarG5IJIqy1SshW4U0I4shUHBbA8jQy8FGXgnCQ/tTwemhGJ8nsU/e4FBEKytrQVBAOEfPHiwvr7e7XZ1R2yA3p5+6vT5c+eJbQAqGRzULrMoy1XST7oGm4qgYmSXyDfwT/AQciHIrFODFh6PBqBQichnnU4H8BZFUafTWVtbazab+LDdbrdarSAIoKNbf7w1u3M2lhjPAuwXAQ+Sa/nRHoZSwjCEwQEzZLsU3vd9PCzLMrQlHdWf831fxyr5P32KUEJCRQszHPB0uHcQBLBqu91ut9sQvtvtBmaEYYiyeu7RuaWPlrbNbBPV8Hbp2PBzXNP+w//CDgh+iGpZFslJqgY7BTpvodIOw7BWq5GBiAlmAiTzCOgtocEyPW+YHS4dhmG73W42m61Wq91udzodJPwwDLvdLmJ+eWl5dudsJBHcHj3SActrg8O12NIi8vEe7bH4lvQecQibM43hX9d1gyBYX18fGRlBO4AdK5J8+AimBWsiTcD86PMTzLrdbqvVWl9fJ8JhpGmKG7TAurxxhyN8Aw9cV/sCLxzTxoQjuGZzDoOWJ0tjHhKD86VSCbCESkZU6kKiYo9E1K4WbA5fQA8L/3Y6nfX1dS12p9MpSC5DO6u+729Ccih5wRfg54Ar/t42rSuCPBeK31IjurZHBg6CABamEwHY0bGk1jT4YR54JYIC0sKqCBmonpLHcfzpyqdTjSkt/yYkh32rgiLQM4WLYkEsITVFE1PAMXVBfqwVgQAuDMggySOkYzbkSz6oAAr4nCUWaz4EC1SGTAQJIXk8dJJDCoAnqpgTE+ee5wGcYF4IwHxO1i2GzJCEMSOS5EHObreL5O+YTQgQZ+ICcweJHRku62uqG5+jFi6VSig38dAkSZaXlrfNbIslFrVRvSE8r1jY478s7wBLjmoVsQ6x1aBsnI05D0okQRbTDoFPYZX4FeOC3AEOgsqcec5SWwNYs2VZ5XJZRMAsMOfl9y/vmN0ByWXwTFE/zzOqXbM3qIvccrkMUdlmgQpYKhUImQ5ydmDSNEVSRAViWRaSECK/wILFgCL0C1ohJlPCpVE+QrnsI4A7U3IotFqtNpvNQgjzwj1/7ryI6NJV38dox7YBmi1YFrulDEJ6QZ7nQCDCGBkL+CbbrAQq/VzHNEURw6yUiYswPhkhF8MHbdAY1/UGW3ee2szecHv6Hi7YrkSvFm2mWq0G4TWr1W5Pm5RKJVjeMmWcZVndbtf3/Xa77Zj2Nu5BZUrJxVRB1J0oks+uIZOLM9gs4fKeevqpczfP7Zjdwc3Ygmk3IhwOz3rGtm3a2fM8SM7TBY5qSNiqS0kchjOT/CEpdjod9tXEpIPEnMbBo5lKoX1H9QVENrZAITk7C5o186FQ6HDTlnDTFx4NSdhcd7JcNXzfL5fL9XqdvSGKTajjBRk7f0skY2GLbByGoe/7aMIy0ODJSHv0aurCNp0CMWwfmcVSo+DnND4ll007OaK4PSMKua1UKgECuAj9K+2fYrAAkoPDVioVqkNEut0uttbg5GjCeGYTmgHlDG6/0BfwLUPDUjU/2QfsV61WC33bAcvnqiFVrVaZzHQO54K4OEf1FZnkhs2OqbIsg/0heRiGrVar0+mg6hIR7gLRq8Wc3qPL6BCDwLootE3DG4nZ9/2Tp05evHkRx/gKzl+r1VwRmT86Tw8AXBF1SCfBq1lgarMwRii/ZWpY7aXUl4gAPgEfvu/XajVQFGiHYhDhdOYXtdvFao+ckriL7d08z+ePzi8sLWyb2aZJHkYR7ZHt4faIyXK5rGEZVTq5ENanl0tPsQcbckQH4j/sgxrGNRvvtioBZZD2aECB5ERW1pe22eR3HKdSqTDhk9gQAsbHxwe2ZakF1xwAQzPY9320MbAljlng7ciu8GpRRIUxojlfpg4tsApmOwSKoNtbplHpDh740PQmM1t3NL5rdsGgiFKpFEXR/NH5hTsL6GQQ8Mrl8gaZcwdPf+EBQCMwM/o5lhXHcalUQgiwpNN+bpvNlkwNzfw0KaI/QwX4lkjGWi0zZ/UYgGx4UEE0vm0OdmBjSwbpnW3bm6M9c16v12u1WraqzMWcnMQSgWep2XVPzKE1ljc0O0s3e7AQYHImmog5h0SajG1ZujdbiZC82+2ysGMYigFLaBPL0Fu3Fy9c3OTkLCYFq8eRQN2TFXOQLAzDMAwBWrZpTgIsdOIR042wzH5GAbEJVJAqDMPcHIRxTR+JpWs2dHoR9TwZPsE4H9wR05aHO8hwni+QXBgWSZIHAPF4hBOwALeRopDP4/NNkxOVyACGvlCWwblcc9ohN+ezctXG6Ha7aOZwWxKMWCdgeE232y3If+P6jedfeH7j+EmhuiDPS5KEP7bN9jObE2Q+JDM4OUTWmZvXODQ4owkH3yHQ5OqUArfA6VCu62q8xK8wD0sjwBDTKuortLd2z+1eXllGPwfDcRxXRK5eufrk/JOO2p8g+MMsYs4AdDodfOj7PjDGdV306plIiLTMlyQ5WDSa6miws7sKfaG8xwYLSzSNi8QOCg8XIJpwK0EMfW42m0EQoKuBk+Z379w9fuK4M+P0hfzdwu9EZPg1AM3zRQSNd9d1wcYoKqgBPknMUSQs1DHHchnS7XZ7dXV1bW0N9A7baY46FMa2B4EzN1s0iRq6Oc01czcxM3t1nU6nwO2E1Pv4ieO9Xu/qlatwgcJNBx4/QIaTmu49VBDHMWDDMi/kwLa2bQdBAATqEynTC0WntdVqNZtNFPZoaeBXdGm6NxdNa8PU3KJiOwAHuMgs8TjomsRWlzT9sg2zH3riUJIkwy9GXP/gOrXAUCH5w1yJOQAHuMrzPAzDZrOJisIzm5ncaej1ehAbuwvwedozNU1UuAPCgT5YIHZYEqqDdLD7mpiz48OsXky6dfUm7hf2fAEXNObizUWthfmj88h/OJMGPyfPwXKDILBMR6HX60FZ6OrAdGyto7sOMWgQAgRmI25Dtkzt6gJ06Y+kpLqA15KDqn668umevXvi6ThN0wFWqys+KBuvQXmeB+EX3luACsIwZP2jj4RDcXgT0LZtJG3WfLE5OdFutxGuOprYIISOPHOozlLtCjH0DtbGhIl6RWdYfhnq4Yg5EeXiC/xSczLCD6be/8X9InLzDzehgvmj81hKGIbVapUFL0yXmnatqH6miGB3AZFP0sZQKvBfKI4VISUk1UvMvk0ytP2sg/xPn/5JREbHRmF83IBnDRw5R7kigw1sTu15HlWw8N7CE4efgPBRFCEnoyxDCiCAaVIIs9Dg6OSKAdHYHBUT05+BDen5pDSgN1AlOQ8rDlFd6vv/d5+L19ZNuTWWmFNryCuUVhtf1G7EgccPXP/g+pXLVyC/KIBFqYN8k6utdagcMvNah5iIrK+v07EhOdpbVB/S2/r6OjankeQSszPDpogMhjoHFLFtZpuM9eV3Wa7nm70wNyw/LvZ/cf/NP9y8cvmKiFAFBAJncHszVQN+S2HcoR1B6C6KIrS0PHOuEp4CgWl8DXKQ3zIHDygtHP5+8z4upNZ3+ziOrVOnTtG3NQ93zBFChivzAqDRdV0mQsiP4km3Bhx1zkNLfvn9y7znS499iQ9lxxYvYXlm007MOVSkRhw/0Juw/JfO32q2RGRyarKQ5NGD3rJly9TUlPXMM8/QW0BaqtWqmCYUXQ574Pfv36eawFtd14X954/Os3LEeOf8O/L5xsFDB1PVO2NLi06UmjoSIYOAT5KEGIERmwOJ2uYySG/wet/ExMTExIT10ksviYGcarXK4kyX3PCutbW1jz/+uNls0lNwDD5NU8j/+ceJkyeGveCxA49hZt325E+IbfS+hxGYP9//MyXnt2xd4x2RarU6NjbmPvLII2z68ameOVeemLaBfnETu1+uGptK+NVnvkpLFohX6qdkioePHIb84Jd4kRrYpusrpnHOEw9tRXiDR2upNf4FAjFYGARBuVx2JycnwfI9z6Oz2bYN1AGGwcNFZGpqCqyW7z2Kce+nzzwtJuwF0e5ubIGyvYumAHqBRITDRw6HYfj7G78Xkdu3bsMFZDDRFoTXiU1UzBfk130rfbPnee122200GuBkYKzs5IGHsIuIe8rl8sTEBIrkZOgVYjaYKT/FI3YQR2h5znDw0EERuXb1Glxg3/59UHRB7HjwfXjt+VryQh9Nhz0ncbdu3YpPuW6AarfbtdS7a2yGj46Owh0gwK/++1eYrlKpQB50tfhUdKbZn+Q6NLxpXRw8dBDvIeNvDOj8ogmMpf4mh1aBlp98jlqITZncN9j4+LhlBhWWpqlljvuJOhgOOKhWq4iOt3/+Np/Es3rolqamFemajTpd1aMvmpgXJhzHicwQkSNPHgnD8Mb1G4s3FwEB7tAb5RTgYRxeXxfeNAd9iuPYRWIjhYRSiavsBOfmRLlttt+oVwwaEBBIHEGwYIcfYYLTkuVymWfmRJ2oAQV0HOexA4/duH7j9q3bc4/OicGXYZCTwTH8iZg/uULApxO5JL252vTKzI4v2wNszqDG8n3/zZ+8KSLf+Ntv/PStn+IBUBA3ZLEPVavV8GIcantQhgcPHgBlfN/HmUnHbOZBciwa8i99uDT36FxiNl4KIMfhDW1FF74VhRf9t9cKXWQxJ+RTtUuL+oTNhjf+7Q3c+a2Xv5WX+78CzsfmZCZYw/j4eKPRmJycHBkZAc5nWYbNWc9sRRfsBhQgEO7bv2/x5iJeEti5a+ewGDKYzDeVn1Ys/HajtYgBJCfUc+fQMuchf/AvP8CMZ797Nt+y0RKvVqswnWNelZ+ampqenm40GiMjI4AJEUnTFNDITls8eCyFHBlnhkX9CZmP/vejggqG3cHzvJ70RKTX7YlIuVLe1AUwXEJaqo51EoRJ+FA/fu+fvici3//n7zuOY41vnJ+D8CChjuOAPG/dunV6erper/PlIVHwTl2jjUfmz6PLjnl/Sgzz0SrQY2JygtftVlt/BRVgkO1iRFHkpqptCGLDtznFvO4GXn32H8+KyBv//obX8DxzYPi1v39NRH74rz+MR+I4jiF8vV6fmpqanJwcHx+HnVkyAQ5wwgNb9O12GzEPRWvJ9XkRGfqjQhzgs/XROiWvj9aHdYFSRw8XBDY3hyTRgWRDCkERBMG3X/u2iPz4P35c39F/q9S27TNPnxGRn/3XzzpTHWxCoBs1NjY2Pj4Om3vmEAoGKUC5XK7VauPj4zgY76q/K5KZPdz+Es2fFsJ/d+7aqYlNkiQQflhyz/N4bVnWsPD/D+XfetE4zpcaAAAAAElFTkSuQmCC\" style=\"width:300px;\"/></td>\n",
       "    </tr>\n",
       "  </tbody>\n",
       "</table>"
      ],
      "text/plain": [
       "        Cells_Intensity_IntegratedIntensity_CorrDNA  \\\n",
       "63402                                    192.944633   \n",
       "372428                                   231.436799   \n",
       "\n",
       "                Image_FileName_OrigDNA  \n",
       "63402   r09c12f02p01-ch5sk1fk1fl1.tiff  \n",
       "372428  r08c21f07p01-ch5sk1fk1fl1.tiff  "
      ]
     },
     "execution_count": 19,
     "metadata": {},
     "output_type": "execute_result"
    }
   ],
   "source": [
    "cell_outliers_cdf.sample(n=2, random_state=0)"
   ]
  },
  {
   "cell_type": "markdown",
   "id": "b71838fd",
   "metadata": {
    "papermill": {
     "duration": 0.012793,
     "end_time": "2025-03-25T20:54:58.833094",
     "exception": false,
     "start_time": "2025-03-25T20:54:58.820301",
     "status": "completed"
    },
    "tags": []
   },
   "source": [
    "## Save the outlier indices to use for reporting"
   ]
  },
  {
   "cell_type": "code",
   "execution_count": 20,
   "id": "5aaa313f",
   "metadata": {
    "execution": {
     "iopub.execute_input": "2025-03-25T20:54:58.854750Z",
     "iopub.status.busy": "2025-03-25T20:54:58.853983Z",
     "iopub.status.idle": "2025-03-25T20:55:00.016405Z",
     "shell.execute_reply": "2025-03-25T20:55:00.015829Z"
    },
    "papermill": {
     "duration": 1.174914,
     "end_time": "2025-03-25T20:55:00.017394",
     "exception": false,
     "start_time": "2025-03-25T20:54:58.842480",
     "status": "completed"
    },
    "tags": []
   },
   "outputs": [
    {
     "name": "stdout",
     "output_type": "stream",
     "text": [
      "Total failing single cells: 64489 (13.85%)\n"
     ]
    }
   ],
   "source": [
    "# Identify failing indices from both outlier dataframes\n",
    "outlier_indices = pd.concat(\n",
    "    [nuclei_clustered_outliers, solidity_nuclei_outliers, cell_outliers]\n",
    ").index.unique()\n",
    "\n",
    "# Create a new dataframe with only the failing rows\n",
    "failing_df = plate_df.loc[outlier_indices, metadata_columns].copy()\n",
    "\n",
    "# Add failure condition columns, marking all rows as True for each condition they failed\n",
    "failing_df[\"Failed_ClusteredNuclei\"] = failing_df.index.isin(\n",
    "    nuclei_clustered_outliers.index\n",
    ")\n",
    "failing_df[\"Failed_SolidityNuclei\"] = failing_df.index.isin(\n",
    "    solidity_nuclei_outliers.index\n",
    ")\n",
    "failing_df[\"Failed_CellsMultipleNuclei\"] = failing_df.index.isin(\n",
    "    cell_outliers.index\n",
    ")\n",
    "\n",
    "# Ensure boolean dtype\n",
    "failing_df = failing_df.astype(\n",
    "    {\"Failed_ClusteredNuclei\": bool, \"Failed_SolidityNuclei\": bool, \"Failed_CellsMultipleNuclei\": bool}\n",
    ")\n",
    "\n",
    "# Keep original indices for later\n",
    "failing_df = failing_df.reset_index().rename(columns={\"index\": \"original_indices\"})\n",
    "\n",
    "# Save the indices dataframe as CSV\n",
    "failing_df.to_csv(\n",
    "    pathlib.Path(f\"{qc_results_dir}/{plate_id}_failed_qc_indices.csv.gz\"),\n",
    "    compression=\"gzip\",\n",
    "    index=False,\n",
    ")\n",
    "\n",
    "# Calculate percentage failed\n",
    "total_rows = plate_df.shape[0]\n",
    "failed_percentage = (failing_df.shape[0] / total_rows) * 100\n",
    "\n",
    "# Print summary with percentage\n",
    "print(f\"Total failing single cells: {failing_df.shape[0]} ({failed_percentage:.2f}%)\")"
   ]
  },
  {
   "cell_type": "markdown",
   "id": "72ba8176",
   "metadata": {
    "papermill": {
     "duration": 0.009874,
     "end_time": "2025-03-25T20:55:00.037047",
     "exception": false,
     "start_time": "2025-03-25T20:55:00.027173",
     "status": "completed"
    },
    "tags": []
   },
   "source": [
    "## Clean and save the data"
   ]
  },
  {
   "cell_type": "code",
   "execution_count": 21,
   "id": "ff4da2ad",
   "metadata": {
    "execution": {
     "iopub.execute_input": "2025-03-25T20:55:00.058825Z",
     "iopub.status.busy": "2025-03-25T20:55:00.058644Z",
     "iopub.status.idle": "2025-03-25T20:55:55.079747Z",
     "shell.execute_reply": "2025-03-25T20:55:55.079118Z"
    },
    "papermill": {
     "duration": 55.040892,
     "end_time": "2025-03-25T20:55:55.089143",
     "exception": false,
     "start_time": "2025-03-25T20:55:00.048251",
     "status": "completed"
    },
    "tags": []
   },
   "outputs": [
    {
     "name": "stdout",
     "output_type": "stream",
     "text": [
      "BR00143978 has been cleaned and saved with the shape: (401251, 3035).\n"
     ]
    }
   ],
   "source": [
    "# Remove rows with outlier indices\n",
    "plate_df_cleaned = plate_df.drop(outlier_indices)\n",
    "\n",
    "# Save cleaned data for this plate\n",
    "plate_df_cleaned.to_parquet(f\"{cleaned_dir}/{plate_id}_cleaned.parquet\")\n",
    "\n",
    "# Print the plate name and the shape of the cleaned data\n",
    "print(\n",
    "    f\"{plate_id} has been cleaned and saved with the shape: {plate_df_cleaned.shape}.\"\n",
    ")"
   ]
  }
 ],
 "metadata": {
  "kernelspec": {
   "display_name": "jump_sc",
   "language": "python",
   "name": "python3"
  },
  "language_info": {
   "codemirror_mode": {
    "name": "ipython",
    "version": 3
   },
   "file_extension": ".py",
   "mimetype": "text/x-python",
   "name": "python",
   "nbconvert_exporter": "python",
   "pygments_lexer": "ipython3",
   "version": "3.9.21"
  },
  "papermill": {
   "default_parameters": {},
   "duration": 237.278852,
   "end_time": "2025-03-25T20:55:58.327906",
   "environment_variables": {},
   "exception": null,
   "input_path": "1.sc_quality_control.ipynb",
   "output_path": "1.sc_quality_control.ipynb",
   "parameters": {
    "plate_id": "BR00143978"
   },
   "start_time": "2025-03-25T20:52:01.049054",
   "version": "2.6.0"
  }
 },
 "nbformat": 4,
 "nbformat_minor": 5
}
