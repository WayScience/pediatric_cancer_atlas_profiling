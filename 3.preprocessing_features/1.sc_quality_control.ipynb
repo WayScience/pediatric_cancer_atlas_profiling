{
 "cells": [
  {
   "cell_type": "markdown",
   "id": "97791360",
   "metadata": {
    "papermill": {
     "duration": 0.003348,
     "end_time": "2025-02-21T22:00:47.506183",
     "exception": false,
     "start_time": "2025-02-21T22:00:47.502835",
     "status": "completed"
    },
    "tags": []
   },
   "source": [
    "# Perform single-cell quality control\n",
    "\n",
    "In this notebook, we perform single-cell quality control using coSMicQC. We filter the single cells by identifying outliers with z-scores, and use either combinations of features or one feature for each condition. We use features from the AreaShape and Intensity modules to assess the quality of the segmented single-cells:\n",
    "\n",
    "### Assessing poor nuclei segmentation\n",
    "\n",
    "Due to high confluence with various seeding densities, sometimes nuclei overlap on top of each other, creating highly intense clusters within the Hoechst channel. To identify these nuclei, we use:\n",
    "\n",
    "- **Nuclei Area:** This metric quantifies the number of pixels in a nucleus segmentation. \n",
    "We detect nuclei that are abnormally large, which likely indicates poor nucleus segmentation where overlapping nuclei are merged into one segmentation. \n",
    "- **Nuclei Intensity:** This metric quantifies the total intensity of all pixels in a nucleus segmentation. \n",
    "In combination with abnormally large nuclei, we detect nuclei that are also highly intense, likely indicating that this a group of overlapped nuclei.\n",
    "\n",
    "For the preliminary dataset, we are working with cells that have not been treated so we do not expect any crazy phenotypes. Given that context, we can use a feature called Solidity. From ChatGPT, the simple explanation is that this features compares the area of the object to its convex hull, which measures compactness in relation to convexity. High solidity implies few indentations, while lower solidity indicates more irregularity.\n",
    "\n",
    "- **Nuclei Solidity:** This metric quantifies the compactness of the nuclei shape.\n",
    "When a nuclei is mis-segmented, we see more protrusions or harsh outlines around the segmentations, which we expect this is what this feature will detect."
   ]
  },
  {
   "cell_type": "code",
   "execution_count": 1,
   "id": "65a52f14",
   "metadata": {
    "execution": {
     "iopub.execute_input": "2025-02-21T22:00:47.515728Z",
     "iopub.status.busy": "2025-02-21T22:00:47.515227Z",
     "iopub.status.idle": "2025-02-21T22:00:48.614477Z",
     "shell.execute_reply": "2025-02-21T22:00:48.613964Z"
    },
    "papermill": {
     "duration": 1.10384,
     "end_time": "2025-02-21T22:00:48.615706",
     "exception": false,
     "start_time": "2025-02-21T22:00:47.511866",
     "status": "completed"
    },
    "tags": []
   },
   "outputs": [],
   "source": [
    "import dask.dataframe as dd\n",
    "import pathlib\n",
    "import pandas as pd\n",
    "import matplotlib.pyplot as plt\n",
    "import seaborn as sns\n",
    "\n",
    "import time\n",
    "\n",
    "from cosmicqc import find_outliers"
   ]
  },
  {
   "cell_type": "markdown",
   "id": "75b3c263",
   "metadata": {
    "papermill": {
     "duration": 0.005552,
     "end_time": "2025-02-21T22:00:48.626725",
     "exception": false,
     "start_time": "2025-02-21T22:00:48.621173",
     "status": "completed"
    },
    "tags": []
   },
   "source": [
    "# Set functions for plotting"
   ]
  },
  {
   "cell_type": "markdown",
   "id": "7cc84d89",
   "metadata": {
    "papermill": {
     "duration": 0.004882,
     "end_time": "2025-02-21T22:00:48.636760",
     "exception": false,
     "start_time": "2025-02-21T22:00:48.631878",
     "status": "completed"
    },
    "tags": []
   },
   "source": [
    "### Function to plot scatterplot"
   ]
  },
  {
   "cell_type": "code",
   "execution_count": 2,
   "id": "e249d9a9",
   "metadata": {
    "execution": {
     "iopub.execute_input": "2025-02-21T22:00:48.648858Z",
     "iopub.status.busy": "2025-02-21T22:00:48.648149Z",
     "iopub.status.idle": "2025-02-21T22:00:48.654054Z",
     "shell.execute_reply": "2025-02-21T22:00:48.653573Z"
    },
    "papermill": {
     "duration": 0.013335,
     "end_time": "2025-02-21T22:00:48.654978",
     "exception": false,
     "start_time": "2025-02-21T22:00:48.641643",
     "status": "completed"
    },
    "tags": []
   },
   "outputs": [],
   "source": [
    "def plot_large_nuclei_outliers(\n",
    "    plate_df: pd.DataFrame,\n",
    "    outliers_df: pd.DataFrame,\n",
    "    plate_name: str,\n",
    "    qc_fig_dir: pathlib.Path,\n",
    ") -> None:\n",
    "    \"\"\"Plot scatterplot of the large nuclei outliers.\n",
    "\n",
    "    Args:\n",
    "        plate_df (pd.DataFrame): Dataframe of the CytoTable output with the morphology profiles.\n",
    "        outliers_df (pd.DataFrame): Dataframe of the coSMicQC output which includes the identified outliers.\n",
    "        plate_name (str): String of the plate's name or ID.\n",
    "        qc_fig_dir (pathlib.Path): Path to the directory to save the plot.\n",
    "    \"\"\"\n",
    "    # Create a copy of plate_df to avoid modifying the original\n",
    "    plate_df = plate_df.copy()\n",
    "\n",
    "    # Set the default 'Outlier_Status' to 'Single-cell passed QC'\n",
    "    plate_df[\"Outlier_Status\"] = \"Single-cell passed QC\"\n",
    "\n",
    "    # Update 'Outlier_Status' for cells that failed QC\n",
    "    plate_df.loc[plate_df.index.isin(outliers_df.index), \"Outlier_Status\"] = (\n",
    "        \"Single-cell failed QC\"\n",
    "    )\n",
    "\n",
    "    # Create scatter plot\n",
    "    plt.figure(figsize=(10, 6))\n",
    "    sns.scatterplot(\n",
    "        data=plate_df,\n",
    "        x=\"Nuclei_AreaShape_Area\",\n",
    "        y=\"Nuclei_Intensity_IntegratedIntensity_CorrDNA\",\n",
    "        hue=\"Outlier_Status\",\n",
    "        palette={\n",
    "            \"Single-cell passed QC\": \"#006400\",\n",
    "            \"Single-cell failed QC\": \"#990090\",\n",
    "        },\n",
    "        alpha=0.2,\n",
    "    )\n",
    "\n",
    "    # Add threshold lines\n",
    "    plt.axvline(\n",
    "        x=outliers_df[\"Nuclei_AreaShape_Area\"].min(),\n",
    "        color=\"r\",\n",
    "        linestyle=\"--\",\n",
    "        label=\"Min. threshold for Nuclei Area\",\n",
    "    )\n",
    "    plt.axhline(\n",
    "        y=outliers_df[\"Nuclei_Intensity_IntegratedIntensity_CorrDNA\"].min(),\n",
    "        color=\"b\",\n",
    "        linestyle=\"--\",\n",
    "        label=\"Min. threshold for Nuclei Intensity\",\n",
    "    )\n",
    "\n",
    "    # Customize plot\n",
    "    plt.title(f\"Nuclei Area vs. Nuclei Integrated Intensity for plate {plate_name}\")\n",
    "    plt.xlabel(\"Nuclei Area\")\n",
    "    plt.ylabel(\"Nuclei Integrated Intensity (Hoechst)\")\n",
    "    plt.tight_layout()\n",
    "\n",
    "    # Show legend\n",
    "    plt.legend(loc=\"upper left\", bbox_to_anchor=(0, 1.0), prop={\"size\": 10})\n",
    "\n",
    "    # Save figure without showing it\n",
    "    plt.savefig(\n",
    "        pathlib.Path(f\"{qc_fig_dir}/{plate_name}_large_nuclei_outliers.png\"), dpi=500\n",
    "    )\n",
    "    plt.close()  # Close the plot to prevent it from displaying"
   ]
  },
  {
   "cell_type": "markdown",
   "id": "61eb6cda",
   "metadata": {
    "papermill": {
     "duration": 0.005041,
     "end_time": "2025-02-21T22:00:48.665038",
     "exception": false,
     "start_time": "2025-02-21T22:00:48.659997",
     "status": "completed"
    },
    "tags": []
   },
   "source": [
    "### Function to plot KDE"
   ]
  },
  {
   "cell_type": "code",
   "execution_count": 3,
   "id": "da82f7bc",
   "metadata": {
    "execution": {
     "iopub.execute_input": "2025-02-21T22:00:48.676354Z",
     "iopub.status.busy": "2025-02-21T22:00:48.675897Z",
     "iopub.status.idle": "2025-02-21T22:00:48.680806Z",
     "shell.execute_reply": "2025-02-21T22:00:48.680328Z"
    },
    "papermill": {
     "duration": 0.011393,
     "end_time": "2025-02-21T22:00:48.681659",
     "exception": false,
     "start_time": "2025-02-21T22:00:48.670266",
     "status": "completed"
    },
    "tags": []
   },
   "outputs": [],
   "source": [
    "def plot_nuclei_solidity_histogram(\n",
    "    plate_df: pd.DataFrame,\n",
    "    outliers_df: pd.DataFrame,\n",
    "    plate_name: str,\n",
    "    qc_fig_dir: pathlib.Path,\n",
    ") -> None:\n",
    "    \"\"\"Plot histogram of the nuclei solidity outliers.\n",
    "\n",
    "    Args:\n",
    "        plate_df (pd.DataFrame): Dataframe of the CytoTable output with the morphology profiles.\n",
    "        outliers_df (pd.DataFrame): Dataframe of the coSMicQC output which includes the identified outliers.\n",
    "        plate_name (str): String of the plate's name or ID.\n",
    "        qc_fig_dir (pathlib.Path): Path to the directory to save the plot.\n",
    "    \"\"\"\n",
    "    # Create a copy of plate_df to avoid modifying the original\n",
    "    plate_df = plate_df.copy()\n",
    "\n",
    "    # Set the default 'Outlier_Status' to 'Single-cell passed QC'\n",
    "    plate_df[\"Outlier_Status\"] = \"Single-cell passed QC\"\n",
    "\n",
    "    # Update 'Outlier_Status' for cells that failed QC\n",
    "    plate_df.loc[plate_df.index.isin(outliers_df.index), \"Outlier_Status\"] = (\n",
    "        \"Single-cell failed QC\"\n",
    "    )\n",
    "\n",
    "    # Create histogram\n",
    "    plt.figure(figsize=(10, 6))\n",
    "    sns.histplot(\n",
    "        data=plate_df,\n",
    "        x=\"Nuclei_AreaShape_Solidity\",\n",
    "        hue=\"Outlier_Status\",\n",
    "        palette={\n",
    "            \"Single-cell passed QC\": \"#006400\",\n",
    "            \"Single-cell failed QC\": \"#990090\",\n",
    "        },\n",
    "        multiple=\"stack\",  # Stacks bars based on hue\n",
    "        bins=50,  # Number of bins\n",
    "        kde=False,\n",
    "    )\n",
    "\n",
    "    # Add threshold line\n",
    "    max_threshold = outliers_df[\"Nuclei_AreaShape_Solidity\"].max()\n",
    "    plt.axvline(\n",
    "        x=max_threshold,\n",
    "        color=\"r\",\n",
    "        linestyle=\"--\",\n",
    "        label=f\"Threshold for Outliers: < {max_threshold}\",\n",
    "    )\n",
    "\n",
    "    # Customize plot\n",
    "    plt.ylabel(\"Count\")\n",
    "    plt.xlabel(\"Nuclei Solidity\")\n",
    "    plt.title(f\"Distribution of Nuclei Solidity for plate {plate_name}\")\n",
    "    plt.legend()\n",
    "    plt.tight_layout()\n",
    "\n",
    "    # Save figure without showing it\n",
    "    plt.savefig(\n",
    "        pathlib.Path(\n",
    "            f\"{qc_fig_dir}/{plate_name}_nuclei_solidity_outliers_histogram.png\"\n",
    "        ),\n",
    "        dpi=500,\n",
    "    )\n",
    "    plt.close()  # Close the plot to prevent it from displaying"
   ]
  },
  {
   "cell_type": "markdown",
   "id": "f4210f5e",
   "metadata": {
    "papermill": {
     "duration": 0.00552,
     "end_time": "2025-02-21T22:00:48.692657",
     "exception": false,
     "start_time": "2025-02-21T22:00:48.687137",
     "status": "completed"
    },
    "tags": []
   },
   "source": [
    "## Set paths and variables"
   ]
  },
  {
   "cell_type": "code",
   "execution_count": 4,
   "id": "a9b48c7c",
   "metadata": {
    "execution": {
     "iopub.execute_input": "2025-02-21T22:00:48.703721Z",
     "iopub.status.busy": "2025-02-21T22:00:48.703141Z",
     "iopub.status.idle": "2025-02-21T22:00:48.707031Z",
     "shell.execute_reply": "2025-02-21T22:00:48.706223Z"
    },
    "papermill": {
     "duration": 0.010587,
     "end_time": "2025-02-21T22:00:48.708174",
     "exception": false,
     "start_time": "2025-02-21T22:00:48.697587",
     "status": "completed"
    },
    "tags": [
     "parameters"
    ]
   },
   "outputs": [],
   "source": [
    "# Set parameter for papermill to use for processing\n",
    "plate_id = \"BR00143976\""
   ]
  },
  {
   "cell_type": "code",
   "execution_count": 5,
   "id": "c164cc60",
   "metadata": {
    "execution": {
     "iopub.execute_input": "2025-02-21T22:00:48.720439Z",
     "iopub.status.busy": "2025-02-21T22:00:48.719972Z",
     "iopub.status.idle": "2025-02-21T22:00:48.723664Z",
     "shell.execute_reply": "2025-02-21T22:00:48.722765Z"
    },
    "papermill": {
     "duration": 0.012297,
     "end_time": "2025-02-21T22:00:48.725080",
     "exception": false,
     "start_time": "2025-02-21T22:00:48.712783",
     "status": "completed"
    },
    "tags": [
     "injected-parameters"
    ]
   },
   "outputs": [],
   "source": [
    "# Parameters\n",
    "plate_id = \"BR00143978\"\n"
   ]
  },
  {
   "cell_type": "code",
   "execution_count": 6,
   "id": "483a7fd7",
   "metadata": {
    "execution": {
     "iopub.execute_input": "2025-02-21T22:00:48.739120Z",
     "iopub.status.busy": "2025-02-21T22:00:48.738692Z",
     "iopub.status.idle": "2025-02-21T22:00:48.744524Z",
     "shell.execute_reply": "2025-02-21T22:00:48.743652Z"
    },
    "papermill": {
     "duration": 0.012773,
     "end_time": "2025-02-21T22:00:48.745549",
     "exception": false,
     "start_time": "2025-02-21T22:00:48.732776",
     "status": "completed"
    },
    "tags": []
   },
   "outputs": [],
   "source": [
    "# Directory with data\n",
    "data_dir = pathlib.Path(\"./data/converted_profiles/\")\n",
    "\n",
    "# Directory to save cleaned data\n",
    "cleaned_dir = pathlib.Path(\"./data/cleaned_profiles/\")\n",
    "cleaned_dir.mkdir(exist_ok=True)\n",
    "\n",
    "# Directory to save qc figures\n",
    "qc_fig_dir = pathlib.Path(\"./qc_figures\")\n",
    "qc_fig_dir.mkdir(exist_ok=True)\n",
    "\n",
    "# Directory to save qc results\n",
    "qc_results_dir = pathlib.Path(\"./qc_results\")\n",
    "qc_results_dir.mkdir(exist_ok=True)\n",
    "\n",
    "# Create an empty dictionary to store data frames for each plate\n",
    "all_qc_data_frames = {}\n",
    "\n",
    "# metadata columns to include in output data frame\n",
    "metadata_columns = [\n",
    "    \"Image_Metadata_Plate\",\n",
    "    \"Image_Metadata_Well\",\n",
    "    \"Image_Metadata_Site\",\n",
    "    \"Metadata_Nuclei_Location_Center_X\",\n",
    "    \"Metadata_Nuclei_Location_Center_Y\",\n",
    "]"
   ]
  },
  {
   "cell_type": "markdown",
   "id": "5bfaaea6",
   "metadata": {
    "papermill": {
     "duration": 0.003735,
     "end_time": "2025-02-21T22:00:48.753389",
     "exception": false,
     "start_time": "2025-02-21T22:00:48.749654",
     "status": "completed"
    },
    "tags": []
   },
   "source": [
    "## Load in plate to perform QC on"
   ]
  },
  {
   "cell_type": "code",
   "execution_count": 7,
   "id": "dcaaa2e9",
   "metadata": {
    "execution": {
     "iopub.execute_input": "2025-02-21T22:00:48.762304Z",
     "iopub.status.busy": "2025-02-21T22:00:48.761799Z",
     "iopub.status.idle": "2025-02-21T22:01:40.117516Z",
     "shell.execute_reply": "2025-02-21T22:01:40.116965Z"
    },
    "papermill": {
     "duration": 51.365912,
     "end_time": "2025-02-21T22:01:40.123054",
     "exception": false,
     "start_time": "2025-02-21T22:00:48.757142",
     "status": "completed"
    },
    "tags": []
   },
   "outputs": [
    {
     "name": "stdout",
     "output_type": "stream",
     "text": [
      "Loaded plate: BR00143978, Shape: (465740, 3009), Time taken: 51.35 seconds\n"
     ]
    }
   ],
   "source": [
    "# Construct the file path for the given plate_id\n",
    "file_path = data_dir / f\"{plate_id}_converted.parquet\"\n",
    "\n",
    "if file_path.exists():\n",
    "    start_time = time.time()  # Start timer for loading\n",
    "\n",
    "    # Load and compute the DataFrame\n",
    "    plate_df = dd.read_parquet(file_path, engine=\"pyarrow\").compute()\n",
    "\n",
    "    end_time = time.time()  # End timer for loading\n",
    "    print(\n",
    "        f\"Loaded plate: {plate_id}, Shape: {plate_df.shape}, Time taken: {end_time - start_time:.2f} seconds\"\n",
    "    )\n",
    "else:\n",
    "    print(f\"Parquet file for plate {plate_id} not found.\")"
   ]
  },
  {
   "cell_type": "markdown",
   "id": "1810063c",
   "metadata": {
    "papermill": {
     "duration": 0.005014,
     "end_time": "2025-02-21T22:01:40.133343",
     "exception": false,
     "start_time": "2025-02-21T22:01:40.128329",
     "status": "completed"
    },
    "tags": []
   },
   "source": [
    "## Filter down plate data to detect outliers to improve speed"
   ]
  },
  {
   "cell_type": "code",
   "execution_count": 8,
   "id": "af4784ff",
   "metadata": {
    "execution": {
     "iopub.execute_input": "2025-02-21T22:01:40.144969Z",
     "iopub.status.busy": "2025-02-21T22:01:40.144370Z",
     "iopub.status.idle": "2025-02-21T22:01:40.155730Z",
     "shell.execute_reply": "2025-02-21T22:01:40.155069Z"
    },
    "papermill": {
     "duration": 0.01835,
     "end_time": "2025-02-21T22:01:40.156895",
     "exception": false,
     "start_time": "2025-02-21T22:01:40.138545",
     "status": "completed"
    },
    "tags": []
   },
   "outputs": [],
   "source": [
    "# Define the QC features\n",
    "qc_features = [\n",
    "    \"Nuclei_AreaShape_Area\",\n",
    "    \"Nuclei_Intensity_IntegratedIntensity_CorrDNA\",\n",
    "    \"Nuclei_AreaShape_Solidity\",\n",
    "]\n",
    "\n",
    "# Filter plate_df to only include metadata columns and QC features\n",
    "filtered_plate_df = plate_df[metadata_columns + qc_features]"
   ]
  },
  {
   "cell_type": "markdown",
   "id": "40da9f92",
   "metadata": {
    "papermill": {
     "duration": 0.005548,
     "end_time": "2025-02-21T22:01:40.168563",
     "exception": false,
     "start_time": "2025-02-21T22:01:40.163015",
     "status": "completed"
    },
    "tags": []
   },
   "source": [
    "## Detect segmentations of large clusters of nuclei"
   ]
  },
  {
   "cell_type": "code",
   "execution_count": 9,
   "id": "3229bcbb",
   "metadata": {
    "execution": {
     "iopub.execute_input": "2025-02-21T22:01:40.179847Z",
     "iopub.status.busy": "2025-02-21T22:01:40.179305Z",
     "iopub.status.idle": "2025-02-21T22:01:43.562578Z",
     "shell.execute_reply": "2025-02-21T22:01:43.562103Z"
    },
    "papermill": {
     "duration": 3.390086,
     "end_time": "2025-02-21T22:01:43.563539",
     "exception": false,
     "start_time": "2025-02-21T22:01:40.173453",
     "status": "completed"
    },
    "tags": []
   },
   "outputs": [
    {
     "name": "stdout",
     "output_type": "stream",
     "text": [
      "Number of outliers: 5750 (1.23%)\n",
      "Outliers Range:\n",
      "Nuclei_AreaShape_Area Min: 1523.0\n",
      "Nuclei_AreaShape_Area Max: 2827.0\n",
      "Nuclei_Intensity_IntegratedIntensity_CorrDNA Min: 288.345460742712\n",
      "Nuclei_Intensity_IntegratedIntensity_CorrDNA Max: 1358.7651822939515\n"
     ]
    }
   ],
   "source": [
    "# Find large nuclei outliers for the current plate\n",
    "large_nuclei_high_int_outliers = find_outliers(\n",
    "    df=filtered_plate_df,\n",
    "    metadata_columns=metadata_columns,\n",
    "    feature_thresholds={\n",
    "        \"Nuclei_AreaShape_Area\": 2,\n",
    "        \"Nuclei_Intensity_IntegratedIntensity_CorrDNA\": 3,\n",
    "    },\n",
    ")"
   ]
  },
  {
   "cell_type": "markdown",
   "id": "ad9c2a86",
   "metadata": {
    "papermill": {
     "duration": 0.005181,
     "end_time": "2025-02-21T22:01:43.574408",
     "exception": false,
     "start_time": "2025-02-21T22:01:43.569227",
     "status": "completed"
    },
    "tags": []
   },
   "source": [
    "### Plot the outliers"
   ]
  },
  {
   "cell_type": "code",
   "execution_count": 10,
   "id": "2902980f",
   "metadata": {
    "execution": {
     "iopub.execute_input": "2025-02-21T22:01:43.585120Z",
     "iopub.status.busy": "2025-02-21T22:01:43.584929Z",
     "iopub.status.idle": "2025-02-21T22:02:16.584039Z",
     "shell.execute_reply": "2025-02-21T22:02:16.583446Z"
    },
    "papermill": {
     "duration": 33.005965,
     "end_time": "2025-02-21T22:02:16.585361",
     "exception": false,
     "start_time": "2025-02-21T22:01:43.579396",
     "status": "completed"
    },
    "tags": []
   },
   "outputs": [],
   "source": [
    "# Save large nuclei scatterplot\n",
    "plot_large_nuclei_outliers(\n",
    "    plate_df=plate_df,\n",
    "    outliers_df=large_nuclei_high_int_outliers,\n",
    "    plate_name=plate_id,\n",
    "    qc_fig_dir=qc_fig_dir,\n",
    ")"
   ]
  },
  {
   "cell_type": "markdown",
   "id": "97b14c45",
   "metadata": {
    "papermill": {
     "duration": 0.005258,
     "end_time": "2025-02-21T22:02:16.596088",
     "exception": false,
     "start_time": "2025-02-21T22:02:16.590830",
     "status": "completed"
    },
    "tags": []
   },
   "source": [
    "## Detect very irregular shaped nuclei, likely indicating mis-segmentation\n",
    "\n",
    "NOTE: These datasets are meant for optimization so all cells should be in normal, control cell states. This mean there are likely to be not as interesting phenotypes to be mistaken as poor quality segmentations."
   ]
  },
  {
   "cell_type": "code",
   "execution_count": 11,
   "id": "87e84c96",
   "metadata": {
    "execution": {
     "iopub.execute_input": "2025-02-21T22:02:16.607130Z",
     "iopub.status.busy": "2025-02-21T22:02:16.606863Z",
     "iopub.status.idle": "2025-02-21T22:02:19.845393Z",
     "shell.execute_reply": "2025-02-21T22:02:19.844928Z"
    },
    "papermill": {
     "duration": 3.244967,
     "end_time": "2025-02-21T22:02:19.846017",
     "exception": false,
     "start_time": "2025-02-21T22:02:16.601050",
     "status": "completed"
    },
    "tags": []
   },
   "outputs": [
    {
     "name": "stdout",
     "output_type": "stream",
     "text": [
      "Number of outliers: 22677 (4.87%)\n",
      "Outliers Range:\n",
      "Nuclei_AreaShape_Solidity Min: 0.4885439763488544\n",
      "Nuclei_AreaShape_Solidity Max: 0.8964677222898904\n"
     ]
    }
   ],
   "source": [
    "# Find low nuclei solidity outliers for the current plate\n",
    "solidity_nuclei_outliers = find_outliers(\n",
    "    df=filtered_plate_df,\n",
    "    metadata_columns=metadata_columns,\n",
    "    feature_thresholds={\n",
    "        \"Nuclei_AreaShape_Solidity\": -2,\n",
    "    },\n",
    ")"
   ]
  },
  {
   "cell_type": "markdown",
   "id": "de690a6a",
   "metadata": {
    "papermill": {
     "duration": 0.005353,
     "end_time": "2025-02-21T22:02:19.854345",
     "exception": false,
     "start_time": "2025-02-21T22:02:19.848992",
     "status": "completed"
    },
    "tags": []
   },
   "source": [
    "### Plot the outliers"
   ]
  },
  {
   "cell_type": "code",
   "execution_count": 12,
   "id": "968ccb6d",
   "metadata": {
    "execution": {
     "iopub.execute_input": "2025-02-21T22:02:19.866014Z",
     "iopub.status.busy": "2025-02-21T22:02:19.865826Z",
     "iopub.status.idle": "2025-02-21T22:02:22.461533Z",
     "shell.execute_reply": "2025-02-21T22:02:22.460934Z"
    },
    "papermill": {
     "duration": 2.603047,
     "end_time": "2025-02-21T22:02:22.462759",
     "exception": false,
     "start_time": "2025-02-21T22:02:19.859712",
     "status": "completed"
    },
    "tags": []
   },
   "outputs": [],
   "source": [
    "# Save low nuclei solidity histogram\n",
    "plot_nuclei_solidity_histogram(\n",
    "    plate_df=plate_df,\n",
    "    outliers_df=solidity_nuclei_outliers,\n",
    "    plate_name=plate_id,\n",
    "    qc_fig_dir=qc_fig_dir,\n",
    ")"
   ]
  },
  {
   "cell_type": "markdown",
   "id": "b71838fd",
   "metadata": {
    "papermill": {
     "duration": 0.005184,
     "end_time": "2025-02-21T22:02:22.473662",
     "exception": false,
     "start_time": "2025-02-21T22:02:22.468478",
     "status": "completed"
    },
    "tags": []
   },
   "source": [
    "## Save the outlier indices to use for reporting"
   ]
  },
  {
   "cell_type": "code",
   "execution_count": 13,
   "id": "5aaa313f",
   "metadata": {
    "execution": {
     "iopub.execute_input": "2025-02-21T22:02:22.485250Z",
     "iopub.status.busy": "2025-02-21T22:02:22.485072Z",
     "iopub.status.idle": "2025-02-21T22:02:22.715982Z",
     "shell.execute_reply": "2025-02-21T22:02:22.715414Z"
    },
    "papermill": {
     "duration": 0.237954,
     "end_time": "2025-02-21T22:02:22.716894",
     "exception": false,
     "start_time": "2025-02-21T22:02:22.478940",
     "status": "completed"
    },
    "tags": []
   },
   "outputs": [
    {
     "name": "stdout",
     "output_type": "stream",
     "text": [
      "Total failing single cells: 26504 (5.69%)\n"
     ]
    }
   ],
   "source": [
    "# Identify failing indices from both outlier dataframes\n",
    "outlier_indices = pd.concat(\n",
    "    [large_nuclei_high_int_outliers, solidity_nuclei_outliers]\n",
    ").index.unique()\n",
    "\n",
    "# Create a new dataframe with only the failing rows\n",
    "failing_df = plate_df.loc[outlier_indices, metadata_columns].copy()\n",
    "\n",
    "# Add failure condition columns, marking all rows as True for each condition they failed\n",
    "failing_df[\"Failed_LargeNuclei_HighInt\"] = failing_df.index.isin(\n",
    "    large_nuclei_high_int_outliers.index\n",
    ")\n",
    "failing_df[\"Failed_SolidityNuclei\"] = failing_df.index.isin(\n",
    "    solidity_nuclei_outliers.index\n",
    ")\n",
    "\n",
    "# Ensure boolean dtype\n",
    "failing_df = failing_df.astype(\n",
    "    {\"Failed_LargeNuclei_HighInt\": bool, \"Failed_SolidityNuclei\": bool}\n",
    ")\n",
    "\n",
    "# Keep original indices for later\n",
    "failing_df = failing_df.reset_index().rename(columns={\"index\": \"original_indices\"})\n",
    "\n",
    "# Save the indices dataframe as CSV\n",
    "failing_df.to_csv(\n",
    "    pathlib.Path(f\"{qc_results_dir}/{plate_id}_failed_qc_indices.csv.gz\"),\n",
    "    compression=\"gzip\",\n",
    "    index=False,\n",
    ")\n",
    "\n",
    "# Calculate percentage failed\n",
    "total_rows = plate_df.shape[0]\n",
    "failed_percentage = (failing_df.shape[0] / total_rows) * 100\n",
    "\n",
    "# Print summary with percentage\n",
    "print(f\"Total failing single cells: {failing_df.shape[0]} ({failed_percentage:.2f}%)\")"
   ]
  },
  {
   "cell_type": "markdown",
   "id": "72ba8176",
   "metadata": {
    "papermill": {
     "duration": 0.005229,
     "end_time": "2025-02-21T22:02:22.727711",
     "exception": false,
     "start_time": "2025-02-21T22:02:22.722482",
     "status": "completed"
    },
    "tags": []
   },
   "source": [
    "## Clean and save the data"
   ]
  },
  {
   "cell_type": "code",
   "execution_count": 14,
   "id": "ff4da2ad",
   "metadata": {
    "execution": {
     "iopub.execute_input": "2025-02-21T22:02:22.739387Z",
     "iopub.status.busy": "2025-02-21T22:02:22.739215Z",
     "iopub.status.idle": "2025-02-21T22:03:14.616746Z",
     "shell.execute_reply": "2025-02-21T22:03:14.616269Z"
    },
    "papermill": {
     "duration": 51.889409,
     "end_time": "2025-02-21T22:03:14.622442",
     "exception": false,
     "start_time": "2025-02-21T22:02:22.733033",
     "status": "completed"
    },
    "tags": []
   },
   "outputs": [
    {
     "name": "stdout",
     "output_type": "stream",
     "text": [
      "BR00143978 has been cleaned and saved with the shape: (439236, 3009).\n"
     ]
    }
   ],
   "source": [
    "# Remove rows with outlier indices\n",
    "plate_df_cleaned = plate_df.drop(outlier_indices)\n",
    "\n",
    "# Save cleaned data for this plate\n",
    "plate_df_cleaned.to_parquet(f\"{cleaned_dir}/{plate_id}_cleaned.parquet\")\n",
    "\n",
    "# Calculate the number of outliers and the total number of cells\n",
    "num_outliers = len(plate_df) - len(\n",
    "    plate_df_cleaned\n",
    ")  # The number of outliers is the difference\n",
    "total_cells = len(plate_df)\n",
    "\n",
    "# Calculate the percentage of cells that failed QC\n",
    "percent_failed_qc = (num_outliers / total_cells) * 100\n",
    "\n",
    "# Print the plate name, the shape of the cleaned data, and the percentage of cells that failed QC\n",
    "print(\n",
    "    f\"{plate_id} has been cleaned and saved with the shape: {plate_df_cleaned.shape}.\"\n",
    ")"
   ]
  }
 ],
 "metadata": {
  "kernelspec": {
   "display_name": "alsf_preprocessing_env",
   "language": "python",
   "name": "python3"
  },
  "language_info": {
   "codemirror_mode": {
    "name": "ipython",
    "version": 3
   },
   "file_extension": ".py",
   "mimetype": "text/x-python",
   "name": "python",
   "nbconvert_exporter": "python",
   "pygments_lexer": "ipython3",
   "version": "3.10.16"
  },
  "papermill": {
   "default_parameters": {},
   "duration": 150.221975,
   "end_time": "2025-02-21T22:03:17.026095",
   "environment_variables": {},
   "exception": null,
   "input_path": "1.sc_quality_control.ipynb",
   "output_path": "1.sc_quality_control.ipynb",
   "parameters": {
    "plate_id": "BR00143978"
   },
   "start_time": "2025-02-21T22:00:46.804120",
   "version": "2.6.0"
  }
 },
 "nbformat": 4,
 "nbformat_minor": 5
}