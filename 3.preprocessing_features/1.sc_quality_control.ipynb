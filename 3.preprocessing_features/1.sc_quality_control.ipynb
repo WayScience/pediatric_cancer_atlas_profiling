{
 "cells": [
  {
   "cell_type": "markdown",
   "id": "97791360",
   "metadata": {
    "papermill": {
     "duration": 0.006085,
     "end_time": "2025-06-19T20:06:22.545266",
     "exception": false,
     "start_time": "2025-06-19T20:06:22.539181",
     "status": "completed"
    },
    "tags": []
   },
   "source": [
    "# Perform single-cell quality control\n",
    "\n",
    "In this notebook, we perform single-cell quality control using coSMicQC. We filter the single cells by identifying outliers with z-scores, and use either combinations of features or one feature for each condition. We use features from the AreaShape and Intensity modules to assess the quality of the segmented single-cells:\n",
    "\n",
    "### Assessing poor nuclei segmentation\n",
    "\n",
    "Due to high confluence with various seeding densities, sometimes nuclei overlap on top of each other, creating highly intense clusters within the Hoechst channel. \n",
    "To identify these nuclei, we use:\n",
    "\n",
    "- **Nuclei mass displacement:** This metric quantifies how different the segmentation versus intensity based centeroids are, which can reflect multiple nuclei within one segmentation. \n",
    "- **Nuclei intensity:** This metric quantifies the total intensity of all pixels in a nucleus segmentation. \n",
    "In combination with abnormally high mass displacement, we detect nuclei that are also highly intense, likely indicating that this a group of overlapped nuclei.\n",
    "\n",
    "For the preliminary dataset, we are working with cells that have not been treated so we do not expect any crazy phenotypes. Given that context, we can use a feature called Solidity. From ChatGPT, the simple explanation is that this features compares the area of the object to its convex hull, which measures compactness in relation to convexity. High solidity implies few indentations, while lower solidity indicates more irregularity.\n",
    "\n",
    "- **Nuclei solidity:** This metric quantifies the compactness of the nuclei shape.\n",
    "When a nuclei is mis-segmented, we see more protrusions or harsh outlines around the segmentations, which we expect this is what this feature will detect.\n",
    "\n",
    "### Assessing poor cell segmentation\n",
    "\n",
    "Also due to high confluence, overlapping nuclei can lead to the CellProfiler segmentation algorithm to sometimes keep bad segmentations (which is why we have coSMicQC) but can also detect these segmentations as being \"too large\" based on the parameters. \n",
    "This leads to poor cell segmentations because CellProfiler will remove the context of the nuclei it couldn't segment, leading to segmenting multiple cells as one cell and assigning it to one nuclei.\n",
    "To identify these cells, we use:\n",
    "\n",
    "- **Cell intensity in the nuclei channel:** This metric quantifies the total intensity of all pixels of a cell segmentation in the nuclei channel. We would expect fairly low total intensity in the nuclei channel for whole cells as there is only one \n",
    "\n"
   ]
  },
  {
   "cell_type": "code",
   "execution_count": 1,
   "id": "65a52f14",
   "metadata": {
    "execution": {
     "iopub.execute_input": "2025-06-19T20:06:22.559882Z",
     "iopub.status.busy": "2025-06-19T20:06:22.558359Z",
     "iopub.status.idle": "2025-06-19T20:06:23.550739Z",
     "shell.execute_reply": "2025-06-19T20:06:23.550266Z"
    },
    "papermill": {
     "duration": 1.001131,
     "end_time": "2025-06-19T20:06:23.551784",
     "exception": false,
     "start_time": "2025-06-19T20:06:22.550653",
     "status": "completed"
    },
    "tags": []
   },
   "outputs": [],
   "source": [
    "import pathlib\n",
    "import re\n",
    "import time\n",
    "\n",
    "import matplotlib.pyplot as plt\n",
    "import pandas as pd\n",
    "import seaborn as sns\n",
    "\n",
    "from cytodataframe import CytoDataFrame\n",
    "from cosmicqc import find_outliers\n",
    "\n",
    "# Ignore FutureWarnings from cytodataframe due to skimage deprecation (does not affect functionality)\n",
    "import warnings\n",
    "\n",
    "warnings.filterwarnings(\"ignore\", category=FutureWarning)"
   ]
  },
  {
   "cell_type": "markdown",
   "id": "75b3c263",
   "metadata": {
    "papermill": {
     "duration": 0.005201,
     "end_time": "2025-06-19T20:06:23.562081",
     "exception": false,
     "start_time": "2025-06-19T20:06:23.556880",
     "status": "completed"
    },
    "tags": []
   },
   "source": [
    "# Set functions for plotting"
   ]
  },
  {
   "cell_type": "markdown",
   "id": "7cc84d89",
   "metadata": {
    "papermill": {
     "duration": 0.006525,
     "end_time": "2025-06-19T20:06:23.575446",
     "exception": false,
     "start_time": "2025-06-19T20:06:23.568921",
     "status": "completed"
    },
    "tags": []
   },
   "source": [
    "### Function to plot scatterplot"
   ]
  },
  {
   "cell_type": "code",
   "execution_count": 2,
   "id": "e249d9a9",
   "metadata": {
    "execution": {
     "iopub.execute_input": "2025-06-19T20:06:23.589958Z",
     "iopub.status.busy": "2025-06-19T20:06:23.589305Z",
     "iopub.status.idle": "2025-06-19T20:06:23.595766Z",
     "shell.execute_reply": "2025-06-19T20:06:23.595330Z"
    },
    "papermill": {
     "duration": 0.013806,
     "end_time": "2025-06-19T20:06:23.596530",
     "exception": false,
     "start_time": "2025-06-19T20:06:23.582724",
     "status": "completed"
    },
    "tags": []
   },
   "outputs": [],
   "source": [
    "def plot_cluster_nuclei_outliers(\n",
    "    plate_df: pd.DataFrame,\n",
    "    outliers_df: pd.DataFrame,\n",
    "    plate_name: str,\n",
    "    qc_fig_dir: pathlib.Path,\n",
    ") -> None:\n",
    "    \"\"\"Plot scatterplot of the cluster nuclei outliers.\n",
    "\n",
    "    Args:\n",
    "        plate_df (pd.DataFrame): Dataframe of the CytoTable output with the morphology profiles.\n",
    "        outliers_df (pd.DataFrame): Dataframe of the coSMicQC output which includes the identified outliers.\n",
    "        plate_name (str): String of the plate's name or ID.\n",
    "        qc_fig_dir (pathlib.Path): Path to the directory to save the plot.\n",
    "    \"\"\"\n",
    "    # Create a copy of plate_df to avoid modifying the original\n",
    "    plate_df = plate_df.copy()\n",
    "\n",
    "    # Set the default 'Outlier_Status' to 'Single-cell passed QC'\n",
    "    plate_df[\"Outlier_Status\"] = \"Single-cell passed QC\"\n",
    "\n",
    "    # Update 'Outlier_Status' for cells that failed QC\n",
    "    plate_df.loc[plate_df.index.isin(outliers_df.index), \"Outlier_Status\"] = (\n",
    "        \"Single-cell failed QC\"\n",
    "    )\n",
    "\n",
    "    # Create scatter plot\n",
    "    plt.figure(figsize=(10, 6))\n",
    "    sns.scatterplot(\n",
    "        data=plate_df,\n",
    "        x=\"Nuclei_Intensity_MassDisplacement_CorrDNA\",\n",
    "        y=\"Nuclei_Intensity_IntegratedIntensity_CorrDNA\",\n",
    "        hue=\"Outlier_Status\",\n",
    "        palette={\n",
    "            \"Single-cell passed QC\": \"#006400\",\n",
    "            \"Single-cell failed QC\": \"#990090\",\n",
    "        },\n",
    "        alpha=0.2,\n",
    "    )\n",
    "\n",
    "    # Add threshold lines\n",
    "    plt.axvline(\n",
    "        x=outliers_df[\"Nuclei_Intensity_MassDisplacement_CorrDNA\"].min(),\n",
    "        color=\"r\",\n",
    "        linestyle=\"--\",\n",
    "        label=\"Min. threshold for Nuclei Mass Displacement\",\n",
    "    )\n",
    "    plt.axhline(\n",
    "        y=outliers_df[\"Nuclei_Intensity_IntegratedIntensity_CorrDNA\"].min(),\n",
    "        color=\"b\",\n",
    "        linestyle=\"--\",\n",
    "        label=\"Min. threshold for Nuclei Intensity\",\n",
    "    )\n",
    "\n",
    "    # Customize plot\n",
    "    plt.title(\n",
    "        f\"Nuclei Mass Displacement vs. Nuclei Integrated Intensity for plate {plate_name}\"\n",
    "    )\n",
    "    plt.xlabel(\"Nuclei Mass Displacement (Hoechst)\")\n",
    "    plt.ylabel(\"Nuclei Integrated Intensity (Hoechst)\")\n",
    "    plt.tight_layout()\n",
    "\n",
    "    # Show legend\n",
    "    plt.legend(loc=\"upper right\", bbox_to_anchor=(1.0, 1.0), prop={\"size\": 10})\n",
    "\n",
    "    # Save figure without showing it\n",
    "    plt.savefig(\n",
    "        pathlib.Path(f\"{qc_fig_dir}/{plate_name}_cluster_nuclei_outliers.png\"), dpi=500\n",
    "    )\n",
    "    plt.close()  # Close the plot to prevent it from displaying"
   ]
  },
  {
   "cell_type": "markdown",
   "id": "61eb6cda",
   "metadata": {
    "papermill": {
     "duration": 0.004809,
     "end_time": "2025-06-19T20:06:23.606315",
     "exception": false,
     "start_time": "2025-06-19T20:06:23.601506",
     "status": "completed"
    },
    "tags": []
   },
   "source": [
    "### Function to plot KDE"
   ]
  },
  {
   "cell_type": "code",
   "execution_count": 3,
   "id": "da82f7bc",
   "metadata": {
    "execution": {
     "iopub.execute_input": "2025-06-19T20:06:23.617391Z",
     "iopub.status.busy": "2025-06-19T20:06:23.617079Z",
     "iopub.status.idle": "2025-06-19T20:06:23.621657Z",
     "shell.execute_reply": "2025-06-19T20:06:23.621262Z"
    },
    "papermill": {
     "duration": 0.010926,
     "end_time": "2025-06-19T20:06:23.622379",
     "exception": false,
     "start_time": "2025-06-19T20:06:23.611453",
     "status": "completed"
    },
    "tags": []
   },
   "outputs": [],
   "source": [
    "def plot_nuclei_solidity_histogram(\n",
    "    plate_df: pd.DataFrame,\n",
    "    outliers_df: pd.DataFrame,\n",
    "    plate_name: str,\n",
    "    qc_fig_dir: pathlib.Path,\n",
    ") -> None:\n",
    "    \"\"\"Plot histogram of the nuclei solidity outliers.\n",
    "\n",
    "    Args:\n",
    "        plate_df (pd.DataFrame): Dataframe of the CytoTable output with the morphology profiles.\n",
    "        outliers_df (pd.DataFrame): Dataframe of the coSMicQC output which includes the identified outliers.\n",
    "        plate_name (str): String of the plate's name or ID.\n",
    "        qc_fig_dir (pathlib.Path): Path to the directory to save the plot.\n",
    "    \"\"\"\n",
    "    # Create a copy of plate_df to avoid modifying the original\n",
    "    plate_df = plate_df.copy()\n",
    "\n",
    "    # Set the default 'Outlier_Status' to 'Single-cell passed QC'\n",
    "    plate_df[\"Outlier_Status\"] = \"Single-cell passed QC\"\n",
    "\n",
    "    # Update 'Outlier_Status' for cells that failed QC\n",
    "    plate_df.loc[plate_df.index.isin(outliers_df.index), \"Outlier_Status\"] = (\n",
    "        \"Single-cell failed QC\"\n",
    "    )\n",
    "\n",
    "    # Create histogram\n",
    "    plt.figure(figsize=(10, 6))\n",
    "    sns.histplot(\n",
    "        data=plate_df,\n",
    "        x=\"Nuclei_AreaShape_Solidity\",\n",
    "        hue=\"Outlier_Status\",\n",
    "        palette={\n",
    "            \"Single-cell passed QC\": \"#006400\",\n",
    "            \"Single-cell failed QC\": \"#990090\",\n",
    "        },\n",
    "        multiple=\"stack\",  # Stacks bars based on hue\n",
    "        bins=50,  # Number of bins\n",
    "        kde=False,\n",
    "    )\n",
    "\n",
    "    # Add threshold line\n",
    "    max_threshold = outliers_df[\"Nuclei_AreaShape_Solidity\"].max()\n",
    "    plt.axvline(\n",
    "        x=max_threshold,\n",
    "        color=\"r\",\n",
    "        linestyle=\"--\",\n",
    "        label=f\"Threshold for Outliers: < {max_threshold}\",\n",
    "    )\n",
    "\n",
    "    # Customize plot\n",
    "    plt.ylabel(\"Count\")\n",
    "    plt.xlabel(\"Nuclei Solidity\")\n",
    "    plt.title(f\"Distribution of Nuclei Solidity for plate {plate_name}\")\n",
    "    plt.legend()\n",
    "    plt.tight_layout()\n",
    "\n",
    "    # Save figure without showing it\n",
    "    plt.savefig(\n",
    "        pathlib.Path(\n",
    "            f\"{qc_fig_dir}/{plate_name}_nuclei_solidity_outliers_histogram.png\"\n",
    "        ),\n",
    "        dpi=500,\n",
    "    )\n",
    "    plt.close()  # Close the plot to prevent it from displaying"
   ]
  },
  {
   "cell_type": "markdown",
   "id": "f4210f5e",
   "metadata": {
    "papermill": {
     "duration": 0.003841,
     "end_time": "2025-06-19T20:06:23.630737",
     "exception": false,
     "start_time": "2025-06-19T20:06:23.626896",
     "status": "completed"
    },
    "tags": []
   },
   "source": [
    "## Set paths and variables"
   ]
  },
  {
   "cell_type": "code",
   "execution_count": 4,
   "id": "a9b48c7c",
   "metadata": {
    "execution": {
     "iopub.execute_input": "2025-06-19T20:06:23.641895Z",
     "iopub.status.busy": "2025-06-19T20:06:23.641488Z",
     "iopub.status.idle": "2025-06-19T20:06:23.643580Z",
     "shell.execute_reply": "2025-06-19T20:06:23.643243Z"
    },
    "papermill": {
     "duration": 0.009127,
     "end_time": "2025-06-19T20:06:23.644282",
     "exception": false,
     "start_time": "2025-06-19T20:06:23.635155",
     "status": "completed"
    },
    "tags": [
     "parameters"
    ]
   },
   "outputs": [],
   "source": [
    "# Set parameter for papermill to use for processing\n",
    "plate_id = \"BR00145816\""
   ]
  },
  {
   "cell_type": "code",
   "execution_count": 5,
   "id": "0771231a",
   "metadata": {
    "execution": {
     "iopub.execute_input": "2025-06-19T20:06:23.657612Z",
     "iopub.status.busy": "2025-06-19T20:06:23.657309Z",
     "iopub.status.idle": "2025-06-19T20:06:23.659576Z",
     "shell.execute_reply": "2025-06-19T20:06:23.659224Z"
    },
    "papermill": {
     "duration": 0.011175,
     "end_time": "2025-06-19T20:06:23.660503",
     "exception": false,
     "start_time": "2025-06-19T20:06:23.649328",
     "status": "completed"
    },
    "tags": [
     "injected-parameters"
    ]
   },
   "outputs": [],
   "source": [
    "# Parameters\n",
    "plate_id = \"BR00145440\""
   ]
  },
  {
   "cell_type": "markdown",
   "id": "20570692",
   "metadata": {
    "papermill": {
     "duration": 0.004759,
     "end_time": "2025-06-19T20:06:23.670786",
     "exception": false,
     "start_time": "2025-06-19T20:06:23.666027",
     "status": "completed"
    },
    "tags": []
   },
   "source": [
    "## Injected parameter from papermill that updates for every plate being processed"
   ]
  },
  {
   "cell_type": "code",
   "execution_count": 6,
   "id": "483a7fd7",
   "metadata": {
    "execution": {
     "iopub.execute_input": "2025-06-19T20:06:23.679508Z",
     "iopub.status.busy": "2025-06-19T20:06:23.679330Z",
     "iopub.status.idle": "2025-06-19T20:06:23.682501Z",
     "shell.execute_reply": "2025-06-19T20:06:23.682121Z"
    },
    "papermill": {
     "duration": 0.008256,
     "end_time": "2025-06-19T20:06:23.683125",
     "exception": false,
     "start_time": "2025-06-19T20:06:23.674869",
     "status": "completed"
    },
    "tags": []
   },
   "outputs": [],
   "source": [
    "# Set the round of data being processed\n",
    "round_id = \"Round_2_data\"\n",
    "\n",
    "# Directory containing the converted profiles\n",
    "data_dir = pathlib.Path(f\"./data/converted_profiles/{round_id}\")\n",
    "\n",
    "# Directory to save cleaned data\n",
    "cleaned_dir = pathlib.Path(f\"./data/cleaned_profiles/{round_id}\")\n",
    "cleaned_dir.mkdir(exist_ok=True)\n",
    "\n",
    "# Directory to save qc figures\n",
    "qc_fig_dir = pathlib.Path(f\"./qc_figures/{round_id}\")\n",
    "qc_fig_dir.mkdir(exist_ok=True)\n",
    "\n",
    "# Directory to save qc results\n",
    "qc_results_dir = pathlib.Path(f\"./qc_results/{round_id}\")\n",
    "qc_results_dir.mkdir(exist_ok=True)\n",
    "\n",
    "# Create an empty dictionary to store data frames for each plate\n",
    "all_qc_data_frames = {}\n",
    "\n",
    "# Set the compartment of choice to perform QC at the start (will change later)\n",
    "compartment = \"Nuclei\""
   ]
  },
  {
   "cell_type": "markdown",
   "id": "5bfaaea6",
   "metadata": {
    "papermill": {
     "duration": 0.004596,
     "end_time": "2025-06-19T20:06:23.691655",
     "exception": false,
     "start_time": "2025-06-19T20:06:23.687059",
     "status": "completed"
    },
    "tags": []
   },
   "source": [
    "## Load in plate to perform QC on"
   ]
  },
  {
   "cell_type": "code",
   "execution_count": 7,
   "id": "dcaaa2e9",
   "metadata": {
    "execution": {
     "iopub.execute_input": "2025-06-19T20:06:23.702901Z",
     "iopub.status.busy": "2025-06-19T20:06:23.702324Z",
     "iopub.status.idle": "2025-06-19T20:06:33.481910Z",
     "shell.execute_reply": "2025-06-19T20:06:33.481523Z"
    },
    "papermill": {
     "duration": 9.785992,
     "end_time": "2025-06-19T20:06:33.482600",
     "exception": false,
     "start_time": "2025-06-19T20:06:23.696608",
     "status": "completed"
    },
    "tags": []
   },
   "outputs": [
    {
     "name": "stdout",
     "output_type": "stream",
     "text": [
      "Loaded plate: BR00145440, Shape: (455848, 3035), Time taken: 27.68 seconds\n"
     ]
    }
   ],
   "source": [
    "# Construct the file path for the given plate_id\n",
    "file_path = data_dir / f\"{plate_id}_converted.parquet\"\n",
    "\n",
    "if file_path.exists():\n",
    "    start_time = time.time()  # Start timer for loading\n",
    "\n",
    "    # Load the DataFrame with pandas\n",
    "    plate_df = pd.read_parquet(file_path, engine=\"pyarrow\")\n",
    "\n",
    "    end_time = time.time()  # End timer for loading\n",
    "    print(\n",
    "        f\"Loaded plate: {plate_id}, Shape: {plate_df.shape}, Time taken: {end_time - start_time:.2f} seconds\"\n",
    "    )\n",
    "else:\n",
    "    print(f\"Parquet file for plate {plate_id} not found.\")"
   ]
  },
  {
   "cell_type": "markdown",
   "id": "b6c59940",
   "metadata": {
    "papermill": {
     "duration": 0.005233,
     "end_time": "2025-06-19T20:06:33.493044",
     "exception": false,
     "start_time": "2025-06-19T20:06:33.487811",
     "status": "completed"
    },
    "tags": []
   },
   "source": [
    "## Correct all columns with PathName to have the correct parent path\n",
    "\n",
    "When ran on HPC, the path will reflect that of the HPC and not local when we are processing this data."
   ]
  },
  {
   "cell_type": "code",
   "execution_count": 8,
   "id": "a1d6b1f2",
   "metadata": {
    "execution": {
     "iopub.execute_input": "2025-06-19T20:06:33.506621Z",
     "iopub.status.busy": "2025-06-19T20:06:33.506429Z",
     "iopub.status.idle": "2025-06-19T20:06:37.631929Z",
     "shell.execute_reply": "2025-06-19T20:06:37.631492Z"
    },
    "papermill": {
     "duration": 4.133649,
     "end_time": "2025-06-19T20:06:37.632655",
     "exception": false,
     "start_time": "2025-06-19T20:06:33.499006",
     "status": "completed"
    },
    "tags": []
   },
   "outputs": [
    {
     "name": "stdout",
     "output_type": "stream",
     "text": [
      "/media/18tbdrive/ALSF_pilot_data/Round_2_data/Plate 3 All Cell Lines/BR00145440__2024-10-25T11_24_39-Measurement 2/Images\n"
     ]
    }
   ],
   "source": [
    "correct_parent = \"/media/18tbdrive/ALSF_pilot_data\"\n",
    "\n",
    "for col in plate_df.columns:\n",
    "    if \"PathName\" in col and \"Illum\" not in col:\n",
    "        plate_df[col] = plate_df[col].apply(\n",
    "            lambda x: (\n",
    "                re.sub(r\"^.*ALSF_pilot_data/\", correct_parent + \"/\", x)\n",
    "                if isinstance(x, str)\n",
    "                else x\n",
    "            )\n",
    "        )\n",
    "\n",
    "# Print example image path after fix\n",
    "print(plate_df[\"Image_PathName_OrigDNA\"].dropna().iloc[0])"
   ]
  },
  {
   "cell_type": "markdown",
   "id": "f274764f",
   "metadata": {
    "papermill": {
     "duration": 0.005332,
     "end_time": "2025-06-19T20:06:37.643034",
     "exception": false,
     "start_time": "2025-06-19T20:06:37.637702",
     "status": "completed"
    },
    "tags": []
   },
   "source": [
    "## Reduce down the plate columns to the features to be used for QC and metadata (improves speed)"
   ]
  },
  {
   "cell_type": "code",
   "execution_count": 9,
   "id": "80adc837",
   "metadata": {
    "execution": {
     "iopub.execute_input": "2025-06-19T20:06:37.653134Z",
     "iopub.status.busy": "2025-06-19T20:06:37.652998Z",
     "iopub.status.idle": "2025-06-19T20:06:37.696126Z",
     "shell.execute_reply": "2025-06-19T20:06:37.695699Z"
    },
    "papermill": {
     "duration": 0.049198,
     "end_time": "2025-06-19T20:06:37.697090",
     "exception": false,
     "start_time": "2025-06-19T20:06:37.647892",
     "status": "completed"
    },
    "tags": []
   },
   "outputs": [],
   "source": [
    "# metadata columns to include in output data frame\n",
    "metadata_columns = [\n",
    "    \"Image_Metadata_Plate\",\n",
    "    \"Image_Metadata_Well\",\n",
    "    \"Image_Metadata_Site\",\n",
    "    f\"Metadata_{compartment}_Location_Center_X\",\n",
    "    f\"Metadata_{compartment}_Location_Center_Y\",\n",
    "    \"Image_FileName_OrigDNA\",\n",
    "    \"Image_FileName_OrigAGP\",\n",
    "    \"Image_PathName_OrigDNA\",\n",
    "    \"Image_PathName_OrigAGP\",\n",
    "    f\"{compartment}_AreaShape_BoundingBoxMaximum_X\",\n",
    "    f\"{compartment}_AreaShape_BoundingBoxMaximum_Y\",\n",
    "    f\"{compartment}_AreaShape_BoundingBoxMinimum_X\",\n",
    "    f\"{compartment}_AreaShape_BoundingBoxMinimum_Y\",\n",
    "]\n",
    "\n",
    "# Define the QC features\n",
    "qc_features = [\n",
    "    \"Nuclei_Intensity_IntegratedIntensity_CorrDNA\",\n",
    "    \"Nuclei_AreaShape_Solidity\",\n",
    "    \"Nuclei_Intensity_MassDisplacement_CorrDNA\",\n",
    "]\n",
    "\n",
    "# Filter plate_df to only include metadata columns and QC features\n",
    "filtered_plate_df = plate_df[metadata_columns + qc_features]"
   ]
  },
  {
   "cell_type": "code",
   "execution_count": 10,
   "id": "88447a2d",
   "metadata": {
    "execution": {
     "iopub.execute_input": "2025-06-19T20:06:37.708328Z",
     "iopub.status.busy": "2025-06-19T20:06:37.708007Z",
     "iopub.status.idle": "2025-06-19T20:06:37.736849Z",
     "shell.execute_reply": "2025-06-19T20:06:37.736380Z"
    },
    "papermill": {
     "duration": 0.035554,
     "end_time": "2025-06-19T20:06:37.737856",
     "exception": false,
     "start_time": "2025-06-19T20:06:37.702302",
     "status": "completed"
    },
    "tags": []
   },
   "outputs": [
    {
     "name": "stdout",
     "output_type": "stream",
     "text": [
      "/media/18tbdrive/ALSF_pilot_data/Round_2_data/Plate 3 All Cell Lines/BR00145440__2024-10-25T11_24_39-Measurement 2/Images\n"
     ]
    }
   ],
   "source": [
    "# Print example image path after fix\n",
    "print(filtered_plate_df[\"Image_PathName_OrigDNA\"].dropna().iloc[0])"
   ]
  },
  {
   "cell_type": "markdown",
   "id": "1edb3bad",
   "metadata": {
    "papermill": {
     "duration": 0.005474,
     "end_time": "2025-06-19T20:06:37.749533",
     "exception": false,
     "start_time": "2025-06-19T20:06:37.744059",
     "status": "completed"
    },
    "tags": []
   },
   "source": [
    "## Set mapping for outlines"
   ]
  },
  {
   "cell_type": "code",
   "execution_count": 11,
   "id": "f49e1c86",
   "metadata": {
    "execution": {
     "iopub.execute_input": "2025-06-19T20:06:37.761319Z",
     "iopub.status.busy": "2025-06-19T20:06:37.760895Z",
     "iopub.status.idle": "2025-06-19T20:06:39.035642Z",
     "shell.execute_reply": "2025-06-19T20:06:39.035245Z"
    },
    "papermill": {
     "duration": 1.2813,
     "end_time": "2025-06-19T20:06:39.036437",
     "exception": false,
     "start_time": "2025-06-19T20:06:37.755137",
     "status": "completed"
    },
    "tags": []
   },
   "outputs": [
    {
     "data": {
      "text/plain": [
       "('NucleiOutlines_BR00145440_H14_7.tiff',\n",
       " 'r08c14f07p(\\\\d{2})-ch\\\\d+sk\\\\d+fk\\\\d+fl\\\\d+\\\\.tiff')"
      ]
     },
     "execution_count": 11,
     "metadata": {},
     "output_type": "execute_result"
    }
   ],
   "source": [
    "# create an outline and orig mapping dictionary to map original images to outlines\n",
    "# note: we turn off formatting here to avoid the key-value pairing definition\n",
    "# from being reformatted by black, which is normally preferred.\n",
    "# fmt: off\n",
    "outline_to_orig_mapping = {\n",
    "    rf\"{compartment}Outlines_{record['Image_Metadata_Plate']}_{record['Image_Metadata_Well']}_{record['Image_Metadata_Site']}.tiff\": \n",
    "    rf\"r{int(record['Image_Metadata_Row']):02d}c{int(record['Image_Metadata_Col']):02d}f{int(record['Image_Metadata_Site']):02d}p(\\d{{2}})-ch\\d+sk\\d+fk\\d+fl\\d+\\.tiff\"\n",
    "    for record in plate_df[\n",
    "        [\n",
    "            \"Image_Metadata_Plate\",\n",
    "            \"Image_Metadata_Well\",\n",
    "            \"Image_Metadata_Site\",\n",
    "            \"Image_Metadata_Row\",\n",
    "            \"Image_Metadata_Col\",\n",
    "        ]\n",
    "    ].to_dict(orient=\"records\")\n",
    "}\n",
    "# fmt: on\n",
    "\n",
    "next(iter(outline_to_orig_mapping.items()))"
   ]
  },
  {
   "cell_type": "markdown",
   "id": "40da9f92",
   "metadata": {
    "papermill": {
     "duration": 0.006121,
     "end_time": "2025-06-19T20:06:39.049127",
     "exception": false,
     "start_time": "2025-06-19T20:06:39.043006",
     "status": "completed"
    },
    "tags": []
   },
   "source": [
    "## Detect segmentations of clustered nuclei"
   ]
  },
  {
   "cell_type": "code",
   "execution_count": 12,
   "id": "3229bcbb",
   "metadata": {
    "execution": {
     "iopub.execute_input": "2025-06-19T20:06:39.058277Z",
     "iopub.status.busy": "2025-06-19T20:06:39.058157Z",
     "iopub.status.idle": "2025-06-19T20:06:46.891852Z",
     "shell.execute_reply": "2025-06-19T20:06:46.891450Z"
    },
    "papermill": {
     "duration": 7.839026,
     "end_time": "2025-06-19T20:06:46.892578",
     "exception": false,
     "start_time": "2025-06-19T20:06:39.053552",
     "status": "completed"
    },
    "tags": []
   },
   "outputs": [
    {
     "name": "stdout",
     "output_type": "stream",
     "text": [
      "Number of outliers: 24596 (5.40%)\n",
      "Outliers Range:\n",
      "Nuclei_Intensity_MassDisplacement_CorrDNA Min: 0.5452892427442545\n",
      "Nuclei_Intensity_MassDisplacement_CorrDNA Max: 39.902677476637365\n",
      "Nuclei_Intensity_IntegratedIntensity_CorrDNA Min: 182.82790705934167\n",
      "Nuclei_Intensity_IntegratedIntensity_CorrDNA Max: 1022.108835792169\n",
      "(24596, 3)\n"
     ]
    },
    {
     "data": {
      "text/html": [
       "<table border=\"1\" class=\"dataframe\">\n",
       "  <thead>\n",
       "    <tr style=\"text-align: right;\">\n",
       "      <th></th>\n",
       "      <th>Nuclei_Intensity_MassDisplacement_CorrDNA</th>\n",
       "      <th>Nuclei_Intensity_IntegratedIntensity_CorrDNA</th>\n",
       "      <th>Image_FileName_OrigDNA</th>\n",
       "    </tr>\n",
       "  </thead>\n",
       "  <tbody>\n",
       "    <tr>\n",
       "      <th>232825</th>\n",
       "      <td>0.545289</td>\n",
       "      <td>206.202954</td>\n",
       "      <td><img src=\"data:image/png;base64,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\" style=\"width:300px;\"/></td>\n",
       "    </tr>\n",
       "    <tr>\n",
       "      <th>286502</th>\n",
       "      <td>0.545334</td>\n",
       "      <td>194.338340</td>\n",
       "      <td><img src=\"data:image/png;base64,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\" style=\"width:300px;\"/></td>\n",
       "    </tr>\n",
       "  </tbody>\n",
       "</table>"
      ],
      "text/plain": [
       "        Nuclei_Intensity_MassDisplacement_CorrDNA  \\\n",
       "232825                                   0.545289   \n",
       "286502                                   0.545334   \n",
       "\n",
       "        Nuclei_Intensity_IntegratedIntensity_CorrDNA  \\\n",
       "232825                                    206.202954   \n",
       "286502                                    194.338340   \n",
       "\n",
       "                Image_FileName_OrigDNA  \n",
       "232825  r15c03f03p01-ch5sk1fk1fl1.tiff  \n",
       "286502  r14c10f01p01-ch5sk1fk1fl1.tiff  "
      ]
     },
     "execution_count": 12,
     "metadata": {},
     "output_type": "execute_result"
    }
   ],
   "source": [
    "# Find large nuclei outliers for the current plate\n",
    "nuclei_clustered_outliers = find_outliers(\n",
    "    df=filtered_plate_df,\n",
    "    metadata_columns=metadata_columns,\n",
    "    feature_thresholds={\n",
    "        \"Nuclei_Intensity_MassDisplacement_CorrDNA\": 0.05,  # Set very low as to detect all instances of clustering nuclei\n",
    "        \"Nuclei_Intensity_IntegratedIntensity_CorrDNA\": 1.5,  # Set higher than displacement to avoid false positives\n",
    "    },\n",
    ")\n",
    "\n",
    "# MUST SET DATA AS DATAFRAME FOR OUTLINE DIR TO WORK\n",
    "nuclei_clustered_outliers_cdf = CytoDataFrame(\n",
    "    data=pd.DataFrame(nuclei_clustered_outliers),\n",
    "    data_outline_context_dir=f\"../2.feature_extraction/sqlite_outputs/{round_id}/{plate_id}/outlines\",\n",
    "    segmentation_file_regex=outline_to_orig_mapping,\n",
    ")[\n",
    "    [\n",
    "        \"Nuclei_Intensity_MassDisplacement_CorrDNA\",\n",
    "        \"Nuclei_Intensity_IntegratedIntensity_CorrDNA\",\n",
    "        \"Image_FileName_OrigDNA\",\n",
    "    ]\n",
    "]\n",
    "\n",
    "\n",
    "print(nuclei_clustered_outliers_cdf.shape)\n",
    "nuclei_clustered_outliers_cdf.sort_values(\n",
    "    by=\"Nuclei_Intensity_MassDisplacement_CorrDNA\", ascending=True\n",
    ").head(2)"
   ]
  },
  {
   "cell_type": "code",
   "execution_count": 13,
   "id": "59f09ea0",
   "metadata": {
    "execution": {
     "iopub.execute_input": "2025-06-19T20:06:46.903896Z",
     "iopub.status.busy": "2025-06-19T20:06:46.903713Z",
     "iopub.status.idle": "2025-06-19T20:06:47.432695Z",
     "shell.execute_reply": "2025-06-19T20:06:47.432326Z"
    },
    "papermill": {
     "duration": 0.535461,
     "end_time": "2025-06-19T20:06:47.433388",
     "exception": false,
     "start_time": "2025-06-19T20:06:46.897927",
     "status": "completed"
    },
    "tags": []
   },
   "outputs": [
    {
     "data": {
      "text/html": [
       "<table border=\"1\" class=\"dataframe\">\n",
       "  <thead>\n",
       "    <tr style=\"text-align: right;\">\n",
       "      <th></th>\n",
       "      <th>Nuclei_Intensity_MassDisplacement_CorrDNA</th>\n",
       "      <th>Nuclei_Intensity_IntegratedIntensity_CorrDNA</th>\n",
       "      <th>Image_FileName_OrigDNA</th>\n",
       "    </tr>\n",
       "  </thead>\n",
       "  <tbody>\n",
       "    <tr>\n",
       "      <th>172493</th>\n",
       "      <td>2.731667</td>\n",
       "      <td>229.703374</td>\n",
       "      <td><img src=\"data:image/png;base64,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\" style=\"width:300px;\"/></td>\n",
       "    </tr>\n",
       "    <tr>\n",
       "      <th>333213</th>\n",
       "      <td>1.329844</td>\n",
       "      <td>220.763750</td>\n",
       "      <td><img src=\"data:image/png;base64,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\" style=\"width:300px;\"/></td>\n",
       "    </tr>\n",
       "  </tbody>\n",
       "</table>"
      ],
      "text/plain": [
       "        Nuclei_Intensity_MassDisplacement_CorrDNA  \\\n",
       "172493                                   2.731667   \n",
       "333213                                   1.329844   \n",
       "\n",
       "        Nuclei_Intensity_IntegratedIntensity_CorrDNA  \\\n",
       "172493                                    229.703374   \n",
       "333213                                    220.763750   \n",
       "\n",
       "                Image_FileName_OrigDNA  \n",
       "172493  r12c21f05p01-ch5sk1fk1fl1.tiff  \n",
       "333213  r16c12f01p01-ch5sk1fk1fl1.tiff  "
      ]
     },
     "execution_count": 13,
     "metadata": {},
     "output_type": "execute_result"
    }
   ],
   "source": [
    "nuclei_clustered_outliers_cdf.sample(n=2, random_state=0)"
   ]
  },
  {
   "cell_type": "markdown",
   "id": "ad9c2a86",
   "metadata": {
    "papermill": {
     "duration": 0.005323,
     "end_time": "2025-06-19T20:06:47.444585",
     "exception": false,
     "start_time": "2025-06-19T20:06:47.439262",
     "status": "completed"
    },
    "tags": []
   },
   "source": [
    "### Plot the outliers"
   ]
  },
  {
   "cell_type": "code",
   "execution_count": 14,
   "id": "2902980f",
   "metadata": {
    "execution": {
     "iopub.execute_input": "2025-06-19T20:06:47.456978Z",
     "iopub.status.busy": "2025-06-19T20:06:47.456844Z",
     "iopub.status.idle": "2025-06-19T20:07:22.249989Z",
     "shell.execute_reply": "2025-06-19T20:07:22.249547Z"
    },
    "papermill": {
     "duration": 34.800329,
     "end_time": "2025-06-19T20:07:22.250978",
     "exception": false,
     "start_time": "2025-06-19T20:06:47.450649",
     "status": "completed"
    },
    "tags": []
   },
   "outputs": [],
   "source": [
    "# Save cluster nuclei scatterplot\n",
    "plot_cluster_nuclei_outliers(\n",
    "    plate_df=plate_df,\n",
    "    outliers_df=nuclei_clustered_outliers_cdf,\n",
    "    plate_name=plate_id,\n",
    "    qc_fig_dir=qc_fig_dir,\n",
    ")"
   ]
  },
  {
   "cell_type": "markdown",
   "id": "97b14c45",
   "metadata": {
    "papermill": {
     "duration": 0.005223,
     "end_time": "2025-06-19T20:07:22.261807",
     "exception": false,
     "start_time": "2025-06-19T20:07:22.256584",
     "status": "completed"
    },
    "tags": []
   },
   "source": [
    "## Detect very irregular shaped nuclei, likely indicating mis-segmentation\n",
    "\n",
    "**NOTE:** For the pilot data, we are determining optimal conditions (seeding density and time point). This means all cells are not treated and should be in a \"healthy\" state. Given that `solidity` measures how irregular the shape of a nuclei is, we would expect that cells treated with a drug/compound could yield interesting shapes or phenotypes. Since we are not working with drug treatments at this time, we can use this feature to identify technically incorrect segmentations."
   ]
  },
  {
   "cell_type": "code",
   "execution_count": 15,
   "id": "87e84c96",
   "metadata": {
    "execution": {
     "iopub.execute_input": "2025-06-19T20:07:22.276302Z",
     "iopub.status.busy": "2025-06-19T20:07:22.275765Z",
     "iopub.status.idle": "2025-06-19T20:07:29.882649Z",
     "shell.execute_reply": "2025-06-19T20:07:29.882181Z"
    },
    "papermill": {
     "duration": 7.615269,
     "end_time": "2025-06-19T20:07:29.883349",
     "exception": false,
     "start_time": "2025-06-19T20:07:22.268080",
     "status": "completed"
    },
    "tags": []
   },
   "outputs": [
    {
     "name": "stdout",
     "output_type": "stream",
     "text": [
      "Number of outliers: 23554 (5.17%)\n",
      "Outliers Range:\n",
      "Nuclei_AreaShape_Solidity Min: 0.3337160352085725\n",
      "Nuclei_AreaShape_Solidity Max: 0.8812749003984064\n",
      "(23554, 2)\n"
     ]
    },
    {
     "data": {
      "text/html": [
       "<table border=\"1\" class=\"dataframe\">\n",
       "  <thead>\n",
       "    <tr style=\"text-align: right;\">\n",
       "      <th></th>\n",
       "      <th>Nuclei_AreaShape_Solidity</th>\n",
       "      <th>Image_FileName_OrigDNA</th>\n",
       "    </tr>\n",
       "  </thead>\n",
       "  <tbody>\n",
       "    <tr>\n",
       "      <th>435136</th>\n",
       "      <td>0.881275</td>\n",
       "      <td><img src=\"data:image/png;base64,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\" style=\"width:300px;\"/></td>\n",
       "    </tr>\n",
       "    <tr>\n",
       "      <th>109112</th>\n",
       "      <td>0.881273</td>\n",
       "      <td><img src=\"data:image/png;base64,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\" style=\"width:300px;\"/></td>\n",
       "    </tr>\n",
       "  </tbody>\n",
       "</table>"
      ],
      "text/plain": [
       "        Nuclei_AreaShape_Solidity          Image_FileName_OrigDNA\n",
       "435136                   0.881275  r15c20f08p01-ch5sk1fk1fl1.tiff\n",
       "109112                   0.881273  r06c10f09p01-ch5sk1fk1fl1.tiff"
      ]
     },
     "execution_count": 15,
     "metadata": {},
     "output_type": "execute_result"
    }
   ],
   "source": [
    "# Find low nuclei solidity outliers for the current plate\n",
    "solidity_nuclei_outliers = find_outliers(\n",
    "    df=filtered_plate_df,\n",
    "    metadata_columns=metadata_columns,\n",
    "    feature_thresholds={\n",
    "        \"Nuclei_AreaShape_Solidity\": -1.6,  # Set at this point where it looks like it starts to detect good quality nuclei\n",
    "    },\n",
    ")\n",
    "\n",
    "# MUST SET DATA AS DATAFRAME FOR OUTLINE DIR TO WORK\n",
    "solidity_nuclei_outliers_cdf = CytoDataFrame(\n",
    "    data=pd.DataFrame(solidity_nuclei_outliers),\n",
    "    data_outline_context_dir=f\"../2.feature_extraction/sqlite_outputs/{round_id}/{plate_id}/outlines\",\n",
    "    segmentation_file_regex=outline_to_orig_mapping,\n",
    ")[\n",
    "    [\n",
    "        \"Nuclei_AreaShape_Solidity\",\n",
    "        \"Image_FileName_OrigDNA\",\n",
    "    ]\n",
    "]\n",
    "\n",
    "\n",
    "print(solidity_nuclei_outliers_cdf.shape)\n",
    "solidity_nuclei_outliers_cdf.sort_values(\n",
    "    by=\"Nuclei_AreaShape_Solidity\", ascending=False\n",
    ").head(2)"
   ]
  },
  {
   "cell_type": "code",
   "execution_count": 16,
   "id": "64ff6624",
   "metadata": {
    "execution": {
     "iopub.execute_input": "2025-06-19T20:07:29.895044Z",
     "iopub.status.busy": "2025-06-19T20:07:29.894858Z",
     "iopub.status.idle": "2025-06-19T20:07:30.392142Z",
     "shell.execute_reply": "2025-06-19T20:07:30.391671Z"
    },
    "papermill": {
     "duration": 0.503706,
     "end_time": "2025-06-19T20:07:30.392816",
     "exception": false,
     "start_time": "2025-06-19T20:07:29.889110",
     "status": "completed"
    },
    "tags": []
   },
   "outputs": [
    {
     "data": {
      "text/html": [
       "<table border=\"1\" class=\"dataframe\">\n",
       "  <thead>\n",
       "    <tr style=\"text-align: right;\">\n",
       "      <th></th>\n",
       "      <th>Nuclei_AreaShape_Solidity</th>\n",
       "      <th>Image_FileName_OrigDNA</th>\n",
       "    </tr>\n",
       "  </thead>\n",
       "  <tbody>\n",
       "    <tr>\n",
       "      <th>161380</th>\n",
       "      <td>0.829552</td>\n",
       "      <td><img src=\"data:image/png;base64,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\" style=\"width:300px;\"/></td>\n",
       "    </tr>\n",
       "    <tr>\n",
       "      <th>148841</th>\n",
       "      <td>0.880113</td>\n",
       "      <td><img src=\"data:image/png;base64,iVBORw0KGgoAAAANSUhEUgAAABoAAAAjCAIAAAAFXY38AAAFS0lEQVR4nGWW23bTRhSGZzQzGkm2Y8jiRXgA7nkB7gnQHBwHuha9yDkOtlNoy2paHCCs8oDEC0IkR5rRnHrxlyFtdaGlOJp/7/3vb8+IPnjwYHl5udPpKKXKstRaCyE6nY6UknN++vspIeTZj8+UUtfX103TNE1T17VSarFYGGOapiGEEEKMMYQQfvv27fP35/hpbX2t1+u9e/uOfLsm00mSJLunuxBtmsZaq5Sq67qu67IshRBlWUKLEMKzLCOE7O3vtW376/tfCSEvxi8YYyEE732gIYQwPZlaa49Oj7BmuDUsikJrXRRFVVVSyvl8bowxxlASyN7+XpIkSZJQSlEjktdae+/TNE3TNIRgrcWak+kJIWTr6VbTNFVVXV5efv78GYocASmllFLOOaWUEBJCCCEgBmOMMYYHSmmSJPsH+yGE6Z/T4dbQGNPtdr33hJCLi4tkuDWcTqaI7L333jvn4IWUkjFGCHHOhRAYY8hUSiml3N3bnb2Zcc6llN1u99atW8vLy1wphQSFEMgCCVJK3bcrhIC8OOfOOUopAmNhmqZ48N4ni8ViY7BxMj1BUdByzmmtq6oCHFpra621FlHTNIW/T589/fjXxyzLpJSdTqfX6yWLxaIsy+HW8GD/IOaCUMYYIKaUstYiqWh0mqZFUTz/6fn5+/NOp1MUxdLSEq/rmjEGXFAsFHEHLpRS1BsbxRiTUhJCkiTZ3ds9mZ0QQlbXVhOttTGmbdsYFuuFEHme93q9fr/f7XaFEJEV+JXnuZQSzRkdjwghWZZxmAI5rbWUklKaZZkQIlYXy0e+6GaSJEIIrTUsGh2PRn+MEhjvnBtsDg4PDimleZ7D1263m+c555wxxjkvigIeIaP4OyI55wghHKyiUngB1tq2vUmJEAJmOefgBpCKwGMVhwQU49t4MMbgVfDMOUe93nulVAwvhIgYcggLIc5mZ+PJmEpqrQWrcf4i3oyxmHKSJBHvmASHBSgkTVPGmLUW0eKcIinGGMqUUoKktm2NMaBydDQabg25lLIoiqIokDm08IzIUTR23HuvtQ4hGGPKslRKoQ9KKZ6maZZlszezV7+88sQjPmqMPmAAiqLw3jPGoIUC0dPXv71eXVu9qq4451wIEbFCs24KYSSllBg77z1q9N5zzrMsm4wn6xvr5aK8urr6zo5zLhIDm4Ao9kHMf9M0mA10wxizv7e/8mjl4uoCs88j9BhyqIOS2F8pZZZlsBUbsnOuruud7Z2HKw8/XXz6+vUrfvwXcXFsIxy4wwTsYAh8fX29s72z8mhlPp9/+fJlsVhordM05bAcOcIO/IndFCqoC9J4E+dhWZZVVdV1HSvgEVe8Z62NZOBura3rum3biIjWevxiPNgczJM5AqCf/zCMEnBhGf4NLWOMtRZ43wQTa7HjAwzGWMIYm72ZHR4dApf4NkjG2QYfnHPWWvTt/xew50gNGYEMay1ARQC4gTKRYyThP9IhBB7dBZmYUEADLQwA+h4PIJAAAK21sYE8bkcRhagIO6IWjsq4F7Vt27atUqppml6vB2netu3mcPN4djyejOOJqZTCjnKzFghNxhNCyJMfnpTXZdM0xpg8z+M7vGka7E7I7mbj4jcGhgFCg81BXdeX1WXTNM457AvfB/T+/fv9fv/OnTtnszN8KcGdSIC19nh0jIy01pj/2Ac4i0oZY/TevXv9fr/f7y8tLd38stve2UYfXv78cn1jvaqqtm3jKRG/g/AOzkLnHL17925RFL1eL8/zoijyPAfAb8/eQvfxk8fYb5Ev7oyxD+cfbjq7Mdio6/pvBuZ9yBuwllwAAAAASUVORK5CYII=\" style=\"width:300px;\"/></td>\n",
       "    </tr>\n",
       "  </tbody>\n",
       "</table>"
      ],
      "text/plain": [
       "        Nuclei_AreaShape_Solidity          Image_FileName_OrigDNA\n",
       "161380                   0.829552  r16c19f02p01-ch5sk1fk1fl1.tiff\n",
       "148841                   0.880113  r16c20f02p01-ch5sk1fk1fl1.tiff"
      ]
     },
     "execution_count": 16,
     "metadata": {},
     "output_type": "execute_result"
    }
   ],
   "source": [
    "solidity_nuclei_outliers_cdf.sample(n=2, random_state=0)"
   ]
  },
  {
   "cell_type": "markdown",
   "id": "de690a6a",
   "metadata": {
    "papermill": {
     "duration": 0.00592,
     "end_time": "2025-06-19T20:07:30.404787",
     "exception": false,
     "start_time": "2025-06-19T20:07:30.398867",
     "status": "completed"
    },
    "tags": []
   },
   "source": [
    "### Plot the outliers"
   ]
  },
  {
   "cell_type": "code",
   "execution_count": 17,
   "id": "968ccb6d",
   "metadata": {
    "execution": {
     "iopub.execute_input": "2025-06-19T20:07:30.414862Z",
     "iopub.status.busy": "2025-06-19T20:07:30.414636Z",
     "iopub.status.idle": "2025-06-19T20:07:33.423914Z",
     "shell.execute_reply": "2025-06-19T20:07:33.423362Z"
    },
    "papermill": {
     "duration": 3.015361,
     "end_time": "2025-06-19T20:07:33.424769",
     "exception": false,
     "start_time": "2025-06-19T20:07:30.409408",
     "status": "completed"
    },
    "tags": []
   },
   "outputs": [],
   "source": [
    "# Save low nuclei solidity histogram\n",
    "plot_nuclei_solidity_histogram(\n",
    "    plate_df=plate_df,\n",
    "    outliers_df=solidity_nuclei_outliers,\n",
    "    plate_name=plate_id,\n",
    "    qc_fig_dir=qc_fig_dir,\n",
    ")"
   ]
  },
  {
   "cell_type": "markdown",
   "id": "3309de2f",
   "metadata": {
    "papermill": {
     "duration": 0.005751,
     "end_time": "2025-06-19T20:07:33.436439",
     "exception": false,
     "start_time": "2025-06-19T20:07:33.430688",
     "status": "completed"
    },
    "tags": []
   },
   "source": [
    "## Detect cells that contain multiple nuclei due to segmentation issues\n",
    "\n",
    "When CellProfiler segments a cluster of nuclei and decides that it is over the diameter range as specified in the parameters, it will not include that segmentation when segmenting whole cells. \n",
    "This can lead to a whole cell segmentation based on one nuclei including the adjacent nuclei that was not included as a segmentation.\n",
    "\n",
    "This description requires prior knowledge of the `IdentifyPrimaryObjects` and `IdentifySecondaryObjects` modules.\n",
    "\n",
    "As a metaphor, we can think of it as three apples on a plate.\n",
    "One apple is detected correctly as one apple, but the other two were two close together, detected as one apple, and then removed from the plate because of it.\n",
    "Now, it looks like the whole plate belongs to the one correct apple, but in reality the plate should be split between three apples.\n",
    "This is the problem we want to avoid for a single-cell segmentation, we don't want to have a whole cell segmentation be assigned to one nuclei when it actually contains multiple nuclei.\n"
   ]
  },
  {
   "cell_type": "code",
   "execution_count": 18,
   "id": "f2cf3a03",
   "metadata": {
    "execution": {
     "iopub.execute_input": "2025-06-19T20:07:33.454681Z",
     "iopub.status.busy": "2025-06-19T20:07:33.454396Z",
     "iopub.status.idle": "2025-06-19T20:07:34.728336Z",
     "shell.execute_reply": "2025-06-19T20:07:34.727854Z"
    },
    "papermill": {
     "duration": 1.284286,
     "end_time": "2025-06-19T20:07:34.729127",
     "exception": false,
     "start_time": "2025-06-19T20:07:33.444841",
     "status": "completed"
    },
    "tags": []
   },
   "outputs": [
    {
     "data": {
      "text/plain": [
       "('CellsOutlines_BR00145440_H14_7.tiff',\n",
       " 'r08c14f07p(\\\\d{2})-ch\\\\d+sk\\\\d+fk\\\\d+fl\\\\d+\\\\.tiff')"
      ]
     },
     "execution_count": 18,
     "metadata": {},
     "output_type": "execute_result"
    }
   ],
   "source": [
    "# change compartment to cells\n",
    "compartment = \"Cells\"\n",
    "\n",
    "# metadata columns to include in output data frame\n",
    "metadata_columns = [\n",
    "    \"Image_Metadata_Plate\",\n",
    "    \"Image_Metadata_Well\",\n",
    "    \"Image_Metadata_Site\",\n",
    "    f\"Metadata_{compartment}_Location_Center_X\",\n",
    "    f\"Metadata_{compartment}_Location_Center_Y\",\n",
    "    \"Image_FileName_OrigDNA\",\n",
    "    \"Image_FileName_OrigAGP\",\n",
    "    \"Image_PathName_OrigDNA\",\n",
    "    \"Image_PathName_OrigAGP\",\n",
    "    f\"{compartment}_AreaShape_BoundingBoxMaximum_X\",\n",
    "    f\"{compartment}_AreaShape_BoundingBoxMaximum_Y\",\n",
    "    f\"{compartment}_AreaShape_BoundingBoxMinimum_X\",\n",
    "    f\"{compartment}_AreaShape_BoundingBoxMinimum_Y\",\n",
    "]\n",
    "\n",
    "# create an outline and orig mapping dictionary to map original images to outlines\n",
    "# note: we turn off formatting here to avoid the key-value pairing definition\n",
    "# from being reformatted by black, which is normally preferred.\n",
    "# fmt: off\n",
    "outline_to_orig_mapping = {\n",
    "    rf\"{compartment}Outlines_{record['Image_Metadata_Plate']}_{record['Image_Metadata_Well']}_{record['Image_Metadata_Site']}.tiff\": \n",
    "    rf\"r{int(record['Image_Metadata_Row']):02d}c{int(record['Image_Metadata_Col']):02d}f{int(record['Image_Metadata_Site']):02d}p(\\d{{2}})-ch\\d+sk\\d+fk\\d+fl\\d+\\.tiff\"\n",
    "    for record in plate_df[\n",
    "        [\n",
    "            \"Image_Metadata_Plate\",\n",
    "            \"Image_Metadata_Well\",\n",
    "            \"Image_Metadata_Site\",\n",
    "            \"Image_Metadata_Row\",\n",
    "            \"Image_Metadata_Col\",\n",
    "        ]\n",
    "    ].to_dict(orient=\"records\")\n",
    "}\n",
    "# fmt: on\n",
    "\n",
    "next(iter(outline_to_orig_mapping.items()))"
   ]
  },
  {
   "cell_type": "markdown",
   "id": "aca03cd3",
   "metadata": {
    "papermill": {
     "duration": 0.005448,
     "end_time": "2025-06-19T20:07:34.740578",
     "exception": false,
     "start_time": "2025-06-19T20:07:34.735130",
     "status": "completed"
    },
    "tags": []
   },
   "source": [
    "### Filter down plate data to detect cells outliers (improves speed)"
   ]
  },
  {
   "cell_type": "code",
   "execution_count": 19,
   "id": "80f8d1a9",
   "metadata": {
    "execution": {
     "iopub.execute_input": "2025-06-19T20:07:34.752930Z",
     "iopub.status.busy": "2025-06-19T20:07:34.752178Z",
     "iopub.status.idle": "2025-06-19T20:07:34.790063Z",
     "shell.execute_reply": "2025-06-19T20:07:34.789547Z"
    },
    "papermill": {
     "duration": 0.04486,
     "end_time": "2025-06-19T20:07:34.791085",
     "exception": false,
     "start_time": "2025-06-19T20:07:34.746225",
     "status": "completed"
    },
    "tags": []
   },
   "outputs": [],
   "source": [
    "# Define the QC features\n",
    "qc_features = [\"Cells_Intensity_IntegratedIntensity_CorrDNA\"]\n",
    "\n",
    "# Filter plate_df to only include metadata columns and QC features\n",
    "filtered_plate_df = plate_df[metadata_columns + qc_features]"
   ]
  },
  {
   "cell_type": "markdown",
   "id": "044a2e19",
   "metadata": {
    "papermill": {
     "duration": 0.004399,
     "end_time": "2025-06-19T20:07:34.800365",
     "exception": false,
     "start_time": "2025-06-19T20:07:34.795966",
     "status": "completed"
    },
    "tags": []
   },
   "source": [
    "### Detect cell outliers"
   ]
  },
  {
   "cell_type": "code",
   "execution_count": 20,
   "id": "d197b094",
   "metadata": {
    "execution": {
     "iopub.execute_input": "2025-06-19T20:07:34.810034Z",
     "iopub.status.busy": "2025-06-19T20:07:34.809753Z",
     "iopub.status.idle": "2025-06-19T20:07:42.443156Z",
     "shell.execute_reply": "2025-06-19T20:07:42.442707Z"
    },
    "papermill": {
     "duration": 7.639056,
     "end_time": "2025-06-19T20:07:42.443916",
     "exception": false,
     "start_time": "2025-06-19T20:07:34.804860",
     "status": "completed"
    },
    "tags": []
   },
   "outputs": [
    {
     "name": "stdout",
     "output_type": "stream",
     "text": [
      "Number of outliers: 49199 (10.79%)\n",
      "Outliers Range:\n",
      "Cells_Intensity_IntegratedIntensity_CorrDNA Min: 192.83073890767992\n",
      "Cells_Intensity_IntegratedIntensity_CorrDNA Max: 15222.974077466875\n",
      "(49199, 2)\n"
     ]
    },
    {
     "data": {
      "text/html": [
       "<table border=\"1\" class=\"dataframe\">\n",
       "  <thead>\n",
       "    <tr style=\"text-align: right;\">\n",
       "      <th></th>\n",
       "      <th>Cells_Intensity_IntegratedIntensity_CorrDNA</th>\n",
       "      <th>Image_FileName_OrigDNA</th>\n",
       "    </tr>\n",
       "  </thead>\n",
       "  <tbody>\n",
       "    <tr>\n",
       "      <th>175801</th>\n",
       "      <td>192.830739</td>\n",
       "      <td><img src=\"data:image/png;base64,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\" style=\"width:300px;\"/></td>\n",
       "    </tr>\n",
       "    <tr>\n",
       "      <th>171169</th>\n",
       "      <td>192.830790</td>\n",
       "      <td><img src=\"data:image/png;base64,iVBORw0KGgoAAAANSUhEUgAAAD8AAABLCAIAAABIjshfAAAN80lEQVR4nJ1bTZMcxRHN7q7unp5BELty7CyxS4TkwGCBMdYHGOOQD1wwkpB8xDf8A/AZH7AlhwlzMX/CEIZfgYSEMBgElhAyYYwV3tlgdyO0urCrma7+8OFNv82u6hk+8jDRU1Pd/TIr82VWdk9wzz331HUtIiJirY3jWJRYa0VED8ZxjEEtcRznec5jEUmSZOPLDU5YvW+VJ/pXGK2NMMcZ4bkiguvzREA1DghHDY7gwFrrQ58jw+Xh5samRjNcHo7WRqv3rfr4nBNxgNMd0wCetTbQtv8O4qyViOBqsP1weYgJDlYogK+EopFxAnGLMjzFSJfDfGfokCRJnBHYEoaEAhrKrPXE9bUCWqy1xgcBZTr9W190jgvleQ4FtONpe88Xa63jWiurK9bafr+/u7urZxrvXBEVrH7UOjr4AtwbX244WAmIPu1fjbfTqo7WRhjXIYuDsPNCEAelAzdW8rUqQTpxExAxjdZGB79/0LkXJ2iDhnO8yvENnuYg9gd9w/NqZCF9budXPa6RaK82SZJ0cs4si/rWNcYURcF7GGM4szM2qACWQs/Z3NiE2hhE/CwNl7Y2txYWF3xljIgEQUCaq+vaUVRrrMFFUVSWZRRFIlKWJdVY+9+aRkA21F67uH9RRDZv7S0CVBouD0cbex7vc5ejbUfUduapOI7TNBWRsJEgCMJwGjZlWVZVFcfx9U+uP/DgAza2zgUdOsf44v5FHgO6tXa4PLRiyZWdClANg0s7k3jRfr8Po8ZxbIwJgiCKojAM8RkEgYjUdV3XdVVV7/39vcNHDudxHkXReDzuvKVeBO2EDGhnoXZ2djqNu1cp+IFS1zVcJU1TWNo0guML5y/4yI7/4njRK8IwLIoiDEMd934N0lnzdFLW7e3bS8MlK9ZRTDo9h5aOoiiOY0KP4/ji2xcx5+Spk1EUBUEA81dVVRSF7VlrrfYoxAZxO5bzFXDAYZqOWpLmNAidggwooyiKoohqxHF86eIlgJ4O7jN0nrquy7LM89xaO5lMgB5aFUVBBUAMYKdZLOkrkySJLtGc7Gk6oSdJQtxJklw4f+HEyRNJksT9GD9hHIQDw4/H4/F4DNCMB/wKBcBIpKyiKOYwOg7yPAf0peHS1vbWXfvuct2Es7Msw1oTHyCef+v8qWdPpVmapmmv10vTFONQT0RgeMQ0QWNB8MkVwHyY35FZmnTavoVeGhYHdPrM5Xcui8jpM6d7/R4ky7Isy6AYAqOqKrB+EARVVYF86kawDpjjmq3Jcf6I71ed0S/wnFkOIyJnfnUm62dZlvX7/X5/qkSSJAxNwA3DkGYuikKrwQAACzm4Z+ngaLI+Wl8aLknsFraGVocCYJg4js+/df70mdO9rJdl2d133z0YDLIs6/V6mBYEARwDBsbpSZKkacpxoJcmlzMANHTnwF8EZ+/RwZjTek2R+tsX3oavZ1k2GAwGg8G+fftgdUQqCQSLAPRFUfR6vaqqpElhjAHgw/rowNXQdUxrHeD3fqqe7k7AjwRx6eKlZ048k/ZTeDmgDwYDZC4RqapKewUOwjCM4xguXivBncg/dNnO2NWiPefAwQM3RzdXVldiVSoL/B5hSh2kqcmSJOn3+/CZNE3BKtq0cAlAN8bQ0rqCcBYBLuQEsSZT7ff4zPN8fbS+sroiXt1uvvjPF47ST//y6agfGWPgx1mWJUmCGkEbEtDDMCzLkgqgrEBgwNg6PHzoGrRveHzOKdSm5xw5eoQcH/ZC8A/ZnUUBoPBkXaiRhaADxsuydNAzMdPqjhp6fFZmYMZtaYwS0igBh8KjtBPrcgCfURRhnIUGbU8CRcgmSQKtWlZsw9XKOJsn7TnhsceOiciVD6+EbWEYsJonVnxlncOCmbxJpur3+3Q8SKREY3WWotOdaHtulcI0TZ/8+ZMi8u7ld7U5CZfLolE6OCCxkjRN+42AanGKtosGVzSigfLrgYMH1kfrviaGDK1Ba67wf4WT8BI41vGKU1hxpGkKrtDUTNN0egvH9U4VB1ubWyKyNFwSEZNlGfHhooytsiyttXmeo8onn2ohCCwOJ9CR0jQdj8fE7a/qniG7/ISysrqyvrkO3FBARMxgMHjzjTdF5OSpk5WpyCEs2YuisNbSxR3XcjiHhsdPzh5Sg8ZPTuw65qfA6rC3iCwsLmxtb4mIAfTnfv1ckRXgBzAjvBAKYNFhV37qUKb5cTq+6mqHhSfHHZN3kmPdbnD4Er7w2xdE5I2/vYEKDLEFHHAbrgCKRx0GDk3xliBHrB5Ox4mwDqs3mF9UwUPhUuDAqf5vb99eWFxYWFww2JSISK/XQxELfFVVwePH4zFYH8ZGveC7Ly2NrVae5+Px+M6dO3fu3KH+UKlqxLelLhlwQX/XAuj4apiHgT4IAtwGJ8NtGLiEq12ZbkAD45RJI3me67KZtsdk32d0eSzt9ORszw2VY0sQLQ1aCGistXAq7R7SRKe0N4RVW7TD0K+os96g6H2JtKt5JwBY1Ydnz50VkVf/8ioSjWY3UX7M4tHJu04+5qA+cApmmoDmkHZlJu1ykkzPbubUoFVVnf3DWRF58Xcv2shWVcVaV7OHA1fjZjkZdgkTs+YoVpq6AarVqL3GcCf5hFVVvfT7l0TklT+/whLNMT8tqj9ZD2urs/4JwxA1D4scXJNztNWlXWzWdT1n79LanegF5a6PQeaQN461h2jyYeqheqRgDV1nvTAMET+Ei7sY1VXvbA9aa+u6Npq5wjCEL3Y6q043+kLO+mDLwmWEAlqgCfoos5KRE7jkeE7Yi9ooihC4L//pZVpIJ0hdpnduW0VtuHTg4uLcJBC6NHtcJqxO6KI4HmWCbZ4I0txTxz33x3NQwGc3ZhmHp53UQ9C63KfocNK5WZc6eilwL91BIP1zWosHeDmNlTo4ybJU4idOzTYOEzjofUEE+6lKt1yn2cqnYSb2umnaECKLTZ1i4egMXJ3FSC8asR/lnUKrOw+t+Gue5wY9Or3VJ3oiQ4k2mUw0jWp/xTRdUXYWc05pJM2CowjHiC6Snf6HsxpJkhg/FY/HY2st+hxBu1p2crA0RATojHUdDH5kiyo0fOhEDB0cqnEkxCOD3d3dnZ2d53/zvIi89tfXJpMJFIDbADrMPx6PUXjhNkVbdAtEdxM0R+mqzkmxs1A6VcOehrA05PXXXheRZ08/aysrTYEA9DrLklXDMARW7UUkVkaLrtIc1/L5nkFprd3a3MITq3jG0yHz1VdfoYqk6nmewxlEJGo69EEQ5Hmu0YdN78nfpFPKtjgky7LMeH1wEZlCb3MO+1BT2+/s7OC6dERrbaC6fDC8tJ/UajNTyEW0LmMGtuxkWAc6YOFhemfUUpM4js3u7i7Jm5NQpdDqELBTFEXo4wWqiUBtNXqN288V4F8yjG2eIlprt29tD5eHs16g0MqY8XjMJcYoS3lNzwAKBZw6EYpFTSeQPgPoeSM6rLX5dUEvIoAuXU+ptODXEFs4mOGJnz0hIpffuaxJg5/akGAhkA/4h1mCK8lpnGPV7t7pnCFY8bxfz59jeMHzWnot7QHoLF+1u7OM0QEgItjTVE1DpSxLbRdojk8aAh7vJByC7iyMpV0zm/ffe19Ejhw9Ik2vRhpKhtPjgA6DICbJkEZFPaat65qLgxSh14f85vDM9q3txf2LdPdOwzuD05x85cMrHHr8p49XwV7FFqhHluR4HQPS9KGi5mkcInLSFroWMkwnrDmPZjnO4zzPDayu0bPMghugXNOGd5hU1HNPnOX0c5ihYX6con0G/Li4fzGXeYZ3ZLrnrOv68JHDgPjRlY8++McHxx47BugM31C1V50V13wP5Wn43d1dvAHgrwBP39zYxMtGeBvna4lSizHG0L+16AjmkwIWiYTL5M94KFU3itBxQKdn5E1fKhIrzfMp//2sORIcP36cpRgwffzRxyJy9NhRXQsEzUOhqHkurfcc6C9opgfr0er0H+61CV2Un3wrw4tI8NRTT+lSEdF59Z9XoYAubDRQB3eoujo6M2i3IXTApcN04p6fqqRxMxPHsY45crw0RFmrzhSsi7TKYot5gIM6xcKFnM2rdhgIPR4HDnS/JQg3C06cOEEaRj7Hz9c/uS4ij/7kUcf83Hez0gyaZ87SNGIRtSy8EQnS8Iy2OmHR9t8qcKfvY2LFw+bJApdY748C1fFjWhVpPRGh0zM6YS3t7lr8EQ3d9x/3LQuka91nBOJDDx268emNa1evPfyjhzEVNqbbiLe1BfMgeOD0+IkkQ14ndN0gkMbwzks4c1Td6486VqQC1z+5/siPH+Ei1M0uVlQpodkGEjSv5Ujj6Br3LED6Dw6z6hyttul0Zb8/wxF4Do5RS2MEHo/bs350mVGF6awyZpbhnbd08BkSup+wROTQQ4dE5NrVa9zLMR9BJpMJ9+yEjnuP1kabG5t8ydWxqD7wB7/JV2tt64VcLSTEB3/4oIjc+PQG+QQT9IYGtZeoJwggluHyEND1LZ0bzarj4/b7i3rOXoUs7TZLrTotgKhDU9N22X5RRRe9o7XRcHnov0Y2Cw1F06Uf0/7BXnrXGzbH7+//wf0i8tm/PiNuHaBIojz4Jv/QmJNH57yNo2UatbrBUjQdC5nbZOzcWxhj+McMHZ0+3K+1um7pICpmLVpIK7Lfws0b8EENmP/zf3/eCV1ERmuj5XuX939vPyFSZllBC8tjZ0frHIvz3wfbbNjQhMI8HyI7ozf/e7Pz9sv3LutzZbZ7+E0lNIRn1fdWvSlt2w+C/g/aGChHoJZm+AAAAABJRU5ErkJggg==\" style=\"width:300px;\"/></td>\n",
       "    </tr>\n",
       "  </tbody>\n",
       "</table>"
      ],
      "text/plain": [
       "        Cells_Intensity_IntegratedIntensity_CorrDNA  \\\n",
       "175801                                   192.830739   \n",
       "171169                                   192.830790   \n",
       "\n",
       "                Image_FileName_OrigDNA  \n",
       "175801  r16c05f01p01-ch5sk1fk1fl1.tiff  \n",
       "171169  r07c08f01p01-ch5sk1fk1fl1.tiff  "
      ]
     },
     "execution_count": 20,
     "metadata": {},
     "output_type": "execute_result"
    }
   ],
   "source": [
    "# Find cell outliers for the current plate\n",
    "cell_outliers = find_outliers(\n",
    "    df=filtered_plate_df,\n",
    "    metadata_columns=metadata_columns,\n",
    "    feature_thresholds={\n",
    "        # Set low to attempt to detect all instances of abnormally high int in nuclei for whole cells\n",
    "        \"Cells_Intensity_IntegratedIntensity_CorrDNA\": 0.5,\n",
    "    },\n",
    ")\n",
    "\n",
    "# MUST SET DATA AS DATAFRAME FOR OUTLINE DIR TO WORK\n",
    "cell_outliers_cdf = CytoDataFrame(\n",
    "    data=pd.DataFrame(cell_outliers),\n",
    "    data_outline_context_dir=f\"../2.feature_extraction/sqlite_outputs/{round_id}/{plate_id}/outlines\",\n",
    "    segmentation_file_regex=outline_to_orig_mapping,\n",
    ")[\n",
    "    [\n",
    "        \"Cells_Intensity_IntegratedIntensity_CorrDNA\",\n",
    "        \"Image_FileName_OrigDNA\",\n",
    "    ]\n",
    "]\n",
    "\n",
    "\n",
    "print(cell_outliers_cdf.shape)\n",
    "cell_outliers_cdf.sort_values(\n",
    "    by=\"Cells_Intensity_IntegratedIntensity_CorrDNA\", ascending=True\n",
    ").head(2)"
   ]
  },
  {
   "cell_type": "code",
   "execution_count": 21,
   "id": "54053967",
   "metadata": {
    "execution": {
     "iopub.execute_input": "2025-06-19T20:07:42.456144Z",
     "iopub.status.busy": "2025-06-19T20:07:42.455750Z",
     "iopub.status.idle": "2025-06-19T20:07:42.941461Z",
     "shell.execute_reply": "2025-06-19T20:07:42.941015Z"
    },
    "papermill": {
     "duration": 0.492213,
     "end_time": "2025-06-19T20:07:42.942183",
     "exception": false,
     "start_time": "2025-06-19T20:07:42.449970",
     "status": "completed"
    },
    "tags": []
   },
   "outputs": [
    {
     "data": {
      "text/html": [
       "<table border=\"1\" class=\"dataframe\">\n",
       "  <thead>\n",
       "    <tr style=\"text-align: right;\">\n",
       "      <th></th>\n",
       "      <th>Cells_Intensity_IntegratedIntensity_CorrDNA</th>\n",
       "      <th>Image_FileName_OrigDNA</th>\n",
       "    </tr>\n",
       "  </thead>\n",
       "  <tbody>\n",
       "    <tr>\n",
       "      <th>283787</th>\n",
       "      <td>220.535912</td>\n",
       "      <td><img src=\"data:image/png;base64,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\" style=\"width:300px;\"/></td>\n",
       "    </tr>\n",
       "    <tr>\n",
       "      <th>72133</th>\n",
       "      <td>975.017106</td>\n",
       "      <td><img src=\"data:image/png;base64,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\" style=\"width:300px;\"/></td>\n",
       "    </tr>\n",
       "  </tbody>\n",
       "</table>"
      ],
      "text/plain": [
       "        Cells_Intensity_IntegratedIntensity_CorrDNA  \\\n",
       "283787                                   220.535912   \n",
       "72133                                    975.017106   \n",
       "\n",
       "                Image_FileName_OrigDNA  \n",
       "283787  r05c22f03p01-ch5sk1fk1fl1.tiff  \n",
       "72133   r12c10f05p01-ch5sk1fk1fl1.tiff  "
      ]
     },
     "execution_count": 21,
     "metadata": {},
     "output_type": "execute_result"
    }
   ],
   "source": [
    "cell_outliers_cdf.sample(n=2, random_state=0)"
   ]
  },
  {
   "cell_type": "markdown",
   "id": "b71838fd",
   "metadata": {
    "papermill": {
     "duration": 0.006707,
     "end_time": "2025-06-19T20:07:42.954621",
     "exception": false,
     "start_time": "2025-06-19T20:07:42.947914",
     "status": "completed"
    },
    "tags": []
   },
   "source": [
    "## Save the outlier indices to use for reporting"
   ]
  },
  {
   "cell_type": "code",
   "execution_count": 22,
   "id": "5aaa313f",
   "metadata": {
    "execution": {
     "iopub.execute_input": "2025-06-19T20:07:42.969857Z",
     "iopub.status.busy": "2025-06-19T20:07:42.969621Z",
     "iopub.status.idle": "2025-06-19T20:07:44.232373Z",
     "shell.execute_reply": "2025-06-19T20:07:44.231990Z"
    },
    "papermill": {
     "duration": 1.271449,
     "end_time": "2025-06-19T20:07:44.232985",
     "exception": false,
     "start_time": "2025-06-19T20:07:42.961536",
     "status": "completed"
    },
    "tags": []
   },
   "outputs": [
    {
     "name": "stdout",
     "output_type": "stream",
     "text": [
      "Total failing single cells: 68516 (15.03%)\n"
     ]
    }
   ],
   "source": [
    "# Identify failing indices from both outlier dataframes\n",
    "outlier_indices = pd.concat(\n",
    "    [nuclei_clustered_outliers, solidity_nuclei_outliers, cell_outliers]\n",
    ").index.unique()\n",
    "\n",
    "# Create a new dataframe with only the failing rows\n",
    "failing_df = plate_df.loc[outlier_indices, metadata_columns].copy()\n",
    "\n",
    "# Add failure condition columns, marking all rows as True for each condition they failed\n",
    "failing_df[\"Failed_ClusteredNuclei\"] = failing_df.index.isin(\n",
    "    nuclei_clustered_outliers.index\n",
    ")\n",
    "failing_df[\"Failed_SolidityNuclei\"] = failing_df.index.isin(\n",
    "    solidity_nuclei_outliers.index\n",
    ")\n",
    "failing_df[\"Failed_CellsMultipleNuclei\"] = failing_df.index.isin(cell_outliers.index)\n",
    "\n",
    "# Ensure boolean dtype\n",
    "failing_df = failing_df.astype(\n",
    "    {\n",
    "        \"Failed_ClusteredNuclei\": bool,\n",
    "        \"Failed_SolidityNuclei\": bool,\n",
    "        \"Failed_CellsMultipleNuclei\": bool,\n",
    "    }\n",
    ")\n",
    "\n",
    "# Keep original indices for later\n",
    "failing_df = failing_df.reset_index().rename(columns={\"index\": \"original_indices\"})\n",
    "\n",
    "# Save the indices dataframe as CSV\n",
    "failing_df.to_csv(\n",
    "    pathlib.Path(f\"{qc_results_dir}/{plate_id}_failed_qc_indices.csv.gz\"),\n",
    "    compression=\"gzip\",\n",
    "    index=False,\n",
    ")\n",
    "\n",
    "# Calculate percentage failed\n",
    "total_rows = plate_df.shape[0]\n",
    "failed_percentage = (failing_df.shape[0] / total_rows) * 100\n",
    "\n",
    "# Print summary with percentage\n",
    "print(f\"Total failing single cells: {failing_df.shape[0]} ({failed_percentage:.2f}%)\")"
   ]
  },
  {
   "cell_type": "markdown",
   "id": "72ba8176",
   "metadata": {
    "papermill": {
     "duration": 0.005307,
     "end_time": "2025-06-19T20:07:44.243619",
     "exception": false,
     "start_time": "2025-06-19T20:07:44.238312",
     "status": "completed"
    },
    "tags": []
   },
   "source": [
    "## Clean and save the data"
   ]
  },
  {
   "cell_type": "code",
   "execution_count": 23,
   "id": "ff4da2ad",
   "metadata": {
    "execution": {
     "iopub.execute_input": "2025-06-19T20:07:44.257491Z",
     "iopub.status.busy": "2025-06-19T20:07:44.256362Z",
     "iopub.status.idle": "2025-06-19T20:08:32.370431Z",
     "shell.execute_reply": "2025-06-19T20:08:32.370009Z"
    },
    "papermill": {
     "duration": 48.127481,
     "end_time": "2025-06-19T20:08:32.376907",
     "exception": false,
     "start_time": "2025-06-19T20:07:44.249426",
     "status": "completed"
    },
    "tags": []
   },
   "outputs": [
    {
     "name": "stdout",
     "output_type": "stream",
     "text": [
      "BR00145440 has been cleaned and saved with the shape: (387332, 3035).\n"
     ]
    }
   ],
   "source": [
    "# Remove rows with outlier indices\n",
    "plate_df_cleaned = plate_df.drop(outlier_indices)\n",
    "\n",
    "# Save cleaned data for this plate\n",
    "plate_df_cleaned.to_parquet(f\"{cleaned_dir}/{plate_id}_cleaned.parquet\")\n",
    "\n",
    "# Print the plate name and the shape of the cleaned data\n",
    "print(\n",
    "    f\"{plate_id} has been cleaned and saved with the shape: {plate_df_cleaned.shape}.\"\n",
    ")"
   ]
  }
 ],
 "metadata": {
  "kernelspec": {
   "display_name": "alsf_preprocessing_env",
   "language": "python",
   "name": "python3"
  },
  "language_info": {
   "codemirror_mode": {
    "name": "ipython",
    "version": 3
   },
   "file_extension": ".py",
   "mimetype": "text/x-python",
   "name": "python",
   "nbconvert_exporter": "python",
   "pygments_lexer": "ipython3",
   "version": "3.10.16"
  },
  "papermill": {
   "default_parameters": {},
   "duration": 134.224976,
   "end_time": "2025-06-19T20:08:35.947337",
   "environment_variables": {},
   "exception": null,
   "input_path": "1.sc_quality_control.ipynb",
   "output_path": "1.sc_quality_control.ipynb",
   "parameters": {
    "plate_id": "BR00145440"
   },
   "start_time": "2025-06-19T20:06:21.722361",
   "version": "2.6.0"
  }
 },
 "nbformat": 4,
 "nbformat_minor": 5
}
