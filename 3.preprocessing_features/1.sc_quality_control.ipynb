{
 "cells": [
  {
   "cell_type": "markdown",
   "id": "97791360",
   "metadata": {
    "papermill": {
     "duration": 0.00569,
     "end_time": "2025-07-28T18:40:01.318435",
     "exception": false,
     "start_time": "2025-07-28T18:40:01.312745",
     "status": "completed"
    },
    "tags": []
   },
   "source": [
    "# Perform single-cell quality control\n",
    "\n",
    "In this notebook, we perform single-cell quality control using coSMicQC. We filter the single cells by identifying outliers with z-scores, and use either combinations of features or one feature for each condition. We use features from the AreaShape and Intensity modules to assess the quality of the segmented single-cells:\n",
    "\n",
    "### Assessing poor nuclei segmentation\n",
    "\n",
    "Due to high confluence with various seeding densities, sometimes nuclei overlap on top of each other, creating highly intense clusters within the Hoechst channel. \n",
    "To identify these nuclei, we use:\n",
    "\n",
    "- **Nuclei mass displacement:** This metric quantifies how different the segmentation versus intensity based centeroids are, which can reflect multiple nuclei within one segmentation. \n",
    "- **Nuclei intensity:** This metric quantifies the total intensity of all pixels in a nucleus segmentation. \n",
    "In combination with abnormally high mass displacement, we detect nuclei that are also highly intense, likely indicating that this a group of overlapped nuclei.\n",
    "\n",
    "For the preliminary dataset, we are working with cells that have not been treated so we do not expect any crazy phenotypes. Given that context, we can use a feature called Solidity. From ChatGPT, the simple explanation is that this features compares the area of the object to its convex hull, which measures compactness in relation to convexity. High solidity implies few indentations, while lower solidity indicates more irregularity.\n",
    "\n",
    "- **Nuclei solidity:** This metric quantifies the compactness of the nuclei shape.\n",
    "When a nuclei is mis-segmented, we see more protrusions or harsh outlines around the segmentations, which we expect this is what this feature will detect.\n",
    "\n",
    "### Assessing poor cell segmentation\n",
    "\n",
    "Also due to high confluence, overlapping nuclei can lead to the CellProfiler segmentation algorithm to sometimes keep bad segmentations (which is why we have coSMicQC) but can also detect these segmentations as being \"too large\" based on the parameters. \n",
    "This leads to poor cell segmentations because CellProfiler will remove the context of the nuclei it couldn't segment, leading to segmenting multiple cells as one cell and assigning it to one nuclei.\n",
    "To identify these cells, we use:\n",
    "\n",
    "- **Cell intensity in the nuclei channel:** This metric quantifies the total intensity of all pixels of a cell segmentation in the nuclei channel. We would expect fairly low total intensity in the nuclei channel for whole cells as there is only one \n",
    "\n"
   ]
  },
  {
   "cell_type": "code",
   "execution_count": 1,
   "id": "65a52f14",
   "metadata": {
    "execution": {
     "iopub.execute_input": "2025-07-28T18:40:01.329798Z",
     "iopub.status.busy": "2025-07-28T18:40:01.329301Z",
     "iopub.status.idle": "2025-07-28T18:40:02.267345Z",
     "shell.execute_reply": "2025-07-28T18:40:02.266924Z"
    },
    "papermill": {
     "duration": 0.944806,
     "end_time": "2025-07-28T18:40:02.268403",
     "exception": false,
     "start_time": "2025-07-28T18:40:01.323597",
     "status": "completed"
    },
    "tags": []
   },
   "outputs": [],
   "source": [
    "import pathlib\n",
    "import re\n",
    "import time\n",
    "\n",
    "import matplotlib.pyplot as plt\n",
    "import pandas as pd\n",
    "import seaborn as sns\n",
    "\n",
    "from cytodataframe import CytoDataFrame\n",
    "from cosmicqc import find_outliers\n",
    "\n",
    "# Ignore FutureWarnings from cytodataframe due to skimage deprecation (does not affect functionality)\n",
    "import warnings\n",
    "\n",
    "warnings.filterwarnings(\"ignore\", category=FutureWarning)"
   ]
  },
  {
   "cell_type": "markdown",
   "id": "75b3c263",
   "metadata": {
    "papermill": {
     "duration": 0.003731,
     "end_time": "2025-07-28T18:40:02.276402",
     "exception": false,
     "start_time": "2025-07-28T18:40:02.272671",
     "status": "completed"
    },
    "tags": []
   },
   "source": [
    "# Set functions for plotting"
   ]
  },
  {
   "cell_type": "markdown",
   "id": "7cc84d89",
   "metadata": {
    "papermill": {
     "duration": 0.003753,
     "end_time": "2025-07-28T18:40:02.283963",
     "exception": false,
     "start_time": "2025-07-28T18:40:02.280210",
     "status": "completed"
    },
    "tags": []
   },
   "source": [
    "### Function to plot scatterplot"
   ]
  },
  {
   "cell_type": "code",
   "execution_count": 2,
   "id": "e249d9a9",
   "metadata": {
    "execution": {
     "iopub.execute_input": "2025-07-28T18:40:02.294755Z",
     "iopub.status.busy": "2025-07-28T18:40:02.294046Z",
     "iopub.status.idle": "2025-07-28T18:40:02.301208Z",
     "shell.execute_reply": "2025-07-28T18:40:02.300680Z"
    },
    "papermill": {
     "duration": 0.013787,
     "end_time": "2025-07-28T18:40:02.302025",
     "exception": false,
     "start_time": "2025-07-28T18:40:02.288238",
     "status": "completed"
    },
    "tags": []
   },
   "outputs": [],
   "source": [
    "def plot_cluster_nuclei_outliers(\n",
    "    plate_df: pd.DataFrame,\n",
    "    outliers_df: pd.DataFrame,\n",
    "    plate_name: str,\n",
    "    qc_fig_dir: pathlib.Path,\n",
    ") -> None:\n",
    "    \"\"\"Plot scatterplot of the cluster nuclei outliers.\n",
    "\n",
    "    Args:\n",
    "        plate_df (pd.DataFrame): Dataframe of the CytoTable output with the morphology profiles.\n",
    "        outliers_df (pd.DataFrame): Dataframe of the coSMicQC output which includes the identified outliers.\n",
    "        plate_name (str): String of the plate's name or ID.\n",
    "        qc_fig_dir (pathlib.Path): Path to the directory to save the plot.\n",
    "    \"\"\"\n",
    "    # Create a copy of plate_df to avoid modifying the original\n",
    "    plate_df = plate_df.copy()\n",
    "\n",
    "    # Set the default 'Outlier_Status' to 'Single-cell passed QC'\n",
    "    plate_df[\"Outlier_Status\"] = \"Single-cell passed QC\"\n",
    "\n",
    "    # Update 'Outlier_Status' for cells that failed QC\n",
    "    plate_df.loc[plate_df.index.isin(outliers_df.index), \"Outlier_Status\"] = (\n",
    "        \"Single-cell failed QC\"\n",
    "    )\n",
    "\n",
    "    # Create scatter plot\n",
    "    plt.figure(figsize=(10, 6))\n",
    "    sns.scatterplot(\n",
    "        data=plate_df,\n",
    "        x=\"Nuclei_Intensity_MassDisplacement_CorrDNA\",\n",
    "        y=\"Nuclei_Intensity_IntegratedIntensity_CorrDNA\",\n",
    "        hue=\"Outlier_Status\",\n",
    "        palette={\n",
    "            \"Single-cell passed QC\": \"#006400\",\n",
    "            \"Single-cell failed QC\": \"#990090\",\n",
    "        },\n",
    "        alpha=0.2,\n",
    "    )\n",
    "\n",
    "    # Add threshold lines\n",
    "    plt.axvline(\n",
    "        x=outliers_df[\"Nuclei_Intensity_MassDisplacement_CorrDNA\"].min(),\n",
    "        color=\"r\",\n",
    "        linestyle=\"--\",\n",
    "        label=\"Min. threshold for Nuclei Mass Displacement\",\n",
    "    )\n",
    "    plt.axhline(\n",
    "        y=outliers_df[\"Nuclei_Intensity_IntegratedIntensity_CorrDNA\"].min(),\n",
    "        color=\"b\",\n",
    "        linestyle=\"--\",\n",
    "        label=\"Min. threshold for Nuclei Intensity\",\n",
    "    )\n",
    "\n",
    "    # Customize plot\n",
    "    plt.title(\n",
    "        f\"Nuclei Mass Displacement vs. Nuclei Integrated Intensity for plate {plate_name}\"\n",
    "    )\n",
    "    plt.xlabel(\"Nuclei Mass Displacement (Hoechst)\")\n",
    "    plt.ylabel(\"Nuclei Integrated Intensity (Hoechst)\")\n",
    "    plt.tight_layout()\n",
    "\n",
    "    # Show legend\n",
    "    plt.legend(loc=\"upper right\", bbox_to_anchor=(1.0, 1.0), prop={\"size\": 10})\n",
    "\n",
    "    # Save figure without showing it\n",
    "    plt.savefig(\n",
    "        pathlib.Path(f\"{qc_fig_dir}/{plate_name}_cluster_nuclei_outliers.png\"), dpi=500\n",
    "    )\n",
    "    plt.close()  # Close the plot to prevent it from displaying"
   ]
  },
  {
   "cell_type": "markdown",
   "id": "61eb6cda",
   "metadata": {
    "papermill": {
     "duration": 0.003743,
     "end_time": "2025-07-28T18:40:02.311532",
     "exception": false,
     "start_time": "2025-07-28T18:40:02.307789",
     "status": "completed"
    },
    "tags": []
   },
   "source": [
    "### Function to plot KDE"
   ]
  },
  {
   "cell_type": "code",
   "execution_count": 3,
   "id": "da82f7bc",
   "metadata": {
    "execution": {
     "iopub.execute_input": "2025-07-28T18:40:02.320087Z",
     "iopub.status.busy": "2025-07-28T18:40:02.319628Z",
     "iopub.status.idle": "2025-07-28T18:40:02.325143Z",
     "shell.execute_reply": "2025-07-28T18:40:02.324490Z"
    },
    "papermill": {
     "duration": 0.010669,
     "end_time": "2025-07-28T18:40:02.325919",
     "exception": false,
     "start_time": "2025-07-28T18:40:02.315250",
     "status": "completed"
    },
    "tags": []
   },
   "outputs": [],
   "source": [
    "def plot_nuclei_solidity_histogram(\n",
    "    plate_df: pd.DataFrame,\n",
    "    outliers_df: pd.DataFrame,\n",
    "    plate_name: str,\n",
    "    qc_fig_dir: pathlib.Path,\n",
    ") -> None:\n",
    "    \"\"\"Plot histogram of the nuclei solidity outliers.\n",
    "\n",
    "    Args:\n",
    "        plate_df (pd.DataFrame): Dataframe of the CytoTable output with the morphology profiles.\n",
    "        outliers_df (pd.DataFrame): Dataframe of the coSMicQC output which includes the identified outliers.\n",
    "        plate_name (str): String of the plate's name or ID.\n",
    "        qc_fig_dir (pathlib.Path): Path to the directory to save the plot.\n",
    "    \"\"\"\n",
    "    # Create a copy of plate_df to avoid modifying the original\n",
    "    plate_df = plate_df.copy()\n",
    "\n",
    "    # Set the default 'Outlier_Status' to 'Single-cell passed QC'\n",
    "    plate_df[\"Outlier_Status\"] = \"Single-cell passed QC\"\n",
    "\n",
    "    # Update 'Outlier_Status' for cells that failed QC\n",
    "    plate_df.loc[plate_df.index.isin(outliers_df.index), \"Outlier_Status\"] = (\n",
    "        \"Single-cell failed QC\"\n",
    "    )\n",
    "\n",
    "    # Create histogram\n",
    "    plt.figure(figsize=(10, 6))\n",
    "    sns.histplot(\n",
    "        data=plate_df,\n",
    "        x=\"Nuclei_AreaShape_Solidity\",\n",
    "        hue=\"Outlier_Status\",\n",
    "        palette={\n",
    "            \"Single-cell passed QC\": \"#006400\",\n",
    "            \"Single-cell failed QC\": \"#990090\",\n",
    "        },\n",
    "        multiple=\"stack\",  # Stacks bars based on hue\n",
    "        bins=50,  # Number of bins\n",
    "        kde=False,\n",
    "    )\n",
    "\n",
    "    # Add threshold line\n",
    "    max_threshold = outliers_df[\"Nuclei_AreaShape_Solidity\"].max()\n",
    "    plt.axvline(\n",
    "        x=max_threshold,\n",
    "        color=\"r\",\n",
    "        linestyle=\"--\",\n",
    "        label=f\"Threshold for Outliers: < {max_threshold}\",\n",
    "    )\n",
    "\n",
    "    # Customize plot\n",
    "    plt.ylabel(\"Count\")\n",
    "    plt.xlabel(\"Nuclei Solidity\")\n",
    "    plt.title(f\"Distribution of Nuclei Solidity for plate {plate_name}\")\n",
    "    plt.legend()\n",
    "    plt.tight_layout()\n",
    "\n",
    "    # Save figure without showing it\n",
    "    plt.savefig(\n",
    "        pathlib.Path(\n",
    "            f\"{qc_fig_dir}/{plate_name}_nuclei_solidity_outliers_histogram.png\"\n",
    "        ),\n",
    "        dpi=500,\n",
    "    )\n",
    "    plt.close()  # Close the plot to prevent it from displaying"
   ]
  },
  {
   "cell_type": "markdown",
   "id": "f4210f5e",
   "metadata": {
    "papermill": {
     "duration": 0.004609,
     "end_time": "2025-07-28T18:40:02.335407",
     "exception": false,
     "start_time": "2025-07-28T18:40:02.330798",
     "status": "completed"
    },
    "tags": []
   },
   "source": [
    "## Set paths and variables"
   ]
  },
  {
   "cell_type": "code",
   "execution_count": 4,
   "id": "a9b48c7c",
   "metadata": {
    "execution": {
     "iopub.execute_input": "2025-07-28T18:40:02.345249Z",
     "iopub.status.busy": "2025-07-28T18:40:02.344700Z",
     "iopub.status.idle": "2025-07-28T18:40:02.347407Z",
     "shell.execute_reply": "2025-07-28T18:40:02.346982Z"
    },
    "papermill": {
     "duration": 0.0077,
     "end_time": "2025-07-28T18:40:02.347999",
     "exception": false,
     "start_time": "2025-07-28T18:40:02.340299",
     "status": "completed"
    },
    "tags": [
     "parameters"
    ]
   },
   "outputs": [],
   "source": [
    "# Set parameter for papermill to use for processing\n",
    "plate_id = \"BR00145816\""
   ]
  },
  {
   "cell_type": "code",
   "execution_count": 5,
   "id": "f6dc8a90",
   "metadata": {
    "execution": {
     "iopub.execute_input": "2025-07-28T18:40:02.356665Z",
     "iopub.status.busy": "2025-07-28T18:40:02.356277Z",
     "iopub.status.idle": "2025-07-28T18:40:02.359011Z",
     "shell.execute_reply": "2025-07-28T18:40:02.358444Z"
    },
    "papermill": {
     "duration": 0.008055,
     "end_time": "2025-07-28T18:40:02.359685",
     "exception": false,
     "start_time": "2025-07-28T18:40:02.351630",
     "status": "completed"
    },
    "tags": [
     "injected-parameters"
    ]
   },
   "outputs": [],
   "source": [
    "# Parameters\n",
    "plate_id = \"BR00147495\"\n"
   ]
  },
  {
   "cell_type": "markdown",
   "id": "20570692",
   "metadata": {
    "papermill": {
     "duration": 0.003911,
     "end_time": "2025-07-28T18:40:02.367450",
     "exception": false,
     "start_time": "2025-07-28T18:40:02.363539",
     "status": "completed"
    },
    "tags": []
   },
   "source": [
    "## Injected parameter from papermill that updates for every plate being processed"
   ]
  },
  {
   "cell_type": "code",
   "execution_count": 6,
   "id": "483a7fd7",
   "metadata": {
    "execution": {
     "iopub.execute_input": "2025-07-28T18:40:02.378462Z",
     "iopub.status.busy": "2025-07-28T18:40:02.378035Z",
     "iopub.status.idle": "2025-07-28T18:40:02.383079Z",
     "shell.execute_reply": "2025-07-28T18:40:02.382258Z"
    },
    "papermill": {
     "duration": 0.013091,
     "end_time": "2025-07-28T18:40:02.384773",
     "exception": false,
     "start_time": "2025-07-28T18:40:02.371682",
     "status": "completed"
    },
    "tags": []
   },
   "outputs": [],
   "source": [
    "# Set the round of data being processed\n",
    "round_id = \"Round_3_data\"\n",
    "\n",
    "# Directory containing the converted profiles\n",
    "data_dir = pathlib.Path(f\"./data/converted_profiles/{round_id}\")\n",
    "\n",
    "# Directory to save cleaned data\n",
    "cleaned_dir = pathlib.Path(f\"./data/cleaned_profiles/{round_id}\")\n",
    "cleaned_dir.mkdir(exist_ok=True)\n",
    "\n",
    "# Directory to save qc figures\n",
    "qc_fig_dir = pathlib.Path(f\"./qc_figures/{round_id}\")\n",
    "qc_fig_dir.mkdir(exist_ok=True)\n",
    "\n",
    "# Directory to save qc results\n",
    "qc_results_dir = pathlib.Path(f\"./qc_results/{round_id}\")\n",
    "qc_results_dir.mkdir(exist_ok=True)\n",
    "\n",
    "# Create an empty dictionary to store data frames for each plate\n",
    "all_qc_data_frames = {}\n",
    "\n",
    "# Set the compartment of choice to perform QC at the start (will change later)\n",
    "compartment = \"Nuclei\""
   ]
  },
  {
   "cell_type": "markdown",
   "id": "5bfaaea6",
   "metadata": {
    "papermill": {
     "duration": 0.005224,
     "end_time": "2025-07-28T18:40:02.396876",
     "exception": false,
     "start_time": "2025-07-28T18:40:02.391652",
     "status": "completed"
    },
    "tags": []
   },
   "source": [
    "## Load in plate to perform QC on"
   ]
  },
  {
   "cell_type": "code",
   "execution_count": 7,
   "id": "dcaaa2e9",
   "metadata": {
    "execution": {
     "iopub.execute_input": "2025-07-28T18:40:02.409556Z",
     "iopub.status.busy": "2025-07-28T18:40:02.409208Z",
     "iopub.status.idle": "2025-07-28T18:40:11.964413Z",
     "shell.execute_reply": "2025-07-28T18:40:11.963927Z"
    },
    "papermill": {
     "duration": 9.563066,
     "end_time": "2025-07-28T18:40:11.965432",
     "exception": false,
     "start_time": "2025-07-28T18:40:02.402366",
     "status": "completed"
    },
    "tags": []
   },
   "outputs": [
    {
     "name": "stdout",
     "output_type": "stream",
     "text": [
      "Loaded plate: BR00147495, Shape: (124555, 3035), Time taken: 9.55 seconds\n"
     ]
    }
   ],
   "source": [
    "# Construct the file path for the given plate_id\n",
    "file_path = data_dir / f\"{plate_id}_converted.parquet\"\n",
    "\n",
    "if file_path.exists():\n",
    "    start_time = time.time()  # Start timer for loading\n",
    "\n",
    "    # Load the DataFrame with pandas\n",
    "    plate_df = pd.read_parquet(file_path, engine=\"pyarrow\")\n",
    "\n",
    "    end_time = time.time()  # End timer for loading\n",
    "    print(\n",
    "        f\"Loaded plate: {plate_id}, Shape: {plate_df.shape}, Time taken: {end_time - start_time:.2f} seconds\"\n",
    "    )\n",
    "else:\n",
    "    print(f\"Parquet file for plate {plate_id} not found.\")"
   ]
  },
  {
   "cell_type": "markdown",
   "id": "b6c59940",
   "metadata": {
    "papermill": {
     "duration": 0.004866,
     "end_time": "2025-07-28T18:40:11.975314",
     "exception": false,
     "start_time": "2025-07-28T18:40:11.970448",
     "status": "completed"
    },
    "tags": []
   },
   "source": [
    "## Correct all columns with PathName to have the correct parent path\n",
    "\n",
    "When ran on HPC, the path will reflect that of the HPC and not local when we are processing this data."
   ]
  },
  {
   "cell_type": "code",
   "execution_count": 8,
   "id": "a1d6b1f2",
   "metadata": {
    "execution": {
     "iopub.execute_input": "2025-07-28T18:40:11.986044Z",
     "iopub.status.busy": "2025-07-28T18:40:11.985694Z",
     "iopub.status.idle": "2025-07-28T18:40:13.223803Z",
     "shell.execute_reply": "2025-07-28T18:40:13.223270Z"
    },
    "papermill": {
     "duration": 1.244266,
     "end_time": "2025-07-28T18:40:13.224549",
     "exception": false,
     "start_time": "2025-07-28T18:40:11.980283",
     "status": "completed"
    },
    "tags": []
   },
   "outputs": [
    {
     "name": "stdout",
     "output_type": "stream",
     "text": [
      "/media/18tbdrive/ALSF_pilot_data/Round_3_data/Plate 7 All Cell Lines/BR00147495__2025-05-17T02_34_52-Measurement 1/Images\n"
     ]
    }
   ],
   "source": [
    "correct_parent = \"/media/18tbdrive/ALSF_pilot_data\"\n",
    "\n",
    "for col in plate_df.columns:\n",
    "    if \"PathName\" in col and \"Illum\" not in col:\n",
    "        plate_df[col] = plate_df[col].apply(\n",
    "            lambda x: (\n",
    "                re.sub(r\"^.*ALSF_pilot_data/\", correct_parent + \"/\", x)\n",
    "                if isinstance(x, str)\n",
    "                else x\n",
    "            )\n",
    "        )\n",
    "\n",
    "# Print example image path after fix\n",
    "print(plate_df[\"Image_PathName_OrigDNA\"].dropna().iloc[0])"
   ]
  },
  {
   "cell_type": "markdown",
   "id": "f274764f",
   "metadata": {
    "papermill": {
     "duration": 0.004982,
     "end_time": "2025-07-28T18:40:13.234871",
     "exception": false,
     "start_time": "2025-07-28T18:40:13.229889",
     "status": "completed"
    },
    "tags": []
   },
   "source": [
    "## Reduce down the plate columns to the features to be used for QC and metadata (improves speed)"
   ]
  },
  {
   "cell_type": "code",
   "execution_count": 9,
   "id": "80adc837",
   "metadata": {
    "execution": {
     "iopub.execute_input": "2025-07-28T18:40:13.246264Z",
     "iopub.status.busy": "2025-07-28T18:40:13.245739Z",
     "iopub.status.idle": "2025-07-28T18:40:13.260450Z",
     "shell.execute_reply": "2025-07-28T18:40:13.259996Z"
    },
    "papermill": {
     "duration": 0.021564,
     "end_time": "2025-07-28T18:40:13.261598",
     "exception": false,
     "start_time": "2025-07-28T18:40:13.240034",
     "status": "completed"
    },
    "tags": []
   },
   "outputs": [],
   "source": [
    "# metadata columns to include in output data frame\n",
    "metadata_columns = [\n",
    "    \"Image_Metadata_Plate\",\n",
    "    \"Image_Metadata_Well\",\n",
    "    \"Image_Metadata_Site\",\n",
    "    f\"Metadata_{compartment}_Location_Center_X\",\n",
    "    f\"Metadata_{compartment}_Location_Center_Y\",\n",
    "    \"Image_FileName_OrigDNA\",\n",
    "    \"Image_FileName_OrigAGP\",\n",
    "    \"Image_PathName_OrigDNA\",\n",
    "    \"Image_PathName_OrigAGP\",\n",
    "    f\"{compartment}_AreaShape_BoundingBoxMaximum_X\",\n",
    "    f\"{compartment}_AreaShape_BoundingBoxMaximum_Y\",\n",
    "    f\"{compartment}_AreaShape_BoundingBoxMinimum_X\",\n",
    "    f\"{compartment}_AreaShape_BoundingBoxMinimum_Y\",\n",
    "]\n",
    "\n",
    "# Define the QC features\n",
    "qc_features = [\n",
    "    \"Nuclei_Intensity_IntegratedIntensity_CorrDNA\",\n",
    "    \"Nuclei_AreaShape_Solidity\",\n",
    "    \"Nuclei_Intensity_MassDisplacement_CorrDNA\",\n",
    "]\n",
    "\n",
    "# Filter plate_df to only include metadata columns and QC features\n",
    "filtered_plate_df = plate_df[metadata_columns + qc_features]"
   ]
  },
  {
   "cell_type": "code",
   "execution_count": 10,
   "id": "88447a2d",
   "metadata": {
    "execution": {
     "iopub.execute_input": "2025-07-28T18:40:13.276277Z",
     "iopub.status.busy": "2025-07-28T18:40:13.275899Z",
     "iopub.status.idle": "2025-07-28T18:40:13.286273Z",
     "shell.execute_reply": "2025-07-28T18:40:13.285732Z"
    },
    "papermill": {
     "duration": 0.018178,
     "end_time": "2025-07-28T18:40:13.287124",
     "exception": false,
     "start_time": "2025-07-28T18:40:13.268946",
     "status": "completed"
    },
    "tags": []
   },
   "outputs": [
    {
     "name": "stdout",
     "output_type": "stream",
     "text": [
      "/media/18tbdrive/ALSF_pilot_data/Round_3_data/Plate 7 All Cell Lines/BR00147495__2025-05-17T02_34_52-Measurement 1/Images\n"
     ]
    }
   ],
   "source": [
    "# Print example image path after fix\n",
    "print(filtered_plate_df[\"Image_PathName_OrigDNA\"].dropna().iloc[0])"
   ]
  },
  {
   "cell_type": "markdown",
   "id": "1edb3bad",
   "metadata": {
    "papermill": {
     "duration": 0.005318,
     "end_time": "2025-07-28T18:40:13.297904",
     "exception": false,
     "start_time": "2025-07-28T18:40:13.292586",
     "status": "completed"
    },
    "tags": []
   },
   "source": [
    "## Set mapping for outlines"
   ]
  },
  {
   "cell_type": "code",
   "execution_count": 11,
   "id": "f49e1c86",
   "metadata": {
    "execution": {
     "iopub.execute_input": "2025-07-28T18:40:13.307514Z",
     "iopub.status.busy": "2025-07-28T18:40:13.307268Z",
     "iopub.status.idle": "2025-07-28T18:40:13.682729Z",
     "shell.execute_reply": "2025-07-28T18:40:13.682373Z"
    },
    "papermill": {
     "duration": 0.3809,
     "end_time": "2025-07-28T18:40:13.683471",
     "exception": false,
     "start_time": "2025-07-28T18:40:13.302571",
     "status": "completed"
    },
    "tags": []
   },
   "outputs": [
    {
     "data": {
      "text/plain": [
       "('NucleiOutlines_BR00147495_C03_1.tiff',\n",
       " 'r03c03f01p(\\\\d{2})-ch\\\\d+sk\\\\d+fk\\\\d+fl\\\\d+\\\\.tiff')"
      ]
     },
     "execution_count": 11,
     "metadata": {},
     "output_type": "execute_result"
    }
   ],
   "source": [
    "# create an outline and orig mapping dictionary to map original images to outlines\n",
    "# note: we turn off formatting here to avoid the key-value pairing definition\n",
    "# from being reformatted by black, which is normally preferred.\n",
    "# fmt: off\n",
    "outline_to_orig_mapping = {\n",
    "    rf\"{compartment}Outlines_{record['Image_Metadata_Plate']}_{record['Image_Metadata_Well']}_{record['Image_Metadata_Site']}.tiff\": \n",
    "    rf\"r{int(record['Image_Metadata_Row']):02d}c{int(record['Image_Metadata_Col']):02d}f{int(record['Image_Metadata_Site']):02d}p(\\d{{2}})-ch\\d+sk\\d+fk\\d+fl\\d+\\.tiff\"\n",
    "    for record in plate_df[\n",
    "        [\n",
    "            \"Image_Metadata_Plate\",\n",
    "            \"Image_Metadata_Well\",\n",
    "            \"Image_Metadata_Site\",\n",
    "            \"Image_Metadata_Row\",\n",
    "            \"Image_Metadata_Col\",\n",
    "        ]\n",
    "    ].to_dict(orient=\"records\")\n",
    "}\n",
    "# fmt: on\n",
    "\n",
    "next(iter(outline_to_orig_mapping.items()))"
   ]
  },
  {
   "cell_type": "markdown",
   "id": "40da9f92",
   "metadata": {
    "papermill": {
     "duration": 0.005257,
     "end_time": "2025-07-28T18:40:13.694191",
     "exception": false,
     "start_time": "2025-07-28T18:40:13.688934",
     "status": "completed"
    },
    "tags": []
   },
   "source": [
    "## Detect segmentations of clustered nuclei"
   ]
  },
  {
   "cell_type": "code",
   "execution_count": 12,
   "id": "3229bcbb",
   "metadata": {
    "execution": {
     "iopub.execute_input": "2025-07-28T18:40:13.705622Z",
     "iopub.status.busy": "2025-07-28T18:40:13.705319Z",
     "iopub.status.idle": "2025-07-28T18:40:16.289342Z",
     "shell.execute_reply": "2025-07-28T18:40:16.288975Z"
    },
    "papermill": {
     "duration": 2.590595,
     "end_time": "2025-07-28T18:40:16.290025",
     "exception": false,
     "start_time": "2025-07-28T18:40:13.699430",
     "status": "completed"
    },
    "tags": []
   },
   "outputs": [
    {
     "name": "stdout",
     "output_type": "stream",
     "text": [
      "Number of outliers: 4654 (3.74%)\n",
      "Outliers Range:\n",
      "Nuclei_Intensity_MassDisplacement_CorrDNA Min: 0.5858945827506994\n",
      "Nuclei_Intensity_MassDisplacement_CorrDNA Max: 8.121087722023637\n",
      "Nuclei_Intensity_IntegratedIntensity_CorrDNA Min: 182.99030903726816\n",
      "Nuclei_Intensity_IntegratedIntensity_CorrDNA Max: 1147.021817535162\n",
      "(4654, 3)\n"
     ]
    },
    {
     "data": {
      "text/html": [
       "<table border=\"1\" class=\"dataframe\">\n",
       "  <thead>\n",
       "    <tr style=\"text-align: right;\">\n",
       "      <th></th>\n",
       "      <th>Nuclei_Intensity_MassDisplacement_CorrDNA</th>\n",
       "      <th>Nuclei_Intensity_IntegratedIntensity_CorrDNA</th>\n",
       "      <th>Image_FileName_OrigDNA</th>\n",
       "    </tr>\n",
       "  </thead>\n",
       "  <tbody>\n",
       "    <tr>\n",
       "      <th>64351</th>\n",
       "      <td>0.585895</td>\n",
       "      <td>188.031716</td>\n",
       "      <td><img src=\"data:image/png;base64,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\" style=\"width:300px;\"/></td>\n",
       "    </tr>\n",
       "    <tr>\n",
       "      <th>75653</th>\n",
       "      <td>0.585942</td>\n",
       "      <td>228.937538</td>\n",
       "      <td><img src=\"data:image/png;base64,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\" style=\"width:300px;\"/></td>\n",
       "    </tr>\n",
       "  </tbody>\n",
       "</table>"
      ],
      "text/plain": [
       "       Nuclei_Intensity_MassDisplacement_CorrDNA  \\\n",
       "64351                                   0.585895   \n",
       "75653                                   0.585942   \n",
       "\n",
       "       Nuclei_Intensity_IntegratedIntensity_CorrDNA  \\\n",
       "64351                                    188.031716   \n",
       "75653                                    228.937538   \n",
       "\n",
       "               Image_FileName_OrigDNA  \n",
       "64351  r05c19f08p01-ch3sk1fk1fl1.tiff  \n",
       "75653  r08c19f04p01-ch4sk1fk1fl1.tiff  "
      ]
     },
     "execution_count": 12,
     "metadata": {},
     "output_type": "execute_result"
    }
   ],
   "source": [
    "# Find large nuclei outliers for the current plate\n",
    "nuclei_clustered_outliers = find_outliers(\n",
    "    df=filtered_plate_df,\n",
    "    metadata_columns=metadata_columns,\n",
    "    feature_thresholds={\n",
    "        \"Nuclei_Intensity_MassDisplacement_CorrDNA\": 0.05,  # Set very low as to detect all instances of clustering nuclei\n",
    "        \"Nuclei_Intensity_IntegratedIntensity_CorrDNA\": 1.5,  # Set higher than displacement to avoid false positives\n",
    "    },\n",
    ")\n",
    "\n",
    "# MUST SET DATA AS DATAFRAME FOR OUTLINE DIR TO WORK\n",
    "nuclei_clustered_outliers_cdf = CytoDataFrame(\n",
    "    data=pd.DataFrame(nuclei_clustered_outliers),\n",
    "    data_outline_context_dir=f\"../2.feature_extraction/sqlite_outputs/{round_id}/{plate_id}\",\n",
    "    segmentation_file_regex=outline_to_orig_mapping,\n",
    ")[\n",
    "    [\n",
    "        \"Nuclei_Intensity_MassDisplacement_CorrDNA\",\n",
    "        \"Nuclei_Intensity_IntegratedIntensity_CorrDNA\",\n",
    "        \"Image_FileName_OrigDNA\",\n",
    "    ]\n",
    "]\n",
    "\n",
    "\n",
    "print(nuclei_clustered_outliers_cdf.shape)\n",
    "nuclei_clustered_outliers_cdf.sort_values(\n",
    "    by=\"Nuclei_Intensity_MassDisplacement_CorrDNA\", ascending=True\n",
    ").head(2)"
   ]
  },
  {
   "cell_type": "code",
   "execution_count": 13,
   "id": "59f09ea0",
   "metadata": {
    "execution": {
     "iopub.execute_input": "2025-07-28T18:40:16.302079Z",
     "iopub.status.busy": "2025-07-28T18:40:16.301871Z",
     "iopub.status.idle": "2025-07-28T18:40:16.782184Z",
     "shell.execute_reply": "2025-07-28T18:40:16.781725Z"
    },
    "papermill": {
     "duration": 0.486913,
     "end_time": "2025-07-28T18:40:16.782827",
     "exception": false,
     "start_time": "2025-07-28T18:40:16.295914",
     "status": "completed"
    },
    "tags": []
   },
   "outputs": [
    {
     "data": {
      "text/html": [
       "<table border=\"1\" class=\"dataframe\">\n",
       "  <thead>\n",
       "    <tr style=\"text-align: right;\">\n",
       "      <th></th>\n",
       "      <th>Nuclei_Intensity_MassDisplacement_CorrDNA</th>\n",
       "      <th>Nuclei_Intensity_IntegratedIntensity_CorrDNA</th>\n",
       "      <th>Image_FileName_OrigDNA</th>\n",
       "    </tr>\n",
       "  </thead>\n",
       "  <tbody>\n",
       "    <tr>\n",
       "      <th>3395</th>\n",
       "      <td>1.570272</td>\n",
       "      <td>371.252521</td>\n",
       "      <td><img src=\"data:image/png;base64,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\" style=\"width:300px;\"/></td>\n",
       "    </tr>\n",
       "    <tr>\n",
       "      <th>38365</th>\n",
       "      <td>0.764820</td>\n",
       "      <td>281.243932</td>\n",
       "      <td><img src=\"data:image/png;base64,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\" style=\"width:300px;\"/></td>\n",
       "    </tr>\n",
       "  </tbody>\n",
       "</table>"
      ],
      "text/plain": [
       "       Nuclei_Intensity_MassDisplacement_CorrDNA  \\\n",
       "3395                                    1.570272   \n",
       "38365                                   0.764820   \n",
       "\n",
       "       Nuclei_Intensity_IntegratedIntensity_CorrDNA  \\\n",
       "3395                                     371.252521   \n",
       "38365                                    281.243932   \n",
       "\n",
       "               Image_FileName_OrigDNA  \n",
       "3395   r04c16f02p01-ch3sk1fk1fl1.tiff  \n",
       "38365  r06c21f04p01-ch3sk1fk1fl1.tiff  "
      ]
     },
     "execution_count": 13,
     "metadata": {},
     "output_type": "execute_result"
    }
   ],
   "source": [
    "nuclei_clustered_outliers_cdf.sample(n=2, random_state=0)"
   ]
  },
  {
   "cell_type": "markdown",
   "id": "ad9c2a86",
   "metadata": {
    "papermill": {
     "duration": 0.004232,
     "end_time": "2025-07-28T18:40:16.791716",
     "exception": false,
     "start_time": "2025-07-28T18:40:16.787484",
     "status": "completed"
    },
    "tags": []
   },
   "source": [
    "### Plot the outliers"
   ]
  },
  {
   "cell_type": "code",
   "execution_count": 14,
   "id": "2902980f",
   "metadata": {
    "execution": {
     "iopub.execute_input": "2025-07-28T18:40:16.801402Z",
     "iopub.status.busy": "2025-07-28T18:40:16.800993Z",
     "iopub.status.idle": "2025-07-28T18:40:26.449241Z",
     "shell.execute_reply": "2025-07-28T18:40:26.448791Z"
    },
    "papermill": {
     "duration": 9.654221,
     "end_time": "2025-07-28T18:40:26.450252",
     "exception": false,
     "start_time": "2025-07-28T18:40:16.796031",
     "status": "completed"
    },
    "tags": []
   },
   "outputs": [],
   "source": [
    "# Save cluster nuclei scatterplot\n",
    "plot_cluster_nuclei_outliers(\n",
    "    plate_df=plate_df,\n",
    "    outliers_df=nuclei_clustered_outliers_cdf,\n",
    "    plate_name=plate_id,\n",
    "    qc_fig_dir=qc_fig_dir,\n",
    ")"
   ]
  },
  {
   "cell_type": "markdown",
   "id": "97b14c45",
   "metadata": {
    "papermill": {
     "duration": 0.006125,
     "end_time": "2025-07-28T18:40:26.462430",
     "exception": false,
     "start_time": "2025-07-28T18:40:26.456305",
     "status": "completed"
    },
    "tags": []
   },
   "source": [
    "## Detect very irregular shaped nuclei, likely indicating mis-segmentation\n",
    "\n",
    "**NOTE:** For the pilot data, we are determining optimal conditions (seeding density and time point). This means all cells are not treated and should be in a \"healthy\" state. Given that `solidity` measures how irregular the shape of a nuclei is, we would expect that cells treated with a drug/compound could yield interesting shapes or phenotypes. Since we are not working with drug treatments at this time, we can use this feature to identify technically incorrect segmentations."
   ]
  },
  {
   "cell_type": "code",
   "execution_count": 15,
   "id": "87e84c96",
   "metadata": {
    "execution": {
     "iopub.execute_input": "2025-07-28T18:40:26.480085Z",
     "iopub.status.busy": "2025-07-28T18:40:26.478509Z",
     "iopub.status.idle": "2025-07-28T18:40:29.126948Z",
     "shell.execute_reply": "2025-07-28T18:40:29.126400Z"
    },
    "papermill": {
     "duration": 2.65907,
     "end_time": "2025-07-28T18:40:29.127650",
     "exception": false,
     "start_time": "2025-07-28T18:40:26.468580",
     "status": "completed"
    },
    "tags": []
   },
   "outputs": [
    {
     "name": "stdout",
     "output_type": "stream",
     "text": [
      "Number of outliers: 4554 (3.66%)\n",
      "Outliers Range:\n",
      "Nuclei_AreaShape_Solidity Min: 0.3788546255506608\n",
      "Nuclei_AreaShape_Solidity Max: 0.878345498783455\n",
      "(4554, 2)\n"
     ]
    },
    {
     "data": {
      "text/html": [
       "<table border=\"1\" class=\"dataframe\">\n",
       "  <thead>\n",
       "    <tr style=\"text-align: right;\">\n",
       "      <th></th>\n",
       "      <th>Nuclei_AreaShape_Solidity</th>\n",
       "      <th>Image_FileName_OrigDNA</th>\n",
       "    </tr>\n",
       "  </thead>\n",
       "  <tbody>\n",
       "    <tr>\n",
       "      <th>89778</th>\n",
       "      <td>0.878345</td>\n",
       "      <td><img src=\"data:image/png;base64,iVBORw0KGgoAAAANSUhEUgAAABsAAAAWCAIAAAC+KHDcAAAEqklEQVR4nHVUzW8TRxR/87EzO2t7N+sk2MHkgDggcUECGwqUHqgoH+GrV1qkpgcSjkAFgR6gIkBBKlQqEiCVIhH+gKIiUa6E2I3JH4AEEjdkITAxsb3Z9c5MDw98at/p7czse7/3fr/3yNq1awEAABhjQgghBOe8OleFT7bt823GmF6vlyQJOvgYADjnQoiFZwtj+8YKhcLAwIBSiuO14zhSyvp8HaOM7RujlFJKkyR59PRRP/qWrVuWl5d7vR7ecs4Xni3s2r1rsDBYLBbDMKSUknXr1kkppZT/1P459PUhx3GMMQBgjEG//2mtffDnAwDYWN5ojGGMLTxb2L1n98qVK1etWjU0NCSlTNOUrF+/HtEdOHhgaGgom82maRpFUbvddhxHCEEIEUIopQghzWaz0Wg8/vvxps2b6vP1HV/uKBaLa9asGRkZcV3XWhvHMeec1+fre/bu4Yp7nlcoFCilS0tLrVaLUqqUUko5juM4DgAIIeI4BoD6fH37F9uVr/L5fBAEmJgQIqWkQggA8DzPcRytNWPM9/3h4eFSqVQqlUZGRvot9zwvCIJisXj4m8MAMPtkNpfLDQwMuK5LKcVGCyF4rVrbf2B/Jswg5qWlJc/zlFJCCMYYIcRa2+v10jTlnGcymVKpJKXE/6WUSDqllHwyjgB939daoziiKELqkdA0Te0nw872qeecI2mUUgxtraUINZPJrFixolgsZrNZ13Vd15VSOo6DwsKU2FBKaS6Xm744DQB3fr+DL1FJjDHGGO0nkVLm8/nBwcFcLiel5Jxjd6y1lNK++KWUSqkwDE/+cBIAzkydwf4g6o8YoyiKogglhkCwfWma4oR8bBDniBpzKKWOThwFgPHvxvElGgWAJEniONZaW2sJIX1oWus0TY0xeIjtB4A0TbXWqJiJyQkAOPLtkW63i0Ho1m1bH/71sNPp9Hq9OI5xyHBCGGOccwTYHxutNQC4rhuGoe/73W4X68Vbay3FF4uLi41G4+3bt2/evHn37l2r1cIcWLLWGgWEdaAScrlcPp+nlKI8JycmsSZSqVQcx6nOVfeO7Q2CwPf9IAiUUn0SkF9Eig7SaoxZXFx8/vz569evPc+7P3MfAK7/ep1UKhXkfu7pHOI/fuK4EOLKz1cA4Nz5c1JK13Uxh7XWGIMUEUI6nc6rV69evnyZJEkYhjP3ZgCAlMtl1GetWoP/t5u3bnLOu91uu92mlGazWcdx4jhuNBovXrxotVpSyuHh4bt/3OUoRvzt4KGDo6OjN367AQBTZ6aMMVevXMWrY5PH0Dl1+hQAxHEshNBaJ0lCKbXWRlHUbDYBgGzYsAHXz86vdhYKhdWrV/u+nyRJp9NJkkRK6XkeY2zq9FQf74mTJ3C5JUny4cOHZrP5/v375eXl2SezOOMUMSqlcC8ZY7TWOOaEEBz2C9MXzv90/uyPZwHg2i/X+gKw1uLCxg0PABT1gRGz2SzuGzwUQlBKtdaEEFyRhBCsevrC9OVLlxljt2/dnrk3EwQB57xWrW3+bDMpl8tSyrmnc+Pfj4+OjmYyGUopzlN/5D3Pc10XANrtdrfb1VpfunjpPwksV8r/Ag1sSSEsiim6AAAAAElFTkSuQmCC\" style=\"width:300px;\"/></td>\n",
       "    </tr>\n",
       "    <tr>\n",
       "      <th>31548</th>\n",
       "      <td>0.878261</td>\n",
       "      <td><img src=\"data:image/png;base64,iVBORw0KGgoAAAANSUhEUgAAAAwAAAANCAIAAAASSxgVAAABPklEQVR4nE2Q3U7CQBCFz/51TXgYnkGwUsALQI34ihQqEkmUykuREna3s1MvVolzNZOcmfOdEf1+X0qZZZm1VmutlKoPNYD8Pm/bloi899paC8AYY4w5fh8BLB4XAKpDBWB4NwSge71eCEEppbUG8LJ8UTcKwPJ1GUKovqvbwa3OsoyZlVJfn1/zxVxYoZQCACA1WmuZONLMzF3XMTMAIYQQYjaf1Yda7j/211VmjjEy838dAA0gxRkVo85010vdX/2Knp6fiIgtX/GJKCm2b9v8PpfFuFiXa2OMtVZKGWMMIaQPEVFikOfzeVSMylWZgLz3McaEmLyISDZNczqdBsPBZr1JsZOpMWb3vivGRYxROuecc9776cN0+7aVUqZQ5aoEEELw3msics4ZY9q2BVBtquQ1mU689825uVwuP6KZx0kE4FwlAAAAAElFTkSuQmCC\" style=\"width:300px;\"/></td>\n",
       "    </tr>\n",
       "  </tbody>\n",
       "</table>"
      ],
      "text/plain": [
       "       Nuclei_AreaShape_Solidity          Image_FileName_OrigDNA\n",
       "89778                   0.878345  r08c22f09p01-ch4sk1fk1fl1.tiff\n",
       "31548                   0.878261  r04c19f07p01-ch3sk1fk1fl1.tiff"
      ]
     },
     "execution_count": 15,
     "metadata": {},
     "output_type": "execute_result"
    }
   ],
   "source": [
    "# Find low nuclei solidity outliers for the current plate\n",
    "solidity_nuclei_outliers = find_outliers(\n",
    "    df=filtered_plate_df,\n",
    "    metadata_columns=metadata_columns,\n",
    "    feature_thresholds={\n",
    "        \"Nuclei_AreaShape_Solidity\": -1.6,  # Set at this point where it looks like it starts to detect good quality nuclei\n",
    "    },\n",
    ")\n",
    "\n",
    "# MUST SET DATA AS DATAFRAME FOR OUTLINE DIR TO WORK\n",
    "solidity_nuclei_outliers_cdf = CytoDataFrame(\n",
    "    data=pd.DataFrame(solidity_nuclei_outliers),\n",
    "    data_outline_context_dir=f\"../2.feature_extraction/sqlite_outputs/{round_id}/{plate_id}\",\n",
    "    segmentation_file_regex=outline_to_orig_mapping,\n",
    ")[\n",
    "    [\n",
    "        \"Nuclei_AreaShape_Solidity\",\n",
    "        \"Image_FileName_OrigDNA\",\n",
    "    ]\n",
    "]\n",
    "\n",
    "\n",
    "print(solidity_nuclei_outliers_cdf.shape)\n",
    "solidity_nuclei_outliers_cdf.sort_values(\n",
    "    by=\"Nuclei_AreaShape_Solidity\", ascending=False\n",
    ").head(2)"
   ]
  },
  {
   "cell_type": "code",
   "execution_count": 16,
   "id": "64ff6624",
   "metadata": {
    "execution": {
     "iopub.execute_input": "2025-07-28T18:40:29.139046Z",
     "iopub.status.busy": "2025-07-28T18:40:29.138517Z",
     "iopub.status.idle": "2025-07-28T18:40:29.534300Z",
     "shell.execute_reply": "2025-07-28T18:40:29.533856Z"
    },
    "papermill": {
     "duration": 0.402018,
     "end_time": "2025-07-28T18:40:29.534974",
     "exception": false,
     "start_time": "2025-07-28T18:40:29.132956",
     "status": "completed"
    },
    "tags": []
   },
   "outputs": [
    {
     "data": {
      "text/html": [
       "<table border=\"1\" class=\"dataframe\">\n",
       "  <thead>\n",
       "    <tr style=\"text-align: right;\">\n",
       "      <th></th>\n",
       "      <th>Nuclei_AreaShape_Solidity</th>\n",
       "      <th>Image_FileName_OrigDNA</th>\n",
       "    </tr>\n",
       "  </thead>\n",
       "  <tbody>\n",
       "    <tr>\n",
       "      <th>38663</th>\n",
       "      <td>0.654709</td>\n",
       "      <td><img src=\"data:image/png;base64,iVBORw0KGgoAAAANSUhEUgAAABcAAAAOCAIAAABLkRCkAAAA30lEQVR4nIVSQY7DQAhzIuaQiyOl/3/iVmquIKUHdylLmi6KRgQMYzxMJPfHzpUAALg7gDHG/tgVUcrdxxiKVLyZRcSsUNakCbfdNqWyRbOIAGDZVdbQEfHxjmQhf6oTXdFupqY1Ozc5BPrSIusFE6kXlzPoO53MqnbC8S7OUZPzVaMWt3rzdtv+pfDR3rpw5f3nfr7QzADorLNLyt/IARwgmaecZVnytwFIViQOWJ2/Cqb3qvO2KV46IpD7kom6MpV826P6Dlxp+Ls/V5ve9KqM3H1Onapz5p8prswvs09ky7TMjPtp/QAAAABJRU5ErkJggg==\" style=\"width:300px;\"/></td>\n",
       "    </tr>\n",
       "    <tr>\n",
       "      <th>38772</th>\n",
       "      <td>0.874363</td>\n",
       "      <td><img src=\"data:image/png;base64,iVBORw0KGgoAAAANSUhEUgAAAB0AAAAdCAIAAADZ8fBYAAAE4klEQVR4nGVWTW8URxR83dPdM2NjQALElUi2d72LIEBk7zqSHXIgRPwFIhERKeT3BE4hnMIfCEHhFIIC2GtsEAevbeDKDQkW73pm+mtyKPPYkD7YvfZ0vep6VW9HNJvNEIL3PsZIY0tKmSRJkiQ72zv0v9Vqt0IIOOicw0/8y1pLRIJqIqLmXNM5Nw4tpVRK7WzvdLodY4wQIsYYYwwhxBjXemt4bK41V1WV976qKkADV53/+ry19tHWo0azgZM4IIRIkoSIDh48ePjwYSGEtdZa65xzzi0tL4Hjk/6T9sl2VVU45ZwzxlhrxaVLl7z3o9Ho4T8PZxuzjCulfLHzYn5h/tixY0ePHtVag6y1dm9vr6oqrrG6skpE0zPTRVGwICrLsrquAaeU8t4LIcCXiGKMZVlaa5MkgTJpmiqlRqOREEJKKaVc/HLRWrv+cn16ZhoiOOek1loppZTqdDv9zf44aKvdWn+yXhTFu3fvcFMppdZ6cnLywIEDk5OTWZalaWqMSdP03BfnXr18BTQiUtwQXD9Jkrquiaiua2yqqhoOh0qpLMvAmoiMMTFG9oyUEg8bY2ASicvGGOu6PnX6VH+zv9XfEkIw5Y31jbIsh8Ph7u5uCKH+sJIkSdM0z/Msy4wxxphOt7PV39oXAHWEEFDjzNkzQoinm0/Zp0TkvS+KYjAYGGOmpqZglbquuTzvFzoLvRe9E5+dUGiaEAImRSuWlpeccyuPV/qb/fbJdkgCoHd3d7Msy/NcSimEAH0cUUqxhsYY9XEHvZVSSllri6LgjLDWvAdlIQRwmXgIobvYXdlZUUoppimlDCEIIbTWd36/Q0Rnz521wo6HkGnyH8WHBdb7/LTWbDUppfc+hHDr11tEdOGbC2+Tt+w8TiDMD6YoxvnG8X2foY4xBpRvXL9BRFe+v/K6fs1d5ceAAmjGRbGyLIuiePzo8VxrTvEZ8ALoj9d+fLP7pixLFIdPsyybmJiAVuxOLCGEc64oCnQlhPDRZ5xmInr//v1gMLDWwqdKKcQMcQAuNMEAc85Za8uy7K325lpzla+k9x4tjjFe//k6EV394epoNKqqConSWhtj8jzP85zDyWHDLeFCkMUoV0VRoAM3f7lJRNd+ulb4ArMYxkCCJyYm0jQFFkTjlGLvvX/29NlsY9Y6G2NUZVnGGG//dhtMC19AVgbVWud5PjU1pbXmZPJIQatZQ0gUQlB7e3t3/7hLRJe/uzx0w+FwiMkPWTEYDx06lOc53xHh5NahNxvrG41mw9X7Xzrq/l/3iejitxcHejAajcqyJCKtdZqmaZpik2UZOg59uCR6yGTH56LCr3t/3lvoLGDUA8sYo7XmdPJXZAghSRLvPTLtvbfW4uN/cKdnptGNXr9HRKc/P41ZwTaq6xre4Dihb6DpnCvLksuwxMpaC+1nZmeklM+3n3e6HU4tUgCHjhuAS+ISa721RrNRxYqHhqqqapxdq91a3Vxd/mqZJyxIwebjsw2Uoc8nZJ1zCl0eH05E9ODvB93FLg9P7sw4U6wQArqCuQNQIhLHjx8nIpzHxdFufs3pdDs8YXm2MWgIYa231pxrlmUJw4CoOHLkCE90Zg1oRGD8PWp+YZ4HGL/1tNotvLIw933cfaWV8t4z+vgN+Jtme2ubxlb7ZBv6fgJKRP8CTYgKrlRLFPgAAAAASUVORK5CYII=\" style=\"width:300px;\"/></td>\n",
       "    </tr>\n",
       "  </tbody>\n",
       "</table>"
      ],
      "text/plain": [
       "       Nuclei_AreaShape_Solidity          Image_FileName_OrigDNA\n",
       "38663                   0.654709  r10c09f07p01-ch4sk1fk1fl1.tiff\n",
       "38772                   0.874363  r06c22f02p01-ch3sk1fk1fl1.tiff"
      ]
     },
     "execution_count": 16,
     "metadata": {},
     "output_type": "execute_result"
    }
   ],
   "source": [
    "solidity_nuclei_outliers_cdf.sample(n=2, random_state=0)"
   ]
  },
  {
   "cell_type": "markdown",
   "id": "de690a6a",
   "metadata": {
    "papermill": {
     "duration": 0.004967,
     "end_time": "2025-07-28T18:40:29.545332",
     "exception": false,
     "start_time": "2025-07-28T18:40:29.540365",
     "status": "completed"
    },
    "tags": []
   },
   "source": [
    "### Plot the outliers"
   ]
  },
  {
   "cell_type": "code",
   "execution_count": 17,
   "id": "968ccb6d",
   "metadata": {
    "execution": {
     "iopub.execute_input": "2025-07-28T18:40:29.558761Z",
     "iopub.status.busy": "2025-07-28T18:40:29.558534Z",
     "iopub.status.idle": "2025-07-28T18:40:30.939572Z",
     "shell.execute_reply": "2025-07-28T18:40:30.939041Z"
    },
    "papermill": {
     "duration": 1.389449,
     "end_time": "2025-07-28T18:40:30.940525",
     "exception": false,
     "start_time": "2025-07-28T18:40:29.551076",
     "status": "completed"
    },
    "tags": []
   },
   "outputs": [],
   "source": [
    "# Save low nuclei solidity histogram\n",
    "plot_nuclei_solidity_histogram(\n",
    "    plate_df=plate_df,\n",
    "    outliers_df=solidity_nuclei_outliers,\n",
    "    plate_name=plate_id,\n",
    "    qc_fig_dir=qc_fig_dir,\n",
    ")"
   ]
  },
  {
   "cell_type": "markdown",
   "id": "3309de2f",
   "metadata": {
    "papermill": {
     "duration": 0.004406,
     "end_time": "2025-07-28T18:40:30.951345",
     "exception": false,
     "start_time": "2025-07-28T18:40:30.946939",
     "status": "completed"
    },
    "tags": []
   },
   "source": [
    "## Detect cells that contain multiple nuclei due to segmentation issues\n",
    "\n",
    "When CellProfiler segments a cluster of nuclei and decides that it is over the diameter range as specified in the parameters, it will not include that segmentation when segmenting whole cells. \n",
    "This can lead to a whole cell segmentation based on one nuclei including the adjacent nuclei that was not included as a segmentation.\n",
    "\n",
    "This description requires prior knowledge of the `IdentifyPrimaryObjects` and `IdentifySecondaryObjects` modules.\n",
    "\n",
    "As a metaphor, we can think of it as three apples on a plate.\n",
    "One apple is detected correctly as one apple, but the other two were two close together, detected as one apple, and then removed from the plate because of it.\n",
    "Now, it looks like the whole plate belongs to the one correct apple, but in reality the plate should be split between three apples.\n",
    "This is the problem we want to avoid for a single-cell segmentation, we don't want to have a whole cell segmentation be assigned to one nuclei when it actually contains multiple nuclei.\n"
   ]
  },
  {
   "cell_type": "code",
   "execution_count": 18,
   "id": "f2cf3a03",
   "metadata": {
    "execution": {
     "iopub.execute_input": "2025-07-28T18:40:30.961739Z",
     "iopub.status.busy": "2025-07-28T18:40:30.961133Z",
     "iopub.status.idle": "2025-07-28T18:40:31.320711Z",
     "shell.execute_reply": "2025-07-28T18:40:31.320250Z"
    },
    "papermill": {
     "duration": 0.365566,
     "end_time": "2025-07-28T18:40:31.321469",
     "exception": false,
     "start_time": "2025-07-28T18:40:30.955903",
     "status": "completed"
    },
    "tags": []
   },
   "outputs": [
    {
     "data": {
      "text/plain": [
       "('CellsOutlines_BR00147495_C03_1.tiff',\n",
       " 'r03c03f01p(\\\\d{2})-ch\\\\d+sk\\\\d+fk\\\\d+fl\\\\d+\\\\.tiff')"
      ]
     },
     "execution_count": 18,
     "metadata": {},
     "output_type": "execute_result"
    }
   ],
   "source": [
    "# change compartment to cells\n",
    "compartment = \"Cells\"\n",
    "\n",
    "# metadata columns to include in output data frame\n",
    "metadata_columns = [\n",
    "    \"Image_Metadata_Plate\",\n",
    "    \"Image_Metadata_Well\",\n",
    "    \"Image_Metadata_Site\",\n",
    "    f\"Metadata_{compartment}_Location_Center_X\",\n",
    "    f\"Metadata_{compartment}_Location_Center_Y\",\n",
    "    \"Image_FileName_OrigDNA\",\n",
    "    \"Image_FileName_OrigAGP\",\n",
    "    \"Image_PathName_OrigDNA\",\n",
    "    \"Image_PathName_OrigAGP\",\n",
    "    f\"{compartment}_AreaShape_BoundingBoxMaximum_X\",\n",
    "    f\"{compartment}_AreaShape_BoundingBoxMaximum_Y\",\n",
    "    f\"{compartment}_AreaShape_BoundingBoxMinimum_X\",\n",
    "    f\"{compartment}_AreaShape_BoundingBoxMinimum_Y\",\n",
    "]\n",
    "\n",
    "# create an outline and orig mapping dictionary to map original images to outlines\n",
    "# note: we turn off formatting here to avoid the key-value pairing definition\n",
    "# from being reformatted by black, which is normally preferred.\n",
    "# fmt: off\n",
    "outline_to_orig_mapping = {\n",
    "    rf\"{compartment}Outlines_{record['Image_Metadata_Plate']}_{record['Image_Metadata_Well']}_{record['Image_Metadata_Site']}.tiff\": \n",
    "    rf\"r{int(record['Image_Metadata_Row']):02d}c{int(record['Image_Metadata_Col']):02d}f{int(record['Image_Metadata_Site']):02d}p(\\d{{2}})-ch\\d+sk\\d+fk\\d+fl\\d+\\.tiff\"\n",
    "    for record in plate_df[\n",
    "        [\n",
    "            \"Image_Metadata_Plate\",\n",
    "            \"Image_Metadata_Well\",\n",
    "            \"Image_Metadata_Site\",\n",
    "            \"Image_Metadata_Row\",\n",
    "            \"Image_Metadata_Col\",\n",
    "        ]\n",
    "    ].to_dict(orient=\"records\")\n",
    "}\n",
    "# fmt: on\n",
    "\n",
    "next(iter(outline_to_orig_mapping.items()))"
   ]
  },
  {
   "cell_type": "markdown",
   "id": "aca03cd3",
   "metadata": {
    "papermill": {
     "duration": 0.005323,
     "end_time": "2025-07-28T18:40:31.332987",
     "exception": false,
     "start_time": "2025-07-28T18:40:31.327664",
     "status": "completed"
    },
    "tags": []
   },
   "source": [
    "### Filter down plate data to detect cells outliers (improves speed)"
   ]
  },
  {
   "cell_type": "code",
   "execution_count": 19,
   "id": "80f8d1a9",
   "metadata": {
    "execution": {
     "iopub.execute_input": "2025-07-28T18:40:31.343332Z",
     "iopub.status.busy": "2025-07-28T18:40:31.342802Z",
     "iopub.status.idle": "2025-07-28T18:40:31.358865Z",
     "shell.execute_reply": "2025-07-28T18:40:31.357678Z"
    },
    "papermill": {
     "duration": 0.02224,
     "end_time": "2025-07-28T18:40:31.359825",
     "exception": false,
     "start_time": "2025-07-28T18:40:31.337585",
     "status": "completed"
    },
    "tags": []
   },
   "outputs": [],
   "source": [
    "# Define the QC features\n",
    "qc_features = [\"Cells_Intensity_IntegratedIntensity_CorrDNA\"]\n",
    "\n",
    "# Filter plate_df to only include metadata columns and QC features\n",
    "filtered_plate_df = plate_df[metadata_columns + qc_features]"
   ]
  },
  {
   "cell_type": "markdown",
   "id": "044a2e19",
   "metadata": {
    "papermill": {
     "duration": 0.00624,
     "end_time": "2025-07-28T18:40:31.372813",
     "exception": false,
     "start_time": "2025-07-28T18:40:31.366573",
     "status": "completed"
    },
    "tags": []
   },
   "source": [
    "### Detect cell outliers"
   ]
  },
  {
   "cell_type": "code",
   "execution_count": 20,
   "id": "d197b094",
   "metadata": {
    "execution": {
     "iopub.execute_input": "2025-07-28T18:40:31.382862Z",
     "iopub.status.busy": "2025-07-28T18:40:31.382682Z",
     "iopub.status.idle": "2025-07-28T18:40:33.953308Z",
     "shell.execute_reply": "2025-07-28T18:40:33.952849Z"
    },
    "papermill": {
     "duration": 2.576538,
     "end_time": "2025-07-28T18:40:33.953983",
     "exception": false,
     "start_time": "2025-07-28T18:40:31.377445",
     "status": "completed"
    },
    "tags": []
   },
   "outputs": [
    {
     "name": "stdout",
     "output_type": "stream",
     "text": [
      "Number of outliers: 6890 (5.53%)\n",
      "Outliers Range:\n",
      "Cells_Intensity_IntegratedIntensity_CorrDNA Min: 199.91655067540705\n",
      "Cells_Intensity_IntegratedIntensity_CorrDNA Max: 10204.515087004751\n",
      "(6890, 2)\n"
     ]
    },
    {
     "data": {
      "text/html": [
       "<table border=\"1\" class=\"dataframe\">\n",
       "  <thead>\n",
       "    <tr style=\"text-align: right;\">\n",
       "      <th></th>\n",
       "      <th>Cells_Intensity_IntegratedIntensity_CorrDNA</th>\n",
       "      <th>Image_FileName_OrigDNA</th>\n",
       "    </tr>\n",
       "  </thead>\n",
       "  <tbody>\n",
       "    <tr>\n",
       "      <th>36466</th>\n",
       "      <td>199.916551</td>\n",
       "      <td><img src=\"data:image/png;base64,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\" style=\"width:300px;\"/></td>\n",
       "    </tr>\n",
       "    <tr>\n",
       "      <th>37147</th>\n",
       "      <td>199.933655</td>\n",
       "      <td><img src=\"data:image/png;base64,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\" style=\"width:300px;\"/></td>\n",
       "    </tr>\n",
       "  </tbody>\n",
       "</table>"
      ],
      "text/plain": [
       "       Cells_Intensity_IntegratedIntensity_CorrDNA  \\\n",
       "36466                                   199.916551   \n",
       "37147                                   199.933655   \n",
       "\n",
       "               Image_FileName_OrigDNA  \n",
       "36466  r03c18f05p01-ch3sk1fk1fl1.tiff  \n",
       "37147  r07c17f09p01-ch4sk1fk1fl1.tiff  "
      ]
     },
     "execution_count": 20,
     "metadata": {},
     "output_type": "execute_result"
    }
   ],
   "source": [
    "# Find cell outliers for the current plate\n",
    "cell_outliers = find_outliers(\n",
    "    df=filtered_plate_df,\n",
    "    metadata_columns=metadata_columns,\n",
    "    feature_thresholds={\n",
    "        # Set low to attempt to detect all instances of abnormally high int in nuclei for whole cells\n",
    "        \"Cells_Intensity_IntegratedIntensity_CorrDNA\": 0.5,\n",
    "    },\n",
    ")\n",
    "\n",
    "# MUST SET DATA AS DATAFRAME FOR OUTLINE DIR TO WORK\n",
    "cell_outliers_cdf = CytoDataFrame(\n",
    "    data=pd.DataFrame(cell_outliers),\n",
    "    data_outline_context_dir=f\"../2.feature_extraction/sqlite_outputs/{round_id}/{plate_id}\",\n",
    "    segmentation_file_regex=outline_to_orig_mapping,\n",
    ")[\n",
    "    [\n",
    "        \"Cells_Intensity_IntegratedIntensity_CorrDNA\",\n",
    "        \"Image_FileName_OrigDNA\",\n",
    "    ]\n",
    "]\n",
    "\n",
    "\n",
    "print(cell_outliers_cdf.shape)\n",
    "cell_outliers_cdf.sort_values(\n",
    "    by=\"Cells_Intensity_IntegratedIntensity_CorrDNA\", ascending=True\n",
    ").head(2)"
   ]
  },
  {
   "cell_type": "code",
   "execution_count": 21,
   "id": "54053967",
   "metadata": {
    "execution": {
     "iopub.execute_input": "2025-07-28T18:40:33.966064Z",
     "iopub.status.busy": "2025-07-28T18:40:33.965674Z",
     "iopub.status.idle": "2025-07-28T18:40:34.332312Z",
     "shell.execute_reply": "2025-07-28T18:40:34.331928Z"
    },
    "papermill": {
     "duration": 0.373255,
     "end_time": "2025-07-28T18:40:34.332928",
     "exception": false,
     "start_time": "2025-07-28T18:40:33.959673",
     "status": "completed"
    },
    "tags": []
   },
   "outputs": [
    {
     "data": {
      "text/html": [
       "<table border=\"1\" class=\"dataframe\">\n",
       "  <thead>\n",
       "    <tr style=\"text-align: right;\">\n",
       "      <th></th>\n",
       "      <th>Cells_Intensity_IntegratedIntensity_CorrDNA</th>\n",
       "      <th>Image_FileName_OrigDNA</th>\n",
       "    </tr>\n",
       "  </thead>\n",
       "  <tbody>\n",
       "    <tr>\n",
       "      <th>4245</th>\n",
       "      <td>254.919949</td>\n",
       "      <td><img src=\"data:image/png;base64,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\" style=\"width:300px;\"/></td>\n",
       "    </tr>\n",
       "    <tr>\n",
       "      <th>8259</th>\n",
       "      <td>720.431064</td>\n",
       "      <td><img src=\"data:image/png;base64,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\" style=\"width:300px;\"/></td>\n",
       "    </tr>\n",
       "  </tbody>\n",
       "</table>"
      ],
      "text/plain": [
       "      Cells_Intensity_IntegratedIntensity_CorrDNA  \\\n",
       "4245                                   254.919949   \n",
       "8259                                   720.431064   \n",
       "\n",
       "              Image_FileName_OrigDNA  \n",
       "4245  r10c04f03p01-ch4sk1fk1fl1.tiff  \n",
       "8259  r04c15f09p01-ch3sk1fk1fl1.tiff  "
      ]
     },
     "execution_count": 21,
     "metadata": {},
     "output_type": "execute_result"
    }
   ],
   "source": [
    "cell_outliers_cdf.sample(n=2, random_state=0)"
   ]
  },
  {
   "cell_type": "markdown",
   "id": "b71838fd",
   "metadata": {
    "papermill": {
     "duration": 0.005215,
     "end_time": "2025-07-28T18:40:34.344042",
     "exception": false,
     "start_time": "2025-07-28T18:40:34.338827",
     "status": "completed"
    },
    "tags": []
   },
   "source": [
    "## Save the outlier indices to use for reporting"
   ]
  },
  {
   "cell_type": "code",
   "execution_count": 22,
   "id": "5aaa313f",
   "metadata": {
    "execution": {
     "iopub.execute_input": "2025-07-28T18:40:34.358768Z",
     "iopub.status.busy": "2025-07-28T18:40:34.358534Z",
     "iopub.status.idle": "2025-07-28T18:40:34.586252Z",
     "shell.execute_reply": "2025-07-28T18:40:34.585816Z"
    },
    "papermill": {
     "duration": 0.237261,
     "end_time": "2025-07-28T18:40:34.586902",
     "exception": false,
     "start_time": "2025-07-28T18:40:34.349641",
     "status": "completed"
    },
    "tags": []
   },
   "outputs": [
    {
     "name": "stdout",
     "output_type": "stream",
     "text": [
      "Total failing single cells: 11459 (9.20%)\n"
     ]
    }
   ],
   "source": [
    "# Identify failing indices from both outlier dataframes\n",
    "outlier_indices = pd.concat(\n",
    "    [nuclei_clustered_outliers, solidity_nuclei_outliers, cell_outliers]\n",
    ").index.unique()\n",
    "\n",
    "# Create a new dataframe with only the failing rows\n",
    "failing_df = plate_df.loc[outlier_indices, metadata_columns].copy()\n",
    "\n",
    "# Add failure condition columns, marking all rows as True for each condition they failed\n",
    "failing_df[\"Failed_ClusteredNuclei\"] = failing_df.index.isin(\n",
    "    nuclei_clustered_outliers.index\n",
    ")\n",
    "failing_df[\"Failed_SolidityNuclei\"] = failing_df.index.isin(\n",
    "    solidity_nuclei_outliers.index\n",
    ")\n",
    "failing_df[\"Failed_CellsMultipleNuclei\"] = failing_df.index.isin(cell_outliers.index)\n",
    "\n",
    "# Ensure boolean dtype\n",
    "failing_df = failing_df.astype(\n",
    "    {\n",
    "        \"Failed_ClusteredNuclei\": bool,\n",
    "        \"Failed_SolidityNuclei\": bool,\n",
    "        \"Failed_CellsMultipleNuclei\": bool,\n",
    "    }\n",
    ")\n",
    "\n",
    "# Keep original indices for later\n",
    "failing_df = failing_df.reset_index().rename(columns={\"index\": \"original_indices\"})\n",
    "\n",
    "# Save the indices dataframe as CSV\n",
    "failing_df.to_csv(\n",
    "    pathlib.Path(f\"{qc_results_dir}/{plate_id}_failed_qc_indices.csv.gz\"),\n",
    "    compression=\"gzip\",\n",
    "    index=False,\n",
    ")\n",
    "\n",
    "# Calculate percentage failed\n",
    "total_rows = plate_df.shape[0]\n",
    "failed_percentage = (failing_df.shape[0] / total_rows) * 100\n",
    "\n",
    "# Print summary with percentage\n",
    "print(f\"Total failing single cells: {failing_df.shape[0]} ({failed_percentage:.2f}%)\")"
   ]
  },
  {
   "cell_type": "markdown",
   "id": "72ba8176",
   "metadata": {
    "papermill": {
     "duration": 0.006381,
     "end_time": "2025-07-28T18:40:34.599464",
     "exception": false,
     "start_time": "2025-07-28T18:40:34.593083",
     "status": "completed"
    },
    "tags": []
   },
   "source": [
    "## Clean and save the data"
   ]
  },
  {
   "cell_type": "code",
   "execution_count": 23,
   "id": "ff4da2ad",
   "metadata": {
    "execution": {
     "iopub.execute_input": "2025-07-28T18:40:34.612691Z",
     "iopub.status.busy": "2025-07-28T18:40:34.612441Z",
     "iopub.status.idle": "2025-07-28T18:40:54.207000Z",
     "shell.execute_reply": "2025-07-28T18:40:54.206568Z"
    },
    "papermill": {
     "duration": 19.602698,
     "end_time": "2025-07-28T18:40:54.207855",
     "exception": false,
     "start_time": "2025-07-28T18:40:34.605157",
     "status": "completed"
    },
    "tags": []
   },
   "outputs": [
    {
     "name": "stdout",
     "output_type": "stream",
     "text": [
      "BR00147495 has been cleaned and saved with the shape: (113096, 3035).\n"
     ]
    }
   ],
   "source": [
    "# Remove rows with outlier indices\n",
    "plate_df_cleaned = plate_df.drop(outlier_indices)\n",
    "\n",
    "# Save cleaned data for this plate\n",
    "plate_df_cleaned.to_parquet(f\"{cleaned_dir}/{plate_id}_cleaned.parquet\")\n",
    "\n",
    "# Print the plate name and the shape of the cleaned data\n",
    "print(\n",
    "    f\"{plate_id} has been cleaned and saved with the shape: {plate_df_cleaned.shape}.\"\n",
    ")"
   ]
  }
 ],
 "metadata": {
  "kernelspec": {
   "display_name": "alsf_preprocessing_env",
   "language": "python",
   "name": "python3"
  },
  "language_info": {
   "codemirror_mode": {
    "name": "ipython",
    "version": 3
   },
   "file_extension": ".py",
   "mimetype": "text/x-python",
   "name": "python",
   "nbconvert_exporter": "python",
   "pygments_lexer": "ipython3",
   "version": "3.10.16"
  },
  "papermill": {
   "default_parameters": {},
   "duration": 55.06914,
   "end_time": "2025-07-28T18:40:55.532191",
   "environment_variables": {},
   "exception": null,
   "input_path": "1.sc_quality_control.ipynb",
   "output_path": "1.sc_quality_control.ipynb",
   "parameters": {
    "plate_id": "BR00147495"
   },
   "start_time": "2025-07-28T18:40:00.463051",
   "version": "2.6.0"
  }
 },
 "nbformat": 4,
 "nbformat_minor": 5
}