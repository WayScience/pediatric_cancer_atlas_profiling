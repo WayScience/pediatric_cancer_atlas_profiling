{
 "cells": [
  {
   "cell_type": "markdown",
   "id": "66bbb64f",
   "metadata": {
    "papermill": {
     "duration": 0.002616,
     "end_time": "2025-06-19T17:49:35.920984",
     "exception": false,
     "start_time": "2025-06-19T17:49:35.918368",
     "status": "completed"
    },
    "tags": []
   },
   "source": [
    "# Convert SQLite outputs to parquet files with cytotable"
   ]
  },
  {
   "cell_type": "code",
   "execution_count": 1,
   "id": "8c07ecfb",
   "metadata": {
    "execution": {
     "iopub.execute_input": "2025-06-19T17:49:35.928994Z",
     "iopub.status.busy": "2025-06-19T17:49:35.928687Z",
     "iopub.status.idle": "2025-06-19T17:49:35.934657Z",
     "shell.execute_reply": "2025-06-19T17:49:35.933705Z"
    },
    "papermill": {
     "duration": 0.009139,
     "end_time": "2025-06-19T17:49:35.935469",
     "exception": false,
     "start_time": "2025-06-19T17:49:35.926330",
     "status": "completed"
    },
    "tags": [
     "parameters"
    ]
   },
   "outputs": [],
   "source": [
    "# Set parameter for papermill to use for processing\n",
    "plate_id = \"BR00145816\""
   ]
  },
  {
   "cell_type": "code",
   "execution_count": 2,
   "id": "8960e02c",
   "metadata": {
    "execution": {
     "iopub.execute_input": "2025-06-19T17:49:35.940368Z",
     "iopub.status.busy": "2025-06-19T17:49:35.940219Z",
     "iopub.status.idle": "2025-06-19T17:49:35.943379Z",
     "shell.execute_reply": "2025-06-19T17:49:35.942740Z"
    },
    "papermill": {
     "duration": 0.006473,
     "end_time": "2025-06-19T17:49:35.944155",
     "exception": false,
     "start_time": "2025-06-19T17:49:35.937682",
     "status": "completed"
    },
    "tags": [
     "injected-parameters"
    ]
   },
   "outputs": [],
   "source": [
    "# Parameters\n",
    "plate_id = \"BR00145440\"\n"
   ]
  },
  {
   "cell_type": "markdown",
   "id": "8745b0c2",
   "metadata": {
    "papermill": {
     "duration": 0.002206,
     "end_time": "2025-06-19T17:49:35.948737",
     "exception": false,
     "start_time": "2025-06-19T17:49:35.946531",
     "status": "completed"
    },
    "tags": []
   },
   "source": [
    "## Import libraries"
   ]
  },
  {
   "cell_type": "code",
   "execution_count": 3,
   "id": "7df040d8",
   "metadata": {
    "execution": {
     "iopub.execute_input": "2025-06-19T17:49:35.952677Z",
     "iopub.status.busy": "2025-06-19T17:49:35.952374Z",
     "iopub.status.idle": "2025-06-19T17:49:36.805211Z",
     "shell.execute_reply": "2025-06-19T17:49:36.804803Z"
    },
    "papermill": {
     "duration": 0.855857,
     "end_time": "2025-06-19T17:49:36.806125",
     "exception": false,
     "start_time": "2025-06-19T17:49:35.950268",
     "status": "completed"
    },
    "tags": []
   },
   "outputs": [],
   "source": [
    "import pathlib\n",
    "import pandas as pd\n",
    "\n",
    "# cytotable will merge objects from SQLite file into single cells and save as parquet file\n",
    "from cytotable import convert, presets\n",
    "\n",
    "import logging\n",
    "\n",
    "# Set the logging level to a higher level to avoid outputting unnecessary errors from config file in convert function\n",
    "logging.getLogger().setLevel(logging.ERROR)"
   ]
  },
  {
   "cell_type": "markdown",
   "id": "fedd4f35",
   "metadata": {
    "papermill": {
     "duration": 0.005108,
     "end_time": "2025-06-19T17:49:36.813061",
     "exception": false,
     "start_time": "2025-06-19T17:49:36.807953",
     "status": "completed"
    },
    "tags": []
   },
   "source": [
    "## Set paths and variables"
   ]
  },
  {
   "cell_type": "code",
   "execution_count": 4,
   "id": "83fe752c",
   "metadata": {
    "execution": {
     "iopub.execute_input": "2025-06-19T17:49:36.817103Z",
     "iopub.status.busy": "2025-06-19T17:49:36.816814Z",
     "iopub.status.idle": "2025-06-19T17:49:36.821131Z",
     "shell.execute_reply": "2025-06-19T17:49:36.820780Z"
    },
    "papermill": {
     "duration": 0.006914,
     "end_time": "2025-06-19T17:49:36.821705",
     "exception": false,
     "start_time": "2025-06-19T17:49:36.814791",
     "status": "completed"
    },
    "tags": []
   },
   "outputs": [
    {
     "name": "stdout",
     "output_type": "stream",
     "text": [
      "There are 6 plates in this dataset. Below are the names:\n",
      "BR00145439\n",
      "BR00145438\n",
      "BR00145818\n",
      "BR00145816\n",
      "BR00145817\n",
      "BR00145440\n"
     ]
    }
   ],
   "source": [
    "# preset configurations based on typical CellProfiler outputs\n",
    "preset = \"cellprofiler_sqlite_pycytominer\"\n",
    "\n",
    "# update preset to include both the site metadata, cell counts, and PathName columns\n",
    "joins = presets.config[\"cellprofiler_sqlite_pycytominer\"][\"CONFIG_JOINS\"].replace(\n",
    "    \"Image_Metadata_Well,\",\n",
    "    \"Image_Metadata_Well, Image_Metadata_Site, Image_Count_Cells, Image_Metadata_Row, Image_Metadata_Col, \",\n",
    ")\n",
    "\n",
    "# Add the PathName columns separately\n",
    "joins = joins.replace(\n",
    "    \"COLUMNS('Image_FileName_.*'),\",\n",
    "    \"COLUMNS('Image_FileName_.*'),\\n COLUMNS('Image_PathName_.*'),\",\n",
    ")\n",
    "\n",
    "# type of file output from cytotable (currently only parquet)\n",
    "dest_datatype = \"parquet\"\n",
    "\n",
    "# set the round of data that will be processed\n",
    "round_id = \"Round_2_data\"\n",
    "\n",
    "# set path to directory with SQLite files\n",
    "sqlite_dir = pathlib.Path(f\"../2.feature_extraction/sqlite_outputs/{round_id}\")\n",
    "\n",
    "# directory for processed data\n",
    "output_dir = pathlib.Path(\"data\")\n",
    "output_dir.mkdir(parents=True, exist_ok=True)\n",
    "\n",
    "plate_names = []\n",
    "\n",
    "for file_path in sqlite_dir.iterdir():\n",
    "    plate_names.append(file_path.stem)\n",
    "\n",
    "# print the plate names and how many plates there are (confirmation)\n",
    "print(f\"There are {len(plate_names)} plates in this dataset. Below are the names:\")\n",
    "for name in plate_names:\n",
    "    print(name)"
   ]
  },
  {
   "cell_type": "markdown",
   "id": "0e704c6c",
   "metadata": {
    "papermill": {
     "duration": 0.001876,
     "end_time": "2025-06-19T17:49:36.825255",
     "exception": false,
     "start_time": "2025-06-19T17:49:36.823379",
     "status": "completed"
    },
    "tags": []
   },
   "source": [
    "## Convert SQLite to parquet files"
   ]
  },
  {
   "cell_type": "code",
   "execution_count": 5,
   "id": "04faaf98",
   "metadata": {
    "execution": {
     "iopub.execute_input": "2025-06-19T17:49:36.830677Z",
     "iopub.status.busy": "2025-06-19T17:49:36.829800Z",
     "iopub.status.idle": "2025-06-19T18:00:43.242733Z",
     "shell.execute_reply": "2025-06-19T18:00:43.242320Z"
    },
    "papermill": {
     "duration": 666.417633,
     "end_time": "2025-06-19T18:00:43.244708",
     "exception": false,
     "start_time": "2025-06-19T17:49:36.827075",
     "status": "completed"
    },
    "tags": []
   },
   "outputs": [
    {
     "name": "stdout",
     "output_type": "stream",
     "text": [
      "Starting conversion with cytotable for plate: BR00145440\n"
     ]
    },
    {
     "name": "stdout",
     "output_type": "stream",
     "text": [
      "Plate BR00145440 has been converted with cytotable!\n"
     ]
    }
   ],
   "source": [
    "file_path = sqlite_dir / plate_id\n",
    "output_path = pathlib.Path(\n",
    "    f\"{output_dir}/converted_profiles/{round_id}/{plate_id}_converted.parquet\"\n",
    ")\n",
    "\n",
    "print(\"Starting conversion with cytotable for plate:\", plate_id)\n",
    "# Merge single cells and output as parquet file\n",
    "convert(\n",
    "    source_path=str(file_path),\n",
    "    dest_path=str(output_path),\n",
    "    dest_datatype=dest_datatype,\n",
    "    preset=preset,\n",
    "    joins=joins,\n",
    "    chunk_size=15000,\n",
    ")\n",
    "\n",
    "print(f\"Plate {plate_id} has been converted with cytotable!\")"
   ]
  },
  {
   "cell_type": "markdown",
   "id": "10e69bff",
   "metadata": {
    "papermill": {
     "duration": 0.001549,
     "end_time": "2025-06-19T18:00:43.251109",
     "exception": false,
     "start_time": "2025-06-19T18:00:43.249560",
     "status": "completed"
    },
    "tags": []
   },
   "source": [
    "# Load in converted profiles to update"
   ]
  },
  {
   "cell_type": "code",
   "execution_count": 6,
   "id": "da6fa4b1",
   "metadata": {
    "execution": {
     "iopub.execute_input": "2025-06-19T18:00:43.254907Z",
     "iopub.status.busy": "2025-06-19T18:00:43.254758Z",
     "iopub.status.idle": "2025-06-19T18:02:02.263519Z",
     "shell.execute_reply": "2025-06-19T18:02:02.262977Z"
    },
    "papermill": {
     "duration": 79.012759,
     "end_time": "2025-06-19T18:02:02.265396",
     "exception": false,
     "start_time": "2025-06-19T18:00:43.252637",
     "status": "completed"
    },
    "tags": []
   },
   "outputs": [
    {
     "name": "stdout",
     "output_type": "stream",
     "text": [
      "(455848, 3035)\n"
     ]
    },
    {
     "data": {
      "text/html": [
       "<div>\n",
       "<style scoped>\n",
       "    .dataframe tbody tr th:only-of-type {\n",
       "        vertical-align: middle;\n",
       "    }\n",
       "\n",
       "    .dataframe tbody tr th {\n",
       "        vertical-align: top;\n",
       "    }\n",
       "\n",
       "    .dataframe thead th {\n",
       "        text-align: right;\n",
       "    }\n",
       "</style>\n",
       "<table border=\"1\" class=\"dataframe\">\n",
       "  <thead>\n",
       "    <tr style=\"text-align: right;\">\n",
       "      <th></th>\n",
       "      <th>Metadata_Nuclei_Location_Center_X</th>\n",
       "      <th>Metadata_Nuclei_Location_Center_Y</th>\n",
       "      <th>Metadata_Cells_Location_Center_X</th>\n",
       "      <th>Metadata_Cells_Location_Center_Y</th>\n",
       "      <th>Metadata_Image_Count_Cells</th>\n",
       "      <th>Metadata_ImageNumber</th>\n",
       "      <th>Image_Metadata_Col</th>\n",
       "      <th>Image_Metadata_Plate</th>\n",
       "      <th>Image_Metadata_Row</th>\n",
       "      <th>Image_Metadata_Site</th>\n",
       "      <th>...</th>\n",
       "      <th>Nuclei_Texture_Variance_CorrER_3_02_256</th>\n",
       "      <th>Nuclei_Texture_Variance_CorrER_3_03_256</th>\n",
       "      <th>Nuclei_Texture_Variance_CorrMito_3_00_256</th>\n",
       "      <th>Nuclei_Texture_Variance_CorrMito_3_01_256</th>\n",
       "      <th>Nuclei_Texture_Variance_CorrMito_3_02_256</th>\n",
       "      <th>Nuclei_Texture_Variance_CorrMito_3_03_256</th>\n",
       "      <th>Nuclei_Texture_Variance_CorrRNA_3_00_256</th>\n",
       "      <th>Nuclei_Texture_Variance_CorrRNA_3_01_256</th>\n",
       "      <th>Nuclei_Texture_Variance_CorrRNA_3_02_256</th>\n",
       "      <th>Nuclei_Texture_Variance_CorrRNA_3_03_256</th>\n",
       "    </tr>\n",
       "  </thead>\n",
       "  <tbody>\n",
       "    <tr>\n",
       "      <th>0</th>\n",
       "      <td>42.120370</td>\n",
       "      <td>83.574074</td>\n",
       "      <td>40.269943</td>\n",
       "      <td>85.202991</td>\n",
       "      <td>68</td>\n",
       "      <td>1438</td>\n",
       "      <td>14</td>\n",
       "      <td>BR00145440</td>\n",
       "      <td>8</td>\n",
       "      <td>7</td>\n",
       "      <td>...</td>\n",
       "      <td>0.000000</td>\n",
       "      <td>0.000000</td>\n",
       "      <td>0.000000</td>\n",
       "      <td>0.000000</td>\n",
       "      <td>0.000000</td>\n",
       "      <td>0.000000</td>\n",
       "      <td>0.000000</td>\n",
       "      <td>0.000000</td>\n",
       "      <td>0.000000</td>\n",
       "      <td>0.000000</td>\n",
       "    </tr>\n",
       "    <tr>\n",
       "      <th>1</th>\n",
       "      <td>766.348786</td>\n",
       "      <td>14.317881</td>\n",
       "      <td>765.822901</td>\n",
       "      <td>15.506870</td>\n",
       "      <td>82</td>\n",
       "      <td>1</td>\n",
       "      <td>3</td>\n",
       "      <td>BR00145440</td>\n",
       "      <td>3</td>\n",
       "      <td>1</td>\n",
       "      <td>...</td>\n",
       "      <td>49.781730</td>\n",
       "      <td>51.111941</td>\n",
       "      <td>112.066065</td>\n",
       "      <td>113.785156</td>\n",
       "      <td>111.112182</td>\n",
       "      <td>116.575192</td>\n",
       "      <td>190.754190</td>\n",
       "      <td>191.035211</td>\n",
       "      <td>183.653080</td>\n",
       "      <td>192.355043</td>\n",
       "    </tr>\n",
       "    <tr>\n",
       "      <th>2</th>\n",
       "      <td>24.533333</td>\n",
       "      <td>44.711111</td>\n",
       "      <td>23.072266</td>\n",
       "      <td>43.503906</td>\n",
       "      <td>84</td>\n",
       "      <td>5</td>\n",
       "      <td>3</td>\n",
       "      <td>BR00145440</td>\n",
       "      <td>3</td>\n",
       "      <td>5</td>\n",
       "      <td>...</td>\n",
       "      <td>10.073226</td>\n",
       "      <td>10.168058</td>\n",
       "      <td>24.222748</td>\n",
       "      <td>25.663994</td>\n",
       "      <td>24.195826</td>\n",
       "      <td>23.131493</td>\n",
       "      <td>41.115252</td>\n",
       "      <td>43.284402</td>\n",
       "      <td>39.871375</td>\n",
       "      <td>39.512418</td>\n",
       "    </tr>\n",
       "    <tr>\n",
       "      <th>3</th>\n",
       "      <td>610.456476</td>\n",
       "      <td>18.664544</td>\n",
       "      <td>609.196193</td>\n",
       "      <td>18.894583</td>\n",
       "      <td>84</td>\n",
       "      <td>7</td>\n",
       "      <td>3</td>\n",
       "      <td>BR00145440</td>\n",
       "      <td>3</td>\n",
       "      <td>7</td>\n",
       "      <td>...</td>\n",
       "      <td>118.193747</td>\n",
       "      <td>117.813669</td>\n",
       "      <td>300.477098</td>\n",
       "      <td>285.445563</td>\n",
       "      <td>277.618409</td>\n",
       "      <td>307.605571</td>\n",
       "      <td>343.656272</td>\n",
       "      <td>351.318622</td>\n",
       "      <td>347.232296</td>\n",
       "      <td>348.717538</td>\n",
       "    </tr>\n",
       "    <tr>\n",
       "      <th>4</th>\n",
       "      <td>15.423592</td>\n",
       "      <td>12.691689</td>\n",
       "      <td>13.504456</td>\n",
       "      <td>18.921569</td>\n",
       "      <td>96</td>\n",
       "      <td>9</td>\n",
       "      <td>3</td>\n",
       "      <td>BR00145440</td>\n",
       "      <td>3</td>\n",
       "      <td>9</td>\n",
       "      <td>...</td>\n",
       "      <td>1.345190</td>\n",
       "      <td>1.314223</td>\n",
       "      <td>2.732501</td>\n",
       "      <td>2.629070</td>\n",
       "      <td>2.489941</td>\n",
       "      <td>2.556472</td>\n",
       "      <td>4.441140</td>\n",
       "      <td>4.494646</td>\n",
       "      <td>4.187971</td>\n",
       "      <td>4.123668</td>\n",
       "    </tr>\n",
       "  </tbody>\n",
       "</table>\n",
       "<p>5 rows × 3035 columns</p>\n",
       "</div>"
      ],
      "text/plain": [
       "   Metadata_Nuclei_Location_Center_X  Metadata_Nuclei_Location_Center_Y  \\\n",
       "0                          42.120370                          83.574074   \n",
       "1                         766.348786                          14.317881   \n",
       "2                          24.533333                          44.711111   \n",
       "3                         610.456476                          18.664544   \n",
       "4                          15.423592                          12.691689   \n",
       "\n",
       "   Metadata_Cells_Location_Center_X  Metadata_Cells_Location_Center_Y  \\\n",
       "0                         40.269943                         85.202991   \n",
       "1                        765.822901                         15.506870   \n",
       "2                         23.072266                         43.503906   \n",
       "3                        609.196193                         18.894583   \n",
       "4                         13.504456                         18.921569   \n",
       "\n",
       "   Metadata_Image_Count_Cells  Metadata_ImageNumber Image_Metadata_Col  \\\n",
       "0                          68                  1438                 14   \n",
       "1                          82                     1                  3   \n",
       "2                          84                     5                  3   \n",
       "3                          84                     7                  3   \n",
       "4                          96                     9                  3   \n",
       "\n",
       "  Image_Metadata_Plate  Image_Metadata_Row  Image_Metadata_Site  ...  \\\n",
       "0           BR00145440                   8                    7  ...   \n",
       "1           BR00145440                   3                    1  ...   \n",
       "2           BR00145440                   3                    5  ...   \n",
       "3           BR00145440                   3                    7  ...   \n",
       "4           BR00145440                   3                    9  ...   \n",
       "\n",
       "  Nuclei_Texture_Variance_CorrER_3_02_256  \\\n",
       "0                                0.000000   \n",
       "1                               49.781730   \n",
       "2                               10.073226   \n",
       "3                              118.193747   \n",
       "4                                1.345190   \n",
       "\n",
       "   Nuclei_Texture_Variance_CorrER_3_03_256  \\\n",
       "0                                 0.000000   \n",
       "1                                51.111941   \n",
       "2                                10.168058   \n",
       "3                               117.813669   \n",
       "4                                 1.314223   \n",
       "\n",
       "   Nuclei_Texture_Variance_CorrMito_3_00_256  \\\n",
       "0                                   0.000000   \n",
       "1                                 112.066065   \n",
       "2                                  24.222748   \n",
       "3                                 300.477098   \n",
       "4                                   2.732501   \n",
       "\n",
       "   Nuclei_Texture_Variance_CorrMito_3_01_256  \\\n",
       "0                                   0.000000   \n",
       "1                                 113.785156   \n",
       "2                                  25.663994   \n",
       "3                                 285.445563   \n",
       "4                                   2.629070   \n",
       "\n",
       "   Nuclei_Texture_Variance_CorrMito_3_02_256  \\\n",
       "0                                   0.000000   \n",
       "1                                 111.112182   \n",
       "2                                  24.195826   \n",
       "3                                 277.618409   \n",
       "4                                   2.489941   \n",
       "\n",
       "  Nuclei_Texture_Variance_CorrMito_3_03_256  \\\n",
       "0                                  0.000000   \n",
       "1                                116.575192   \n",
       "2                                 23.131493   \n",
       "3                                307.605571   \n",
       "4                                  2.556472   \n",
       "\n",
       "  Nuclei_Texture_Variance_CorrRNA_3_00_256  \\\n",
       "0                                 0.000000   \n",
       "1                               190.754190   \n",
       "2                                41.115252   \n",
       "3                               343.656272   \n",
       "4                                 4.441140   \n",
       "\n",
       "  Nuclei_Texture_Variance_CorrRNA_3_01_256  \\\n",
       "0                                 0.000000   \n",
       "1                               191.035211   \n",
       "2                                43.284402   \n",
       "3                               351.318622   \n",
       "4                                 4.494646   \n",
       "\n",
       "  Nuclei_Texture_Variance_CorrRNA_3_02_256  \\\n",
       "0                                 0.000000   \n",
       "1                               183.653080   \n",
       "2                                39.871375   \n",
       "3                               347.232296   \n",
       "4                                 4.187971   \n",
       "\n",
       "  Nuclei_Texture_Variance_CorrRNA_3_03_256  \n",
       "0                                 0.000000  \n",
       "1                               192.355043  \n",
       "2                                39.512418  \n",
       "3                               348.717538  \n",
       "4                                 4.123668  \n",
       "\n",
       "[5 rows x 3035 columns]"
      ]
     },
     "execution_count": 6,
     "metadata": {},
     "output_type": "execute_result"
    }
   ],
   "source": [
    "# Directory with converted profiles\n",
    "converted_dir = pathlib.Path(f\"{output_dir}/converted_profiles/{round_id}\")\n",
    "\n",
    "# Define the list of columns to prioritize and prefix\n",
    "prioritized_columns = [\n",
    "    \"Nuclei_Location_Center_X\",\n",
    "    \"Nuclei_Location_Center_Y\",\n",
    "    \"Cells_Location_Center_X\",\n",
    "    \"Cells_Location_Center_Y\",\n",
    "    \"Image_Count_Cells\",\n",
    "]\n",
    "\n",
    "# Load the DataFrame from the Parquet file\n",
    "file_path = converted_dir / f\"{plate_id}_converted.parquet\"\n",
    "converted_df = pd.read_parquet(file_path)\n",
    "\n",
    "# If any, drop rows where \"Metadata_ImageNumber\" is NaN (artifact of cytotable)\n",
    "converted_df = converted_df.dropna(subset=[\"Metadata_ImageNumber\"])\n",
    "\n",
    "# Rearrange columns and add \"Metadata\" prefix in one line\n",
    "converted_df = converted_df[\n",
    "    prioritized_columns\n",
    "    + [col for col in converted_df.columns if col not in prioritized_columns]\n",
    "].rename(columns=lambda col: \"Metadata_\" + col if col in prioritized_columns else col)\n",
    "\n",
    "# assert that there are column names with PathName in the dataset\n",
    "assert any(\"PathName\" in col for col in converted_df.columns)\n",
    "\n",
    "# Assert that Metadata_Row and Metadata_Col are present for downstream QC\n",
    "assert {\"Image_Metadata_Row\", \"Image_Metadata_Col\"}.issubset(\n",
    "    converted_df.columns\n",
    "), \"Missing required Metadata columns: Row and/or Col\"\n",
    "\n",
    "# Save the processed DataFrame as Parquet in the same path\n",
    "converted_df.to_parquet(file_path, index=False)\n",
    "\n",
    "# print shape and head of dataset\n",
    "print(converted_df.shape)\n",
    "converted_df.head()"
   ]
  },
  {
   "cell_type": "markdown",
   "id": "624b3fca",
   "metadata": {
    "papermill": {
     "duration": 0.002012,
     "end_time": "2025-06-19T18:02:02.271672",
     "exception": false,
     "start_time": "2025-06-19T18:02:02.269660",
     "status": "completed"
    },
    "tags": []
   },
   "source": [
    "**To confirm the number of single cells is correct above, please use any database browser software to see if the number of rows in the \"Per_Cells\" compartment matches the number of rows in the data frame.**"
   ]
  }
 ],
 "metadata": {
  "kernelspec": {
   "display_name": "alsf_preprocessing_env",
   "language": "python",
   "name": "python3"
  },
  "language_info": {
   "codemirror_mode": {
    "name": "ipython",
    "version": 3
   },
   "file_extension": ".py",
   "mimetype": "text/x-python",
   "name": "python",
   "nbconvert_exporter": "python",
   "pygments_lexer": "ipython3",
   "version": "3.10.16"
  },
  "papermill": {
   "default_parameters": {},
   "duration": 751.111556,
   "end_time": "2025-06-19T18:02:06.296985",
   "environment_variables": {},
   "exception": null,
   "input_path": "0.convert_cytotable.ipynb",
   "output_path": "0.convert_cytotable.ipynb",
   "parameters": {
    "plate_id": "BR00145440"
   },
   "start_time": "2025-06-19T17:49:35.185429",
   "version": "2.6.0"
  }
 },
 "nbformat": 4,
 "nbformat_minor": 5
}