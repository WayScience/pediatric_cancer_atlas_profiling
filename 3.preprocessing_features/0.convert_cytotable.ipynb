{
 "cells": [
  {
   "cell_type": "markdown",
   "id": "66bbb64f",
   "metadata": {
    "papermill": {
     "duration": 0.002647,
     "end_time": "2025-03-25T15:45:24.631580",
     "exception": false,
     "start_time": "2025-03-25T15:45:24.628933",
     "status": "completed"
    },
    "tags": []
   },
   "source": [
    "# Convert SQLite outputs to parquet files with cytotable"
   ]
  },
  {
   "cell_type": "code",
   "execution_count": 1,
   "id": "8c07ecfb",
   "metadata": {
    "execution": {
     "iopub.execute_input": "2025-03-25T15:45:24.640192Z",
     "iopub.status.busy": "2025-03-25T15:45:24.639737Z",
     "iopub.status.idle": "2025-03-25T15:45:24.644795Z",
     "shell.execute_reply": "2025-03-25T15:45:24.644299Z"
    },
    "papermill": {
     "duration": 0.008768,
     "end_time": "2025-03-25T15:45:24.645621",
     "exception": false,
     "start_time": "2025-03-25T15:45:24.636853",
     "status": "completed"
    },
    "tags": [
     "parameters"
    ]
   },
   "outputs": [],
   "source": [
    "# Set parameter for papermill to use for processing\n",
    "plate_id = \"BR00143976\""
   ]
  },
  {
   "cell_type": "code",
   "execution_count": 2,
   "id": "912ee4c8",
   "metadata": {
    "execution": {
     "iopub.execute_input": "2025-03-25T15:45:24.650521Z",
     "iopub.status.busy": "2025-03-25T15:45:24.650346Z",
     "iopub.status.idle": "2025-03-25T15:45:24.653328Z",
     "shell.execute_reply": "2025-03-25T15:45:24.652585Z"
    },
    "papermill": {
     "duration": 0.006805,
     "end_time": "2025-03-25T15:45:24.654588",
     "exception": false,
     "start_time": "2025-03-25T15:45:24.647783",
     "status": "completed"
    },
    "tags": [
     "injected-parameters"
    ]
   },
   "outputs": [],
   "source": [
    "# Parameters\n",
    "plate_id = \"BR00143978\"\n"
   ]
  },
  {
   "cell_type": "markdown",
   "id": "8745b0c2",
   "metadata": {
    "papermill": {
     "duration": 0.003004,
     "end_time": "2025-03-25T15:45:24.660758",
     "exception": false,
     "start_time": "2025-03-25T15:45:24.657754",
     "status": "completed"
    },
    "tags": []
   },
   "source": [
    "## Import libraries"
   ]
  },
  {
   "cell_type": "code",
   "execution_count": 3,
   "id": "7df040d8",
   "metadata": {
    "execution": {
     "iopub.execute_input": "2025-03-25T15:45:24.667618Z",
     "iopub.status.busy": "2025-03-25T15:45:24.667081Z",
     "iopub.status.idle": "2025-03-25T15:45:25.543358Z",
     "shell.execute_reply": "2025-03-25T15:45:25.542850Z"
    },
    "papermill": {
     "duration": 0.881207,
     "end_time": "2025-03-25T15:45:25.544610",
     "exception": false,
     "start_time": "2025-03-25T15:45:24.663403",
     "status": "completed"
    },
    "tags": []
   },
   "outputs": [],
   "source": [
    "import pathlib\n",
    "import pandas as pd\n",
    "\n",
    "# cytotable will merge objects from SQLite file into single cells and save as parquet file\n",
    "from cytotable import convert, presets\n",
    "\n",
    "import logging\n",
    "\n",
    "# Set the logging level to a higher level to avoid outputting unnecessary errors from config file in convert function\n",
    "logging.getLogger().setLevel(logging.ERROR)"
   ]
  },
  {
   "cell_type": "markdown",
   "id": "fedd4f35",
   "metadata": {
    "papermill": {
     "duration": 0.00276,
     "end_time": "2025-03-25T15:45:25.550562",
     "exception": false,
     "start_time": "2025-03-25T15:45:25.547802",
     "status": "completed"
    },
    "tags": []
   },
   "source": [
    "## Set paths and variables"
   ]
  },
  {
   "cell_type": "code",
   "execution_count": 4,
   "id": "83fe752c",
   "metadata": {
    "execution": {
     "iopub.execute_input": "2025-03-25T15:45:25.556756Z",
     "iopub.status.busy": "2025-03-25T15:45:25.556506Z",
     "iopub.status.idle": "2025-03-25T15:45:25.560549Z",
     "shell.execute_reply": "2025-03-25T15:45:25.560179Z"
    },
    "papermill": {
     "duration": 0.008269,
     "end_time": "2025-03-25T15:45:25.561497",
     "exception": false,
     "start_time": "2025-03-25T15:45:25.553228",
     "status": "completed"
    },
    "tags": []
   },
   "outputs": [
    {
     "name": "stdout",
     "output_type": "stream",
     "text": [
      "There are 6 plates in this dataset. Below are the names:\n",
      "BR00143980\n",
      "BR00143977\n",
      "BR00143976\n",
      "BR00143979\n",
      "BR00143981\n",
      "BR00143978\n"
     ]
    }
   ],
   "source": [
    "# preset configurations based on typical CellProfiler outputs\n",
    "preset = \"cellprofiler_sqlite_pycytominer\"\n",
    "\n",
    "# update preset to include both the site metadata, cell counts, and PathName columns\n",
    "joins = presets.config[\"cellprofiler_sqlite_pycytominer\"][\"CONFIG_JOINS\"].replace(\n",
    "    \"Image_Metadata_Well,\",\n",
    "    \"Image_Metadata_Well, Image_Metadata_Site, Image_Count_Cells, Image_Metadata_Row, Image_Metadata_Col, \"\n",
    ")\n",
    "\n",
    "# Add the PathName columns separately\n",
    "joins = joins.replace(\n",
    "    \"COLUMNS('Image_FileName_.*'),\",\n",
    "    \"COLUMNS('Image_FileName_.*'),\\n COLUMNS('Image_PathName_.*'),\"\n",
    ")\n",
    "\n",
    "# type of file output from cytotable (currently only parquet)\n",
    "dest_datatype = \"parquet\"\n",
    "\n",
    "# set path to directory with SQLite files\n",
    "sqlite_dir = pathlib.Path(\"../2.feature_extraction/sqlite_outputs\")\n",
    "\n",
    "# directory for processed data\n",
    "output_dir = pathlib.Path(\"data\")\n",
    "output_dir.mkdir(parents=True, exist_ok=True)\n",
    "\n",
    "plate_names = []\n",
    "\n",
    "for file_path in sqlite_dir.iterdir():\n",
    "    plate_names.append(file_path.stem)\n",
    "\n",
    "# print the plate names and how many plates there are (confirmation)\n",
    "print(f\"There are {len(plate_names)} plates in this dataset. Below are the names:\")\n",
    "for name in plate_names:\n",
    "    print(name)"
   ]
  },
  {
   "cell_type": "markdown",
   "id": "0e704c6c",
   "metadata": {
    "papermill": {
     "duration": 0.003256,
     "end_time": "2025-03-25T15:45:25.567646",
     "exception": false,
     "start_time": "2025-03-25T15:45:25.564390",
     "status": "completed"
    },
    "tags": []
   },
   "source": [
    "## Convert SQLite to parquet files"
   ]
  },
  {
   "cell_type": "code",
   "execution_count": 5,
   "id": "04faaf98",
   "metadata": {
    "execution": {
     "iopub.execute_input": "2025-03-25T15:45:25.574622Z",
     "iopub.status.busy": "2025-03-25T15:45:25.574463Z",
     "iopub.status.idle": "2025-03-25T16:00:02.360556Z",
     "shell.execute_reply": "2025-03-25T16:00:02.359910Z"
    },
    "papermill": {
     "duration": 876.817774,
     "end_time": "2025-03-25T16:00:02.388742",
     "exception": false,
     "start_time": "2025-03-25T15:45:25.570968",
     "status": "completed"
    },
    "tags": []
   },
   "outputs": [
    {
     "name": "stdout",
     "output_type": "stream",
     "text": [
      "Starting conversion with cytotable for plate: BR00143978\n"
     ]
    },
    {
     "name": "stdout",
     "output_type": "stream",
     "text": [
      "Plate BR00143978 has been converted with cytotable!\n"
     ]
    }
   ],
   "source": [
    "file_path = sqlite_dir / plate_id\n",
    "output_path = pathlib.Path(f\"{output_dir}/converted_profiles/{plate_id}_converted.parquet\")\n",
    "\n",
    "print(\"Starting conversion with cytotable for plate:\", plate_id)\n",
    "# Merge single cells and output as parquet file\n",
    "convert(\n",
    "    source_path=str(file_path),\n",
    "    dest_path=str(output_path),\n",
    "    dest_datatype=dest_datatype,\n",
    "    preset=preset,\n",
    "    joins=joins,\n",
    "    chunk_size=15000,\n",
    ")\n",
    "\n",
    "print(f\"Plate {plate_id} has been converted with cytotable!\")"
   ]
  },
  {
   "cell_type": "markdown",
   "id": "10e69bff",
   "metadata": {
    "papermill": {
     "duration": 0.031233,
     "end_time": "2025-03-25T16:00:02.495887",
     "exception": false,
     "start_time": "2025-03-25T16:00:02.464654",
     "status": "completed"
    },
    "tags": []
   },
   "source": [
    "# Load in converted profiles to update"
   ]
  },
  {
   "cell_type": "code",
   "execution_count": 6,
   "id": "da6fa4b1",
   "metadata": {
    "execution": {
     "iopub.execute_input": "2025-03-25T16:00:02.578459Z",
     "iopub.status.busy": "2025-03-25T16:00:02.578193Z",
     "iopub.status.idle": "2025-03-25T16:02:36.703479Z",
     "shell.execute_reply": "2025-03-25T16:02:36.703047Z"
    },
    "papermill": {
     "duration": 154.170518,
     "end_time": "2025-03-25T16:02:36.707697",
     "exception": false,
     "start_time": "2025-03-25T16:00:02.537179",
     "status": "completed"
    },
    "tags": []
   },
   "outputs": [
    {
     "name": "stdout",
     "output_type": "stream",
     "text": [
      "(465740, 3035)\n"
     ]
    },
    {
     "data": {
      "text/html": [
       "<div>\n",
       "<style scoped>\n",
       "    .dataframe tbody tr th:only-of-type {\n",
       "        vertical-align: middle;\n",
       "    }\n",
       "\n",
       "    .dataframe tbody tr th {\n",
       "        vertical-align: top;\n",
       "    }\n",
       "\n",
       "    .dataframe thead th {\n",
       "        text-align: right;\n",
       "    }\n",
       "</style>\n",
       "<table border=\"1\" class=\"dataframe\">\n",
       "  <thead>\n",
       "    <tr style=\"text-align: right;\">\n",
       "      <th></th>\n",
       "      <th>Metadata_Nuclei_Location_Center_X</th>\n",
       "      <th>Metadata_Nuclei_Location_Center_Y</th>\n",
       "      <th>Metadata_Cells_Location_Center_X</th>\n",
       "      <th>Metadata_Cells_Location_Center_Y</th>\n",
       "      <th>Metadata_Image_Count_Cells</th>\n",
       "      <th>Metadata_ImageNumber</th>\n",
       "      <th>Image_Metadata_Col</th>\n",
       "      <th>Image_Metadata_Plate</th>\n",
       "      <th>Image_Metadata_Row</th>\n",
       "      <th>Image_Metadata_Site</th>\n",
       "      <th>...</th>\n",
       "      <th>Nuclei_Texture_Variance_CorrER_3_02_256</th>\n",
       "      <th>Nuclei_Texture_Variance_CorrER_3_03_256</th>\n",
       "      <th>Nuclei_Texture_Variance_CorrMito_3_00_256</th>\n",
       "      <th>Nuclei_Texture_Variance_CorrMito_3_01_256</th>\n",
       "      <th>Nuclei_Texture_Variance_CorrMito_3_02_256</th>\n",
       "      <th>Nuclei_Texture_Variance_CorrMito_3_03_256</th>\n",
       "      <th>Nuclei_Texture_Variance_CorrRNA_3_00_256</th>\n",
       "      <th>Nuclei_Texture_Variance_CorrRNA_3_01_256</th>\n",
       "      <th>Nuclei_Texture_Variance_CorrRNA_3_02_256</th>\n",
       "      <th>Nuclei_Texture_Variance_CorrRNA_3_03_256</th>\n",
       "    </tr>\n",
       "  </thead>\n",
       "  <tbody>\n",
       "    <tr>\n",
       "      <th>0</th>\n",
       "      <td>515.691910</td>\n",
       "      <td>43.549053</td>\n",
       "      <td>506.037214</td>\n",
       "      <td>46.875598</td>\n",
       "      <td>112</td>\n",
       "      <td>1474</td>\n",
       "      <td>16</td>\n",
       "      <td>BR00143978</td>\n",
       "      <td>10</td>\n",
       "      <td>7</td>\n",
       "      <td>...</td>\n",
       "      <td>465.796553</td>\n",
       "      <td>448.696644</td>\n",
       "      <td>1955.198799</td>\n",
       "      <td>1973.297713</td>\n",
       "      <td>2061.520233</td>\n",
       "      <td>1972.107898</td>\n",
       "      <td>91.329990</td>\n",
       "      <td>87.737347</td>\n",
       "      <td>94.916564</td>\n",
       "      <td>93.063563</td>\n",
       "    </tr>\n",
       "    <tr>\n",
       "      <th>1</th>\n",
       "      <td>575.096369</td>\n",
       "      <td>44.695531</td>\n",
       "      <td>572.045509</td>\n",
       "      <td>43.986150</td>\n",
       "      <td>224</td>\n",
       "      <td>40</td>\n",
       "      <td>3</td>\n",
       "      <td>BR00143978</td>\n",
       "      <td>7</td>\n",
       "      <td>4</td>\n",
       "      <td>...</td>\n",
       "      <td>46.820266</td>\n",
       "      <td>49.394058</td>\n",
       "      <td>58.144693</td>\n",
       "      <td>57.474273</td>\n",
       "      <td>66.693041</td>\n",
       "      <td>62.292138</td>\n",
       "      <td>37.371225</td>\n",
       "      <td>37.090304</td>\n",
       "      <td>36.530281</td>\n",
       "      <td>39.298212</td>\n",
       "    </tr>\n",
       "    <tr>\n",
       "      <th>2</th>\n",
       "      <td>450.244898</td>\n",
       "      <td>9.789116</td>\n",
       "      <td>449.138686</td>\n",
       "      <td>12.135036</td>\n",
       "      <td>265</td>\n",
       "      <td>971</td>\n",
       "      <td>11</td>\n",
       "      <td>BR00143978</td>\n",
       "      <td>14</td>\n",
       "      <td>8</td>\n",
       "      <td>...</td>\n",
       "      <td>17.891513</td>\n",
       "      <td>18.286600</td>\n",
       "      <td>29.254078</td>\n",
       "      <td>30.443866</td>\n",
       "      <td>33.275295</td>\n",
       "      <td>33.563375</td>\n",
       "      <td>65.907876</td>\n",
       "      <td>68.209417</td>\n",
       "      <td>71.767377</td>\n",
       "      <td>70.538919</td>\n",
       "    </tr>\n",
       "    <tr>\n",
       "      <th>3</th>\n",
       "      <td>471.215548</td>\n",
       "      <td>11.583039</td>\n",
       "      <td>470.462209</td>\n",
       "      <td>12.043605</td>\n",
       "      <td>429</td>\n",
       "      <td>972</td>\n",
       "      <td>11</td>\n",
       "      <td>BR00143978</td>\n",
       "      <td>14</td>\n",
       "      <td>9</td>\n",
       "      <td>...</td>\n",
       "      <td>21.068466</td>\n",
       "      <td>19.689976</td>\n",
       "      <td>21.537735</td>\n",
       "      <td>19.801042</td>\n",
       "      <td>21.246854</td>\n",
       "      <td>20.987656</td>\n",
       "      <td>68.253157</td>\n",
       "      <td>69.145802</td>\n",
       "      <td>70.611565</td>\n",
       "      <td>68.065586</td>\n",
       "    </tr>\n",
       "    <tr>\n",
       "      <th>4</th>\n",
       "      <td>320.918429</td>\n",
       "      <td>30.383686</td>\n",
       "      <td>319.547059</td>\n",
       "      <td>28.950980</td>\n",
       "      <td>188</td>\n",
       "      <td>973</td>\n",
       "      <td>12</td>\n",
       "      <td>BR00143978</td>\n",
       "      <td>3</td>\n",
       "      <td>1</td>\n",
       "      <td>...</td>\n",
       "      <td>117.770368</td>\n",
       "      <td>111.713883</td>\n",
       "      <td>188.659110</td>\n",
       "      <td>241.283696</td>\n",
       "      <td>191.381148</td>\n",
       "      <td>183.899075</td>\n",
       "      <td>30.514193</td>\n",
       "      <td>35.904959</td>\n",
       "      <td>31.090890</td>\n",
       "      <td>29.246951</td>\n",
       "    </tr>\n",
       "  </tbody>\n",
       "</table>\n",
       "<p>5 rows × 3035 columns</p>\n",
       "</div>"
      ],
      "text/plain": [
       "   Metadata_Nuclei_Location_Center_X  Metadata_Nuclei_Location_Center_Y  \\\n",
       "0                         515.691910                          43.549053   \n",
       "1                         575.096369                          44.695531   \n",
       "2                         450.244898                           9.789116   \n",
       "3                         471.215548                          11.583039   \n",
       "4                         320.918429                          30.383686   \n",
       "\n",
       "   Metadata_Cells_Location_Center_X  Metadata_Cells_Location_Center_Y  \\\n",
       "0                        506.037214                         46.875598   \n",
       "1                        572.045509                         43.986150   \n",
       "2                        449.138686                         12.135036   \n",
       "3                        470.462209                         12.043605   \n",
       "4                        319.547059                         28.950980   \n",
       "\n",
       "   Metadata_Image_Count_Cells  Metadata_ImageNumber Image_Metadata_Col  \\\n",
       "0                         112                  1474                 16   \n",
       "1                         224                    40                  3   \n",
       "2                         265                   971                 11   \n",
       "3                         429                   972                 11   \n",
       "4                         188                   973                 12   \n",
       "\n",
       "  Image_Metadata_Plate  Image_Metadata_Row  Image_Metadata_Site  ...  \\\n",
       "0           BR00143978                  10                    7  ...   \n",
       "1           BR00143978                   7                    4  ...   \n",
       "2           BR00143978                  14                    8  ...   \n",
       "3           BR00143978                  14                    9  ...   \n",
       "4           BR00143978                   3                    1  ...   \n",
       "\n",
       "  Nuclei_Texture_Variance_CorrER_3_02_256  \\\n",
       "0                              465.796553   \n",
       "1                               46.820266   \n",
       "2                               17.891513   \n",
       "3                               21.068466   \n",
       "4                              117.770368   \n",
       "\n",
       "   Nuclei_Texture_Variance_CorrER_3_03_256  \\\n",
       "0                               448.696644   \n",
       "1                                49.394058   \n",
       "2                                18.286600   \n",
       "3                                19.689976   \n",
       "4                               111.713883   \n",
       "\n",
       "   Nuclei_Texture_Variance_CorrMito_3_00_256  \\\n",
       "0                                1955.198799   \n",
       "1                                  58.144693   \n",
       "2                                  29.254078   \n",
       "3                                  21.537735   \n",
       "4                                 188.659110   \n",
       "\n",
       "   Nuclei_Texture_Variance_CorrMito_3_01_256  \\\n",
       "0                                1973.297713   \n",
       "1                                  57.474273   \n",
       "2                                  30.443866   \n",
       "3                                  19.801042   \n",
       "4                                 241.283696   \n",
       "\n",
       "   Nuclei_Texture_Variance_CorrMito_3_02_256  \\\n",
       "0                                2061.520233   \n",
       "1                                  66.693041   \n",
       "2                                  33.275295   \n",
       "3                                  21.246854   \n",
       "4                                 191.381148   \n",
       "\n",
       "  Nuclei_Texture_Variance_CorrMito_3_03_256  \\\n",
       "0                               1972.107898   \n",
       "1                                 62.292138   \n",
       "2                                 33.563375   \n",
       "3                                 20.987656   \n",
       "4                                183.899075   \n",
       "\n",
       "  Nuclei_Texture_Variance_CorrRNA_3_00_256  \\\n",
       "0                                91.329990   \n",
       "1                                37.371225   \n",
       "2                                65.907876   \n",
       "3                                68.253157   \n",
       "4                                30.514193   \n",
       "\n",
       "  Nuclei_Texture_Variance_CorrRNA_3_01_256  \\\n",
       "0                                87.737347   \n",
       "1                                37.090304   \n",
       "2                                68.209417   \n",
       "3                                69.145802   \n",
       "4                                35.904959   \n",
       "\n",
       "  Nuclei_Texture_Variance_CorrRNA_3_02_256  \\\n",
       "0                                94.916564   \n",
       "1                                36.530281   \n",
       "2                                71.767377   \n",
       "3                                70.611565   \n",
       "4                                31.090890   \n",
       "\n",
       "  Nuclei_Texture_Variance_CorrRNA_3_03_256  \n",
       "0                                93.063563  \n",
       "1                                39.298212  \n",
       "2                                70.538919  \n",
       "3                                68.065586  \n",
       "4                                29.246951  \n",
       "\n",
       "[5 rows x 3035 columns]"
      ]
     },
     "execution_count": 6,
     "metadata": {},
     "output_type": "execute_result"
    }
   ],
   "source": [
    "# Directory with converted profiles\n",
    "converted_dir = pathlib.Path(f\"{output_dir}/converted_profiles\")\n",
    "\n",
    "# Define the list of columns to prioritize and prefix\n",
    "prioritized_columns = [\n",
    "    \"Nuclei_Location_Center_X\",\n",
    "    \"Nuclei_Location_Center_Y\",\n",
    "    \"Cells_Location_Center_X\",\n",
    "    \"Cells_Location_Center_Y\",\n",
    "    \"Image_Count_Cells\",\n",
    "]\n",
    "\n",
    "# Load the DataFrame from the Parquet file\n",
    "file_path = converted_dir / f\"{plate_id}_converted.parquet\"\n",
    "converted_df = pd.read_parquet(file_path)\n",
    "\n",
    "# If any, drop rows where \"Metadata_ImageNumber\" is NaN (artifact of cytotable)\n",
    "converted_df = converted_df.dropna(subset=[\"Metadata_ImageNumber\"])\n",
    "\n",
    "# Rearrange columns and add \"Metadata\" prefix in one line\n",
    "converted_df = converted_df[\n",
    "    prioritized_columns\n",
    "    + [col for col in converted_df.columns if col not in prioritized_columns]\n",
    "].rename(\n",
    "    columns=lambda col: \"Metadata_\" + col if col in prioritized_columns else col\n",
    ")\n",
    "\n",
    "# assert that there are column names with PathName in the dataset\n",
    "assert any(\"PathName\" in col for col in converted_df.columns)\n",
    "\n",
    "# Assert that Metadata_Row and Metadata_Col are present for downstream QC\n",
    "assert {\"Image_Metadata_Row\", \"Image_Metadata_Col\"}.issubset(\n",
    "    converted_df.columns\n",
    "), \"Missing required Metadata columns: Row and/or Col\"\n",
    "\n",
    "# Save the processed DataFrame as Parquet in the same path\n",
    "converted_df.to_parquet(file_path, index=False)\n",
    "\n",
    "# print shape and head of dataset\n",
    "print(converted_df.shape)\n",
    "converted_df.head()"
   ]
  },
  {
   "cell_type": "markdown",
   "id": "624b3fca",
   "metadata": {
    "papermill": {
     "duration": 0.003264,
     "end_time": "2025-03-25T16:02:36.714615",
     "exception": false,
     "start_time": "2025-03-25T16:02:36.711351",
     "status": "completed"
    },
    "tags": []
   },
   "source": [
    "**To confirm the number of single cells is correct above, please use any database browser software to see if the number of rows in the \"Per_Cells\" compartment matches the number of rows in the data frame.**"
   ]
  }
 ],
 "metadata": {
  "kernelspec": {
   "display_name": "alsf_preprocessing_env",
   "language": "python",
   "name": "python3"
  },
  "language_info": {
   "codemirror_mode": {
    "name": "ipython",
    "version": 3
   },
   "file_extension": ".py",
   "mimetype": "text/x-python",
   "name": "python",
   "nbconvert_exporter": "python",
   "pygments_lexer": "ipython3",
   "version": "3.10.16"
  },
  "papermill": {
   "default_parameters": {},
   "duration": 1037.918588,
   "end_time": "2025-03-25T16:02:41.836359",
   "environment_variables": {},
   "exception": null,
   "input_path": "0.convert_cytotable.ipynb",
   "output_path": "0.convert_cytotable.ipynb",
   "parameters": {
    "plate_id": "BR00143978"
   },
   "start_time": "2025-03-25T15:45:23.917771",
   "version": "2.6.0"
  }
 },
 "nbformat": 4,
 "nbformat_minor": 5
}