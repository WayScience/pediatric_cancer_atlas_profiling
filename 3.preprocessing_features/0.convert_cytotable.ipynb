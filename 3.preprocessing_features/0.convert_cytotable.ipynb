{
 "cells": [
  {
   "cell_type": "markdown",
   "id": "66bbb64f",
   "metadata": {
    "papermill": {
     "duration": 0.001989,
     "end_time": "2025-07-28T17:25:32.572051",
     "exception": false,
     "start_time": "2025-07-28T17:25:32.570062",
     "status": "completed"
    },
    "tags": []
   },
   "source": [
    "# Convert SQLite outputs to parquet files with cytotable"
   ]
  },
  {
   "cell_type": "code",
   "execution_count": 1,
   "id": "8c07ecfb",
   "metadata": {
    "execution": {
     "iopub.execute_input": "2025-07-28T17:25:32.579799Z",
     "iopub.status.busy": "2025-07-28T17:25:32.579468Z",
     "iopub.status.idle": "2025-07-28T17:25:32.584437Z",
     "shell.execute_reply": "2025-07-28T17:25:32.584088Z"
    },
    "papermill": {
     "duration": 0.007849,
     "end_time": "2025-07-28T17:25:32.585113",
     "exception": false,
     "start_time": "2025-07-28T17:25:32.577264",
     "status": "completed"
    },
    "tags": [
     "parameters"
    ]
   },
   "outputs": [],
   "source": [
    "# Set parameter for papermill to use for processing\n",
    "plate_id = \"BR00145816\""
   ]
  },
  {
   "cell_type": "code",
   "execution_count": 2,
   "id": "f152c115",
   "metadata": {
    "execution": {
     "iopub.execute_input": "2025-07-28T17:25:32.589306Z",
     "iopub.status.busy": "2025-07-28T17:25:32.588976Z",
     "iopub.status.idle": "2025-07-28T17:25:32.591267Z",
     "shell.execute_reply": "2025-07-28T17:25:32.590894Z"
    },
    "papermill": {
     "duration": 0.005103,
     "end_time": "2025-07-28T17:25:32.591856",
     "exception": false,
     "start_time": "2025-07-28T17:25:32.586753",
     "status": "completed"
    },
    "tags": [
     "injected-parameters"
    ]
   },
   "outputs": [],
   "source": [
    "# Parameters\n",
    "plate_id = \"BR00147495\"\n"
   ]
  },
  {
   "cell_type": "markdown",
   "id": "8745b0c2",
   "metadata": {
    "papermill": {
     "duration": 0.001937,
     "end_time": "2025-07-28T17:25:32.595636",
     "exception": false,
     "start_time": "2025-07-28T17:25:32.593699",
     "status": "completed"
    },
    "tags": []
   },
   "source": [
    "## Import libraries"
   ]
  },
  {
   "cell_type": "code",
   "execution_count": 3,
   "id": "7df040d8",
   "metadata": {
    "execution": {
     "iopub.execute_input": "2025-07-28T17:25:32.600222Z",
     "iopub.status.busy": "2025-07-28T17:25:32.600065Z",
     "iopub.status.idle": "2025-07-28T17:25:33.843498Z",
     "shell.execute_reply": "2025-07-28T17:25:33.843070Z"
    },
    "papermill": {
     "duration": 1.246865,
     "end_time": "2025-07-28T17:25:33.844437",
     "exception": false,
     "start_time": "2025-07-28T17:25:32.597572",
     "status": "completed"
    },
    "tags": []
   },
   "outputs": [],
   "source": [
    "import pathlib\n",
    "import pandas as pd\n",
    "\n",
    "# cytotable will merge objects from SQLite file into single cells and save as parquet file\n",
    "from cytotable import convert, presets\n",
    "\n",
    "import logging\n",
    "\n",
    "# Set the logging level to a higher level to avoid outputting unnecessary errors from config file in convert function\n",
    "logging.getLogger().setLevel(logging.ERROR)"
   ]
  },
  {
   "cell_type": "markdown",
   "id": "fedd4f35",
   "metadata": {
    "papermill": {
     "duration": 0.001556,
     "end_time": "2025-07-28T17:25:33.847900",
     "exception": false,
     "start_time": "2025-07-28T17:25:33.846344",
     "status": "completed"
    },
    "tags": []
   },
   "source": [
    "## Set paths and variables"
   ]
  },
  {
   "cell_type": "code",
   "execution_count": 4,
   "id": "83fe752c",
   "metadata": {
    "execution": {
     "iopub.execute_input": "2025-07-28T17:25:33.852356Z",
     "iopub.status.busy": "2025-07-28T17:25:33.852027Z",
     "iopub.status.idle": "2025-07-28T17:25:33.856833Z",
     "shell.execute_reply": "2025-07-28T17:25:33.856463Z"
    },
    "papermill": {
     "duration": 0.007743,
     "end_time": "2025-07-28T17:25:33.857472",
     "exception": false,
     "start_time": "2025-07-28T17:25:33.849729",
     "status": "completed"
    },
    "tags": []
   },
   "outputs": [
    {
     "name": "stdout",
     "output_type": "stream",
     "text": [
      "There are 12 plates in this dataset. Below are the names:\n",
      "BR00146998\n",
      "BR00147496\n",
      "BR00147000\n",
      "BR00147002\n",
      "BR00147261\n",
      "BR00147262\n",
      "BR00147263\n",
      "BR00146999\n",
      "BR00147003\n",
      "BR00147001\n",
      "BR00147497\n",
      "BR00147495\n"
     ]
    }
   ],
   "source": [
    "# preset configurations based on typical CellProfiler outputs\n",
    "preset = \"cellprofiler_sqlite_pycytominer\"\n",
    "\n",
    "# update preset to include both the site metadata, cell counts, and PathName columns\n",
    "joins = presets.config[\"cellprofiler_sqlite_pycytominer\"][\"CONFIG_JOINS\"].replace(\n",
    "    \"Image_Metadata_Well,\",\n",
    "    \"Image_Metadata_Well, Image_Metadata_Site, Image_Count_Cells, Image_Metadata_Row, Image_Metadata_Col, \",\n",
    ")\n",
    "\n",
    "# Add the PathName columns separately\n",
    "joins = joins.replace(\n",
    "    \"COLUMNS('Image_FileName_.*'),\",\n",
    "    \"COLUMNS('Image_FileName_.*'),\\n COLUMNS('Image_PathName_.*'),\",\n",
    ")\n",
    "\n",
    "# type of file output from cytotable (currently only parquet)\n",
    "dest_datatype = \"parquet\"\n",
    "\n",
    "# set the round of data that will be processed\n",
    "round_id = \"Round_3_data\"\n",
    "\n",
    "# set path to directory with SQLite files\n",
    "sqlite_dir = pathlib.Path(f\"../2.feature_extraction/sqlite_outputs/{round_id}\")\n",
    "\n",
    "# directory for processed data\n",
    "output_dir = pathlib.Path(\"data\")\n",
    "output_dir.mkdir(parents=True, exist_ok=True)\n",
    "\n",
    "plate_names = []\n",
    "\n",
    "for file_path in sqlite_dir.iterdir():\n",
    "    plate_names.append(file_path.stem)\n",
    "\n",
    "# print the plate names and how many plates there are (confirmation)\n",
    "print(f\"There are {len(plate_names)} plates in this dataset. Below are the names:\")\n",
    "for name in plate_names:\n",
    "    print(name)"
   ]
  },
  {
   "cell_type": "markdown",
   "id": "0e704c6c",
   "metadata": {
    "papermill": {
     "duration": 0.001421,
     "end_time": "2025-07-28T17:25:33.860478",
     "exception": false,
     "start_time": "2025-07-28T17:25:33.859057",
     "status": "completed"
    },
    "tags": []
   },
   "source": [
    "## Convert SQLite to parquet files"
   ]
  },
  {
   "cell_type": "code",
   "execution_count": 5,
   "id": "04faaf98",
   "metadata": {
    "execution": {
     "iopub.execute_input": "2025-07-28T17:25:33.863903Z",
     "iopub.status.busy": "2025-07-28T17:25:33.863764Z",
     "iopub.status.idle": "2025-07-28T17:27:47.810395Z",
     "shell.execute_reply": "2025-07-28T17:27:47.809774Z"
    },
    "papermill": {
     "duration": 133.950531,
     "end_time": "2025-07-28T17:27:47.812443",
     "exception": false,
     "start_time": "2025-07-28T17:25:33.861912",
     "status": "completed"
    },
    "tags": []
   },
   "outputs": [
    {
     "name": "stdout",
     "output_type": "stream",
     "text": [
      "Starting conversion with cytotable for plate: BR00147495\n"
     ]
    },
    {
     "name": "stdout",
     "output_type": "stream",
     "text": [
      "Plate BR00147495 has been converted with cytotable!\n"
     ]
    }
   ],
   "source": [
    "file_path = sqlite_dir / plate_id\n",
    "output_path = pathlib.Path(\n",
    "    f\"{output_dir}/converted_profiles/{round_id}/{plate_id}_converted.parquet\"\n",
    ")\n",
    "\n",
    "print(\"Starting conversion with cytotable for plate:\", plate_id)\n",
    "# Merge single cells and output as parquet file\n",
    "convert(\n",
    "    source_path=str(file_path),\n",
    "    dest_path=str(output_path),\n",
    "    dest_datatype=dest_datatype,\n",
    "    preset=preset,\n",
    "    joins=joins,\n",
    "    chunk_size=15000,\n",
    ")\n",
    "\n",
    "print(f\"Plate {plate_id} has been converted with cytotable!\")"
   ]
  },
  {
   "cell_type": "markdown",
   "id": "10e69bff",
   "metadata": {
    "papermill": {
     "duration": 0.001775,
     "end_time": "2025-07-28T17:27:47.819006",
     "exception": false,
     "start_time": "2025-07-28T17:27:47.817231",
     "status": "completed"
    },
    "tags": []
   },
   "source": [
    "# Load in converted profiles to update"
   ]
  },
  {
   "cell_type": "code",
   "execution_count": 6,
   "id": "da6fa4b1",
   "metadata": {
    "execution": {
     "iopub.execute_input": "2025-07-28T17:27:47.823738Z",
     "iopub.status.busy": "2025-07-28T17:27:47.823425Z",
     "iopub.status.idle": "2025-07-28T17:28:12.541358Z",
     "shell.execute_reply": "2025-07-28T17:28:12.540883Z"
    },
    "papermill": {
     "duration": 24.721289,
     "end_time": "2025-07-28T17:28:12.542016",
     "exception": false,
     "start_time": "2025-07-28T17:27:47.820727",
     "status": "completed"
    },
    "tags": []
   },
   "outputs": [
    {
     "name": "stdout",
     "output_type": "stream",
     "text": [
      "(124555, 3035)\n"
     ]
    },
    {
     "data": {
      "text/html": [
       "<div>\n",
       "<style scoped>\n",
       "    .dataframe tbody tr th:only-of-type {\n",
       "        vertical-align: middle;\n",
       "    }\n",
       "\n",
       "    .dataframe tbody tr th {\n",
       "        vertical-align: top;\n",
       "    }\n",
       "\n",
       "    .dataframe thead th {\n",
       "        text-align: right;\n",
       "    }\n",
       "</style>\n",
       "<table border=\"1\" class=\"dataframe\">\n",
       "  <thead>\n",
       "    <tr style=\"text-align: right;\">\n",
       "      <th></th>\n",
       "      <th>Metadata_Nuclei_Location_Center_X</th>\n",
       "      <th>Metadata_Nuclei_Location_Center_Y</th>\n",
       "      <th>Metadata_Cells_Location_Center_X</th>\n",
       "      <th>Metadata_Cells_Location_Center_Y</th>\n",
       "      <th>Metadata_Image_Count_Cells</th>\n",
       "      <th>Metadata_ImageNumber</th>\n",
       "      <th>Image_Metadata_Col</th>\n",
       "      <th>Image_Metadata_Plate</th>\n",
       "      <th>Image_Metadata_Row</th>\n",
       "      <th>Image_Metadata_Site</th>\n",
       "      <th>...</th>\n",
       "      <th>Nuclei_Texture_Variance_CorrER_3_02_256</th>\n",
       "      <th>Nuclei_Texture_Variance_CorrER_3_03_256</th>\n",
       "      <th>Nuclei_Texture_Variance_CorrMito_3_00_256</th>\n",
       "      <th>Nuclei_Texture_Variance_CorrMito_3_01_256</th>\n",
       "      <th>Nuclei_Texture_Variance_CorrMito_3_02_256</th>\n",
       "      <th>Nuclei_Texture_Variance_CorrMito_3_03_256</th>\n",
       "      <th>Nuclei_Texture_Variance_CorrRNA_3_00_256</th>\n",
       "      <th>Nuclei_Texture_Variance_CorrRNA_3_01_256</th>\n",
       "      <th>Nuclei_Texture_Variance_CorrRNA_3_02_256</th>\n",
       "      <th>Nuclei_Texture_Variance_CorrRNA_3_03_256</th>\n",
       "    </tr>\n",
       "  </thead>\n",
       "  <tbody>\n",
       "    <tr>\n",
       "      <th>0</th>\n",
       "      <td>938.863462</td>\n",
       "      <td>131.438462</td>\n",
       "      <td>938.353249</td>\n",
       "      <td>131.154088</td>\n",
       "      <td>41</td>\n",
       "      <td>1</td>\n",
       "      <td>3</td>\n",
       "      <td>BR00147495</td>\n",
       "      <td>3</td>\n",
       "      <td>1</td>\n",
       "      <td>...</td>\n",
       "      <td>638.665357</td>\n",
       "      <td>671.191789</td>\n",
       "      <td>119.518551</td>\n",
       "      <td>123.104904</td>\n",
       "      <td>118.302733</td>\n",
       "      <td>122.888871</td>\n",
       "      <td>597.725691</td>\n",
       "      <td>597.581346</td>\n",
       "      <td>610.538260</td>\n",
       "      <td>622.402110</td>\n",
       "    </tr>\n",
       "    <tr>\n",
       "      <th>1</th>\n",
       "      <td>146.716837</td>\n",
       "      <td>19.992347</td>\n",
       "      <td>145.310764</td>\n",
       "      <td>18.748264</td>\n",
       "      <td>30</td>\n",
       "      <td>3</td>\n",
       "      <td>3</td>\n",
       "      <td>BR00147495</td>\n",
       "      <td>3</td>\n",
       "      <td>3</td>\n",
       "      <td>...</td>\n",
       "      <td>476.185139</td>\n",
       "      <td>502.580704</td>\n",
       "      <td>2963.294867</td>\n",
       "      <td>2537.848737</td>\n",
       "      <td>2720.618897</td>\n",
       "      <td>2887.211870</td>\n",
       "      <td>174.556281</td>\n",
       "      <td>186.874975</td>\n",
       "      <td>183.180312</td>\n",
       "      <td>189.617032</td>\n",
       "    </tr>\n",
       "    <tr>\n",
       "      <th>2</th>\n",
       "      <td>294.131455</td>\n",
       "      <td>39.464789</td>\n",
       "      <td>294.136488</td>\n",
       "      <td>39.274795</td>\n",
       "      <td>44</td>\n",
       "      <td>4</td>\n",
       "      <td>3</td>\n",
       "      <td>BR00147495</td>\n",
       "      <td>3</td>\n",
       "      <td>4</td>\n",
       "      <td>...</td>\n",
       "      <td>429.198460</td>\n",
       "      <td>416.479645</td>\n",
       "      <td>514.354842</td>\n",
       "      <td>471.273280</td>\n",
       "      <td>464.041991</td>\n",
       "      <td>488.135889</td>\n",
       "      <td>234.239572</td>\n",
       "      <td>234.179651</td>\n",
       "      <td>247.430135</td>\n",
       "      <td>238.883069</td>\n",
       "    </tr>\n",
       "    <tr>\n",
       "      <th>3</th>\n",
       "      <td>176.803082</td>\n",
       "      <td>64.486301</td>\n",
       "      <td>178.063584</td>\n",
       "      <td>64.343353</td>\n",
       "      <td>26</td>\n",
       "      <td>5</td>\n",
       "      <td>3</td>\n",
       "      <td>BR00147495</td>\n",
       "      <td>3</td>\n",
       "      <td>5</td>\n",
       "      <td>...</td>\n",
       "      <td>367.085049</td>\n",
       "      <td>363.381763</td>\n",
       "      <td>1320.432965</td>\n",
       "      <td>1203.494435</td>\n",
       "      <td>1171.203814</td>\n",
       "      <td>1187.947528</td>\n",
       "      <td>192.107650</td>\n",
       "      <td>179.286782</td>\n",
       "      <td>170.484665</td>\n",
       "      <td>168.160280</td>\n",
       "    </tr>\n",
       "    <tr>\n",
       "      <th>4</th>\n",
       "      <td>58.291024</td>\n",
       "      <td>40.892112</td>\n",
       "      <td>53.443288</td>\n",
       "      <td>43.095734</td>\n",
       "      <td>57</td>\n",
       "      <td>6</td>\n",
       "      <td>3</td>\n",
       "      <td>BR00147495</td>\n",
       "      <td>3</td>\n",
       "      <td>6</td>\n",
       "      <td>...</td>\n",
       "      <td>123.273895</td>\n",
       "      <td>121.762792</td>\n",
       "      <td>403.319917</td>\n",
       "      <td>407.691252</td>\n",
       "      <td>436.346640</td>\n",
       "      <td>393.387957</td>\n",
       "      <td>89.649707</td>\n",
       "      <td>91.439740</td>\n",
       "      <td>88.492812</td>\n",
       "      <td>89.172983</td>\n",
       "    </tr>\n",
       "  </tbody>\n",
       "</table>\n",
       "<p>5 rows × 3035 columns</p>\n",
       "</div>"
      ],
      "text/plain": [
       "   Metadata_Nuclei_Location_Center_X  Metadata_Nuclei_Location_Center_Y  \\\n",
       "0                         938.863462                         131.438462   \n",
       "1                         146.716837                          19.992347   \n",
       "2                         294.131455                          39.464789   \n",
       "3                         176.803082                          64.486301   \n",
       "4                          58.291024                          40.892112   \n",
       "\n",
       "   Metadata_Cells_Location_Center_X  Metadata_Cells_Location_Center_Y  \\\n",
       "0                        938.353249                        131.154088   \n",
       "1                        145.310764                         18.748264   \n",
       "2                        294.136488                         39.274795   \n",
       "3                        178.063584                         64.343353   \n",
       "4                         53.443288                         43.095734   \n",
       "\n",
       "   Metadata_Image_Count_Cells  Metadata_ImageNumber Image_Metadata_Col  \\\n",
       "0                          41                     1                  3   \n",
       "1                          30                     3                  3   \n",
       "2                          44                     4                  3   \n",
       "3                          26                     5                  3   \n",
       "4                          57                     6                  3   \n",
       "\n",
       "  Image_Metadata_Plate  Image_Metadata_Row  Image_Metadata_Site  ...  \\\n",
       "0           BR00147495                   3                    1  ...   \n",
       "1           BR00147495                   3                    3  ...   \n",
       "2           BR00147495                   3                    4  ...   \n",
       "3           BR00147495                   3                    5  ...   \n",
       "4           BR00147495                   3                    6  ...   \n",
       "\n",
       "  Nuclei_Texture_Variance_CorrER_3_02_256  \\\n",
       "0                              638.665357   \n",
       "1                              476.185139   \n",
       "2                              429.198460   \n",
       "3                              367.085049   \n",
       "4                              123.273895   \n",
       "\n",
       "   Nuclei_Texture_Variance_CorrER_3_03_256  \\\n",
       "0                               671.191789   \n",
       "1                               502.580704   \n",
       "2                               416.479645   \n",
       "3                               363.381763   \n",
       "4                               121.762792   \n",
       "\n",
       "   Nuclei_Texture_Variance_CorrMito_3_00_256  \\\n",
       "0                                 119.518551   \n",
       "1                                2963.294867   \n",
       "2                                 514.354842   \n",
       "3                                1320.432965   \n",
       "4                                 403.319917   \n",
       "\n",
       "   Nuclei_Texture_Variance_CorrMito_3_01_256  \\\n",
       "0                                 123.104904   \n",
       "1                                2537.848737   \n",
       "2                                 471.273280   \n",
       "3                                1203.494435   \n",
       "4                                 407.691252   \n",
       "\n",
       "   Nuclei_Texture_Variance_CorrMito_3_02_256  \\\n",
       "0                                 118.302733   \n",
       "1                                2720.618897   \n",
       "2                                 464.041991   \n",
       "3                                1171.203814   \n",
       "4                                 436.346640   \n",
       "\n",
       "  Nuclei_Texture_Variance_CorrMito_3_03_256  \\\n",
       "0                                122.888871   \n",
       "1                               2887.211870   \n",
       "2                                488.135889   \n",
       "3                               1187.947528   \n",
       "4                                393.387957   \n",
       "\n",
       "  Nuclei_Texture_Variance_CorrRNA_3_00_256  \\\n",
       "0                               597.725691   \n",
       "1                               174.556281   \n",
       "2                               234.239572   \n",
       "3                               192.107650   \n",
       "4                                89.649707   \n",
       "\n",
       "  Nuclei_Texture_Variance_CorrRNA_3_01_256  \\\n",
       "0                               597.581346   \n",
       "1                               186.874975   \n",
       "2                               234.179651   \n",
       "3                               179.286782   \n",
       "4                                91.439740   \n",
       "\n",
       "  Nuclei_Texture_Variance_CorrRNA_3_02_256  \\\n",
       "0                               610.538260   \n",
       "1                               183.180312   \n",
       "2                               247.430135   \n",
       "3                               170.484665   \n",
       "4                                88.492812   \n",
       "\n",
       "  Nuclei_Texture_Variance_CorrRNA_3_03_256  \n",
       "0                               622.402110  \n",
       "1                               189.617032  \n",
       "2                               238.883069  \n",
       "3                               168.160280  \n",
       "4                                89.172983  \n",
       "\n",
       "[5 rows x 3035 columns]"
      ]
     },
     "execution_count": 6,
     "metadata": {},
     "output_type": "execute_result"
    }
   ],
   "source": [
    "# Directory with converted profiles\n",
    "converted_dir = pathlib.Path(f\"{output_dir}/converted_profiles/{round_id}\")\n",
    "\n",
    "# Define the list of columns to prioritize and prefix\n",
    "prioritized_columns = [\n",
    "    \"Nuclei_Location_Center_X\",\n",
    "    \"Nuclei_Location_Center_Y\",\n",
    "    \"Cells_Location_Center_X\",\n",
    "    \"Cells_Location_Center_Y\",\n",
    "    \"Image_Count_Cells\",\n",
    "]\n",
    "\n",
    "# Load the DataFrame from the Parquet file\n",
    "file_path = converted_dir / f\"{plate_id}_converted.parquet\"\n",
    "converted_df = pd.read_parquet(file_path)\n",
    "\n",
    "# If any, drop rows where \"Metadata_ImageNumber\" is NaN (artifact of cytotable)\n",
    "converted_df = converted_df.dropna(subset=[\"Metadata_ImageNumber\"])\n",
    "\n",
    "# Rearrange columns and add \"Metadata\" prefix in one line\n",
    "converted_df = converted_df[\n",
    "    prioritized_columns\n",
    "    + [col for col in converted_df.columns if col not in prioritized_columns]\n",
    "].rename(columns=lambda col: \"Metadata_\" + col if col in prioritized_columns else col)\n",
    "\n",
    "# assert that there are column names with PathName in the dataset\n",
    "assert any(\"PathName\" in col for col in converted_df.columns)\n",
    "\n",
    "# Assert that Metadata_Row and Metadata_Col are present for downstream QC\n",
    "assert {\"Image_Metadata_Row\", \"Image_Metadata_Col\"}.issubset(\n",
    "    converted_df.columns\n",
    "), \"Missing required Metadata columns: Row and/or Col\"\n",
    "\n",
    "# Save the processed DataFrame as Parquet in the same path\n",
    "converted_df.to_parquet(file_path, index=False)\n",
    "\n",
    "# print shape and head of dataset\n",
    "print(converted_df.shape)\n",
    "converted_df.head()"
   ]
  },
  {
   "cell_type": "markdown",
   "id": "624b3fca",
   "metadata": {
    "papermill": {
     "duration": 0.001761,
     "end_time": "2025-07-28T17:28:12.546192",
     "exception": false,
     "start_time": "2025-07-28T17:28:12.544431",
     "status": "completed"
    },
    "tags": []
   },
   "source": [
    "**To confirm the number of single cells is correct above, please use any database browser software to see if the number of rows in the \"Per_Cells\" compartment matches the number of rows in the data frame.**"
   ]
  }
 ],
 "metadata": {
  "kernelspec": {
   "display_name": "alsf_preprocessing_env",
   "language": "python",
   "name": "python3"
  },
  "language_info": {
   "codemirror_mode": {
    "name": "ipython",
    "version": 3
   },
   "file_extension": ".py",
   "mimetype": "text/x-python",
   "name": "python",
   "nbconvert_exporter": "python",
   "pygments_lexer": "ipython3",
   "version": "3.10.16"
  },
  "papermill": {
   "default_parameters": {},
   "duration": 164.243995,
   "end_time": "2025-07-28T17:28:15.664807",
   "environment_variables": {},
   "exception": null,
   "input_path": "0.convert_cytotable.ipynb",
   "output_path": "0.convert_cytotable.ipynb",
   "parameters": {
    "plate_id": "BR00147495"
   },
   "start_time": "2025-07-28T17:25:31.420812",
   "version": "2.6.0"
  }
 },
 "nbformat": 4,
 "nbformat_minor": 5
}