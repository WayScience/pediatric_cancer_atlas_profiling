{
 "cells": [
  {
   "cell_type": "markdown",
   "id": "ab9c00ce",
   "metadata": {},
   "source": [
    "# Perform segmentation and feature extraction using CellProfiler"
   ]
  },
  {
   "cell_type": "markdown",
   "id": "12c66203",
   "metadata": {},
   "source": [
    "## Import libraries\n"
   ]
  },
  {
   "cell_type": "code",
   "execution_count": 1,
   "id": "6b789a4c",
   "metadata": {},
   "outputs": [],
   "source": [
    "import argparse\n",
    "import pathlib\n",
    "import pprint\n",
    "\n",
    "import sys\n",
    "\n",
    "sys.path.append(\"../utils\")\n",
    "import cp_parallel\n",
    "\n",
    "# check if in a jupyter notebook\n",
    "try:\n",
    "    cfg = get_ipython().config\n",
    "    in_notebook = True\n",
    "except NameError:\n",
    "    in_notebook = False"
   ]
  },
  {
   "cell_type": "markdown",
   "id": "6b36834f",
   "metadata": {},
   "source": [
    "## Set paths and variables"
   ]
  },
  {
   "cell_type": "code",
   "execution_count": 2,
   "id": "3dfa3838",
   "metadata": {},
   "outputs": [
    {
     "name": "stdout",
     "output_type": "stream",
     "text": [
      "Total number of plates: 6\n",
      "Plate Names:\n",
      "BR00143979\n",
      "BR00143976\n",
      "BR00143980\n",
      "BR00143978\n",
      "BR00143977\n",
      "BR00143981\n"
     ]
    }
   ],
   "source": [
    "# set the run type for the parallelization\n",
    "run_name = \"analysis\"\n",
    "\n",
    "# set path for CellProfiler pipeline\n",
    "path_to_pipeline = pathlib.Path(\"./analysis.cppipe\").resolve(strict=True)\n",
    "\n",
    "# set main output dir for all plates if it doesn't exist\n",
    "output_dir = pathlib.Path(\"./sqlite_outputs\")\n",
    "output_dir.mkdir(exist_ok=True)\n",
    "\n",
    "# Batch name for processing specific plates\n",
    "batch_name = \"Round_1_data\"\n",
    "\n",
    "# directory where loaddata CSVs are located within the folder\n",
    "loaddata_dir = pathlib.Path(f\"./loaddata_csvs/{batch_name}\").resolve(strict=True)\n",
    "\n",
    "# Extract plate names and include as list\n",
    "plate_names = [file.stem.split(\"_\")[0] for file in loaddata_dir.glob(\"*.csv\")]\n",
    "\n",
    "# Print the number of plates and their names\n",
    "print(f\"Total number of plates: {len(plate_names)}\")\n",
    "print(\"Plate Names:\")\n",
    "for name in plate_names:\n",
    "    print(name)"
   ]
  },
  {
   "cell_type": "markdown",
   "id": "9d162add",
   "metadata": {},
   "source": [
    "## Create dictionary to process data"
   ]
  },
  {
   "cell_type": "code",
   "execution_count": 3,
   "id": "e37d1b44",
   "metadata": {},
   "outputs": [
    {
     "name": "stdout",
     "output_type": "stream",
     "text": [
      "{   'BR00143976': {   'path_to_loaddata': PosixPath('/home/jenna/pediatric_cancer_atlas_profiling/2.feature_extraction/loaddata_csvs/Round_1_data/BR00143976_concatenated_with_illum.csv'),\n",
      "                      'path_to_output': PosixPath('sqlite_outputs/BR00143976'),\n",
      "                      'path_to_pipeline': PosixPath('/home/jenna/pediatric_cancer_atlas_profiling/2.feature_extraction/analysis.cppipe')}}\n"
     ]
    }
   ],
   "source": [
    "# create plate info dictionary with all parts of the CellProfiler CLI command to run in parallel\n",
    "plate_info_dictionary = {\n",
    "    name: {\n",
    "        \"path_to_loaddata\": next(loaddata_dir.glob(f\"{name}*.csv\"), None),\n",
    "        \"path_to_output\": output_dir / name,\n",
    "        \"path_to_pipeline\": path_to_pipeline,\n",
    "    }\n",
    "    for name in plate_names\n",
    "    if name == \"BR00143976\" and next(loaddata_dir.glob(f\"{name}*.csv\"), None)\n",
    "}\n",
    "\n",
    "# view the dictionary to assess that all info is added correctly\n",
    "pprint.pprint(plate_info_dictionary, indent=4)"
   ]
  },
  {
   "cell_type": "markdown",
   "id": "044fc880",
   "metadata": {},
   "source": [
    "## Perform segmentation and feature extraction (analysis)\n",
    "\n",
    "Note: This code cell was not ran as we prefer to perform CellProfiler processing tasks via `sh` file (bash script) which is more stable."
   ]
  },
  {
   "cell_type": "code",
   "execution_count": null,
   "id": "71562c7a",
   "metadata": {},
   "outputs": [],
   "source": [
    "cp_parallel.run_cellprofiler_parallel(\n",
    "    plate_info_dictionary=plate_info_dictionary, run_name=run_name\n",
    ")\n"
   ]
  }
 ],
 "metadata": {
  "kernelspec": {
   "display_name": "alsf_cp_env",
   "language": "python",
   "name": "python3"
  },
  "language_info": {
   "codemirror_mode": {
    "name": "ipython",
    "version": 3
   },
   "file_extension": ".py",
   "mimetype": "text/x-python",
   "name": "python",
   "nbconvert_exporter": "python",
   "pygments_lexer": "ipython3",
   "version": "3.8.20"
  }
 },
 "nbformat": 4,
 "nbformat_minor": 5
}
