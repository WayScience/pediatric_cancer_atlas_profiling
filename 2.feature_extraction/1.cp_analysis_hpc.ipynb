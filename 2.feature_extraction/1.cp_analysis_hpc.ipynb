{
 "cells": [
  {
   "cell_type": "markdown",
   "metadata": {},
   "source": [
    "# Perform segmentation and feature extraction using CellProfiler"
   ]
  },
  {
   "cell_type": "markdown",
   "metadata": {},
   "source": [
    "## Import libraries"
   ]
  },
  {
   "cell_type": "code",
   "execution_count": 1,
   "metadata": {},
   "outputs": [],
   "source": [
    "import argparse\n",
    "import pathlib\n",
    "import pprint\n",
    "\n",
    "import sys\n",
    "\n",
    "sys.path.append(\"../utils\")\n",
    "import cp_parallel\n",
    "\n",
    "# check if in a jupyter notebook\n",
    "try:\n",
    "    cfg = get_ipython().config\n",
    "    in_notebook = True\n",
    "except NameError:\n",
    "    in_notebook = False"
   ]
  },
  {
   "cell_type": "markdown",
   "metadata": {},
   "source": [
    "## Set paths and variables"
   ]
  },
  {
   "cell_type": "code",
   "execution_count": 2,
   "metadata": {},
   "outputs": [
    {
     "name": "stdout",
     "output_type": "stream",
     "text": [
      "Running in a notebook\n"
     ]
    }
   ],
   "source": [
    "# Batch name to process\n",
    "batch_name = \"Round_1_data\"\n",
    "\n",
    "#  directory where loaddata CSVs are located within the folder\n",
    "loaddata_dir = pathlib.Path(f\"./loaddata_csvs/{batch_name}\").resolve(strict=True)\n",
    "\n",
    "if not in_notebook:\n",
    "    print(\"Running as script\")\n",
    "    # set up arg parser\n",
    "    parser = argparse.ArgumentParser(\n",
    "        description=\"CellProfiler segmentation and feature extraction\"\n",
    "    )\n",
    "\n",
    "    parser.add_argument(\n",
    "        \"--input_csv\",\n",
    "        type=str,\n",
    "        help=\"Path to the LoadData CSV file to process images\",\n",
    "    )\n",
    "\n",
    "    args = parser.parse_args()\n",
    "    loaddata_csv = pathlib.Path(args.input_csv).resolve(strict=True)\n",
    "else:\n",
    "    print(\"Running in a notebook\")\n",
    "    loaddata_csv = pathlib.Path(\n",
    "        f\"{loaddata_dir}/BR00143976_concatenated_with_illum.csv\"\n",
    "    )\n",
    "\n",
    "# set the run type for the parallelization\n",
    "run_name = \"analysis\"\n",
    "\n",
    "# set path for CellProfiler pipeline\n",
    "path_to_pipeline = pathlib.Path(\"./analysis.cppipe\").resolve(strict=True)\n",
    "\n",
    "# set main output dir for all plates if it doesn't exist\n",
    "output_dir = pathlib.Path(\"./sqlite_outputs\")\n",
    "output_dir.mkdir(exist_ok=True)"
   ]
  },
  {
   "cell_type": "markdown",
   "metadata": {},
   "source": [
    "## Create dictionary to process data"
   ]
  },
  {
   "cell_type": "code",
   "execution_count": 3,
   "metadata": {},
   "outputs": [
    {
     "name": "stdout",
     "output_type": "stream",
     "text": [
      "{   'BR00143976': {   'path_to_loaddata': PosixPath('/home/jenna/pediatric_cancer_atlas_profiling/2.feature_extraction/loaddata_csvs/Round_1_data/BR00143976_concatenated_with_illum.csv'),\n",
      "                      'path_to_output': PosixPath('sqlite_outputs/BR00143976'),\n",
      "                      'path_to_pipeline': PosixPath('/home/jenna/pediatric_cancer_atlas_profiling/2.feature_extraction/analysis.cppipe')}}\n"
     ]
    }
   ],
   "source": [
    "# Extract name from LoadData CSV path\n",
    "name = loaddata_csv.stem.split(\"_\")[0]\n",
    "\n",
    "# create plate info dictionary with all parts of the CellProfiler CLI command to run in parallel\n",
    "plate_info_dictionary = {\n",
    "    name: {\n",
    "        \"path_to_loaddata\": loaddata_csv,\n",
    "        \"path_to_output\": output_dir / name,\n",
    "        \"path_to_pipeline\": path_to_pipeline,\n",
    "    }\n",
    "}\n",
    "\n",
    "# view the dictionary to assess that all info is added correctly\n",
    "pprint.pprint(plate_info_dictionary, indent=4)"
   ]
  },
  {
   "cell_type": "markdown",
   "metadata": {},
   "source": [
    "## Perform segmentation and feature extraction (analysis)\n",
    "\n",
    "Note: This code cell was not ran as we prefer to perform CellProfiler processing tasks via `sh` file (bash script) which is more stable."
   ]
  },
  {
   "cell_type": "code",
   "execution_count": 4,
   "metadata": {},
   "outputs": [
    {
     "name": "stdout",
     "output_type": "stream",
     "text": [
      "All processes have been completed!\n",
      "All results have been converted to log files!\n"
     ]
    }
   ],
   "source": [
    "cp_parallel.run_cellprofiler_parallel(\n",
    "    plate_info_dictionary=plate_info_dictionary, run_name=run_name\n",
    ")"
   ]
  }
 ],
 "metadata": {
  "kernelspec": {
   "display_name": "alsf_cp_env",
   "language": "python",
   "name": "python3"
  },
  "language_info": {
   "codemirror_mode": {
    "name": "ipython",
    "version": 3
   },
   "file_extension": ".py",
   "mimetype": "text/x-python",
   "name": "python",
   "nbconvert_exporter": "python",
   "pygments_lexer": "ipython3",
   "version": "3.8.20"
  },
  "orig_nbformat": 4
 },
 "nbformat": 4,
 "nbformat_minor": 2
}
