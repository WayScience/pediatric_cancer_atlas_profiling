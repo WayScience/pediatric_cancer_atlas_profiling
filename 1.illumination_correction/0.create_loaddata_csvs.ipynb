{
 "cells": [
  {
   "attachments": {},
   "cell_type": "markdown",
   "metadata": {},
   "source": [
    "# Create LoadData CSVs to use for illumination correction\n",
    "\n",
    "In this notebook, we create a LoadData CSV that contains paths to each channel per image set for CellProfiler to process. \n",
    "We can use this LoadData CSV to run illumination correction (IC) pipeline that saves IC functions in `npy` file format and extract image quality metrics."
   ]
  },
  {
   "attachments": {},
   "cell_type": "markdown",
   "metadata": {},
   "source": [
    "## Import libraries"
   ]
  },
  {
   "cell_type": "code",
   "execution_count": 1,
   "metadata": {},
   "outputs": [],
   "source": [
    "import pathlib\n",
    "import pandas as pd\n",
    "import re\n",
    "\n",
    "import sys\n",
    "\n",
    "sys.path.append(\"../utils\")\n",
    "import loaddata_utils as ld_utils"
   ]
  },
  {
   "attachments": {},
   "cell_type": "markdown",
   "metadata": {},
   "source": [
    "## Set paths"
   ]
  },
  {
   "cell_type": "code",
   "execution_count": 2,
   "metadata": {},
   "outputs": [],
   "source": [
    "# Paths for parameters to make loaddata csv\n",
    "batch_name = \"Round_2_data\"\n",
    "index_directory = pathlib.Path(f\"/media/18tbdrive/ALSF_pilot_data/{batch_name}/\")\n",
    "config_dir_path = pathlib.Path(\"./config_files\").absolute()\n",
    "output_csv_dir = pathlib.Path(f\"./loaddata_csvs/{batch_name}\")\n",
    "output_csv_dir.mkdir(parents=True, exist_ok=True)\n",
    "\n",
    "# Find all 'Images' folders within the directory\n",
    "images_folders = list(index_directory.rglob(\"Images\"))"
   ]
  },
  {
   "cell_type": "markdown",
   "metadata": {},
   "source": [
    "## Create LoadData CSVs for all data"
   ]
  },
  {
   "cell_type": "code",
   "execution_count": 3,
   "metadata": {},
   "outputs": [
    {
     "name": "stdout",
     "output_type": "stream",
     "text": [
      "BR00145817_CHLA-25_Reimage_loaddata_original.csv is created!\n",
      "Created LoadData CSV for BR00145817_CHLA-25_Reimage at /home/jenna/pediatric_cancer_atlas_profiling/1.illumination_correction/loaddata_csvs/Round_2_data/BR00145817_CHLA-25_Reimage_loaddata_original.csv\n",
      "BR00145818_CHLA-25_Reimage_loaddata_original.csv is created!\n",
      "Created LoadData CSV for BR00145818_CHLA-25_Reimage at /home/jenna/pediatric_cancer_atlas_profiling/1.illumination_correction/loaddata_csvs/Round_2_data/BR00145818_CHLA-25_Reimage_loaddata_original.csv\n",
      "BR00145816_CHLA-25_Reimage_loaddata_original.csv is created!\n",
      "Created LoadData CSV for BR00145816_CHLA-25_Reimage at /home/jenna/pediatric_cancer_atlas_profiling/1.illumination_correction/loaddata_csvs/Round_2_data/BR00145816_CHLA-25_Reimage_loaddata_original.csv\n",
      "BR00145438_loaddata_original.csv is created!\n",
      "Created LoadData CSV for BR00145438 at /home/jenna/pediatric_cancer_atlas_profiling/1.illumination_correction/loaddata_csvs/Round_2_data/BR00145438_loaddata_original.csv\n",
      "BR00145440_loaddata_original.csv is created!\n",
      "Created LoadData CSV for BR00145440 at /home/jenna/pediatric_cancer_atlas_profiling/1.illumination_correction/loaddata_csvs/Round_2_data/BR00145440_loaddata_original.csv\n",
      "BR00145439_loaddata_original.csv is created!\n",
      "Created LoadData CSV for BR00145439 at /home/jenna/pediatric_cancer_atlas_profiling/1.illumination_correction/loaddata_csvs/Round_2_data/BR00145439_loaddata_original.csv\n",
      "BR00145438_SH-SY5Y_Reimage_loaddata_original.csv is created!\n",
      "Created LoadData CSV for BR00145438_SH-SY5Y_Reimage at /home/jenna/pediatric_cancer_atlas_profiling/1.illumination_correction/loaddata_csvs/Round_2_data/BR00145438_SH-SY5Y_Reimage_loaddata_original.csv\n",
      "BR00145440_SH-SY5Y_Reimage_loaddata_original.csv is created!\n",
      "Created LoadData CSV for BR00145440_SH-SY5Y_Reimage at /home/jenna/pediatric_cancer_atlas_profiling/1.illumination_correction/loaddata_csvs/Round_2_data/BR00145440_SH-SY5Y_Reimage_loaddata_original.csv\n",
      "BR00145439_SH-SY5Y_Reimage_loaddata_original.csv is created!\n",
      "Created LoadData CSV for BR00145439_SH-SY5Y_Reimage at /home/jenna/pediatric_cancer_atlas_profiling/1.illumination_correction/loaddata_csvs/Round_2_data/BR00145439_SH-SY5Y_Reimage_loaddata_original.csv\n",
      "BR00145818_CHLA-10_Reimage_loaddata_original.csv is created!\n",
      "Created LoadData CSV for BR00145818_CHLA-10_Reimage at /home/jenna/pediatric_cancer_atlas_profiling/1.illumination_correction/loaddata_csvs/Round_2_data/BR00145818_CHLA-10_Reimage_loaddata_original.csv\n",
      "BR00145817_CHLA-10_Reimage_loaddata_original.csv is created!\n",
      "Created LoadData CSV for BR00145817_CHLA-10_Reimage at /home/jenna/pediatric_cancer_atlas_profiling/1.illumination_correction/loaddata_csvs/Round_2_data/BR00145817_CHLA-10_Reimage_loaddata_original.csv\n",
      "BR00145816_CHLA-10_Reimage_loaddata_original.csv is created!\n",
      "Created LoadData CSV for BR00145816_CHLA-10_Reimage at /home/jenna/pediatric_cancer_atlas_profiling/1.illumination_correction/loaddata_csvs/Round_2_data/BR00145816_CHLA-10_Reimage_loaddata_original.csv\n",
      "BR00145439_CHLA-200_Reimage_loaddata_original.csv is created!\n",
      "Created LoadData CSV for BR00145439_CHLA-200_Reimage at /home/jenna/pediatric_cancer_atlas_profiling/1.illumination_correction/loaddata_csvs/Round_2_data/BR00145439_CHLA-200_Reimage_loaddata_original.csv\n",
      "BR00145440_CHLA-200_Reimage_loaddata_original.csv is created!\n",
      "Created LoadData CSV for BR00145440_CHLA-200_Reimage at /home/jenna/pediatric_cancer_atlas_profiling/1.illumination_correction/loaddata_csvs/Round_2_data/BR00145440_CHLA-200_Reimage_loaddata_original.csv\n",
      "BR00145438_CHLA-200_Reimage_loaddata_original.csv is created!\n",
      "Created LoadData CSV for BR00145438_CHLA-200_Reimage at /home/jenna/pediatric_cancer_atlas_profiling/1.illumination_correction/loaddata_csvs/Round_2_data/BR00145438_CHLA-200_Reimage_loaddata_original.csv\n",
      "BR00145439_CHLA-10_Reimage_loaddata_original.csv is created!\n",
      "Created LoadData CSV for BR00145439_CHLA-10_Reimage at /home/jenna/pediatric_cancer_atlas_profiling/1.illumination_correction/loaddata_csvs/Round_2_data/BR00145439_CHLA-10_Reimage_loaddata_original.csv\n",
      "BR00145440_CHLA-10_Reimage_loaddata_original.csv is created!\n",
      "Created LoadData CSV for BR00145440_CHLA-10_Reimage at /home/jenna/pediatric_cancer_atlas_profiling/1.illumination_correction/loaddata_csvs/Round_2_data/BR00145440_CHLA-10_Reimage_loaddata_original.csv\n",
      "BR00145439_SK-N-DZ_Reimage_loaddata_original.csv is created!\n",
      "Created LoadData CSV for BR00145439_SK-N-DZ_Reimage at /home/jenna/pediatric_cancer_atlas_profiling/1.illumination_correction/loaddata_csvs/Round_2_data/BR00145439_SK-N-DZ_Reimage_loaddata_original.csv\n",
      "BR00145440_SK-N-DZ_Reimage_loaddata_original.csv is created!\n",
      "Created LoadData CSV for BR00145440_SK-N-DZ_Reimage at /home/jenna/pediatric_cancer_atlas_profiling/1.illumination_correction/loaddata_csvs/Round_2_data/BR00145440_SK-N-DZ_Reimage_loaddata_original.csv\n",
      "BR00145440_CHP-212_Reimage_loaddata_original.csv is created!\n",
      "Created LoadData CSV for BR00145440_CHP-212_Reimage at /home/jenna/pediatric_cancer_atlas_profiling/1.illumination_correction/loaddata_csvs/Round_2_data/BR00145440_CHP-212_Reimage_loaddata_original.csv\n",
      "BR00145438_CHP-212_Reimage_loaddata_original.csv is created!\n",
      "Created LoadData CSV for BR00145438_CHP-212_Reimage at /home/jenna/pediatric_cancer_atlas_profiling/1.illumination_correction/loaddata_csvs/Round_2_data/BR00145438_CHP-212_Reimage_loaddata_original.csv\n",
      "BR00145439_CHP-212_Reimage_loaddata_original.csv is created!\n",
      "Created LoadData CSV for BR00145439_CHP-212_Reimage at /home/jenna/pediatric_cancer_atlas_profiling/1.illumination_correction/loaddata_csvs/Round_2_data/BR00145439_CHP-212_Reimage_loaddata_original.csv\n",
      "BR00145816_CHLA-113_Reimage_loaddata_original.csv is created!\n",
      "Created LoadData CSV for BR00145816_CHLA-113_Reimage at /home/jenna/pediatric_cancer_atlas_profiling/1.illumination_correction/loaddata_csvs/Round_2_data/BR00145816_CHLA-113_Reimage_loaddata_original.csv\n",
      "BR00145818_CHLA-113_Reimage_loaddata_original.csv is created!\n",
      "Created LoadData CSV for BR00145818_CHLA-113_Reimage at /home/jenna/pediatric_cancer_atlas_profiling/1.illumination_correction/loaddata_csvs/Round_2_data/BR00145818_CHLA-113_Reimage_loaddata_original.csv\n",
      "BR00145817_CHLA-113_Reimage_loaddata_original.csv is created!\n",
      "Created LoadData CSV for BR00145817_CHLA-113_Reimage at /home/jenna/pediatric_cancer_atlas_profiling/1.illumination_correction/loaddata_csvs/Round_2_data/BR00145817_CHLA-113_Reimage_loaddata_original.csv\n",
      "BR00145439_SK-N-MC_Reimage_loaddata_original.csv is created!\n",
      "Created LoadData CSV for BR00145439_SK-N-MC_Reimage at /home/jenna/pediatric_cancer_atlas_profiling/1.illumination_correction/loaddata_csvs/Round_2_data/BR00145439_SK-N-MC_Reimage_loaddata_original.csv\n",
      "BR00145440_SK-N-MC_Reimage_loaddata_original.csv is created!\n",
      "Created LoadData CSV for BR00145440_SK-N-MC_Reimage at /home/jenna/pediatric_cancer_atlas_profiling/1.illumination_correction/loaddata_csvs/Round_2_data/BR00145440_SK-N-MC_Reimage_loaddata_original.csv\n",
      "BR00145817_loaddata_original.csv is created!\n",
      "Created LoadData CSV for BR00145817 at /home/jenna/pediatric_cancer_atlas_profiling/1.illumination_correction/loaddata_csvs/Round_2_data/BR00145817_loaddata_original.csv\n",
      "BR00145818_loaddata_original.csv is created!\n",
      "Created LoadData CSV for BR00145818 at /home/jenna/pediatric_cancer_atlas_profiling/1.illumination_correction/loaddata_csvs/Round_2_data/BR00145818_loaddata_original.csv\n",
      "BR00145816_loaddata_original.csv is created!\n",
      "Created LoadData CSV for BR00145816 at /home/jenna/pediatric_cancer_atlas_profiling/1.illumination_correction/loaddata_csvs/Round_2_data/BR00145816_loaddata_original.csv\n",
      "BR00145817_CHLA-218_Reimage_loaddata_original.csv is created!\n",
      "Created LoadData CSV for BR00145817_CHLA-218_Reimage at /home/jenna/pediatric_cancer_atlas_profiling/1.illumination_correction/loaddata_csvs/Round_2_data/BR00145817_CHLA-218_Reimage_loaddata_original.csv\n",
      "BR00145818_CHLA-218_Reimage_loaddata_original.csv is created!\n",
      "Created LoadData CSV for BR00145818_CHLA-218_Reimage at /home/jenna/pediatric_cancer_atlas_profiling/1.illumination_correction/loaddata_csvs/Round_2_data/BR00145818_CHLA-218_Reimage_loaddata_original.csv\n",
      "BR00145816_CHLA-218_Reimage_loaddata_original.csv is created!\n",
      "Created LoadData CSV for BR00145816_CHLA-218_Reimage at /home/jenna/pediatric_cancer_atlas_profiling/1.illumination_correction/loaddata_csvs/Round_2_data/BR00145816_CHLA-218_Reimage_loaddata_original.csv\n",
      "BR00145438_KPNYN_Reimage_loaddata_original.csv is created!\n",
      "Created LoadData CSV for BR00145438_KPNYN_Reimage at /home/jenna/pediatric_cancer_atlas_profiling/1.illumination_correction/loaddata_csvs/Round_2_data/BR00145438_KPNYN_Reimage_loaddata_original.csv\n",
      "BR00145440_KPNYN_Reimage_loaddata_original.csv is created!\n",
      "Created LoadData CSV for BR00145440_KPNYN_Reimage at /home/jenna/pediatric_cancer_atlas_profiling/1.illumination_correction/loaddata_csvs/Round_2_data/BR00145440_KPNYN_Reimage_loaddata_original.csv\n",
      "BR00145439_KPNYN_Reimage_loaddata_original.csv is created!\n",
      "Created LoadData CSV for BR00145439_KPNYN_Reimage at /home/jenna/pediatric_cancer_atlas_profiling/1.illumination_correction/loaddata_csvs/Round_2_data/BR00145439_KPNYN_Reimage_loaddata_original.csv\n",
      "BR00145438_NB-1_Reimage_loaddata_original.csv is created!\n",
      "Created LoadData CSV for BR00145438_NB-1_Reimage at /home/jenna/pediatric_cancer_atlas_profiling/1.illumination_correction/loaddata_csvs/Round_2_data/BR00145438_NB-1_Reimage_loaddata_original.csv\n",
      "BR00145439_NB-1_Reimage_loaddata_original.csv is created!\n",
      "Created LoadData CSV for BR00145439_NB-1_Reimage at /home/jenna/pediatric_cancer_atlas_profiling/1.illumination_correction/loaddata_csvs/Round_2_data/BR00145439_NB-1_Reimage_loaddata_original.csv\n",
      "BR00145440_NB-1_Reimage_loaddata_original.csv is created!\n",
      "Created LoadData CSV for BR00145440_NB-1_Reimage at /home/jenna/pediatric_cancer_atlas_profiling/1.illumination_correction/loaddata_csvs/Round_2_data/BR00145440_NB-1_Reimage_loaddata_original.csv\n",
      "BR00145439_A673_Reimage_loaddata_original.csv is created!\n",
      "Created LoadData CSV for BR00145439_A673_Reimage at /home/jenna/pediatric_cancer_atlas_profiling/1.illumination_correction/loaddata_csvs/Round_2_data/BR00145439_A673_Reimage_loaddata_original.csv\n",
      "BR00145440_A673_Reimage_loaddata_original.csv is created!\n",
      "Created LoadData CSV for BR00145440_A673_Reimage at /home/jenna/pediatric_cancer_atlas_profiling/1.illumination_correction/loaddata_csvs/Round_2_data/BR00145440_A673_Reimage_loaddata_original.csv\n"
     ]
    }
   ],
   "source": [
    "# Define the one config path to use\n",
    "config_path = config_dir_path / \"config.yml\"\n",
    "\n",
    "# Find all Plate folders\n",
    "plate_folders = list(index_directory.glob(\"Plate *\"))\n",
    "\n",
    "# Build mapping of BR00 IDs to plate number\n",
    "br00_to_plate = {}\n",
    "\n",
    "# First parse \"All Cell Lines\" folders to get BR00 IDs\n",
    "for plate_folder in plate_folders:\n",
    "    if \"All Cell Lines\" in plate_folder.name:\n",
    "        for subfolder in plate_folder.iterdir():\n",
    "            if subfolder.is_dir():\n",
    "                br00_id = subfolder.name.split(\"__\")[0]\n",
    "                plate_num = plate_folder.name.split()[1]\n",
    "                br00_to_plate[br00_id] = plate_num\n",
    "\n",
    "# Now process everything\n",
    "for plate_folder in plate_folders:\n",
    "    for subfolder in plate_folder.iterdir():\n",
    "        if not subfolder.is_dir():\n",
    "            continue\n",
    "\n",
    "        br00_id = subfolder.name.split(\"__\")[0]\n",
    "\n",
    "        if \"All Cell Lines\" in plate_folder.name:\n",
    "            # Original run\n",
    "            plate_name = f\"{br00_id}\"\n",
    "        else:\n",
    "            # Reimaged\n",
    "            parts = plate_folder.name.split()\n",
    "            plate_num = parts[1]\n",
    "            cell_line = (\n",
    "                \" \".join(parts[2:]).replace(\"Reimage\", \"\").strip().replace(\" \", \"_\")\n",
    "            )\n",
    "            plate_name = f\"{br00_id}_{cell_line}_Reimage\"\n",
    "\n",
    "        path_to_output_csv = (\n",
    "            output_csv_dir / f\"{plate_name}_loaddata_original.csv\"\n",
    "        ).absolute()\n",
    "\n",
    "        ld_utils.create_loaddata_csv(\n",
    "            index_directory=subfolder / \"Images\",\n",
    "            config_path=config_path,\n",
    "            path_to_output=path_to_output_csv,\n",
    "        )\n",
    "        print(f\"Created LoadData CSV for {plate_name} at {path_to_output_csv}\")"
   ]
  },
  {
   "cell_type": "markdown",
   "metadata": {},
   "source": [
    "## Concat the re-imaged data back to their original plate and remove the original poor quality data paths"
   ]
  },
  {
   "cell_type": "markdown",
   "metadata": {},
   "source": [
    "### Collect a list of original CSVs and identify unique plate IDs"
   ]
  },
  {
   "cell_type": "code",
   "execution_count": 4,
   "metadata": {},
   "outputs": [
    {
     "name": "stdout",
     "output_type": "stream",
     "text": [
      "Found 6 BR00 IDs: ['BR00145438', 'BR00145439', 'BR00145440', 'BR00145816', 'BR00145817', 'BR00145818']\n"
     ]
    }
   ],
   "source": [
    "# Step 1: Find all CSV files in the output directory\n",
    "csv_files = list(output_csv_dir.glob(\"*.csv\"))\n",
    "\n",
    "# Step 2: Extract unique BR00 IDs from filenames\n",
    "br00_pattern = re.compile(r\"(BR00\\d+)\")  # Regex to match 'BR00' followed by digits\n",
    "\n",
    "# Collect all matching BR00 IDs from filenames\n",
    "br00_ids = {\n",
    "    br00_pattern.search(csv_file.stem).group(1)\n",
    "    for csv_file in csv_files\n",
    "    if br00_pattern.search(csv_file.stem)\n",
    "}\n",
    "\n",
    "# Sort BR00 IDs numerically to be consistent in ordering\n",
    "br00_ids = sorted(\n",
    "    br00_ids, key=lambda x: int(x[4:])\n",
    ")  # Convert digits part to integer for numerical sorting\n",
    "\n",
    "print(f\"Found {len(br00_ids)} BR00 IDs: {br00_ids}\")"
   ]
  },
  {
   "cell_type": "markdown",
   "metadata": {},
   "source": [
    "### Track/store files and add a metadata column for if a row is re-imaged or not"
   ]
  },
  {
   "cell_type": "code",
   "execution_count": 5,
   "metadata": {},
   "outputs": [
    {
     "name": "stdout",
     "output_type": "stream",
     "text": [
      "\n",
      "Example DataFrame for BR00 ID: BR00145438\n"
     ]
    },
    {
     "data": {
      "text/html": [
       "<div>\n",
       "<style scoped>\n",
       "    .dataframe tbody tr th:only-of-type {\n",
       "        vertical-align: middle;\n",
       "    }\n",
       "\n",
       "    .dataframe tbody tr th {\n",
       "        vertical-align: top;\n",
       "    }\n",
       "\n",
       "    .dataframe thead th {\n",
       "        text-align: right;\n",
       "    }\n",
       "</style>\n",
       "<table border=\"1\" class=\"dataframe\">\n",
       "  <thead>\n",
       "    <tr style=\"text-align: right;\">\n",
       "      <th></th>\n",
       "      <th>FileName_OrigER</th>\n",
       "      <th>PathName_OrigER</th>\n",
       "      <th>Metadata_Reimaged</th>\n",
       "    </tr>\n",
       "  </thead>\n",
       "  <tbody>\n",
       "    <tr>\n",
       "      <th>0</th>\n",
       "      <td>r09c03f01p01-ch2sk1fk1fl1.tiff</td>\n",
       "      <td>/media/18tbdrive/ALSF_pilot_data/Round_2_data/...</td>\n",
       "      <td>True</td>\n",
       "    </tr>\n",
       "    <tr>\n",
       "      <th>1</th>\n",
       "      <td>r09c03f02p01-ch2sk1fk1fl1.tiff</td>\n",
       "      <td>/media/18tbdrive/ALSF_pilot_data/Round_2_data/...</td>\n",
       "      <td>True</td>\n",
       "    </tr>\n",
       "    <tr>\n",
       "      <th>2</th>\n",
       "      <td>r09c03f03p01-ch2sk1fk1fl1.tiff</td>\n",
       "      <td>/media/18tbdrive/ALSF_pilot_data/Round_2_data/...</td>\n",
       "      <td>True</td>\n",
       "    </tr>\n",
       "    <tr>\n",
       "      <th>3</th>\n",
       "      <td>r09c03f04p01-ch2sk1fk1fl1.tiff</td>\n",
       "      <td>/media/18tbdrive/ALSF_pilot_data/Round_2_data/...</td>\n",
       "      <td>True</td>\n",
       "    </tr>\n",
       "    <tr>\n",
       "      <th>4</th>\n",
       "      <td>r09c03f05p01-ch2sk1fk1fl1.tiff</td>\n",
       "      <td>/media/18tbdrive/ALSF_pilot_data/Round_2_data/...</td>\n",
       "      <td>True</td>\n",
       "    </tr>\n",
       "    <tr>\n",
       "      <th>...</th>\n",
       "      <td>...</td>\n",
       "      <td>...</td>\n",
       "      <td>...</td>\n",
       "    </tr>\n",
       "    <tr>\n",
       "      <th>3415</th>\n",
       "      <td>r12c22f05p01-ch2sk1fk1fl1.tiff</td>\n",
       "      <td>/media/18tbdrive/ALSF_pilot_data/Round_2_data/...</td>\n",
       "      <td>True</td>\n",
       "    </tr>\n",
       "    <tr>\n",
       "      <th>3416</th>\n",
       "      <td>r12c22f06p01-ch2sk1fk1fl1.tiff</td>\n",
       "      <td>/media/18tbdrive/ALSF_pilot_data/Round_2_data/...</td>\n",
       "      <td>True</td>\n",
       "    </tr>\n",
       "    <tr>\n",
       "      <th>3417</th>\n",
       "      <td>r12c22f07p01-ch2sk1fk1fl1.tiff</td>\n",
       "      <td>/media/18tbdrive/ALSF_pilot_data/Round_2_data/...</td>\n",
       "      <td>True</td>\n",
       "    </tr>\n",
       "    <tr>\n",
       "      <th>3418</th>\n",
       "      <td>r12c22f08p01-ch2sk1fk1fl1.tiff</td>\n",
       "      <td>/media/18tbdrive/ALSF_pilot_data/Round_2_data/...</td>\n",
       "      <td>True</td>\n",
       "    </tr>\n",
       "    <tr>\n",
       "      <th>3419</th>\n",
       "      <td>r12c22f09p01-ch2sk1fk1fl1.tiff</td>\n",
       "      <td>/media/18tbdrive/ALSF_pilot_data/Round_2_data/...</td>\n",
       "      <td>True</td>\n",
       "    </tr>\n",
       "  </tbody>\n",
       "</table>\n",
       "<p>3420 rows × 3 columns</p>\n",
       "</div>"
      ],
      "text/plain": [
       "                     FileName_OrigER  \\\n",
       "0     r09c03f01p01-ch2sk1fk1fl1.tiff   \n",
       "1     r09c03f02p01-ch2sk1fk1fl1.tiff   \n",
       "2     r09c03f03p01-ch2sk1fk1fl1.tiff   \n",
       "3     r09c03f04p01-ch2sk1fk1fl1.tiff   \n",
       "4     r09c03f05p01-ch2sk1fk1fl1.tiff   \n",
       "...                              ...   \n",
       "3415  r12c22f05p01-ch2sk1fk1fl1.tiff   \n",
       "3416  r12c22f06p01-ch2sk1fk1fl1.tiff   \n",
       "3417  r12c22f07p01-ch2sk1fk1fl1.tiff   \n",
       "3418  r12c22f08p01-ch2sk1fk1fl1.tiff   \n",
       "3419  r12c22f09p01-ch2sk1fk1fl1.tiff   \n",
       "\n",
       "                                        PathName_OrigER  Metadata_Reimaged  \n",
       "0     /media/18tbdrive/ALSF_pilot_data/Round_2_data/...               True  \n",
       "1     /media/18tbdrive/ALSF_pilot_data/Round_2_data/...               True  \n",
       "2     /media/18tbdrive/ALSF_pilot_data/Round_2_data/...               True  \n",
       "3     /media/18tbdrive/ALSF_pilot_data/Round_2_data/...               True  \n",
       "4     /media/18tbdrive/ALSF_pilot_data/Round_2_data/...               True  \n",
       "...                                                 ...                ...  \n",
       "3415  /media/18tbdrive/ALSF_pilot_data/Round_2_data/...               True  \n",
       "3416  /media/18tbdrive/ALSF_pilot_data/Round_2_data/...               True  \n",
       "3417  /media/18tbdrive/ALSF_pilot_data/Round_2_data/...               True  \n",
       "3418  /media/18tbdrive/ALSF_pilot_data/Round_2_data/...               True  \n",
       "3419  /media/18tbdrive/ALSF_pilot_data/Round_2_data/...               True  \n",
       "\n",
       "[3420 rows x 3 columns]"
      ]
     },
     "execution_count": 5,
     "metadata": {},
     "output_type": "execute_result"
    }
   ],
   "source": [
    "# Step 3: Initialize storage to track used files and find proper column order\n",
    "br00_dataframes = {br_id: [] for br_id in br00_ids}\n",
    "used_files = set()  # Store filenames used in the process\n",
    "concat_files = []  # Track new concatenated CSV files\n",
    "\n",
    "# Load one BR00 starting CSV that will have the correct column order\n",
    "column_order = pd.read_csv(\n",
    "    pathlib.Path(f\"{output_csv_dir}/{list(br00_ids)[0]}_loaddata_original.csv\"), nrows=0\n",
    ").columns.tolist()\n",
    "\n",
    "# Step 4: Add 'Metadata_Reimaged' column and group by BR00 ID\n",
    "for csv_file in csv_files:\n",
    "    filename = csv_file.stem\n",
    "    match = br00_pattern.search(filename)\n",
    "\n",
    "    if match:\n",
    "        br_id = match.group(1)\n",
    "\n",
    "        # Read the CSV file into a DataFrame\n",
    "        loaddata_df = pd.read_csv(csv_file)\n",
    "\n",
    "        # Reorder DataFrame columns to match the correct column order\n",
    "        loaddata_df = loaddata_df[\n",
    "            column_order\n",
    "        ]  # Ensure the columns are in the correct order\n",
    "\n",
    "        # Add 'Metadata_Reimaged' column based on filename\n",
    "        loaddata_df[\"Metadata_Reimaged\"] = any(\n",
    "            sub in filename for sub in [\"Reimage\", \"Re-imaged\", \"Reimaged\", \"Re-image\"]\n",
    "        )\n",
    "\n",
    "        # Append the DataFrame to the corresponding BR00 group\n",
    "        br00_dataframes[br_id].append(loaddata_df)\n",
    "\n",
    "        # Track this file as used\n",
    "        used_files.add(csv_file.name)\n",
    "\n",
    "# Print an example DataFrame (first BR00 group)\n",
    "example_id = next(iter(br00_dataframes))  # Get the first BR00 ID\n",
    "example_df = pd.concat(br00_dataframes[example_id], ignore_index=True)\n",
    "print(f\"\\nExample DataFrame for BR00 ID: {example_id}\")\n",
    "example_df.iloc[:, [0, 1, -1]]  # Display only the first two and last column"
   ]
  },
  {
   "cell_type": "markdown",
   "metadata": {},
   "source": [
    "### Concat the re-imaged and original data for the same plate and remove any duplicate wells that come from the original data\n",
    "\n",
    "We remove the duplicates that aren't re-imaged since they are of poor quality. We want to analyze the re-imaged data from those same wells."
   ]
  },
  {
   "cell_type": "code",
   "execution_count": 6,
   "metadata": {},
   "outputs": [
    {
     "name": "stdout",
     "output_type": "stream",
     "text": [
      "Saved: loaddata_csvs/Round_2_data/BR00145438_concatenated.csv\n",
      "Saved: loaddata_csvs/Round_2_data/BR00145439_concatenated.csv\n",
      "Saved: loaddata_csvs/Round_2_data/BR00145440_concatenated.csv\n",
      "Saved: loaddata_csvs/Round_2_data/BR00145816_concatenated.csv\n",
      "Saved: loaddata_csvs/Round_2_data/BR00145817_concatenated.csv\n",
      "Saved: loaddata_csvs/Round_2_data/BR00145818_concatenated.csv\n"
     ]
    }
   ],
   "source": [
    "# Step 5: Concatenate DataFrames, drop duplicates, and save per BR00 ID\n",
    "for br_id, dfs in br00_dataframes.items():\n",
    "    if dfs:  # Only process if there are matching files\n",
    "        concatenated_df = pd.concat(dfs, ignore_index=True)\n",
    "\n",
    "        # Drop duplicates, prioritizing rows with 'Metadata_Reimaged' == True\n",
    "        deduplicated_df = concatenated_df.sort_values(\n",
    "            \"Metadata_Reimaged\", ascending=False\n",
    "        ).drop_duplicates(subset=[\"Metadata_Well\", \"Metadata_Site\"], keep=\"first\")\n",
    "\n",
    "        # Sort by 'Metadata_Col', 'Metadata_Row', and 'Metadata_Site\n",
    "        sorted_df = deduplicated_df.sort_values(\n",
    "            [\"Metadata_Col\", \"Metadata_Row\", \"Metadata_Site\"], ascending=True\n",
    "        )\n",
    "\n",
    "        # Save the cleaned, concatenated, and sorted DataFrame to a new CSV file\n",
    "        output_path = output_csv_dir / f\"{br_id}_concatenated.csv\"\n",
    "        sorted_df.to_csv(output_path, index=False)\n",
    "\n",
    "        print(f\"Saved: {output_path}\")\n",
    "        concat_files.append(output_path)  # Track new concatenated files\n",
    "    else:\n",
    "        print(f\"No files found for {br_id}\")"
   ]
  },
  {
   "cell_type": "markdown",
   "metadata": {},
   "source": [
    "### Confirm that all LoadData CSV files were included in previous concat (avoid data loss)"
   ]
  },
  {
   "cell_type": "code",
   "execution_count": 7,
   "metadata": {},
   "outputs": [
    {
     "name": "stdout",
     "output_type": "stream",
     "text": [
      "All files were successfully used.\n"
     ]
    }
   ],
   "source": [
    "# Step 6: Verify all files were used\n",
    "unused_files = set(csv_file.name for csv_file in csv_files) - used_files\n",
    "\n",
    "if unused_files:\n",
    "    print(\"Warning: Some files were not used in the concatenation!\")\n",
    "    for file in unused_files:\n",
    "        print(f\"Unused: {file}\")\n",
    "else:\n",
    "    print(\"All files were successfully used.\")"
   ]
  },
  {
   "cell_type": "markdown",
   "metadata": {},
   "source": [
    "### Remove the original CSV files to prevent CellProfiler from using them"
   ]
  },
  {
   "cell_type": "code",
   "execution_count": 8,
   "metadata": {},
   "outputs": [
    {
     "name": "stdout",
     "output_type": "stream",
     "text": [
      "Removed: loaddata_csvs/Round_2_data/BR00145438_NB-1_Reimage_loaddata_original.csv\n",
      "Removed: loaddata_csvs/Round_2_data/BR00145439_CHLA-200_Reimage_loaddata_original.csv\n",
      "Removed: loaddata_csvs/Round_2_data/BR00145438_KPNYN_Reimage_loaddata_original.csv\n",
      "Removed: loaddata_csvs/Round_2_data/BR00145816_CHLA-25_Reimage_loaddata_original.csv\n",
      "Removed: loaddata_csvs/Round_2_data/BR00145438_CHP-212_Reimage_loaddata_original.csv\n",
      "Removed: loaddata_csvs/Round_2_data/BR00145438_loaddata_original.csv\n",
      "Removed: loaddata_csvs/Round_2_data/BR00145818_CHLA-25_Reimage_loaddata_original.csv\n",
      "Removed: loaddata_csvs/Round_2_data/BR00145818_loaddata_original.csv\n",
      "Removed: loaddata_csvs/Round_2_data/BR00145440_SK-N-MC_Reimage_loaddata_original.csv\n",
      "Removed: loaddata_csvs/Round_2_data/BR00145440_SK-N-DZ_Reimage_loaddata_original.csv\n",
      "Removed: loaddata_csvs/Round_2_data/BR00145439_loaddata_original.csv\n",
      "Removed: loaddata_csvs/Round_2_data/BR00145440_CHLA-10_Reimage_loaddata_original.csv\n",
      "Removed: loaddata_csvs/Round_2_data/BR00145439_CHLA-10_Reimage_loaddata_original.csv\n",
      "Removed: loaddata_csvs/Round_2_data/BR00145440_KPNYN_Reimage_loaddata_original.csv\n",
      "Removed: loaddata_csvs/Round_2_data/BR00145439_SH-SY5Y_Reimage_loaddata_original.csv\n",
      "Removed: loaddata_csvs/Round_2_data/BR00145818_CHLA-10_Reimage_loaddata_original.csv\n",
      "Removed: loaddata_csvs/Round_2_data/BR00145439_SK-N-MC_Reimage_loaddata_original.csv\n",
      "Removed: loaddata_csvs/Round_2_data/BR00145816_loaddata_original.csv\n",
      "Removed: loaddata_csvs/Round_2_data/BR00145438_SH-SY5Y_Reimage_loaddata_original.csv\n",
      "Removed: loaddata_csvs/Round_2_data/BR00145440_loaddata_original.csv\n",
      "Removed: loaddata_csvs/Round_2_data/BR00145439_A673_Reimage_loaddata_original.csv\n",
      "Removed: loaddata_csvs/Round_2_data/BR00145439_CHP-212_Reimage_loaddata_original.csv\n",
      "Removed: loaddata_csvs/Round_2_data/BR00145439_KPNYN_Reimage_loaddata_original.csv\n",
      "Removed: loaddata_csvs/Round_2_data/BR00145817_CHLA-218_Reimage_loaddata_original.csv\n",
      "Removed: loaddata_csvs/Round_2_data/BR00145818_CHLA-218_Reimage_loaddata_original.csv\n",
      "Removed: loaddata_csvs/Round_2_data/BR00145817_CHLA-25_Reimage_loaddata_original.csv\n",
      "Removed: loaddata_csvs/Round_2_data/BR00145439_SK-N-DZ_Reimage_loaddata_original.csv\n",
      "Removed: loaddata_csvs/Round_2_data/BR00145816_CHLA-10_Reimage_loaddata_original.csv\n",
      "Removed: loaddata_csvs/Round_2_data/BR00145817_CHLA-113_Reimage_loaddata_original.csv\n",
      "Removed: loaddata_csvs/Round_2_data/BR00145439_NB-1_Reimage_loaddata_original.csv\n",
      "Removed: loaddata_csvs/Round_2_data/BR00145818_CHLA-113_Reimage_loaddata_original.csv\n",
      "Removed: loaddata_csvs/Round_2_data/BR00145816_CHLA-218_Reimage_loaddata_original.csv\n",
      "Removed: loaddata_csvs/Round_2_data/BR00145817_CHLA-10_Reimage_loaddata_original.csv\n",
      "Removed: loaddata_csvs/Round_2_data/BR00145816_CHLA-113_Reimage_loaddata_original.csv\n",
      "Removed: loaddata_csvs/Round_2_data/BR00145440_CHLA-200_Reimage_loaddata_original.csv\n",
      "Removed: loaddata_csvs/Round_2_data/BR00145440_A673_Reimage_loaddata_original.csv\n",
      "Removed: loaddata_csvs/Round_2_data/BR00145440_SH-SY5Y_Reimage_loaddata_original.csv\n",
      "Removed: loaddata_csvs/Round_2_data/BR00145438_CHLA-200_Reimage_loaddata_original.csv\n",
      "Removed: loaddata_csvs/Round_2_data/BR00145440_NB-1_Reimage_loaddata_original.csv\n",
      "Removed: loaddata_csvs/Round_2_data/BR00145440_CHP-212_Reimage_loaddata_original.csv\n",
      "Removed: loaddata_csvs/Round_2_data/BR00145817_loaddata_original.csv\n"
     ]
    }
   ],
   "source": [
    "# Step 7: Remove all non-concatenated CSVs to avoid confusion\n",
    "for csv_file in csv_files:\n",
    "    if csv_file not in concat_files:  # Keep only new concatenated files\n",
    "        csv_file.unlink()  # Delete the file\n",
    "        print(f\"Removed: {csv_file}\")"
   ]
  }
 ],
 "metadata": {
  "kernelspec": {
   "display_name": "alsf_cp_env",
   "language": "python",
   "name": "python3"
  },
  "language_info": {
   "codemirror_mode": {
    "name": "ipython",
    "version": 3
   },
   "file_extension": ".py",
   "mimetype": "text/x-python",
   "name": "python",
   "nbconvert_exporter": "python",
   "pygments_lexer": "ipython3",
   "version": "3.8.20"
  },
  "orig_nbformat": 4
 },
 "nbformat": 4,
 "nbformat_minor": 2
}
