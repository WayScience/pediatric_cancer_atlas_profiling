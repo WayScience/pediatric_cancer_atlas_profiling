{
 "cells": [
  {
   "cell_type": "markdown",
   "metadata": {},
   "source": [
    "# Calculate illumination correction functions per channel and extract image quality features"
   ]
  },
  {
   "cell_type": "markdown",
   "metadata": {},
   "source": [
    "## Import libraries"
   ]
  },
  {
   "cell_type": "code",
   "execution_count": 1,
   "metadata": {},
   "outputs": [],
   "source": [
    "import pathlib\n",
    "import pprint\n",
    "\n",
    "import sys\n",
    "\n",
    "sys.path.append(\"../utils\")\n",
    "import cp_parallel"
   ]
  },
  {
   "cell_type": "markdown",
   "metadata": {},
   "source": [
    "## Set paths and variables"
   ]
  },
  {
   "cell_type": "code",
   "execution_count": 2,
   "metadata": {},
   "outputs": [
    {
     "name": "stdout",
     "output_type": "stream",
     "text": [
      "Total number of plates: 6\n",
      "Plate Names:\n",
      "BR00145439\n",
      "BR00145438\n",
      "BR00145816\n",
      "BR00145440\n",
      "BR00145817\n",
      "BR00145818\n"
     ]
    }
   ],
   "source": [
    "# set the run type for the parallelization\n",
    "run_name = \"illum_correction\"\n",
    "\n",
    "# Batch name to process\n",
    "batch_name = \"Round_2_data\"\n",
    "\n",
    "# set path for CellProfiler pipeline\n",
    "path_to_pipeline = pathlib.Path(\"./pipelines/illum.cppipe\").resolve(strict=True)\n",
    "\n",
    "# set main output dir for all plates if it doesn't exist\n",
    "output_dir = pathlib.Path(f\"./illum_directory/{batch_name}\")\n",
    "output_dir.mkdir(exist_ok=True)\n",
    "\n",
    "# directory where loaddata CSVs are located within the folder\n",
    "loaddata_dir = pathlib.Path(f\"./loaddata_csvs/{batch_name}\").resolve(strict=True)\n",
    "\n",
    "# Extract plate names and include as list\n",
    "plate_names = [file.stem.split(\"_\")[0] for file in loaddata_dir.glob(\"*.csv\")]\n",
    "\n",
    "# Print the number of plates and their names\n",
    "print(f\"Total number of plates: {len(plate_names)}\")\n",
    "print(\"Plate Names:\")\n",
    "for name in plate_names:\n",
    "    print(name)"
   ]
  },
  {
   "cell_type": "markdown",
   "metadata": {},
   "source": [
    "## Create dictionary to process data"
   ]
  },
  {
   "cell_type": "code",
   "execution_count": 3,
   "metadata": {},
   "outputs": [
    {
     "name": "stdout",
     "output_type": "stream",
     "text": [
      "{   'BR00145438': {   'path_to_loaddata': PosixPath('/home/jenna/pediatric_cancer_atlas_profiling/1.illumination_correction/loaddata_csvs/Round_2_data/BR00145438_concatenated.csv'),\n",
      "                      'path_to_output': PosixPath('illum_directory/Round_2_data/BR00145438'),\n",
      "                      'path_to_pipeline': PosixPath('/home/jenna/pediatric_cancer_atlas_profiling/1.illumination_correction/pipelines/illum.cppipe')},\n",
      "    'BR00145439': {   'path_to_loaddata': PosixPath('/home/jenna/pediatric_cancer_atlas_profiling/1.illumination_correction/loaddata_csvs/Round_2_data/BR00145439_concatenated.csv'),\n",
      "                      'path_to_output': PosixPath('illum_directory/Round_2_data/BR00145439'),\n",
      "                      'path_to_pipeline': PosixPath('/home/jenna/pediatric_cancer_atlas_profiling/1.illumination_correction/pipelines/illum.cppipe')},\n",
      "    'BR00145440': {   'path_to_loaddata': PosixPath('/home/jenna/pediatric_cancer_atlas_profiling/1.illumination_correction/loaddata_csvs/Round_2_data/BR00145440_concatenated.csv'),\n",
      "                      'path_to_output': PosixPath('illum_directory/Round_2_data/BR00145440'),\n",
      "                      'path_to_pipeline': PosixPath('/home/jenna/pediatric_cancer_atlas_profiling/1.illumination_correction/pipelines/illum.cppipe')},\n",
      "    'BR00145816': {   'path_to_loaddata': PosixPath('/home/jenna/pediatric_cancer_atlas_profiling/1.illumination_correction/loaddata_csvs/Round_2_data/BR00145816_concatenated.csv'),\n",
      "                      'path_to_output': PosixPath('illum_directory/Round_2_data/BR00145816'),\n",
      "                      'path_to_pipeline': PosixPath('/home/jenna/pediatric_cancer_atlas_profiling/1.illumination_correction/pipelines/illum.cppipe')},\n",
      "    'BR00145817': {   'path_to_loaddata': PosixPath('/home/jenna/pediatric_cancer_atlas_profiling/1.illumination_correction/loaddata_csvs/Round_2_data/BR00145817_concatenated.csv'),\n",
      "                      'path_to_output': PosixPath('illum_directory/Round_2_data/BR00145817'),\n",
      "                      'path_to_pipeline': PosixPath('/home/jenna/pediatric_cancer_atlas_profiling/1.illumination_correction/pipelines/illum.cppipe')},\n",
      "    'BR00145818': {   'path_to_loaddata': PosixPath('/home/jenna/pediatric_cancer_atlas_profiling/1.illumination_correction/loaddata_csvs/Round_2_data/BR00145818_concatenated.csv'),\n",
      "                      'path_to_output': PosixPath('illum_directory/Round_2_data/BR00145818'),\n",
      "                      'path_to_pipeline': PosixPath('/home/jenna/pediatric_cancer_atlas_profiling/1.illumination_correction/pipelines/illum.cppipe')}}\n"
     ]
    }
   ],
   "source": [
    "# create plate info dictionary with all parts of the CellProfiler CLI command to run in parallel\n",
    "plate_info_dictionary = {\n",
    "    name: {\n",
    "        \"path_to_loaddata\": next(loaddata_dir.glob(f\"{name}*.csv\"), None),\n",
    "        \"path_to_output\": output_dir / name,\n",
    "        \"path_to_pipeline\": path_to_pipeline,\n",
    "    }\n",
    "    for name in plate_names\n",
    "    if next(loaddata_dir.glob(f\"{name}*.csv\"), None)\n",
    "}\n",
    "\n",
    "# view the dictionary to assess that all info is added correctly\n",
    "pprint.pprint(plate_info_dictionary, indent=4)"
   ]
  },
  {
   "cell_type": "markdown",
   "metadata": {},
   "source": [
    "## Calculate IC functions and extract image quality features on data\n",
    "\n",
    "Note: This code cell was not ran as we prefer to perform CellProfiler processing tasks via `sh` file (bash script) which is more stable."
   ]
  },
  {
   "cell_type": "code",
   "execution_count": null,
   "metadata": {},
   "outputs": [],
   "source": [
    "cp_parallel.run_cellprofiler_parallel(\n",
    "    plate_info_dictionary=plate_info_dictionary, run_name=run_name\n",
    ")"
   ]
  }
 ],
 "metadata": {
  "kernelspec": {
   "display_name": "alsf_cp_env",
   "language": "python",
   "name": "python3"
  },
  "language_info": {
   "codemirror_mode": {
    "name": "ipython",
    "version": 3
   },
   "file_extension": ".py",
   "mimetype": "text/x-python",
   "name": "python",
   "nbconvert_exporter": "python",
   "pygments_lexer": "ipython3",
   "version": "3.8.20"
  },
  "orig_nbformat": 4
 },
 "nbformat": 4,
 "nbformat_minor": 2
}
